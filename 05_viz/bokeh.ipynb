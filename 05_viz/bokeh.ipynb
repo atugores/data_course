{
 "cells": [
  {
   "cell_type": "markdown",
   "id": "c45a953e",
   "metadata": {},
   "source": [
    "# Bokeh\n",
    "\n",
    "Bokeh is a Python library for creating interactive visualizations for modern web browsers. It helps you build beautiful graphics, ranging from simple plots to complex dashboards with streaming datasets. With Bokeh, you can create JavaScript-powered visualizations without writing any JavaScript yourself."
   ]
  },
  {
   "cell_type": "markdown",
   "id": "33f89330",
   "metadata": {},
   "source": [
    "Documentation: [https://docs.bokeh.org/en/latest/index.html](https://docs.bokeh.org/en/latest/index.html)"
   ]
  },
  {
   "cell_type": "markdown",
   "id": "8ce1eef9",
   "metadata": {},
   "source": [
    "The basic idea of Bokeh is a two-step process: \n",
    " 1. you select from Bokeh’s building blocks to create your visualization\n",
    " 2. you customize these building blocks to fit your needs.\n",
    "\n",
    "To do that, Bokeh combines two elements:\n",
    "\n",
    "A Python library for defining the content and interactive functionalities of your visualization.\n",
    "\n",
    "A JavaScript library called BokehJS that is working in the background to display your interactive visualizations in a web browser.\n",
    "\n",
    "Based on your Python code, Bokeh automatically generates all the necessary JavaScript and HTML code for you. In its default setting, Bokeh automatically loads any additional JavaScript code from Bokeh’s CDN (content delivery network).\n",
    "\n"
   ]
  },
  {
   "cell_type": "markdown",
   "id": "93c8c27f",
   "metadata": {},
   "source": [
    "A Jupyter extension for rendering Bokeh content within Jupyter is needed.\n",
    "[jupyter_bokeh](https://github.com/bokeh/jupyter_bokeh)\n",
    "\n"
   ]
  },
  {
   "cell_type": "markdown",
   "id": "ad314926",
   "metadata": {},
   "source": [
    "And then, the default output needs to be changed to notebook"
   ]
  },
  {
   "cell_type": "code",
   "execution_count": 1,
   "id": "c9c15130",
   "metadata": {},
   "outputs": [
    {
     "data": {
      "text/html": [
       "<style>\n",
       "        .bk-notebook-logo {\n",
       "            display: block;\n",
       "            width: 20px;\n",
       "            height: 20px;\n",
       "            background-image: url(data:image/png;base64,iVBORw0KGgoAAAANSUhEUgAAABQAAAAUCAYAAACNiR0NAAAABHNCSVQICAgIfAhkiAAAAAlwSFlzAAALEgAACxIB0t1+/AAAABx0RVh0U29mdHdhcmUAQWRvYmUgRmlyZXdvcmtzIENTNui8sowAAAOkSURBVDiNjZRtaJVlGMd/1/08zzln5zjP1LWcU9N0NkN8m2CYjpgQYQXqSs0I84OLIC0hkEKoPtiH3gmKoiJDU7QpLgoLjLIQCpEsNJ1vqUOdO7ppbuec5+V+rj4ctwzd8IIbbi6u+8f1539dt3A78eXC7QizUF7gyV1fD1Yqg4JWz84yffhm0qkFqBogB9rM8tZdtwVsPUhWhGcFJngGeWrPzHm5oaMmkfEg1usvLFyc8jLRqDOMru7AyC8saQr7GG7f5fvDeH7Ej8CM66nIF+8yngt6HWaKh7k49Soy9nXurCi1o3qUbS3zWfrYeQDTB/Qj6kX6Ybhw4B+bOYoLKCC9H3Nu/leUTZ1JdRWkkn2ldcCamzrcf47KKXdAJllSlxAOkRgyHsGC/zRday5Qld9DyoM4/q/rUoy/CXh3jzOu3bHUVZeU+DEn8FInkPBFlu3+nW3Nw0mk6vCDiWg8CeJaxEwuHS3+z5RgY+YBR6V1Z1nxSOfoaPa4LASWxxdNp+VWTk7+4vzaou8v8PN+xo+KY2xsw6une2frhw05CTYOmQvsEhjhWjn0bmXPjpE1+kplmmkP3suftwTubK9Vq22qKmrBhpY4jvd5afdRA3wGjFAgcnTK2s4hY0/GPNIb0nErGMCRxWOOX64Z8RAC4oCXdklmEvcL8o0BfkNK4lUg9HTl+oPlQxdNo3Mg4Nv175e/1LDGzZen30MEjRUtmXSfiTVu1kK8W4txyV6BMKlbgk3lMwYCiusNy9fVfvvwMxv8Ynl6vxoByANLTWplvuj/nF9m2+PDtt1eiHPBr1oIfhCChQMBw6Aw0UulqTKZdfVvfG7VcfIqLG9bcldL/+pdWTLxLUy8Qq38heUIjh4XlzZxzQm19lLFlr8vdQ97rjZVOLf8nclzckbcD4wxXMidpX30sFd37Fv/GtwwhzhxGVAprjbg0gCAEeIgwCZyTV2Z1REEW8O4py0wsjeloKoMr6iCY6dP92H6Vw/oTyICIthibxjm/DfN9lVz8IqtqKYLUXfoKVMVQVVJOElGjrnnUt9T9wbgp8AyYKaGlqingHZU/uG2NTZSVqwHQTWkx9hxjkpWDaCg6Ckj5qebgBVbT3V3NNXMSiWSDdGV3hrtzla7J+duwPOToIg42ChPQOQjspnSlp1V+Gjdged7+8UN5CRAV7a5EdFNwCjEaBR27b3W890TE7g24NAP/mMDXRWrGoFPQI9ls/MWO2dWFAar/xcOIImbbpA3zgAAAABJRU5ErkJggg==);\n",
       "        }\n",
       "    </style>\n",
       "    <div>\n",
       "        <a href=\"https://bokeh.org\" target=\"_blank\" class=\"bk-notebook-logo\"></a>\n",
       "        <span id=\"p1001\">Loading BokehJS ...</span>\n",
       "    </div>\n"
      ]
     },
     "metadata": {},
     "output_type": "display_data"
    },
    {
     "data": {
      "application/javascript": [
       "(function(root) {\n",
       "  function now() {\n",
       "    return new Date();\n",
       "  }\n",
       "\n",
       "  const force = true;\n",
       "\n",
       "  if (typeof root._bokeh_onload_callbacks === \"undefined\" || force === true) {\n",
       "    root._bokeh_onload_callbacks = [];\n",
       "    root._bokeh_is_loading = undefined;\n",
       "  }\n",
       "\n",
       "const JS_MIME_TYPE = 'application/javascript';\n",
       "  const HTML_MIME_TYPE = 'text/html';\n",
       "  const EXEC_MIME_TYPE = 'application/vnd.bokehjs_exec.v0+json';\n",
       "  const CLASS_NAME = 'output_bokeh rendered_html';\n",
       "\n",
       "  /**\n",
       "   * Render data to the DOM node\n",
       "   */\n",
       "  function render(props, node) {\n",
       "    const script = document.createElement(\"script\");\n",
       "    node.appendChild(script);\n",
       "  }\n",
       "\n",
       "  /**\n",
       "   * Handle when an output is cleared or removed\n",
       "   */\n",
       "  function handleClearOutput(event, handle) {\n",
       "    const cell = handle.cell;\n",
       "\n",
       "    const id = cell.output_area._bokeh_element_id;\n",
       "    const server_id = cell.output_area._bokeh_server_id;\n",
       "    // Clean up Bokeh references\n",
       "    if (id != null && id in Bokeh.index) {\n",
       "      Bokeh.index[id].model.document.clear();\n",
       "      delete Bokeh.index[id];\n",
       "    }\n",
       "\n",
       "    if (server_id !== undefined) {\n",
       "      // Clean up Bokeh references\n",
       "      const cmd_clean = \"from bokeh.io.state import curstate; print(curstate().uuid_to_server['\" + server_id + \"'].get_sessions()[0].document.roots[0]._id)\";\n",
       "      cell.notebook.kernel.execute(cmd_clean, {\n",
       "        iopub: {\n",
       "          output: function(msg) {\n",
       "            const id = msg.content.text.trim();\n",
       "            if (id in Bokeh.index) {\n",
       "              Bokeh.index[id].model.document.clear();\n",
       "              delete Bokeh.index[id];\n",
       "            }\n",
       "          }\n",
       "        }\n",
       "      });\n",
       "      // Destroy server and session\n",
       "      const cmd_destroy = \"import bokeh.io.notebook as ion; ion.destroy_server('\" + server_id + \"')\";\n",
       "      cell.notebook.kernel.execute(cmd_destroy);\n",
       "    }\n",
       "  }\n",
       "\n",
       "  /**\n",
       "   * Handle when a new output is added\n",
       "   */\n",
       "  function handleAddOutput(event, handle) {\n",
       "    const output_area = handle.output_area;\n",
       "    const output = handle.output;\n",
       "\n",
       "    // limit handleAddOutput to display_data with EXEC_MIME_TYPE content only\n",
       "    if ((output.output_type != \"display_data\") || (!Object.prototype.hasOwnProperty.call(output.data, EXEC_MIME_TYPE))) {\n",
       "      return\n",
       "    }\n",
       "\n",
       "    const toinsert = output_area.element.find(\".\" + CLASS_NAME.split(' ')[0]);\n",
       "\n",
       "    if (output.metadata[EXEC_MIME_TYPE][\"id\"] !== undefined) {\n",
       "      toinsert[toinsert.length - 1].firstChild.textContent = output.data[JS_MIME_TYPE];\n",
       "      // store reference to embed id on output_area\n",
       "      output_area._bokeh_element_id = output.metadata[EXEC_MIME_TYPE][\"id\"];\n",
       "    }\n",
       "    if (output.metadata[EXEC_MIME_TYPE][\"server_id\"] !== undefined) {\n",
       "      const bk_div = document.createElement(\"div\");\n",
       "      bk_div.innerHTML = output.data[HTML_MIME_TYPE];\n",
       "      const script_attrs = bk_div.children[0].attributes;\n",
       "      for (let i = 0; i < script_attrs.length; i++) {\n",
       "        toinsert[toinsert.length - 1].firstChild.setAttribute(script_attrs[i].name, script_attrs[i].value);\n",
       "        toinsert[toinsert.length - 1].firstChild.textContent = bk_div.children[0].textContent\n",
       "      }\n",
       "      // store reference to server id on output_area\n",
       "      output_area._bokeh_server_id = output.metadata[EXEC_MIME_TYPE][\"server_id\"];\n",
       "    }\n",
       "  }\n",
       "\n",
       "  function register_renderer(events, OutputArea) {\n",
       "\n",
       "    function append_mime(data, metadata, element) {\n",
       "      // create a DOM node to render to\n",
       "      const toinsert = this.create_output_subarea(\n",
       "        metadata,\n",
       "        CLASS_NAME,\n",
       "        EXEC_MIME_TYPE\n",
       "      );\n",
       "      this.keyboard_manager.register_events(toinsert);\n",
       "      // Render to node\n",
       "      const props = {data: data, metadata: metadata[EXEC_MIME_TYPE]};\n",
       "      render(props, toinsert[toinsert.length - 1]);\n",
       "      element.append(toinsert);\n",
       "      return toinsert\n",
       "    }\n",
       "\n",
       "    /* Handle when an output is cleared or removed */\n",
       "    events.on('clear_output.CodeCell', handleClearOutput);\n",
       "    events.on('delete.Cell', handleClearOutput);\n",
       "\n",
       "    /* Handle when a new output is added */\n",
       "    events.on('output_added.OutputArea', handleAddOutput);\n",
       "\n",
       "    /**\n",
       "     * Register the mime type and append_mime function with output_area\n",
       "     */\n",
       "    OutputArea.prototype.register_mime_type(EXEC_MIME_TYPE, append_mime, {\n",
       "      /* Is output safe? */\n",
       "      safe: true,\n",
       "      /* Index of renderer in `output_area.display_order` */\n",
       "      index: 0\n",
       "    });\n",
       "  }\n",
       "\n",
       "  // register the mime type if in Jupyter Notebook environment and previously unregistered\n",
       "  if (root.Jupyter !== undefined) {\n",
       "    const events = require('base/js/events');\n",
       "    const OutputArea = require('notebook/js/outputarea').OutputArea;\n",
       "\n",
       "    if (OutputArea.prototype.mime_types().indexOf(EXEC_MIME_TYPE) == -1) {\n",
       "      register_renderer(events, OutputArea);\n",
       "    }\n",
       "  }\n",
       "  if (typeof (root._bokeh_timeout) === \"undefined\" || force === true) {\n",
       "    root._bokeh_timeout = Date.now() + 5000;\n",
       "    root._bokeh_failed_load = false;\n",
       "  }\n",
       "\n",
       "  const NB_LOAD_WARNING = {'data': {'text/html':\n",
       "     \"<div style='background-color: #fdd'>\\n\"+\n",
       "     \"<p>\\n\"+\n",
       "     \"BokehJS does not appear to have successfully loaded. If loading BokehJS from CDN, this \\n\"+\n",
       "     \"may be due to a slow or bad network connection. Possible fixes:\\n\"+\n",
       "     \"</p>\\n\"+\n",
       "     \"<ul>\\n\"+\n",
       "     \"<li>re-rerun `output_notebook()` to attempt to load from CDN again, or</li>\\n\"+\n",
       "     \"<li>use INLINE resources instead, as so:</li>\\n\"+\n",
       "     \"</ul>\\n\"+\n",
       "     \"<code>\\n\"+\n",
       "     \"from bokeh.resources import INLINE\\n\"+\n",
       "     \"output_notebook(resources=INLINE)\\n\"+\n",
       "     \"</code>\\n\"+\n",
       "     \"</div>\"}};\n",
       "\n",
       "  function display_loaded() {\n",
       "    const el = document.getElementById(\"p1001\");\n",
       "    if (el != null) {\n",
       "      el.textContent = \"BokehJS is loading...\";\n",
       "    }\n",
       "    if (root.Bokeh !== undefined) {\n",
       "      if (el != null) {\n",
       "        el.textContent = \"BokehJS \" + root.Bokeh.version + \" successfully loaded.\";\n",
       "      }\n",
       "    } else if (Date.now() < root._bokeh_timeout) {\n",
       "      setTimeout(display_loaded, 100)\n",
       "    }\n",
       "  }\n",
       "\n",
       "  function run_callbacks() {\n",
       "    try {\n",
       "      root._bokeh_onload_callbacks.forEach(function(callback) {\n",
       "        if (callback != null)\n",
       "          callback();\n",
       "      });\n",
       "    } finally {\n",
       "      delete root._bokeh_onload_callbacks\n",
       "    }\n",
       "    console.debug(\"Bokeh: all callbacks have finished\");\n",
       "  }\n",
       "\n",
       "  function load_libs(css_urls, js_urls, callback) {\n",
       "    if (css_urls == null) css_urls = [];\n",
       "    if (js_urls == null) js_urls = [];\n",
       "\n",
       "    root._bokeh_onload_callbacks.push(callback);\n",
       "    if (root._bokeh_is_loading > 0) {\n",
       "      console.debug(\"Bokeh: BokehJS is being loaded, scheduling callback at\", now());\n",
       "      return null;\n",
       "    }\n",
       "    if (js_urls == null || js_urls.length === 0) {\n",
       "      run_callbacks();\n",
       "      return null;\n",
       "    }\n",
       "    console.debug(\"Bokeh: BokehJS not loaded, scheduling load and callback at\", now());\n",
       "    root._bokeh_is_loading = css_urls.length + js_urls.length;\n",
       "\n",
       "    function on_load() {\n",
       "      root._bokeh_is_loading--;\n",
       "      if (root._bokeh_is_loading === 0) {\n",
       "        console.debug(\"Bokeh: all BokehJS libraries/stylesheets loaded\");\n",
       "        run_callbacks()\n",
       "      }\n",
       "    }\n",
       "\n",
       "    function on_error(url) {\n",
       "      console.error(\"failed to load \" + url);\n",
       "    }\n",
       "\n",
       "    for (let i = 0; i < css_urls.length; i++) {\n",
       "      const url = css_urls[i];\n",
       "      const element = document.createElement(\"link\");\n",
       "      element.onload = on_load;\n",
       "      element.onerror = on_error.bind(null, url);\n",
       "      element.rel = \"stylesheet\";\n",
       "      element.type = \"text/css\";\n",
       "      element.href = url;\n",
       "      console.debug(\"Bokeh: injecting link tag for BokehJS stylesheet: \", url);\n",
       "      document.body.appendChild(element);\n",
       "    }\n",
       "\n",
       "    for (let i = 0; i < js_urls.length; i++) {\n",
       "      const url = js_urls[i];\n",
       "      const element = document.createElement('script');\n",
       "      element.onload = on_load;\n",
       "      element.onerror = on_error.bind(null, url);\n",
       "      element.async = false;\n",
       "      element.src = url;\n",
       "      console.debug(\"Bokeh: injecting script tag for BokehJS library: \", url);\n",
       "      document.head.appendChild(element);\n",
       "    }\n",
       "  };\n",
       "\n",
       "  function inject_raw_css(css) {\n",
       "    const element = document.createElement(\"style\");\n",
       "    element.appendChild(document.createTextNode(css));\n",
       "    document.body.appendChild(element);\n",
       "  }\n",
       "\n",
       "  const js_urls = [\"https://cdn.bokeh.org/bokeh/release/bokeh-3.1.0.min.js\", \"https://cdn.bokeh.org/bokeh/release/bokeh-gl-3.1.0.min.js\", \"https://cdn.bokeh.org/bokeh/release/bokeh-widgets-3.1.0.min.js\", \"https://cdn.bokeh.org/bokeh/release/bokeh-tables-3.1.0.min.js\", \"https://cdn.bokeh.org/bokeh/release/bokeh-mathjax-3.1.0.min.js\"];\n",
       "  const css_urls = [];\n",
       "\n",
       "  const inline_js = [    function(Bokeh) {\n",
       "      Bokeh.set_log_level(\"info\");\n",
       "    },\n",
       "function(Bokeh) {\n",
       "    }\n",
       "  ];\n",
       "\n",
       "  function run_inline_js() {\n",
       "    if (root.Bokeh !== undefined || force === true) {\n",
       "          for (let i = 0; i < inline_js.length; i++) {\n",
       "      inline_js[i].call(root, root.Bokeh);\n",
       "    }\n",
       "if (force === true) {\n",
       "        display_loaded();\n",
       "      }} else if (Date.now() < root._bokeh_timeout) {\n",
       "      setTimeout(run_inline_js, 100);\n",
       "    } else if (!root._bokeh_failed_load) {\n",
       "      console.log(\"Bokeh: BokehJS failed to load within specified timeout.\");\n",
       "      root._bokeh_failed_load = true;\n",
       "    } else if (force !== true) {\n",
       "      const cell = $(document.getElementById(\"p1001\")).parents('.cell').data().cell;\n",
       "      cell.output_area.append_execute_result(NB_LOAD_WARNING)\n",
       "    }\n",
       "  }\n",
       "\n",
       "  if (root._bokeh_is_loading === 0) {\n",
       "    console.debug(\"Bokeh: BokehJS loaded, going straight to plotting\");\n",
       "    run_inline_js();\n",
       "  } else {\n",
       "    load_libs(css_urls, js_urls, function() {\n",
       "      console.debug(\"Bokeh: BokehJS plotting callback run at\", now());\n",
       "      run_inline_js();\n",
       "    });\n",
       "  }\n",
       "}(window));"
      ],
      "application/vnd.bokehjs_load.v0+json": "(function(root) {\n  function now() {\n    return new Date();\n  }\n\n  const force = true;\n\n  if (typeof root._bokeh_onload_callbacks === \"undefined\" || force === true) {\n    root._bokeh_onload_callbacks = [];\n    root._bokeh_is_loading = undefined;\n  }\n\n\n  if (typeof (root._bokeh_timeout) === \"undefined\" || force === true) {\n    root._bokeh_timeout = Date.now() + 5000;\n    root._bokeh_failed_load = false;\n  }\n\n  const NB_LOAD_WARNING = {'data': {'text/html':\n     \"<div style='background-color: #fdd'>\\n\"+\n     \"<p>\\n\"+\n     \"BokehJS does not appear to have successfully loaded. If loading BokehJS from CDN, this \\n\"+\n     \"may be due to a slow or bad network connection. Possible fixes:\\n\"+\n     \"</p>\\n\"+\n     \"<ul>\\n\"+\n     \"<li>re-rerun `output_notebook()` to attempt to load from CDN again, or</li>\\n\"+\n     \"<li>use INLINE resources instead, as so:</li>\\n\"+\n     \"</ul>\\n\"+\n     \"<code>\\n\"+\n     \"from bokeh.resources import INLINE\\n\"+\n     \"output_notebook(resources=INLINE)\\n\"+\n     \"</code>\\n\"+\n     \"</div>\"}};\n\n  function display_loaded() {\n    const el = document.getElementById(\"p1001\");\n    if (el != null) {\n      el.textContent = \"BokehJS is loading...\";\n    }\n    if (root.Bokeh !== undefined) {\n      if (el != null) {\n        el.textContent = \"BokehJS \" + root.Bokeh.version + \" successfully loaded.\";\n      }\n    } else if (Date.now() < root._bokeh_timeout) {\n      setTimeout(display_loaded, 100)\n    }\n  }\n\n  function run_callbacks() {\n    try {\n      root._bokeh_onload_callbacks.forEach(function(callback) {\n        if (callback != null)\n          callback();\n      });\n    } finally {\n      delete root._bokeh_onload_callbacks\n    }\n    console.debug(\"Bokeh: all callbacks have finished\");\n  }\n\n  function load_libs(css_urls, js_urls, callback) {\n    if (css_urls == null) css_urls = [];\n    if (js_urls == null) js_urls = [];\n\n    root._bokeh_onload_callbacks.push(callback);\n    if (root._bokeh_is_loading > 0) {\n      console.debug(\"Bokeh: BokehJS is being loaded, scheduling callback at\", now());\n      return null;\n    }\n    if (js_urls == null || js_urls.length === 0) {\n      run_callbacks();\n      return null;\n    }\n    console.debug(\"Bokeh: BokehJS not loaded, scheduling load and callback at\", now());\n    root._bokeh_is_loading = css_urls.length + js_urls.length;\n\n    function on_load() {\n      root._bokeh_is_loading--;\n      if (root._bokeh_is_loading === 0) {\n        console.debug(\"Bokeh: all BokehJS libraries/stylesheets loaded\");\n        run_callbacks()\n      }\n    }\n\n    function on_error(url) {\n      console.error(\"failed to load \" + url);\n    }\n\n    for (let i = 0; i < css_urls.length; i++) {\n      const url = css_urls[i];\n      const element = document.createElement(\"link\");\n      element.onload = on_load;\n      element.onerror = on_error.bind(null, url);\n      element.rel = \"stylesheet\";\n      element.type = \"text/css\";\n      element.href = url;\n      console.debug(\"Bokeh: injecting link tag for BokehJS stylesheet: \", url);\n      document.body.appendChild(element);\n    }\n\n    for (let i = 0; i < js_urls.length; i++) {\n      const url = js_urls[i];\n      const element = document.createElement('script');\n      element.onload = on_load;\n      element.onerror = on_error.bind(null, url);\n      element.async = false;\n      element.src = url;\n      console.debug(\"Bokeh: injecting script tag for BokehJS library: \", url);\n      document.head.appendChild(element);\n    }\n  };\n\n  function inject_raw_css(css) {\n    const element = document.createElement(\"style\");\n    element.appendChild(document.createTextNode(css));\n    document.body.appendChild(element);\n  }\n\n  const js_urls = [\"https://cdn.bokeh.org/bokeh/release/bokeh-3.1.0.min.js\", \"https://cdn.bokeh.org/bokeh/release/bokeh-gl-3.1.0.min.js\", \"https://cdn.bokeh.org/bokeh/release/bokeh-widgets-3.1.0.min.js\", \"https://cdn.bokeh.org/bokeh/release/bokeh-tables-3.1.0.min.js\", \"https://cdn.bokeh.org/bokeh/release/bokeh-mathjax-3.1.0.min.js\"];\n  const css_urls = [];\n\n  const inline_js = [    function(Bokeh) {\n      Bokeh.set_log_level(\"info\");\n    },\nfunction(Bokeh) {\n    }\n  ];\n\n  function run_inline_js() {\n    if (root.Bokeh !== undefined || force === true) {\n          for (let i = 0; i < inline_js.length; i++) {\n      inline_js[i].call(root, root.Bokeh);\n    }\nif (force === true) {\n        display_loaded();\n      }} else if (Date.now() < root._bokeh_timeout) {\n      setTimeout(run_inline_js, 100);\n    } else if (!root._bokeh_failed_load) {\n      console.log(\"Bokeh: BokehJS failed to load within specified timeout.\");\n      root._bokeh_failed_load = true;\n    } else if (force !== true) {\n      const cell = $(document.getElementById(\"p1001\")).parents('.cell').data().cell;\n      cell.output_area.append_execute_result(NB_LOAD_WARNING)\n    }\n  }\n\n  if (root._bokeh_is_loading === 0) {\n    console.debug(\"Bokeh: BokehJS loaded, going straight to plotting\");\n    run_inline_js();\n  } else {\n    load_libs(css_urls, js_urls, function() {\n      console.debug(\"Bokeh: BokehJS plotting callback run at\", now());\n      run_inline_js();\n    });\n  }\n}(window));"
     },
     "metadata": {},
     "output_type": "display_data"
    }
   ],
   "source": [
    "from bokeh.io import output_notebook\n",
    "output_notebook()"
   ]
  },
  {
   "cell_type": "markdown",
   "id": "8b488260",
   "metadata": {},
   "source": [
    "## Our first plot"
   ]
  },
  {
   "cell_type": "markdown",
   "id": "d4a86c72",
   "metadata": {},
   "source": [
    "Basic imports:"
   ]
  },
  {
   "cell_type": "code",
   "execution_count": 2,
   "id": "2822dce1",
   "metadata": {},
   "outputs": [],
   "source": [
    "from bokeh.plotting import figure, show"
   ]
  },
  {
   "cell_type": "markdown",
   "id": "edab7a46",
   "metadata": {},
   "source": [
    "The first plot is a single line"
   ]
  },
  {
   "cell_type": "code",
   "execution_count": 3,
   "id": "2336d04f",
   "metadata": {},
   "outputs": [
    {
     "data": {
      "text/html": [
       "\n",
       "  <div id=\"fa9e7507-7c94-401b-8f5b-bc3ebce91a21\" data-root-id=\"p1002\" style=\"display: contents;\"></div>\n"
      ]
     },
     "metadata": {},
     "output_type": "display_data"
    },
    {
     "data": {
      "application/javascript": [
       "(function(root) {\n",
       "  function embed_document(root) {\n",
       "  const docs_json = {\"d2be1c4d-86bc-469d-96e3-ff9ace2b7aff\":{\"version\":\"3.1.0\",\"title\":\"Bokeh Application\",\"defs\":[],\"roots\":[{\"type\":\"object\",\"name\":\"Figure\",\"id\":\"p1002\",\"attributes\":{\"x_range\":{\"type\":\"object\",\"name\":\"DataRange1d\",\"id\":\"p1004\"},\"y_range\":{\"type\":\"object\",\"name\":\"DataRange1d\",\"id\":\"p1003\"},\"x_scale\":{\"type\":\"object\",\"name\":\"LinearScale\",\"id\":\"p1016\"},\"y_scale\":{\"type\":\"object\",\"name\":\"LinearScale\",\"id\":\"p1018\"},\"title\":{\"type\":\"object\",\"name\":\"Title\",\"id\":\"p1005\",\"attributes\":{\"text\":\"Simple line example\"}},\"renderers\":[{\"type\":\"object\",\"name\":\"GlyphRenderer\",\"id\":\"p1055\",\"attributes\":{\"data_source\":{\"type\":\"object\",\"name\":\"ColumnDataSource\",\"id\":\"p1049\",\"attributes\":{\"selected\":{\"type\":\"object\",\"name\":\"Selection\",\"id\":\"p1051\",\"attributes\":{\"indices\":[],\"line_indices\":[]}},\"selection_policy\":{\"type\":\"object\",\"name\":\"UnionRenderers\",\"id\":\"p1050\"},\"data\":{\"type\":\"map\",\"entries\":[[\"x\",[1,2,3,4,5]],[\"y\",[6,7,2,4,5]]]}}},\"view\":{\"type\":\"object\",\"name\":\"CDSView\",\"id\":\"p1056\",\"attributes\":{\"filter\":{\"type\":\"object\",\"name\":\"AllIndices\",\"id\":\"p1057\"}}},\"glyph\":{\"type\":\"object\",\"name\":\"Line\",\"id\":\"p1052\",\"attributes\":{\"x\":{\"type\":\"field\",\"field\":\"x\"},\"y\":{\"type\":\"field\",\"field\":\"y\"},\"line_color\":\"#1f77b4\",\"line_width\":2}},\"nonselection_glyph\":{\"type\":\"object\",\"name\":\"Line\",\"id\":\"p1053\",\"attributes\":{\"x\":{\"type\":\"field\",\"field\":\"x\"},\"y\":{\"type\":\"field\",\"field\":\"y\"},\"line_color\":\"#1f77b4\",\"line_alpha\":0.1,\"line_width\":2}},\"muted_glyph\":{\"type\":\"object\",\"name\":\"Line\",\"id\":\"p1054\",\"attributes\":{\"x\":{\"type\":\"field\",\"field\":\"x\"},\"y\":{\"type\":\"field\",\"field\":\"y\"},\"line_color\":\"#1f77b4\",\"line_alpha\":0.2,\"line_width\":2}}}}],\"toolbar\":{\"type\":\"object\",\"name\":\"Toolbar\",\"id\":\"p1008\",\"attributes\":{\"tools\":[{\"type\":\"object\",\"name\":\"PanTool\",\"id\":\"p1034\"},{\"type\":\"object\",\"name\":\"WheelZoomTool\",\"id\":\"p1035\"},{\"type\":\"object\",\"name\":\"BoxZoomTool\",\"id\":\"p1036\",\"attributes\":{\"overlay\":{\"type\":\"object\",\"name\":\"BoxAnnotation\",\"id\":\"p1037\",\"attributes\":{\"syncable\":false,\"level\":\"overlay\",\"visible\":false,\"left_units\":\"canvas\",\"right_units\":\"canvas\",\"bottom_units\":\"canvas\",\"top_units\":\"canvas\",\"line_color\":\"black\",\"line_alpha\":1.0,\"line_width\":2,\"line_dash\":[4,4],\"fill_color\":\"lightgrey\",\"fill_alpha\":0.5}}}},{\"type\":\"object\",\"name\":\"SaveTool\",\"id\":\"p1038\"},{\"type\":\"object\",\"name\":\"ResetTool\",\"id\":\"p1039\"},{\"type\":\"object\",\"name\":\"HelpTool\",\"id\":\"p1040\"}]}},\"left\":[{\"type\":\"object\",\"name\":\"LinearAxis\",\"id\":\"p1027\",\"attributes\":{\"ticker\":{\"type\":\"object\",\"name\":\"BasicTicker\",\"id\":\"p1028\",\"attributes\":{\"mantissas\":[1,2,5]}},\"formatter\":{\"type\":\"object\",\"name\":\"BasicTickFormatter\",\"id\":\"p1029\"},\"axis_label\":\"y\",\"major_label_policy\":{\"type\":\"object\",\"name\":\"AllLabels\",\"id\":\"p1030\"}}}],\"below\":[{\"type\":\"object\",\"name\":\"LinearAxis\",\"id\":\"p1020\",\"attributes\":{\"ticker\":{\"type\":\"object\",\"name\":\"BasicTicker\",\"id\":\"p1021\",\"attributes\":{\"mantissas\":[1,2,5]}},\"formatter\":{\"type\":\"object\",\"name\":\"BasicTickFormatter\",\"id\":\"p1022\"},\"axis_label\":\"x\",\"major_label_policy\":{\"type\":\"object\",\"name\":\"AllLabels\",\"id\":\"p1023\"}}}],\"center\":[{\"type\":\"object\",\"name\":\"Grid\",\"id\":\"p1026\",\"attributes\":{\"axis\":{\"id\":\"p1020\"}}},{\"type\":\"object\",\"name\":\"Grid\",\"id\":\"p1033\",\"attributes\":{\"dimension\":1,\"axis\":{\"id\":\"p1027\"}}},{\"type\":\"object\",\"name\":\"Legend\",\"id\":\"p1058\",\"attributes\":{\"items\":[{\"type\":\"object\",\"name\":\"LegendItem\",\"id\":\"p1059\",\"attributes\":{\"label\":{\"type\":\"value\",\"value\":\"Temp.\"},\"renderers\":[{\"id\":\"p1055\"}]}}]}}]}}],\"callbacks\":{\"type\":\"map\"}}};\n",
       "  const render_items = [{\"docid\":\"d2be1c4d-86bc-469d-96e3-ff9ace2b7aff\",\"roots\":{\"p1002\":\"fa9e7507-7c94-401b-8f5b-bc3ebce91a21\"},\"root_ids\":[\"p1002\"]}];\n",
       "  root.Bokeh.embed.embed_items_notebook(docs_json, render_items);\n",
       "  }\n",
       "  if (root.Bokeh !== undefined) {\n",
       "    embed_document(root);\n",
       "  } else {\n",
       "    let attempts = 0;\n",
       "    const timer = setInterval(function(root) {\n",
       "      if (root.Bokeh !== undefined) {\n",
       "        clearInterval(timer);\n",
       "        embed_document(root);\n",
       "      } else {\n",
       "        attempts++;\n",
       "        if (attempts > 100) {\n",
       "          clearInterval(timer);\n",
       "          console.log(\"Bokeh: ERROR: Unable to run BokehJS code because BokehJS library is missing\");\n",
       "        }\n",
       "      }\n",
       "    }, 10, root)\n",
       "  }\n",
       "})(window);"
      ],
      "application/vnd.bokehjs_exec.v0+json": ""
     },
     "metadata": {
      "application/vnd.bokehjs_exec.v0+json": {
       "id": "p1002"
      }
     },
     "output_type": "display_data"
    }
   ],
   "source": [
    "# prepare some data\n",
    "x = [1, 2, 3, 4, 5]\n",
    "y = [6, 7, 2, 4, 5]\n",
    "\n",
    "# create a new plot with a title and axis labels\n",
    "p = figure(title=\"Simple line example\", x_axis_label=\"x\", y_axis_label=\"y\")\n",
    "\n",
    "# add a line renderer with legend and line thickness\n",
    "p.line(x, y, legend_label=\"Temp.\", line_width=2)\n",
    "\n",
    "# show the results\n",
    "show(p)\n",
    "# save(p)"
   ]
  },
  {
   "cell_type": "markdown",
   "id": "4ac2f3e1",
   "metadata": {},
   "source": [
    "Even a simple graph like this has interactive features. Use the tools on the right of the plot to explore:\n",
    "\n",
    " * Icon representing the pan tool Use the pan tool to move the graph within your plot.\n",
    " * Icon representing box zoom Use the box zoom tool to zoom into an area of your plot.\n",
    " * Icon representing the wheel zoom Use the wheel zoom tool to zoom in and out with a mouse wheel.\n",
    " * Icon representing the save tool Use the save tool to export the current view of your plot as a PNG file.\n",
    " * Icon representing the reset tool Use the reset tool to return your view to the plot’s default settings.\n",
    " * Help symbol Use the help symbol to learn more about the tools available in Bokeh."
   ]
  },
  {
   "cell_type": "markdown",
   "id": "6d20e5f6",
   "metadata": {},
   "source": [
    "### combining multiple graphs\n",
    "\n"
   ]
  },
  {
   "cell_type": "code",
   "execution_count": 4,
   "id": "d3ce9462",
   "metadata": {
    "scrolled": true
   },
   "outputs": [
    {
     "data": {
      "text/html": [
       "\n",
       "  <div id=\"cff700ec-d5c1-4953-ad37-ef8c6e1102e7\" data-root-id=\"p1141\" style=\"display: contents;\"></div>\n"
      ]
     },
     "metadata": {},
     "output_type": "display_data"
    },
    {
     "data": {
      "application/javascript": [
       "(function(root) {\n",
       "  function embed_document(root) {\n",
       "  const docs_json = {\"56134fee-de93-4cc2-a052-c2632fe6a19a\":{\"version\":\"3.1.0\",\"title\":\"Bokeh Application\",\"defs\":[],\"roots\":[{\"type\":\"object\",\"name\":\"Figure\",\"id\":\"p1141\",\"attributes\":{\"x_range\":{\"type\":\"object\",\"name\":\"DataRange1d\",\"id\":\"p1143\"},\"y_range\":{\"type\":\"object\",\"name\":\"DataRange1d\",\"id\":\"p1142\"},\"x_scale\":{\"type\":\"object\",\"name\":\"LinearScale\",\"id\":\"p1155\"},\"y_scale\":{\"type\":\"object\",\"name\":\"LinearScale\",\"id\":\"p1157\"},\"title\":{\"type\":\"object\",\"name\":\"Title\",\"id\":\"p1144\",\"attributes\":{\"text\":\"Multiple line example\"}},\"renderers\":[{\"type\":\"object\",\"name\":\"GlyphRenderer\",\"id\":\"p1194\",\"attributes\":{\"data_source\":{\"type\":\"object\",\"name\":\"ColumnDataSource\",\"id\":\"p1188\",\"attributes\":{\"selected\":{\"type\":\"object\",\"name\":\"Selection\",\"id\":\"p1190\",\"attributes\":{\"indices\":[],\"line_indices\":[]}},\"selection_policy\":{\"type\":\"object\",\"name\":\"UnionRenderers\",\"id\":\"p1189\"},\"data\":{\"type\":\"map\",\"entries\":[[\"x\",[1,2,3,4,5]],[\"y\",[6,7,2,4,5]]]}}},\"view\":{\"type\":\"object\",\"name\":\"CDSView\",\"id\":\"p1195\",\"attributes\":{\"filter\":{\"type\":\"object\",\"name\":\"AllIndices\",\"id\":\"p1196\"}}},\"glyph\":{\"type\":\"object\",\"name\":\"Line\",\"id\":\"p1191\",\"attributes\":{\"x\":{\"type\":\"field\",\"field\":\"x\"},\"y\":{\"type\":\"field\",\"field\":\"y\"},\"line_color\":\"blue\",\"line_width\":2}},\"nonselection_glyph\":{\"type\":\"object\",\"name\":\"Line\",\"id\":\"p1192\",\"attributes\":{\"x\":{\"type\":\"field\",\"field\":\"x\"},\"y\":{\"type\":\"field\",\"field\":\"y\"},\"line_color\":\"blue\",\"line_alpha\":0.1,\"line_width\":2}},\"muted_glyph\":{\"type\":\"object\",\"name\":\"Line\",\"id\":\"p1193\",\"attributes\":{\"x\":{\"type\":\"field\",\"field\":\"x\"},\"y\":{\"type\":\"field\",\"field\":\"y\"},\"line_color\":\"blue\",\"line_alpha\":0.2,\"line_width\":2}}}},{\"type\":\"object\",\"name\":\"GlyphRenderer\",\"id\":\"p1205\",\"attributes\":{\"data_source\":{\"type\":\"object\",\"name\":\"ColumnDataSource\",\"id\":\"p1199\",\"attributes\":{\"selected\":{\"type\":\"object\",\"name\":\"Selection\",\"id\":\"p1201\",\"attributes\":{\"indices\":[],\"line_indices\":[]}},\"selection_policy\":{\"type\":\"object\",\"name\":\"UnionRenderers\",\"id\":\"p1200\"},\"data\":{\"type\":\"map\",\"entries\":[[\"x\",[1,2,3,4,5]],[\"y\",[2,3,4,5,6]]]}}},\"view\":{\"type\":\"object\",\"name\":\"CDSView\",\"id\":\"p1206\",\"attributes\":{\"filter\":{\"type\":\"object\",\"name\":\"AllIndices\",\"id\":\"p1207\"}}},\"glyph\":{\"type\":\"object\",\"name\":\"Line\",\"id\":\"p1202\",\"attributes\":{\"x\":{\"type\":\"field\",\"field\":\"x\"},\"y\":{\"type\":\"field\",\"field\":\"y\"},\"line_color\":\"red\",\"line_width\":2}},\"nonselection_glyph\":{\"type\":\"object\",\"name\":\"Line\",\"id\":\"p1203\",\"attributes\":{\"x\":{\"type\":\"field\",\"field\":\"x\"},\"y\":{\"type\":\"field\",\"field\":\"y\"},\"line_color\":\"red\",\"line_alpha\":0.1,\"line_width\":2}},\"muted_glyph\":{\"type\":\"object\",\"name\":\"Line\",\"id\":\"p1204\",\"attributes\":{\"x\":{\"type\":\"field\",\"field\":\"x\"},\"y\":{\"type\":\"field\",\"field\":\"y\"},\"line_color\":\"red\",\"line_alpha\":0.2,\"line_width\":2}}}},{\"type\":\"object\",\"name\":\"GlyphRenderer\",\"id\":\"p1215\",\"attributes\":{\"data_source\":{\"type\":\"object\",\"name\":\"ColumnDataSource\",\"id\":\"p1209\",\"attributes\":{\"selected\":{\"type\":\"object\",\"name\":\"Selection\",\"id\":\"p1211\",\"attributes\":{\"indices\":[],\"line_indices\":[]}},\"selection_policy\":{\"type\":\"object\",\"name\":\"UnionRenderers\",\"id\":\"p1210\"},\"data\":{\"type\":\"map\",\"entries\":[[\"x\",[1,2,3,4,5]],[\"y\",[4,5,5,7,2]]]}}},\"view\":{\"type\":\"object\",\"name\":\"CDSView\",\"id\":\"p1216\",\"attributes\":{\"filter\":{\"type\":\"object\",\"name\":\"AllIndices\",\"id\":\"p1217\"}}},\"glyph\":{\"type\":\"object\",\"name\":\"Line\",\"id\":\"p1212\",\"attributes\":{\"x\":{\"type\":\"field\",\"field\":\"x\"},\"y\":{\"type\":\"field\",\"field\":\"y\"},\"line_color\":\"green\",\"line_width\":2}},\"nonselection_glyph\":{\"type\":\"object\",\"name\":\"Line\",\"id\":\"p1213\",\"attributes\":{\"x\":{\"type\":\"field\",\"field\":\"x\"},\"y\":{\"type\":\"field\",\"field\":\"y\"},\"line_color\":\"green\",\"line_alpha\":0.1,\"line_width\":2}},\"muted_glyph\":{\"type\":\"object\",\"name\":\"Line\",\"id\":\"p1214\",\"attributes\":{\"x\":{\"type\":\"field\",\"field\":\"x\"},\"y\":{\"type\":\"field\",\"field\":\"y\"},\"line_color\":\"green\",\"line_alpha\":0.2,\"line_width\":2}}}}],\"toolbar\":{\"type\":\"object\",\"name\":\"Toolbar\",\"id\":\"p1147\",\"attributes\":{\"tools\":[{\"type\":\"object\",\"name\":\"PanTool\",\"id\":\"p1173\"},{\"type\":\"object\",\"name\":\"WheelZoomTool\",\"id\":\"p1174\"},{\"type\":\"object\",\"name\":\"BoxZoomTool\",\"id\":\"p1175\",\"attributes\":{\"overlay\":{\"type\":\"object\",\"name\":\"BoxAnnotation\",\"id\":\"p1176\",\"attributes\":{\"syncable\":false,\"level\":\"overlay\",\"visible\":false,\"left_units\":\"canvas\",\"right_units\":\"canvas\",\"bottom_units\":\"canvas\",\"top_units\":\"canvas\",\"line_color\":\"black\",\"line_alpha\":1.0,\"line_width\":2,\"line_dash\":[4,4],\"fill_color\":\"lightgrey\",\"fill_alpha\":0.5}}}},{\"type\":\"object\",\"name\":\"SaveTool\",\"id\":\"p1177\"},{\"type\":\"object\",\"name\":\"ResetTool\",\"id\":\"p1178\"},{\"type\":\"object\",\"name\":\"HelpTool\",\"id\":\"p1179\"}]}},\"left\":[{\"type\":\"object\",\"name\":\"LinearAxis\",\"id\":\"p1166\",\"attributes\":{\"ticker\":{\"type\":\"object\",\"name\":\"BasicTicker\",\"id\":\"p1167\",\"attributes\":{\"mantissas\":[1,2,5]}},\"formatter\":{\"type\":\"object\",\"name\":\"BasicTickFormatter\",\"id\":\"p1168\"},\"axis_label\":\"y\",\"major_label_policy\":{\"type\":\"object\",\"name\":\"AllLabels\",\"id\":\"p1169\"}}}],\"below\":[{\"type\":\"object\",\"name\":\"LinearAxis\",\"id\":\"p1159\",\"attributes\":{\"ticker\":{\"type\":\"object\",\"name\":\"BasicTicker\",\"id\":\"p1160\",\"attributes\":{\"mantissas\":[1,2,5]}},\"formatter\":{\"type\":\"object\",\"name\":\"BasicTickFormatter\",\"id\":\"p1161\"},\"axis_label\":\"x\",\"major_label_policy\":{\"type\":\"object\",\"name\":\"AllLabels\",\"id\":\"p1162\"}}}],\"center\":[{\"type\":\"object\",\"name\":\"Grid\",\"id\":\"p1165\",\"attributes\":{\"axis\":{\"id\":\"p1159\"}}},{\"type\":\"object\",\"name\":\"Grid\",\"id\":\"p1172\",\"attributes\":{\"dimension\":1,\"axis\":{\"id\":\"p1166\"}}},{\"type\":\"object\",\"name\":\"Legend\",\"id\":\"p1197\",\"attributes\":{\"items\":[{\"type\":\"object\",\"name\":\"LegendItem\",\"id\":\"p1198\",\"attributes\":{\"label\":{\"type\":\"value\",\"value\":\"Temp.\"},\"renderers\":[{\"id\":\"p1194\"}]}},{\"type\":\"object\",\"name\":\"LegendItem\",\"id\":\"p1208\",\"attributes\":{\"label\":{\"type\":\"value\",\"value\":\"Rate\"},\"renderers\":[{\"id\":\"p1205\"}]}},{\"type\":\"object\",\"name\":\"LegendItem\",\"id\":\"p1218\",\"attributes\":{\"label\":{\"type\":\"value\",\"value\":\"Objects\"},\"renderers\":[{\"id\":\"p1215\"}]}}]}}]}}],\"callbacks\":{\"type\":\"map\"}}};\n",
       "  const render_items = [{\"docid\":\"56134fee-de93-4cc2-a052-c2632fe6a19a\",\"roots\":{\"p1141\":\"cff700ec-d5c1-4953-ad37-ef8c6e1102e7\"},\"root_ids\":[\"p1141\"]}];\n",
       "  root.Bokeh.embed.embed_items_notebook(docs_json, render_items);\n",
       "  }\n",
       "  if (root.Bokeh !== undefined) {\n",
       "    embed_document(root);\n",
       "  } else {\n",
       "    let attempts = 0;\n",
       "    const timer = setInterval(function(root) {\n",
       "      if (root.Bokeh !== undefined) {\n",
       "        clearInterval(timer);\n",
       "        embed_document(root);\n",
       "      } else {\n",
       "        attempts++;\n",
       "        if (attempts > 100) {\n",
       "          clearInterval(timer);\n",
       "          console.log(\"Bokeh: ERROR: Unable to run BokehJS code because BokehJS library is missing\");\n",
       "        }\n",
       "      }\n",
       "    }, 10, root)\n",
       "  }\n",
       "})(window);"
      ],
      "application/vnd.bokehjs_exec.v0+json": ""
     },
     "metadata": {
      "application/vnd.bokehjs_exec.v0+json": {
       "id": "p1141"
      }
     },
     "output_type": "display_data"
    }
   ],
   "source": [
    "# prepare some data\n",
    "x = [1, 2, 3, 4, 5]\n",
    "y1 = [6, 7, 2, 4, 5]\n",
    "y2 = [2, 3, 4, 5, 6]\n",
    "y3 = [4, 5, 5, 7, 2]\n",
    "\n",
    "# create a new plot with a title and axis labels\n",
    "p = figure(title=\"Multiple line example\", x_axis_label=\"x\", y_axis_label=\"y\")\n",
    "\n",
    "# add multiple renderers\n",
    "p.line(x, y1, legend_label=\"Temp.\", color=\"blue\", line_width=2)\n",
    "p.line(x, y2, legend_label=\"Rate\", color=\"red\", line_width=2)\n",
    "p.line(x, y3, legend_label=\"Objects\", color=\"green\", line_width=2)\n",
    "## p.step([1, 2, 3, 4, 5], [6, 7, 2, 4, 5], line_width=2, mode=\"center\")\n",
    "## p.circle(x, y3, legend_label=\"Objects\", color=\"#bb5566\", size=16)\n",
    "#p.multi_line([[1, 3, 2], [3, 4, 6, 6]], [[2, 1, 4], [4, 7, 8, 5]],\n",
    "#             color=[\"firebrick\", \"navy\"], alpha=[0.8, 0.3], line_width=4)\n",
    "\n",
    "#nan = float('nan')\n",
    "#p.line([1, 2, 3, nan, 4, 5], [6, 7, 2, 4, 4, 5], line_width=2)\n",
    "\n",
    "\n",
    "# set legend label visibility for second renderer to False\n",
    "# p.legend.items[1].visible = False ## <<<<<<<<<<<<<<<<<<<<<<\n",
    "\n",
    "\n",
    "# show the results\n",
    "show(p)\n"
   ]
  },
  {
   "cell_type": "markdown",
   "id": "9509d7cf",
   "metadata": {},
   "source": [
    "## Rendering different glyphs\n",
    "\n",
    "Bokeh’s plotting interface supports many different glyphs, such as lines, bars, hex tiles, or other polygons.\n",
    "\n",
    "A complete list of glyphs can be found in [https://docs.bokeh.org/en/latest/docs/reference/plotting/figure.html#bokeh.plotting.figure](https://docs.bokeh.org/en/latest/docs/reference/plotting/figure.html#bokeh.plotting.figure)"
   ]
  },
  {
   "cell_type": "code",
   "execution_count": 5,
   "id": "f4215eb3",
   "metadata": {},
   "outputs": [
    {
     "data": {
      "text/html": [
       "\n",
       "  <div id=\"c6d6334c-1a13-4f17-9a8f-37a8b6843437\" data-root-id=\"p1379\" style=\"display: contents;\"></div>\n"
      ]
     },
     "metadata": {},
     "output_type": "display_data"
    },
    {
     "data": {
      "application/javascript": [
       "(function(root) {\n",
       "  function embed_document(root) {\n",
       "  const docs_json = {\"576356be-fb08-48cc-8346-2db23c247748\":{\"version\":\"3.1.0\",\"title\":\"Bokeh Application\",\"defs\":[],\"roots\":[{\"type\":\"object\",\"name\":\"Figure\",\"id\":\"p1379\",\"attributes\":{\"x_range\":{\"type\":\"object\",\"name\":\"DataRange1d\",\"id\":\"p1381\"},\"y_range\":{\"type\":\"object\",\"name\":\"DataRange1d\",\"id\":\"p1380\"},\"x_scale\":{\"type\":\"object\",\"name\":\"LinearScale\",\"id\":\"p1393\"},\"y_scale\":{\"type\":\"object\",\"name\":\"LinearScale\",\"id\":\"p1395\"},\"title\":{\"type\":\"object\",\"name\":\"Title\",\"id\":\"p1382\",\"attributes\":{\"text\":\"Multiple line example\"}},\"renderers\":[{\"type\":\"object\",\"name\":\"GlyphRenderer\",\"id\":\"p1432\",\"attributes\":{\"data_source\":{\"type\":\"object\",\"name\":\"ColumnDataSource\",\"id\":\"p1426\",\"attributes\":{\"selected\":{\"type\":\"object\",\"name\":\"Selection\",\"id\":\"p1428\",\"attributes\":{\"indices\":[],\"line_indices\":[]}},\"selection_policy\":{\"type\":\"object\",\"name\":\"UnionRenderers\",\"id\":\"p1427\"},\"data\":{\"type\":\"map\",\"entries\":[[\"x\",[1,2,3,4,5]],[\"top\",[4,5,5,7,2]]]}}},\"view\":{\"type\":\"object\",\"name\":\"CDSView\",\"id\":\"p1433\",\"attributes\":{\"filter\":{\"type\":\"object\",\"name\":\"AllIndices\",\"id\":\"p1434\"}}},\"glyph\":{\"type\":\"object\",\"name\":\"VBar\",\"id\":\"p1429\",\"attributes\":{\"x\":{\"type\":\"field\",\"field\":\"x\"},\"width\":{\"type\":\"value\",\"value\":0.5},\"top\":{\"type\":\"field\",\"field\":\"top\"},\"line_color\":{\"type\":\"value\",\"value\":\"#bad405\"},\"line_alpha\":{\"type\":\"value\",\"value\":0.2},\"fill_color\":{\"type\":\"value\",\"value\":\"#bad405\"},\"fill_alpha\":{\"type\":\"value\",\"value\":0.2},\"hatch_color\":{\"type\":\"value\",\"value\":\"#bad405\"},\"hatch_alpha\":{\"type\":\"value\",\"value\":0.2}}},\"nonselection_glyph\":{\"type\":\"object\",\"name\":\"VBar\",\"id\":\"p1430\",\"attributes\":{\"x\":{\"type\":\"field\",\"field\":\"x\"},\"width\":{\"type\":\"value\",\"value\":0.5},\"top\":{\"type\":\"field\",\"field\":\"top\"},\"line_color\":{\"type\":\"value\",\"value\":\"#bad405\"},\"line_alpha\":{\"type\":\"value\",\"value\":0.1},\"fill_color\":{\"type\":\"value\",\"value\":\"#bad405\"},\"fill_alpha\":{\"type\":\"value\",\"value\":0.1},\"hatch_color\":{\"type\":\"value\",\"value\":\"#bad405\"},\"hatch_alpha\":{\"type\":\"value\",\"value\":0.1}}},\"muted_glyph\":{\"type\":\"object\",\"name\":\"VBar\",\"id\":\"p1431\",\"attributes\":{\"x\":{\"type\":\"field\",\"field\":\"x\"},\"width\":{\"type\":\"value\",\"value\":0.5},\"top\":{\"type\":\"field\",\"field\":\"top\"},\"line_color\":{\"type\":\"value\",\"value\":\"#bad405\"},\"line_alpha\":{\"type\":\"value\",\"value\":0.2},\"fill_color\":{\"type\":\"value\",\"value\":\"#bad405\"},\"fill_alpha\":{\"type\":\"value\",\"value\":0.2},\"hatch_color\":{\"type\":\"value\",\"value\":\"#bad405\"},\"hatch_alpha\":{\"type\":\"value\",\"value\":0.2}}}}},{\"type\":\"object\",\"name\":\"GlyphRenderer\",\"id\":\"p1443\",\"attributes\":{\"data_source\":{\"type\":\"object\",\"name\":\"ColumnDataSource\",\"id\":\"p1437\",\"attributes\":{\"selected\":{\"type\":\"object\",\"name\":\"Selection\",\"id\":\"p1439\",\"attributes\":{\"indices\":[],\"line_indices\":[]}},\"selection_policy\":{\"type\":\"object\",\"name\":\"UnionRenderers\",\"id\":\"p1438\"},\"data\":{\"type\":\"map\",\"entries\":[[\"x\",[1,2,3,4,5]],[\"y\",[6,7,2,4,5]]]}}},\"view\":{\"type\":\"object\",\"name\":\"CDSView\",\"id\":\"p1444\",\"attributes\":{\"filter\":{\"type\":\"object\",\"name\":\"AllIndices\",\"id\":\"p1445\"}}},\"glyph\":{\"type\":\"object\",\"name\":\"Line\",\"id\":\"p1440\",\"attributes\":{\"x\":{\"type\":\"field\",\"field\":\"x\"},\"y\":{\"type\":\"field\",\"field\":\"y\"},\"line_color\":\"blue\",\"line_width\":2}},\"nonselection_glyph\":{\"type\":\"object\",\"name\":\"Line\",\"id\":\"p1441\",\"attributes\":{\"x\":{\"type\":\"field\",\"field\":\"x\"},\"y\":{\"type\":\"field\",\"field\":\"y\"},\"line_color\":\"blue\",\"line_alpha\":0.1,\"line_width\":2}},\"muted_glyph\":{\"type\":\"object\",\"name\":\"Line\",\"id\":\"p1442\",\"attributes\":{\"x\":{\"type\":\"field\",\"field\":\"x\"},\"y\":{\"type\":\"field\",\"field\":\"y\"},\"line_color\":\"blue\",\"line_alpha\":0.2,\"line_width\":2}}}},{\"type\":\"object\",\"name\":\"GlyphRenderer\",\"id\":\"p1453\",\"attributes\":{\"data_source\":{\"type\":\"object\",\"name\":\"ColumnDataSource\",\"id\":\"p1447\",\"attributes\":{\"selected\":{\"type\":\"object\",\"name\":\"Selection\",\"id\":\"p1449\",\"attributes\":{\"indices\":[],\"line_indices\":[]}},\"selection_policy\":{\"type\":\"object\",\"name\":\"UnionRenderers\",\"id\":\"p1448\"},\"data\":{\"type\":\"map\",\"entries\":[[\"x\",[1,2,3,4,5]],[\"y\",[2,3,4,5,6]]]}}},\"view\":{\"type\":\"object\",\"name\":\"CDSView\",\"id\":\"p1454\",\"attributes\":{\"filter\":{\"type\":\"object\",\"name\":\"AllIndices\",\"id\":\"p1455\"}}},\"glyph\":{\"type\":\"object\",\"name\":\"Line\",\"id\":\"p1450\",\"attributes\":{\"x\":{\"type\":\"field\",\"field\":\"x\"},\"y\":{\"type\":\"field\",\"field\":\"y\"},\"line_color\":\"red\",\"line_width\":2}},\"nonselection_glyph\":{\"type\":\"object\",\"name\":\"Line\",\"id\":\"p1451\",\"attributes\":{\"x\":{\"type\":\"field\",\"field\":\"x\"},\"y\":{\"type\":\"field\",\"field\":\"y\"},\"line_color\":\"red\",\"line_alpha\":0.1,\"line_width\":2}},\"muted_glyph\":{\"type\":\"object\",\"name\":\"Line\",\"id\":\"p1452\",\"attributes\":{\"x\":{\"type\":\"field\",\"field\":\"x\"},\"y\":{\"type\":\"field\",\"field\":\"y\"},\"line_color\":\"red\",\"line_alpha\":0.2,\"line_width\":2}}}},{\"type\":\"object\",\"name\":\"GlyphRenderer\",\"id\":\"p1462\",\"attributes\":{\"data_source\":{\"type\":\"object\",\"name\":\"ColumnDataSource\",\"id\":\"p1456\",\"attributes\":{\"selected\":{\"type\":\"object\",\"name\":\"Selection\",\"id\":\"p1458\",\"attributes\":{\"indices\":[],\"line_indices\":[]}},\"selection_policy\":{\"type\":\"object\",\"name\":\"UnionRenderers\",\"id\":\"p1457\"},\"data\":{\"type\":\"map\",\"entries\":[[\"x\",[1,2,3,4,5]],[\"y\",[4,5,5,7,2]]]}}},\"view\":{\"type\":\"object\",\"name\":\"CDSView\",\"id\":\"p1463\",\"attributes\":{\"filter\":{\"type\":\"object\",\"name\":\"AllIndices\",\"id\":\"p1464\"}}},\"glyph\":{\"type\":\"object\",\"name\":\"Line\",\"id\":\"p1459\",\"attributes\":{\"x\":{\"type\":\"field\",\"field\":\"x\"},\"y\":{\"type\":\"field\",\"field\":\"y\"},\"line_color\":\"green\",\"line_width\":2}},\"nonselection_glyph\":{\"type\":\"object\",\"name\":\"Line\",\"id\":\"p1460\",\"attributes\":{\"x\":{\"type\":\"field\",\"field\":\"x\"},\"y\":{\"type\":\"field\",\"field\":\"y\"},\"line_color\":\"green\",\"line_alpha\":0.1,\"line_width\":2}},\"muted_glyph\":{\"type\":\"object\",\"name\":\"Line\",\"id\":\"p1461\",\"attributes\":{\"x\":{\"type\":\"field\",\"field\":\"x\"},\"y\":{\"type\":\"field\",\"field\":\"y\"},\"line_color\":\"green\",\"line_alpha\":0.2,\"line_width\":2}}}},{\"type\":\"object\",\"name\":\"GlyphRenderer\",\"id\":\"p1472\",\"attributes\":{\"data_source\":{\"type\":\"object\",\"name\":\"ColumnDataSource\",\"id\":\"p1466\",\"attributes\":{\"selected\":{\"type\":\"object\",\"name\":\"Selection\",\"id\":\"p1468\",\"attributes\":{\"indices\":[],\"line_indices\":[]}},\"selection_policy\":{\"type\":\"object\",\"name\":\"UnionRenderers\",\"id\":\"p1467\"},\"data\":{\"type\":\"map\",\"entries\":[[\"x\",[1,2,3,4,5]],[\"y\",[4,5,5,7,2]]]}}},\"view\":{\"type\":\"object\",\"name\":\"CDSView\",\"id\":\"p1473\",\"attributes\":{\"filter\":{\"type\":\"object\",\"name\":\"AllIndices\",\"id\":\"p1474\"}}},\"glyph\":{\"type\":\"object\",\"name\":\"Circle\",\"id\":\"p1469\",\"attributes\":{\"x\":{\"type\":\"field\",\"field\":\"x\"},\"y\":{\"type\":\"field\",\"field\":\"y\"},\"size\":{\"type\":\"value\",\"value\":16},\"line_color\":{\"type\":\"value\",\"value\":\"#bb5566\"},\"fill_color\":{\"type\":\"value\",\"value\":\"#bb5566\"},\"hatch_color\":{\"type\":\"value\",\"value\":\"#bb5566\"}}},\"nonselection_glyph\":{\"type\":\"object\",\"name\":\"Circle\",\"id\":\"p1470\",\"attributes\":{\"x\":{\"type\":\"field\",\"field\":\"x\"},\"y\":{\"type\":\"field\",\"field\":\"y\"},\"size\":{\"type\":\"value\",\"value\":16},\"line_color\":{\"type\":\"value\",\"value\":\"#bb5566\"},\"line_alpha\":{\"type\":\"value\",\"value\":0.1},\"fill_color\":{\"type\":\"value\",\"value\":\"#bb5566\"},\"fill_alpha\":{\"type\":\"value\",\"value\":0.1},\"hatch_color\":{\"type\":\"value\",\"value\":\"#bb5566\"},\"hatch_alpha\":{\"type\":\"value\",\"value\":0.1}}},\"muted_glyph\":{\"type\":\"object\",\"name\":\"Circle\",\"id\":\"p1471\",\"attributes\":{\"x\":{\"type\":\"field\",\"field\":\"x\"},\"y\":{\"type\":\"field\",\"field\":\"y\"},\"size\":{\"type\":\"value\",\"value\":16},\"line_color\":{\"type\":\"value\",\"value\":\"#bb5566\"},\"line_alpha\":{\"type\":\"value\",\"value\":0.2},\"fill_color\":{\"type\":\"value\",\"value\":\"#bb5566\"},\"fill_alpha\":{\"type\":\"value\",\"value\":0.2},\"hatch_color\":{\"type\":\"value\",\"value\":\"#bb5566\"},\"hatch_alpha\":{\"type\":\"value\",\"value\":0.2}}}}}],\"toolbar\":{\"type\":\"object\",\"name\":\"Toolbar\",\"id\":\"p1385\",\"attributes\":{\"tools\":[{\"type\":\"object\",\"name\":\"PanTool\",\"id\":\"p1411\"},{\"type\":\"object\",\"name\":\"WheelZoomTool\",\"id\":\"p1412\"},{\"type\":\"object\",\"name\":\"BoxZoomTool\",\"id\":\"p1413\",\"attributes\":{\"overlay\":{\"type\":\"object\",\"name\":\"BoxAnnotation\",\"id\":\"p1414\",\"attributes\":{\"syncable\":false,\"level\":\"overlay\",\"visible\":false,\"left_units\":\"canvas\",\"right_units\":\"canvas\",\"bottom_units\":\"canvas\",\"top_units\":\"canvas\",\"line_color\":\"black\",\"line_alpha\":1.0,\"line_width\":2,\"line_dash\":[4,4],\"fill_color\":\"lightgrey\",\"fill_alpha\":0.5}}}},{\"type\":\"object\",\"name\":\"SaveTool\",\"id\":\"p1415\"},{\"type\":\"object\",\"name\":\"ResetTool\",\"id\":\"p1416\"},{\"type\":\"object\",\"name\":\"HelpTool\",\"id\":\"p1417\"}]}},\"left\":[{\"type\":\"object\",\"name\":\"LinearAxis\",\"id\":\"p1404\",\"attributes\":{\"ticker\":{\"type\":\"object\",\"name\":\"BasicTicker\",\"id\":\"p1405\",\"attributes\":{\"mantissas\":[1,2,5]}},\"formatter\":{\"type\":\"object\",\"name\":\"BasicTickFormatter\",\"id\":\"p1406\"},\"axis_label\":\"y\",\"major_label_policy\":{\"type\":\"object\",\"name\":\"AllLabels\",\"id\":\"p1407\"}}}],\"below\":[{\"type\":\"object\",\"name\":\"LinearAxis\",\"id\":\"p1397\",\"attributes\":{\"ticker\":{\"type\":\"object\",\"name\":\"BasicTicker\",\"id\":\"p1398\",\"attributes\":{\"mantissas\":[1,2,5]}},\"formatter\":{\"type\":\"object\",\"name\":\"BasicTickFormatter\",\"id\":\"p1399\"},\"axis_label\":\"x\",\"major_label_policy\":{\"type\":\"object\",\"name\":\"AllLabels\",\"id\":\"p1400\"}}}],\"center\":[{\"type\":\"object\",\"name\":\"Grid\",\"id\":\"p1403\",\"attributes\":{\"axis\":{\"id\":\"p1397\"}}},{\"type\":\"object\",\"name\":\"Grid\",\"id\":\"p1410\",\"attributes\":{\"dimension\":1,\"axis\":{\"id\":\"p1404\"}}},{\"type\":\"object\",\"name\":\"Legend\",\"id\":\"p1435\",\"attributes\":{\"items\":[{\"type\":\"object\",\"name\":\"LegendItem\",\"id\":\"p1436\",\"attributes\":{\"label\":{\"type\":\"value\",\"value\":\"Rate\"},\"renderers\":[{\"id\":\"p1432\"},{\"id\":\"p1453\"}]}},{\"type\":\"object\",\"name\":\"LegendItem\",\"id\":\"p1446\",\"attributes\":{\"label\":{\"type\":\"value\",\"value\":\"Temp.\"},\"renderers\":[{\"id\":\"p1443\"}]}},{\"type\":\"object\",\"name\":\"LegendItem\",\"id\":\"p1465\",\"attributes\":{\"label\":{\"type\":\"value\",\"value\":\"Objects\"},\"renderers\":[{\"id\":\"p1462\"},{\"id\":\"p1472\"}]}}]}}]}}],\"callbacks\":{\"type\":\"map\"}}};\n",
       "  const render_items = [{\"docid\":\"576356be-fb08-48cc-8346-2db23c247748\",\"roots\":{\"p1379\":\"c6d6334c-1a13-4f17-9a8f-37a8b6843437\"},\"root_ids\":[\"p1379\"]}];\n",
       "  root.Bokeh.embed.embed_items_notebook(docs_json, render_items);\n",
       "  }\n",
       "  if (root.Bokeh !== undefined) {\n",
       "    embed_document(root);\n",
       "  } else {\n",
       "    let attempts = 0;\n",
       "    const timer = setInterval(function(root) {\n",
       "      if (root.Bokeh !== undefined) {\n",
       "        clearInterval(timer);\n",
       "        embed_document(root);\n",
       "      } else {\n",
       "        attempts++;\n",
       "        if (attempts > 100) {\n",
       "          clearInterval(timer);\n",
       "          console.log(\"Bokeh: ERROR: Unable to run BokehJS code because BokehJS library is missing\");\n",
       "        }\n",
       "      }\n",
       "    }, 10, root)\n",
       "  }\n",
       "})(window);"
      ],
      "application/vnd.bokehjs_exec.v0+json": ""
     },
     "metadata": {
      "application/vnd.bokehjs_exec.v0+json": {
       "id": "p1379"
      }
     },
     "output_type": "display_data"
    }
   ],
   "source": [
    "# create a new plot with a title and axis labels\n",
    "p = figure(title=\"Multiple line example\", x_axis_label=\"x\", y_axis_label=\"y\")\n",
    "\n",
    "# add multiple renderers\n",
    "p.vbar(x=x, top=y3, legend_label=\"Rate\", width=0.5, bottom=0, color=\"#bad405\", alpha=0.2)\n",
    "p.line(x, y1, legend_label=\"Temp.\", color=\"blue\", line_width=2)\n",
    "p.line(x, y2, legend_label=\"Rate\", color=\"red\", line_width=2)\n",
    "p.line(x, y3, legend_label=\"Objects\", color=\"green\", line_width=2)\n",
    "p.circle(x, y3, legend_label=\"Objects\", color=\"#bb5566\", size=16)\n",
    "\n",
    "\n",
    "# show the results\n",
    "show(p)\n"
   ]
  },
  {
   "cell_type": "code",
   "execution_count": 6,
   "id": "5eee4c5b",
   "metadata": {
    "scrolled": true
   },
   "outputs": [
    {
     "data": {
      "text/html": [
       "\n",
       "  <div id=\"e21ada41-e6ef-480e-9ad4-488c3b26ac3d\" data-root-id=\"p1718\" style=\"display: contents;\"></div>\n"
      ]
     },
     "metadata": {},
     "output_type": "display_data"
    },
    {
     "data": {
      "application/javascript": [
       "(function(root) {\n",
       "  function embed_document(root) {\n",
       "  const docs_json = {\"d6ba4810-48e3-4e8b-ae33-5991abab10e7\":{\"version\":\"3.1.0\",\"title\":\"Bokeh Application\",\"defs\":[],\"roots\":[{\"type\":\"object\",\"name\":\"Figure\",\"id\":\"p1718\",\"attributes\":{\"height\":350,\"x_range\":{\"type\":\"object\",\"name\":\"FactorRange\",\"id\":\"p1728\",\"attributes\":{\"factors\":[\"Apples\",\"Pears\",\"Nectarines\",\"Plums\",\"Grapes\",\"Strawberries\"]}},\"y_range\":{\"type\":\"object\",\"name\":\"DataRange1d\",\"id\":\"p1720\",\"attributes\":{\"start\":0}},\"x_scale\":{\"type\":\"object\",\"name\":\"CategoricalScale\",\"id\":\"p1732\"},\"y_scale\":{\"type\":\"object\",\"name\":\"LinearScale\",\"id\":\"p1734\"},\"title\":{\"type\":\"object\",\"name\":\"Title\",\"id\":\"p1721\",\"attributes\":{\"text\":\"Fruit Counts\"}},\"renderers\":[{\"type\":\"object\",\"name\":\"GlyphRenderer\",\"id\":\"p1756\",\"attributes\":{\"data_source\":{\"type\":\"object\",\"name\":\"ColumnDataSource\",\"id\":\"p1750\",\"attributes\":{\"selected\":{\"type\":\"object\",\"name\":\"Selection\",\"id\":\"p1752\",\"attributes\":{\"indices\":[],\"line_indices\":[]}},\"selection_policy\":{\"type\":\"object\",\"name\":\"UnionRenderers\",\"id\":\"p1751\"},\"data\":{\"type\":\"map\",\"entries\":[[\"x\",[\"Apples\",\"Pears\",\"Nectarines\",\"Plums\",\"Grapes\",\"Strawberries\"]],[\"top\",[5,3,4,2,4,6]]]}}},\"view\":{\"type\":\"object\",\"name\":\"CDSView\",\"id\":\"p1757\",\"attributes\":{\"filter\":{\"type\":\"object\",\"name\":\"AllIndices\",\"id\":\"p1758\"}}},\"glyph\":{\"type\":\"object\",\"name\":\"VBar\",\"id\":\"p1753\",\"attributes\":{\"x\":{\"type\":\"field\",\"field\":\"x\"},\"width\":{\"type\":\"value\",\"value\":0.9},\"top\":{\"type\":\"field\",\"field\":\"top\"},\"line_color\":{\"type\":\"value\",\"value\":\"#1f77b4\"},\"fill_color\":{\"type\":\"value\",\"value\":\"#1f77b4\"}}},\"nonselection_glyph\":{\"type\":\"object\",\"name\":\"VBar\",\"id\":\"p1754\",\"attributes\":{\"x\":{\"type\":\"field\",\"field\":\"x\"},\"width\":{\"type\":\"value\",\"value\":0.9},\"top\":{\"type\":\"field\",\"field\":\"top\"},\"line_color\":{\"type\":\"value\",\"value\":\"#1f77b4\"},\"line_alpha\":{\"type\":\"value\",\"value\":0.1},\"fill_color\":{\"type\":\"value\",\"value\":\"#1f77b4\"},\"fill_alpha\":{\"type\":\"value\",\"value\":0.1},\"hatch_alpha\":{\"type\":\"value\",\"value\":0.1}}},\"muted_glyph\":{\"type\":\"object\",\"name\":\"VBar\",\"id\":\"p1755\",\"attributes\":{\"x\":{\"type\":\"field\",\"field\":\"x\"},\"width\":{\"type\":\"value\",\"value\":0.9},\"top\":{\"type\":\"field\",\"field\":\"top\"},\"line_color\":{\"type\":\"value\",\"value\":\"#1f77b4\"},\"line_alpha\":{\"type\":\"value\",\"value\":0.2},\"fill_color\":{\"type\":\"value\",\"value\":\"#1f77b4\"},\"fill_alpha\":{\"type\":\"value\",\"value\":0.2},\"hatch_alpha\":{\"type\":\"value\",\"value\":0.2}}}}}],\"toolbar\":{\"type\":\"object\",\"name\":\"Toolbar\",\"id\":\"p1724\"},\"toolbar_location\":null,\"left\":[{\"type\":\"object\",\"name\":\"LinearAxis\",\"id\":\"p1742\",\"attributes\":{\"ticker\":{\"type\":\"object\",\"name\":\"BasicTicker\",\"id\":\"p1743\",\"attributes\":{\"mantissas\":[1,2,5]}},\"formatter\":{\"type\":\"object\",\"name\":\"BasicTickFormatter\",\"id\":\"p1744\"},\"major_label_policy\":{\"type\":\"object\",\"name\":\"AllLabels\",\"id\":\"p1745\"}}}],\"below\":[{\"type\":\"object\",\"name\":\"CategoricalAxis\",\"id\":\"p1736\",\"attributes\":{\"ticker\":{\"type\":\"object\",\"name\":\"CategoricalTicker\",\"id\":\"p1737\"},\"formatter\":{\"type\":\"object\",\"name\":\"CategoricalTickFormatter\",\"id\":\"p1738\"},\"major_label_policy\":{\"type\":\"object\",\"name\":\"AllLabels\",\"id\":\"p1739\"}}}],\"center\":[{\"type\":\"object\",\"name\":\"Grid\",\"id\":\"p1741\",\"attributes\":{\"axis\":{\"id\":\"p1736\"},\"grid_line_color\":null}},{\"type\":\"object\",\"name\":\"Grid\",\"id\":\"p1748\",\"attributes\":{\"dimension\":1,\"axis\":{\"id\":\"p1742\"}}}]}}],\"callbacks\":{\"type\":\"map\"}}};\n",
       "  const render_items = [{\"docid\":\"d6ba4810-48e3-4e8b-ae33-5991abab10e7\",\"roots\":{\"p1718\":\"e21ada41-e6ef-480e-9ad4-488c3b26ac3d\"},\"root_ids\":[\"p1718\"]}];\n",
       "  root.Bokeh.embed.embed_items_notebook(docs_json, render_items);\n",
       "  }\n",
       "  if (root.Bokeh !== undefined) {\n",
       "    embed_document(root);\n",
       "  } else {\n",
       "    let attempts = 0;\n",
       "    const timer = setInterval(function(root) {\n",
       "      if (root.Bokeh !== undefined) {\n",
       "        clearInterval(timer);\n",
       "        embed_document(root);\n",
       "      } else {\n",
       "        attempts++;\n",
       "        if (attempts > 100) {\n",
       "          clearInterval(timer);\n",
       "          console.log(\"Bokeh: ERROR: Unable to run BokehJS code because BokehJS library is missing\");\n",
       "        }\n",
       "      }\n",
       "    }, 10, root)\n",
       "  }\n",
       "})(window);"
      ],
      "application/vnd.bokehjs_exec.v0+json": ""
     },
     "metadata": {
      "application/vnd.bokehjs_exec.v0+json": {
       "id": "p1718"
      }
     },
     "output_type": "display_data"
    }
   ],
   "source": [
    "fruits = ['Apples', 'Pears', 'Nectarines', 'Plums', 'Grapes', 'Strawberries']\n",
    "counts = [5, 3, 4, 2, 4, 6]\n",
    "\n",
    "p = figure(x_range=fruits, height=350, title=\"Fruit Counts\",\n",
    "           toolbar_location=None, tools=\"\")\n",
    "\n",
    "p.vbar(x=fruits, top=counts, width=0.9)\n",
    "\n",
    "p.xgrid.grid_line_color = None\n",
    "p.y_range.start = 0\n",
    "\n",
    "show(p)"
   ]
  },
  {
   "cell_type": "markdown",
   "id": "5ad22ef5",
   "metadata": {},
   "source": [
    "## Customizing glyphs"
   ]
  },
  {
   "cell_type": "markdown",
   "id": "8bbcb607",
   "metadata": {},
   "source": [
    "The circle() function, for example, lets you define aspects like the color or diameter of the circles:\n",
    "\n",
    " * fill_color: the fill color of the circles\n",
    " * fill_alpha: the transparency of the fill color (any value between 0 and 1)\n",
    " * line_color: the fill color of the circles’ outlines\n",
    " * size: the size of the circles (in screen units or data units)\n",
    " * legend_label: legend entry for the circles\n",
    "\n",
    "\n",
    "Btw, color property is the same as setting fill_color and line_color to yellow individually.\n",
    "\n",
    "You can specify colors in several ways. For example:\n",
    " * Use one of the named CSS colors (for example, \"firebrick\")\n",
    " * Use hexadecimal values, prefaced with a # (for example \"#00ff00\")\n",
    " * Use a 3-tuple for RGB colors (for example, (100, 100, 255)\n",
    " * Use a 4-tuple for RGBA colors (for example (100, 100, 255, 0.5))"
   ]
  },
  {
   "cell_type": "markdown",
   "id": "8d69a327",
   "metadata": {},
   "source": [
    "### Exercise:\n",
    "Create circles with the legend label “Objects” and make the circles appear slightly transparent with a red fill color and blue outlines:"
   ]
  },
  {
   "cell_type": "code",
   "execution_count": 7,
   "id": "763551c9",
   "metadata": {},
   "outputs": [
    {
     "data": {
      "text/html": [
       "\n",
       "  <div id=\"d33639db-c7f8-4d8b-b7e3-82fbd50aabd1\" data-root-id=\"p1900\" style=\"display: contents;\"></div>\n"
      ]
     },
     "metadata": {},
     "output_type": "display_data"
    },
    {
     "data": {
      "application/javascript": [
       "(function(root) {\n",
       "  function embed_document(root) {\n",
       "  const docs_json = {\"e76a4858-3e5d-4378-bb74-1feee247a53f\":{\"version\":\"3.1.0\",\"title\":\"Bokeh Application\",\"defs\":[],\"roots\":[{\"type\":\"object\",\"name\":\"Figure\",\"id\":\"p1900\",\"attributes\":{\"x_range\":{\"type\":\"object\",\"name\":\"DataRange1d\",\"id\":\"p1902\"},\"y_range\":{\"type\":\"object\",\"name\":\"DataRange1d\",\"id\":\"p1901\"},\"x_scale\":{\"type\":\"object\",\"name\":\"LinearScale\",\"id\":\"p1914\"},\"y_scale\":{\"type\":\"object\",\"name\":\"LinearScale\",\"id\":\"p1916\"},\"title\":{\"type\":\"object\",\"name\":\"Title\",\"id\":\"p1903\",\"attributes\":{\"text\":\"Glyphs properties example\"}},\"renderers\":[{\"type\":\"object\",\"name\":\"GlyphRenderer\",\"id\":\"p1953\",\"attributes\":{\"data_source\":{\"type\":\"object\",\"name\":\"ColumnDataSource\",\"id\":\"p1947\",\"attributes\":{\"selected\":{\"type\":\"object\",\"name\":\"Selection\",\"id\":\"p1949\",\"attributes\":{\"indices\":[],\"line_indices\":[]}},\"selection_policy\":{\"type\":\"object\",\"name\":\"UnionRenderers\",\"id\":\"p1948\"},\"data\":{\"type\":\"map\",\"entries\":[[\"x\",[1,2,3,4,5]],[\"y\",[6,7,2,4,5]]]}}},\"view\":{\"type\":\"object\",\"name\":\"CDSView\",\"id\":\"p1954\",\"attributes\":{\"filter\":{\"type\":\"object\",\"name\":\"AllIndices\",\"id\":\"p1955\"}}},\"glyph\":{\"type\":\"object\",\"name\":\"Circle\",\"id\":\"p1950\",\"attributes\":{\"x\":{\"type\":\"field\",\"field\":\"x\"},\"y\":{\"type\":\"field\",\"field\":\"y\"},\"size\":{\"type\":\"value\",\"value\":80},\"line_color\":{\"type\":\"value\",\"value\":\"blue\"},\"fill_color\":{\"type\":\"value\",\"value\":\"red\"},\"fill_alpha\":{\"type\":\"value\",\"value\":0.5}}},\"nonselection_glyph\":{\"type\":\"object\",\"name\":\"Circle\",\"id\":\"p1951\",\"attributes\":{\"x\":{\"type\":\"field\",\"field\":\"x\"},\"y\":{\"type\":\"field\",\"field\":\"y\"},\"size\":{\"type\":\"value\",\"value\":80},\"line_color\":{\"type\":\"value\",\"value\":\"blue\"},\"line_alpha\":{\"type\":\"value\",\"value\":0.1},\"fill_color\":{\"type\":\"value\",\"value\":\"red\"},\"fill_alpha\":{\"type\":\"value\",\"value\":0.1},\"hatch_alpha\":{\"type\":\"value\",\"value\":0.1}}},\"muted_glyph\":{\"type\":\"object\",\"name\":\"Circle\",\"id\":\"p1952\",\"attributes\":{\"x\":{\"type\":\"field\",\"field\":\"x\"},\"y\":{\"type\":\"field\",\"field\":\"y\"},\"size\":{\"type\":\"value\",\"value\":80},\"line_color\":{\"type\":\"value\",\"value\":\"blue\"},\"line_alpha\":{\"type\":\"value\",\"value\":0.2},\"fill_color\":{\"type\":\"value\",\"value\":\"red\"},\"fill_alpha\":{\"type\":\"value\",\"value\":0.2},\"hatch_alpha\":{\"type\":\"value\",\"value\":0.2}}}}}],\"toolbar\":{\"type\":\"object\",\"name\":\"Toolbar\",\"id\":\"p1906\",\"attributes\":{\"tools\":[{\"type\":\"object\",\"name\":\"PanTool\",\"id\":\"p1932\"},{\"type\":\"object\",\"name\":\"WheelZoomTool\",\"id\":\"p1933\"},{\"type\":\"object\",\"name\":\"BoxZoomTool\",\"id\":\"p1934\",\"attributes\":{\"overlay\":{\"type\":\"object\",\"name\":\"BoxAnnotation\",\"id\":\"p1935\",\"attributes\":{\"syncable\":false,\"level\":\"overlay\",\"visible\":false,\"left_units\":\"canvas\",\"right_units\":\"canvas\",\"bottom_units\":\"canvas\",\"top_units\":\"canvas\",\"line_color\":\"black\",\"line_alpha\":1.0,\"line_width\":2,\"line_dash\":[4,4],\"fill_color\":\"lightgrey\",\"fill_alpha\":0.5}}}},{\"type\":\"object\",\"name\":\"SaveTool\",\"id\":\"p1936\"},{\"type\":\"object\",\"name\":\"ResetTool\",\"id\":\"p1937\"},{\"type\":\"object\",\"name\":\"HelpTool\",\"id\":\"p1938\"}]}},\"left\":[{\"type\":\"object\",\"name\":\"LinearAxis\",\"id\":\"p1925\",\"attributes\":{\"ticker\":{\"type\":\"object\",\"name\":\"BasicTicker\",\"id\":\"p1926\",\"attributes\":{\"mantissas\":[1,2,5]}},\"formatter\":{\"type\":\"object\",\"name\":\"BasicTickFormatter\",\"id\":\"p1927\"},\"axis_label\":\"y\",\"major_label_policy\":{\"type\":\"object\",\"name\":\"AllLabels\",\"id\":\"p1928\"}}}],\"below\":[{\"type\":\"object\",\"name\":\"LinearAxis\",\"id\":\"p1918\",\"attributes\":{\"ticker\":{\"type\":\"object\",\"name\":\"BasicTicker\",\"id\":\"p1919\",\"attributes\":{\"mantissas\":[1,2,5]}},\"formatter\":{\"type\":\"object\",\"name\":\"BasicTickFormatter\",\"id\":\"p1920\"},\"axis_label\":\"x\",\"major_label_policy\":{\"type\":\"object\",\"name\":\"AllLabels\",\"id\":\"p1921\"}}}],\"center\":[{\"type\":\"object\",\"name\":\"Grid\",\"id\":\"p1924\",\"attributes\":{\"axis\":{\"id\":\"p1918\"}}},{\"type\":\"object\",\"name\":\"Grid\",\"id\":\"p1931\",\"attributes\":{\"dimension\":1,\"axis\":{\"id\":\"p1925\"}}},{\"type\":\"object\",\"name\":\"Legend\",\"id\":\"p1956\",\"attributes\":{\"items\":[{\"type\":\"object\",\"name\":\"LegendItem\",\"id\":\"p1957\",\"attributes\":{\"label\":{\"type\":\"value\",\"value\":\"Objects\"},\"renderers\":[{\"id\":\"p1953\"}]}}]}}]}}],\"callbacks\":{\"type\":\"map\"}}};\n",
       "  const render_items = [{\"docid\":\"e76a4858-3e5d-4378-bb74-1feee247a53f\",\"roots\":{\"p1900\":\"d33639db-c7f8-4d8b-b7e3-82fbd50aabd1\"},\"root_ids\":[\"p1900\"]}];\n",
       "  root.Bokeh.embed.embed_items_notebook(docs_json, render_items);\n",
       "  }\n",
       "  if (root.Bokeh !== undefined) {\n",
       "    embed_document(root);\n",
       "  } else {\n",
       "    let attempts = 0;\n",
       "    const timer = setInterval(function(root) {\n",
       "      if (root.Bokeh !== undefined) {\n",
       "        clearInterval(timer);\n",
       "        embed_document(root);\n",
       "      } else {\n",
       "        attempts++;\n",
       "        if (attempts > 100) {\n",
       "          clearInterval(timer);\n",
       "          console.log(\"Bokeh: ERROR: Unable to run BokehJS code because BokehJS library is missing\");\n",
       "        }\n",
       "      }\n",
       "    }, 10, root)\n",
       "  }\n",
       "})(window);"
      ],
      "application/vnd.bokehjs_exec.v0+json": ""
     },
     "metadata": {
      "application/vnd.bokehjs_exec.v0+json": {
       "id": "p1900"
      }
     },
     "output_type": "display_data"
    }
   ],
   "source": [
    "# create a new plot with a title and axis labels\n",
    "p = figure(title=\"Glyphs properties example\", x_axis_label=\"x\", y_axis_label=\"y\")\n",
    "\n",
    "# add circle renderer with additional arguments\n",
    "circle = p.circle(\n",
    "    x,\n",
    "    y,\n",
    "    legend_label=\"Objects\",\n",
    "    fill_color=\"red\",\n",
    "    fill_alpha=0.5,\n",
    "    line_color=\"blue\",\n",
    "    size=80,\n",
    ")\n",
    "\n",
    "### change color of previously created object's glyph\n",
    "## glyph = circle.glyph\n",
    "## glyph.fill_color = \"blue\"\n",
    "\n",
    "# show the results\n",
    "show(p)"
   ]
  },
  {
   "cell_type": "markdown",
   "id": "bb4b2ef1",
   "metadata": {},
   "source": [
    "For more information about the various visual properties, see [Styling glyphs](https://docs.bokeh.org/en/latest/docs/user_guide/styling/visuals.html#ug-styling-visuals)"
   ]
  },
  {
   "cell_type": "markdown",
   "id": "1e81b4cc",
   "metadata": {},
   "source": [
    "## Adding and styling a legend\n",
    "\n",
    "Bokeh automatically adds a legend to your plot if you include the legend_label attribute when calling the renderer function. "
   ]
  },
  {
   "cell_type": "code",
   "execution_count": 8,
   "id": "72870dc6",
   "metadata": {},
   "outputs": [
    {
     "data": {
      "text/html": [
       "\n",
       "  <div id=\"cf14688b-a038-48a5-be0d-0f033166836b\" data-root-id=\"p2117\" style=\"display: contents;\"></div>\n"
      ]
     },
     "metadata": {},
     "output_type": "display_data"
    },
    {
     "data": {
      "application/javascript": [
       "(function(root) {\n",
       "  function embed_document(root) {\n",
       "  const docs_json = {\"36f81e59-6b25-4e39-bd3c-771ccac0c4f8\":{\"version\":\"3.1.0\",\"title\":\"Bokeh Application\",\"defs\":[],\"roots\":[{\"type\":\"object\",\"name\":\"Figure\",\"id\":\"p2117\",\"attributes\":{\"x_range\":{\"type\":\"object\",\"name\":\"DataRange1d\",\"id\":\"p2119\"},\"y_range\":{\"type\":\"object\",\"name\":\"DataRange1d\",\"id\":\"p2118\"},\"x_scale\":{\"type\":\"object\",\"name\":\"LinearScale\",\"id\":\"p2131\"},\"y_scale\":{\"type\":\"object\",\"name\":\"LinearScale\",\"id\":\"p2133\"},\"title\":{\"type\":\"object\",\"name\":\"Title\",\"id\":\"p2120\",\"attributes\":{\"text\":\"Legend example\"}},\"renderers\":[{\"type\":\"object\",\"name\":\"GlyphRenderer\",\"id\":\"p2170\",\"attributes\":{\"data_source\":{\"type\":\"object\",\"name\":\"ColumnDataSource\",\"id\":\"p2164\",\"attributes\":{\"selected\":{\"type\":\"object\",\"name\":\"Selection\",\"id\":\"p2166\",\"attributes\":{\"indices\":[],\"line_indices\":[]}},\"selection_policy\":{\"type\":\"object\",\"name\":\"UnionRenderers\",\"id\":\"p2165\"},\"data\":{\"type\":\"map\",\"entries\":[[\"x\",[1,2,3,4,5]],[\"y\",[6,7,2,4,5]]]}}},\"view\":{\"type\":\"object\",\"name\":\"CDSView\",\"id\":\"p2171\",\"attributes\":{\"filter\":{\"type\":\"object\",\"name\":\"AllIndices\",\"id\":\"p2172\"}}},\"glyph\":{\"type\":\"object\",\"name\":\"Line\",\"id\":\"p2167\",\"attributes\":{\"x\":{\"type\":\"field\",\"field\":\"x\"},\"y\":{\"type\":\"field\",\"field\":\"y\"},\"line_color\":\"blue\",\"line_width\":2}},\"nonselection_glyph\":{\"type\":\"object\",\"name\":\"Line\",\"id\":\"p2168\",\"attributes\":{\"x\":{\"type\":\"field\",\"field\":\"x\"},\"y\":{\"type\":\"field\",\"field\":\"y\"},\"line_color\":\"blue\",\"line_alpha\":0.1,\"line_width\":2}},\"muted_glyph\":{\"type\":\"object\",\"name\":\"Line\",\"id\":\"p2169\",\"attributes\":{\"x\":{\"type\":\"field\",\"field\":\"x\"},\"y\":{\"type\":\"field\",\"field\":\"y\"},\"line_color\":\"blue\",\"line_alpha\":0.2,\"line_width\":2}}}},{\"type\":\"object\",\"name\":\"GlyphRenderer\",\"id\":\"p2181\",\"attributes\":{\"data_source\":{\"type\":\"object\",\"name\":\"ColumnDataSource\",\"id\":\"p2175\",\"attributes\":{\"selected\":{\"type\":\"object\",\"name\":\"Selection\",\"id\":\"p2177\",\"attributes\":{\"indices\":[],\"line_indices\":[]}},\"selection_policy\":{\"type\":\"object\",\"name\":\"UnionRenderers\",\"id\":\"p2176\"},\"data\":{\"type\":\"map\",\"entries\":[[\"x\",[1,2,3,4,5]],[\"y\",[2,3,4,5,6]]]}}},\"view\":{\"type\":\"object\",\"name\":\"CDSView\",\"id\":\"p2182\",\"attributes\":{\"filter\":{\"type\":\"object\",\"name\":\"AllIndices\",\"id\":\"p2183\"}}},\"glyph\":{\"type\":\"object\",\"name\":\"Circle\",\"id\":\"p2178\",\"attributes\":{\"x\":{\"type\":\"field\",\"field\":\"x\"},\"y\":{\"type\":\"field\",\"field\":\"y\"},\"size\":{\"type\":\"value\",\"value\":80},\"line_color\":{\"type\":\"value\",\"value\":\"blue\"},\"fill_color\":{\"type\":\"value\",\"value\":\"red\"},\"fill_alpha\":{\"type\":\"value\",\"value\":0.5}}},\"nonselection_glyph\":{\"type\":\"object\",\"name\":\"Circle\",\"id\":\"p2179\",\"attributes\":{\"x\":{\"type\":\"field\",\"field\":\"x\"},\"y\":{\"type\":\"field\",\"field\":\"y\"},\"size\":{\"type\":\"value\",\"value\":80},\"line_color\":{\"type\":\"value\",\"value\":\"blue\"},\"line_alpha\":{\"type\":\"value\",\"value\":0.1},\"fill_color\":{\"type\":\"value\",\"value\":\"red\"},\"fill_alpha\":{\"type\":\"value\",\"value\":0.1},\"hatch_alpha\":{\"type\":\"value\",\"value\":0.1}}},\"muted_glyph\":{\"type\":\"object\",\"name\":\"Circle\",\"id\":\"p2180\",\"attributes\":{\"x\":{\"type\":\"field\",\"field\":\"x\"},\"y\":{\"type\":\"field\",\"field\":\"y\"},\"size\":{\"type\":\"value\",\"value\":80},\"line_color\":{\"type\":\"value\",\"value\":\"blue\"},\"line_alpha\":{\"type\":\"value\",\"value\":0.2},\"fill_color\":{\"type\":\"value\",\"value\":\"red\"},\"fill_alpha\":{\"type\":\"value\",\"value\":0.2},\"hatch_alpha\":{\"type\":\"value\",\"value\":0.2}}}}}],\"toolbar\":{\"type\":\"object\",\"name\":\"Toolbar\",\"id\":\"p2123\",\"attributes\":{\"tools\":[{\"type\":\"object\",\"name\":\"PanTool\",\"id\":\"p2149\"},{\"type\":\"object\",\"name\":\"WheelZoomTool\",\"id\":\"p2150\"},{\"type\":\"object\",\"name\":\"BoxZoomTool\",\"id\":\"p2151\",\"attributes\":{\"overlay\":{\"type\":\"object\",\"name\":\"BoxAnnotation\",\"id\":\"p2152\",\"attributes\":{\"syncable\":false,\"level\":\"overlay\",\"visible\":false,\"left_units\":\"canvas\",\"right_units\":\"canvas\",\"bottom_units\":\"canvas\",\"top_units\":\"canvas\",\"line_color\":\"black\",\"line_alpha\":1.0,\"line_width\":2,\"line_dash\":[4,4],\"fill_color\":\"lightgrey\",\"fill_alpha\":0.5}}}},{\"type\":\"object\",\"name\":\"SaveTool\",\"id\":\"p2153\"},{\"type\":\"object\",\"name\":\"ResetTool\",\"id\":\"p2154\"},{\"type\":\"object\",\"name\":\"HelpTool\",\"id\":\"p2155\"}]}},\"left\":[{\"type\":\"object\",\"name\":\"LinearAxis\",\"id\":\"p2142\",\"attributes\":{\"ticker\":{\"type\":\"object\",\"name\":\"BasicTicker\",\"id\":\"p2143\",\"attributes\":{\"mantissas\":[1,2,5]}},\"formatter\":{\"type\":\"object\",\"name\":\"BasicTickFormatter\",\"id\":\"p2144\"},\"major_label_policy\":{\"type\":\"object\",\"name\":\"AllLabels\",\"id\":\"p2145\"}}}],\"below\":[{\"type\":\"object\",\"name\":\"LinearAxis\",\"id\":\"p2135\",\"attributes\":{\"ticker\":{\"type\":\"object\",\"name\":\"BasicTicker\",\"id\":\"p2136\",\"attributes\":{\"mantissas\":[1,2,5]}},\"formatter\":{\"type\":\"object\",\"name\":\"BasicTickFormatter\",\"id\":\"p2137\"},\"major_label_policy\":{\"type\":\"object\",\"name\":\"AllLabels\",\"id\":\"p2138\"}}}],\"center\":[{\"type\":\"object\",\"name\":\"Grid\",\"id\":\"p2141\",\"attributes\":{\"axis\":{\"id\":\"p2135\"}}},{\"type\":\"object\",\"name\":\"Grid\",\"id\":\"p2148\",\"attributes\":{\"dimension\":1,\"axis\":{\"id\":\"p2142\"}}},{\"type\":\"object\",\"name\":\"Legend\",\"id\":\"p2173\",\"attributes\":{\"location\":\"top_left\",\"title\":\"Obervations\",\"border_line_color\":\"navy\",\"border_line_alpha\":0.8,\"border_line_width\":3,\"background_fill_color\":\"navy\",\"background_fill_alpha\":0.2,\"label_text_color\":\"navy\",\"label_text_font\":\"times\",\"label_text_font_style\":\"italic\",\"items\":[{\"type\":\"object\",\"name\":\"LegendItem\",\"id\":\"p2174\",\"attributes\":{\"label\":{\"type\":\"value\",\"value\":\"Temp.\"},\"renderers\":[{\"id\":\"p2170\"}]}},{\"type\":\"object\",\"name\":\"LegendItem\",\"id\":\"p2184\",\"attributes\":{\"label\":{\"type\":\"value\",\"value\":\"Objects\"},\"renderers\":[{\"id\":\"p2181\"}]}}]}}]}}],\"callbacks\":{\"type\":\"map\"}}};\n",
       "  const render_items = [{\"docid\":\"36f81e59-6b25-4e39-bd3c-771ccac0c4f8\",\"roots\":{\"p2117\":\"cf14688b-a038-48a5-be0d-0f033166836b\"},\"root_ids\":[\"p2117\"]}];\n",
       "  root.Bokeh.embed.embed_items_notebook(docs_json, render_items);\n",
       "  }\n",
       "  if (root.Bokeh !== undefined) {\n",
       "    embed_document(root);\n",
       "  } else {\n",
       "    let attempts = 0;\n",
       "    const timer = setInterval(function(root) {\n",
       "      if (root.Bokeh !== undefined) {\n",
       "        clearInterval(timer);\n",
       "        embed_document(root);\n",
       "      } else {\n",
       "        attempts++;\n",
       "        if (attempts > 100) {\n",
       "          clearInterval(timer);\n",
       "          console.log(\"Bokeh: ERROR: Unable to run BokehJS code because BokehJS library is missing\");\n",
       "        }\n",
       "      }\n",
       "    }, 10, root)\n",
       "  }\n",
       "})(window);"
      ],
      "application/vnd.bokehjs_exec.v0+json": ""
     },
     "metadata": {
      "application/vnd.bokehjs_exec.v0+json": {
       "id": "p2117"
      }
     },
     "output_type": "display_data"
    }
   ],
   "source": [
    "# create a new plot\n",
    "p = figure(title=\"Legend example\")\n",
    "\n",
    "# add circle renderer with legend_label arguments\n",
    "line = p.line(x, y, legend_label=\"Temp.\", line_color=\"blue\", line_width=2)\n",
    "circle = p.circle(\n",
    "    x,\n",
    "    y2,\n",
    "    legend_label=\"Objects\",\n",
    "    fill_color=\"red\",\n",
    "    fill_alpha=0.5,\n",
    "    line_color=\"blue\",\n",
    "    size=80,\n",
    ")\n",
    "\n",
    "# display legend in top left corner (default is top right corner)\n",
    "p.legend.location = \"top_left\"\n",
    "\n",
    "# add a title to your legend\n",
    "p.legend.title = \"Obervations\"\n",
    "\n",
    "# change appearance of legend text\n",
    "p.legend.label_text_font = \"times\"\n",
    "p.legend.label_text_font_style = \"italic\"\n",
    "p.legend.label_text_color = \"navy\"\n",
    "\n",
    "# change border and background of legend\n",
    "p.legend.border_line_width = 3\n",
    "p.legend.border_line_color = \"navy\"\n",
    "p.legend.border_line_alpha = 0.8\n",
    "p.legend.background_fill_color = \"navy\"\n",
    "p.legend.background_fill_alpha = 0.2\n",
    "\n",
    "# show the results\n",
    "show(p)"
   ]
  },
  {
   "cell_type": "markdown",
   "id": "037561c3",
   "metadata": {},
   "source": [
    "## Customizing headlines\n",
    "\n",
    "There are various ways to style the text for your headline. For example:"
   ]
  },
  {
   "cell_type": "code",
   "execution_count": 9,
   "id": "97409462",
   "metadata": {},
   "outputs": [
    {
     "data": {
      "text/html": [
       "\n",
       "  <div id=\"863ddec4-5b73-4b69-847c-d31a90598c3f\" data-root-id=\"p2390\" style=\"display: contents;\"></div>\n"
      ]
     },
     "metadata": {},
     "output_type": "display_data"
    },
    {
     "data": {
      "application/javascript": [
       "(function(root) {\n",
       "  function embed_document(root) {\n",
       "  const docs_json = {\"896600fe-cc72-418f-9b4d-07c684a1526c\":{\"version\":\"3.1.0\",\"title\":\"Bokeh Application\",\"defs\":[],\"roots\":[{\"type\":\"object\",\"name\":\"Figure\",\"id\":\"p2390\",\"attributes\":{\"x_range\":{\"type\":\"object\",\"name\":\"DataRange1d\",\"id\":\"p2392\"},\"y_range\":{\"type\":\"object\",\"name\":\"DataRange1d\",\"id\":\"p2391\"},\"x_scale\":{\"type\":\"object\",\"name\":\"LinearScale\",\"id\":\"p2404\"},\"y_scale\":{\"type\":\"object\",\"name\":\"LinearScale\",\"id\":\"p2406\"},\"title\":{\"type\":\"object\",\"name\":\"Title\",\"id\":\"p2393\",\"attributes\":{\"text\":\"Changing headline text example\",\"text_color\":\"white\",\"text_font_size\":\"25px\",\"background_fill_color\":\"darkgrey\",\"align\":\"right\"}},\"title_location\":\"left\",\"renderers\":[{\"type\":\"object\",\"name\":\"GlyphRenderer\",\"id\":\"p2443\",\"attributes\":{\"data_source\":{\"type\":\"object\",\"name\":\"ColumnDataSource\",\"id\":\"p2437\",\"attributes\":{\"selected\":{\"type\":\"object\",\"name\":\"Selection\",\"id\":\"p2439\",\"attributes\":{\"indices\":[],\"line_indices\":[]}},\"selection_policy\":{\"type\":\"object\",\"name\":\"UnionRenderers\",\"id\":\"p2438\"},\"data\":{\"type\":\"map\",\"entries\":[[\"x\",[1,2,3,4,5]],[\"y\",[6,7,2,4,5]]]}}},\"view\":{\"type\":\"object\",\"name\":\"CDSView\",\"id\":\"p2444\",\"attributes\":{\"filter\":{\"type\":\"object\",\"name\":\"AllIndices\",\"id\":\"p2445\"}}},\"glyph\":{\"type\":\"object\",\"name\":\"Line\",\"id\":\"p2440\",\"attributes\":{\"x\":{\"type\":\"field\",\"field\":\"x\"},\"y\":{\"type\":\"field\",\"field\":\"y\"},\"line_color\":\"#1f77b4\",\"line_width\":2}},\"nonselection_glyph\":{\"type\":\"object\",\"name\":\"Line\",\"id\":\"p2441\",\"attributes\":{\"x\":{\"type\":\"field\",\"field\":\"x\"},\"y\":{\"type\":\"field\",\"field\":\"y\"},\"line_color\":\"#1f77b4\",\"line_alpha\":0.1,\"line_width\":2}},\"muted_glyph\":{\"type\":\"object\",\"name\":\"Line\",\"id\":\"p2442\",\"attributes\":{\"x\":{\"type\":\"field\",\"field\":\"x\"},\"y\":{\"type\":\"field\",\"field\":\"y\"},\"line_color\":\"#1f77b4\",\"line_alpha\":0.2,\"line_width\":2}}}}],\"toolbar\":{\"type\":\"object\",\"name\":\"Toolbar\",\"id\":\"p2396\",\"attributes\":{\"tools\":[{\"type\":\"object\",\"name\":\"PanTool\",\"id\":\"p2422\"},{\"type\":\"object\",\"name\":\"WheelZoomTool\",\"id\":\"p2423\"},{\"type\":\"object\",\"name\":\"BoxZoomTool\",\"id\":\"p2424\",\"attributes\":{\"overlay\":{\"type\":\"object\",\"name\":\"BoxAnnotation\",\"id\":\"p2425\",\"attributes\":{\"syncable\":false,\"level\":\"overlay\",\"visible\":false,\"left_units\":\"canvas\",\"right_units\":\"canvas\",\"bottom_units\":\"canvas\",\"top_units\":\"canvas\",\"line_color\":\"black\",\"line_alpha\":1.0,\"line_width\":2,\"line_dash\":[4,4],\"fill_color\":\"lightgrey\",\"fill_alpha\":0.5}}}},{\"type\":\"object\",\"name\":\"SaveTool\",\"id\":\"p2426\"},{\"type\":\"object\",\"name\":\"ResetTool\",\"id\":\"p2427\"},{\"type\":\"object\",\"name\":\"HelpTool\",\"id\":\"p2428\"}]}},\"left\":[{\"type\":\"object\",\"name\":\"LinearAxis\",\"id\":\"p2415\",\"attributes\":{\"ticker\":{\"type\":\"object\",\"name\":\"BasicTicker\",\"id\":\"p2416\",\"attributes\":{\"mantissas\":[1,2,5]}},\"formatter\":{\"type\":\"object\",\"name\":\"BasicTickFormatter\",\"id\":\"p2417\"},\"major_label_policy\":{\"type\":\"object\",\"name\":\"AllLabels\",\"id\":\"p2418\"}}}],\"below\":[{\"type\":\"object\",\"name\":\"LinearAxis\",\"id\":\"p2408\",\"attributes\":{\"ticker\":{\"type\":\"object\",\"name\":\"BasicTicker\",\"id\":\"p2409\",\"attributes\":{\"mantissas\":[1,2,5]}},\"formatter\":{\"type\":\"object\",\"name\":\"BasicTickFormatter\",\"id\":\"p2410\"},\"major_label_policy\":{\"type\":\"object\",\"name\":\"AllLabels\",\"id\":\"p2411\"}}}],\"center\":[{\"type\":\"object\",\"name\":\"Grid\",\"id\":\"p2414\",\"attributes\":{\"axis\":{\"id\":\"p2408\"}}},{\"type\":\"object\",\"name\":\"Grid\",\"id\":\"p2421\",\"attributes\":{\"dimension\":1,\"axis\":{\"id\":\"p2415\"}}},{\"type\":\"object\",\"name\":\"Legend\",\"id\":\"p2446\",\"attributes\":{\"items\":[{\"type\":\"object\",\"name\":\"LegendItem\",\"id\":\"p2447\",\"attributes\":{\"label\":{\"type\":\"value\",\"value\":\"Temp.\"},\"renderers\":[{\"id\":\"p2443\"}]}}]}}]}}],\"callbacks\":{\"type\":\"map\"}}};\n",
       "  const render_items = [{\"docid\":\"896600fe-cc72-418f-9b4d-07c684a1526c\",\"roots\":{\"p2390\":\"863ddec4-5b73-4b69-847c-d31a90598c3f\"},\"root_ids\":[\"p2390\"]}];\n",
       "  root.Bokeh.embed.embed_items_notebook(docs_json, render_items);\n",
       "  }\n",
       "  if (root.Bokeh !== undefined) {\n",
       "    embed_document(root);\n",
       "  } else {\n",
       "    let attempts = 0;\n",
       "    const timer = setInterval(function(root) {\n",
       "      if (root.Bokeh !== undefined) {\n",
       "        clearInterval(timer);\n",
       "        embed_document(root);\n",
       "      } else {\n",
       "        attempts++;\n",
       "        if (attempts > 100) {\n",
       "          clearInterval(timer);\n",
       "          console.log(\"Bokeh: ERROR: Unable to run BokehJS code because BokehJS library is missing\");\n",
       "        }\n",
       "      }\n",
       "    }, 10, root)\n",
       "  }\n",
       "})(window);"
      ],
      "application/vnd.bokehjs_exec.v0+json": ""
     },
     "metadata": {
      "application/vnd.bokehjs_exec.v0+json": {
       "id": "p2390"
      }
     },
     "output_type": "display_data"
    }
   ],
   "source": [
    "# create new plot\n",
    "p = figure(title=\"Headline example\")\n",
    "\n",
    "# add line renderer with a legend\n",
    "p.line(x, y, legend_label=\"Temp.\", line_width=2)\n",
    "\n",
    "# change headline location to the left\n",
    "p.title_location = \"left\"\n",
    "\n",
    "# change headline text\n",
    "p.title.text = \"Changing headline text example\"\n",
    "\n",
    "# style the headline\n",
    "p.title.text_font_size = \"25px\"\n",
    "p.title.align = \"right\"\n",
    "p.title.background_fill_color = \"darkgrey\"\n",
    "p.title.text_color = \"white\"\n",
    "\n",
    "# show the results\n",
    "show(p)"
   ]
  },
  {
   "cell_type": "markdown",
   "id": "6139d7e8",
   "metadata": {},
   "source": [
    "## Using annotations\n",
    "\n",
    "Annotations are visual elements that you add to your plot to make it easier to read. For more information on the various kinds of annotations, see Annotations in the user guide.\n",
    "\n",
    "One example are box annotations."
   ]
  },
  {
   "cell_type": "code",
   "execution_count": 10,
   "id": "d862f8f7",
   "metadata": {},
   "outputs": [
    {
     "data": {
      "text/html": [
       "\n",
       "  <div id=\"e201c709-5d2f-4ed3-a374-9c9df033107a\" data-root-id=\"p2641\" style=\"display: contents;\"></div>\n"
      ]
     },
     "metadata": {},
     "output_type": "display_data"
    },
    {
     "data": {
      "application/javascript": [
       "(function(root) {\n",
       "  function embed_document(root) {\n",
       "  const docs_json = {\"becf2d9d-1049-4adf-83f7-90224f7f9faa\":{\"version\":\"3.1.0\",\"title\":\"Bokeh Application\",\"defs\":[],\"roots\":[{\"type\":\"object\",\"name\":\"Figure\",\"id\":\"p2641\",\"attributes\":{\"x_range\":{\"type\":\"object\",\"name\":\"DataRange1d\",\"id\":\"p2643\"},\"y_range\":{\"type\":\"object\",\"name\":\"DataRange1d\",\"id\":\"p2642\"},\"x_scale\":{\"type\":\"object\",\"name\":\"LinearScale\",\"id\":\"p2655\"},\"y_scale\":{\"type\":\"object\",\"name\":\"LinearScale\",\"id\":\"p2657\"},\"title\":{\"type\":\"object\",\"name\":\"Title\",\"id\":\"p2644\",\"attributes\":{\"text\":\"Box annotation example\"}},\"renderers\":[{\"type\":\"object\",\"name\":\"GlyphRenderer\",\"id\":\"p2694\",\"attributes\":{\"data_source\":{\"type\":\"object\",\"name\":\"ColumnDataSource\",\"id\":\"p2688\",\"attributes\":{\"selected\":{\"type\":\"object\",\"name\":\"Selection\",\"id\":\"p2690\",\"attributes\":{\"indices\":[],\"line_indices\":[]}},\"selection_policy\":{\"type\":\"object\",\"name\":\"UnionRenderers\",\"id\":\"p2689\"},\"data\":{\"type\":\"map\",\"entries\":[[\"x\",[0,1,2,3,4,5,6,7,8,9,10,11,12,13,14,15,16,17,18,19,20,21,22,23,24,25,26,27,28,29,30,31,32,33,34,35,36,37,38,39,40,41,42,43,44,45,46,47,48,49,50]],[\"y\",[68,20,43,11,79,96,25,46,56,51,37,33,52,54,1,41,21,82,65,90,36,2,81,10,60,6,26,35,89,23,0,80,53,66,30,58,75,4,76,62,78,28,85,97,5,16,38,92,39,74,84]]]}}},\"view\":{\"type\":\"object\",\"name\":\"CDSView\",\"id\":\"p2695\",\"attributes\":{\"filter\":{\"type\":\"object\",\"name\":\"AllIndices\",\"id\":\"p2696\"}}},\"glyph\":{\"type\":\"object\",\"name\":\"Line\",\"id\":\"p2691\",\"attributes\":{\"x\":{\"type\":\"field\",\"field\":\"x\"},\"y\":{\"type\":\"field\",\"field\":\"y\"},\"line_color\":\"#000000\",\"line_width\":2}},\"nonselection_glyph\":{\"type\":\"object\",\"name\":\"Line\",\"id\":\"p2692\",\"attributes\":{\"x\":{\"type\":\"field\",\"field\":\"x\"},\"y\":{\"type\":\"field\",\"field\":\"y\"},\"line_color\":\"#000000\",\"line_alpha\":0.1,\"line_width\":2}},\"muted_glyph\":{\"type\":\"object\",\"name\":\"Line\",\"id\":\"p2693\",\"attributes\":{\"x\":{\"type\":\"field\",\"field\":\"x\"},\"y\":{\"type\":\"field\",\"field\":\"y\"},\"line_color\":\"#000000\",\"line_alpha\":0.2,\"line_width\":2}}}}],\"toolbar\":{\"type\":\"object\",\"name\":\"Toolbar\",\"id\":\"p2647\",\"attributes\":{\"tools\":[{\"type\":\"object\",\"name\":\"PanTool\",\"id\":\"p2673\"},{\"type\":\"object\",\"name\":\"WheelZoomTool\",\"id\":\"p2674\"},{\"type\":\"object\",\"name\":\"BoxZoomTool\",\"id\":\"p2675\",\"attributes\":{\"overlay\":{\"type\":\"object\",\"name\":\"BoxAnnotation\",\"id\":\"p2676\",\"attributes\":{\"syncable\":false,\"level\":\"overlay\",\"visible\":false,\"left_units\":\"canvas\",\"right_units\":\"canvas\",\"bottom_units\":\"canvas\",\"top_units\":\"canvas\",\"line_color\":\"black\",\"line_alpha\":1.0,\"line_width\":2,\"line_dash\":[4,4],\"fill_color\":\"lightgrey\",\"fill_alpha\":0.5}}}},{\"type\":\"object\",\"name\":\"SaveTool\",\"id\":\"p2677\"},{\"type\":\"object\",\"name\":\"ResetTool\",\"id\":\"p2678\"},{\"type\":\"object\",\"name\":\"HelpTool\",\"id\":\"p2679\"}]}},\"left\":[{\"type\":\"object\",\"name\":\"LinearAxis\",\"id\":\"p2666\",\"attributes\":{\"ticker\":{\"type\":\"object\",\"name\":\"BasicTicker\",\"id\":\"p2667\",\"attributes\":{\"mantissas\":[1,2,5]}},\"formatter\":{\"type\":\"object\",\"name\":\"BasicTickFormatter\",\"id\":\"p2668\"},\"major_label_policy\":{\"type\":\"object\",\"name\":\"AllLabels\",\"id\":\"p2669\"}}}],\"below\":[{\"type\":\"object\",\"name\":\"LinearAxis\",\"id\":\"p2659\",\"attributes\":{\"ticker\":{\"type\":\"object\",\"name\":\"BasicTicker\",\"id\":\"p2660\",\"attributes\":{\"mantissas\":[1,2,5]}},\"formatter\":{\"type\":\"object\",\"name\":\"BasicTickFormatter\",\"id\":\"p2661\"},\"major_label_policy\":{\"type\":\"object\",\"name\":\"AllLabels\",\"id\":\"p2662\"}}},{\"type\":\"object\",\"name\":\"Title\",\"id\":\"p2700\",\"attributes\":{\"text\":\"Bottom Centered Title\",\"align\":\"center\"}}],\"center\":[{\"type\":\"object\",\"name\":\"Grid\",\"id\":\"p2665\",\"attributes\":{\"axis\":{\"id\":\"p2659\"}}},{\"type\":\"object\",\"name\":\"Grid\",\"id\":\"p2672\",\"attributes\":{\"dimension\":1,\"axis\":{\"id\":\"p2666\"}}},{\"type\":\"object\",\"name\":\"BoxAnnotation\",\"id\":\"p2697\",\"attributes\":{\"top\":20,\"fill_color\":\"#F0E442\",\"fill_alpha\":0.2}},{\"type\":\"object\",\"name\":\"BoxAnnotation\",\"id\":\"p2698\",\"attributes\":{\"bottom\":20,\"top\":80,\"fill_color\":\"#009E73\",\"fill_alpha\":0.2}},{\"type\":\"object\",\"name\":\"BoxAnnotation\",\"id\":\"p2699\",\"attributes\":{\"bottom\":80,\"fill_color\":\"#F0E442\",\"fill_alpha\":0.2}}]}}],\"callbacks\":{\"type\":\"map\"}}};\n",
       "  const render_items = [{\"docid\":\"becf2d9d-1049-4adf-83f7-90224f7f9faa\",\"roots\":{\"p2641\":\"e201c709-5d2f-4ed3-a374-9c9df033107a\"},\"root_ids\":[\"p2641\"]}];\n",
       "  root.Bokeh.embed.embed_items_notebook(docs_json, render_items);\n",
       "  }\n",
       "  if (root.Bokeh !== undefined) {\n",
       "    embed_document(root);\n",
       "  } else {\n",
       "    let attempts = 0;\n",
       "    const timer = setInterval(function(root) {\n",
       "      if (root.Bokeh !== undefined) {\n",
       "        clearInterval(timer);\n",
       "        embed_document(root);\n",
       "      } else {\n",
       "        attempts++;\n",
       "        if (attempts > 100) {\n",
       "          clearInterval(timer);\n",
       "          console.log(\"Bokeh: ERROR: Unable to run BokehJS code because BokehJS library is missing\");\n",
       "        }\n",
       "      }\n",
       "    }, 10, root)\n",
       "  }\n",
       "})(window);"
      ],
      "application/vnd.bokehjs_exec.v0+json": ""
     },
     "metadata": {
      "application/vnd.bokehjs_exec.v0+json": {
       "id": "p2641"
      }
     },
     "output_type": "display_data"
    }
   ],
   "source": [
    "import random\n",
    "\n",
    "from bokeh.models import BoxAnnotation, Title\n",
    "from bokeh.plotting import figure, show\n",
    "\n",
    "# generate some data (1-50 for x, random values for y)\n",
    "x = list(range(0, 51))\n",
    "y = random.sample(range(0, 100), 51)\n",
    "\n",
    "# create new plot\n",
    "p = figure(title=\"Box annotation example\")\n",
    "\n",
    "# add line renderer\n",
    "line = p.line(x, y, line_color=\"#000000\", line_width=2)\n",
    "\n",
    "# add box annotations\n",
    "low_box = BoxAnnotation(top=20, fill_alpha=0.2, fill_color=\"#F0E442\")\n",
    "mid_box = BoxAnnotation(bottom=20, top=80, fill_alpha=0.2, fill_color=\"#009E73\")\n",
    "high_box = BoxAnnotation(bottom=80, fill_alpha=0.2, fill_color=\"#F0E442\")\n",
    "\n",
    "# add boxes to existing figure\n",
    "p.add_layout(low_box)\n",
    "p.add_layout(mid_box)\n",
    "p.add_layout(high_box)\n",
    "\n",
    "# add extra titles with add_layout(...)\n",
    "p.add_layout(Title(text=\"Bottom Centered Title\", align=\"center\"), \"below\")\n",
    "\n",
    "\n",
    "# show the results\n",
    "show(p)"
   ]
  },
  {
   "cell_type": "markdown",
   "id": "6833af23",
   "metadata": {},
   "source": [
    "To find out more about the different kinds of annotations in Bokeh, see [Annotations](https://docs.bokeh.org/en/latest/docs/user_guide/basic/annotations.html#ug-basic-annotations) in the user guide."
   ]
  },
  {
   "cell_type": "markdown",
   "id": "f337d3b8",
   "metadata": {},
   "source": [
    "## Using Themes\n",
    "\n",
    "Bokeh comes with five [built-in themes](https://docs.bokeh.org/en/latest/docs/reference/themes.html#bokeh-themes): caliber, dark_minimal, light_minimal, night_sky, and contrast. Additionally, you can define your own custom themes.\n",
    "\n",
    "To use one of the built-in themes, assign the name of the theme you want to use to the theme property of your document:\n",
    "\n"
   ]
  },
  {
   "cell_type": "code",
   "execution_count": 11,
   "id": "a25e8ec0",
   "metadata": {
    "scrolled": true
   },
   "outputs": [
    {
     "data": {
      "text/html": [
       "\n",
       "  <div id=\"1b722ebc-251b-442f-aee4-e708970aa4f0\" data-root-id=\"p2907\" style=\"display: contents;\"></div>\n"
      ]
     },
     "metadata": {},
     "output_type": "display_data"
    },
    {
     "data": {
      "application/javascript": [
       "(function(root) {\n",
       "  function embed_document(root) {\n",
       "  const docs_json = {\"eb16d428-9f33-49d6-b6e9-b3ee2c65fa61\":{\"version\":\"3.1.0\",\"title\":\"Bokeh Application\",\"defs\":[],\"roots\":[{\"type\":\"object\",\"name\":\"Figure\",\"id\":\"p2907\",\"attributes\":{\"height\":250,\"max_width\":500,\"sizing_mode\":\"stretch_width\",\"x_range\":{\"type\":\"object\",\"name\":\"DataRange1d\",\"id\":\"p2909\"},\"y_range\":{\"type\":\"object\",\"name\":\"DataRange1d\",\"id\":\"p2908\"},\"x_scale\":{\"type\":\"object\",\"name\":\"LinearScale\",\"id\":\"p2920\"},\"y_scale\":{\"type\":\"object\",\"name\":\"LinearScale\",\"id\":\"p2922\"},\"title\":{\"type\":\"object\",\"name\":\"Title\",\"id\":\"p2914\",\"attributes\":{\"text_color\":\"#E0E0E0\",\"text_font\":\"Helvetica\",\"text_font_size\":\"1.15em\"}},\"outline_line_color\":\"#E0E0E0\",\"outline_line_alpha\":0.25,\"renderers\":[{\"type\":\"object\",\"name\":\"GlyphRenderer\",\"id\":\"p2959\",\"attributes\":{\"data_source\":{\"type\":\"object\",\"name\":\"ColumnDataSource\",\"id\":\"p2953\",\"attributes\":{\"selected\":{\"type\":\"object\",\"name\":\"Selection\",\"id\":\"p2955\",\"attributes\":{\"indices\":[],\"line_indices\":[]}},\"selection_policy\":{\"type\":\"object\",\"name\":\"UnionRenderers\",\"id\":\"p2954\"},\"data\":{\"type\":\"map\",\"entries\":[[\"x\",[0,1,2,3,4,5,6,7,8,9,10,11,12,13,14,15,16,17,18,19,20,21,22,23,24,25,26,27,28,29,30,31,32,33,34,35,36,37,38,39,40,41,42,43,44,45,46,47,48,49,50]],[\"y\",[68,20,43,11,79,96,25,46,56,51,37,33,52,54,1,41,21,82,65,90,36,2,81,10,60,6,26,35,89,23,0,80,53,66,30,58,75,4,76,62,78,28,85,97,5,16,38,92,39,74,84]]]}}},\"view\":{\"type\":\"object\",\"name\":\"CDSView\",\"id\":\"p2960\",\"attributes\":{\"filter\":{\"type\":\"object\",\"name\":\"AllIndices\",\"id\":\"p2961\"}}},\"glyph\":{\"type\":\"object\",\"name\":\"Line\",\"id\":\"p2956\",\"attributes\":{\"x\":{\"type\":\"field\",\"field\":\"x\"},\"y\":{\"type\":\"field\",\"field\":\"y\"},\"line_color\":\"#1f77b4\"}},\"nonselection_glyph\":{\"type\":\"object\",\"name\":\"Line\",\"id\":\"p2957\",\"attributes\":{\"x\":{\"type\":\"field\",\"field\":\"x\"},\"y\":{\"type\":\"field\",\"field\":\"y\"},\"line_color\":\"#1f77b4\",\"line_alpha\":0.1}},\"muted_glyph\":{\"type\":\"object\",\"name\":\"Line\",\"id\":\"p2958\",\"attributes\":{\"x\":{\"type\":\"field\",\"field\":\"x\"},\"y\":{\"type\":\"field\",\"field\":\"y\"},\"line_color\":\"#1f77b4\",\"line_alpha\":0.2}}}}],\"toolbar\":{\"type\":\"object\",\"name\":\"Toolbar\",\"id\":\"p2911\",\"attributes\":{\"tools\":[{\"type\":\"object\",\"name\":\"PanTool\",\"id\":\"p2938\"},{\"type\":\"object\",\"name\":\"WheelZoomTool\",\"id\":\"p2939\"},{\"type\":\"object\",\"name\":\"BoxZoomTool\",\"id\":\"p2940\",\"attributes\":{\"overlay\":{\"type\":\"object\",\"name\":\"BoxAnnotation\",\"id\":\"p2941\",\"attributes\":{\"syncable\":false,\"level\":\"overlay\",\"visible\":false,\"left_units\":\"canvas\",\"right_units\":\"canvas\",\"bottom_units\":\"canvas\",\"top_units\":\"canvas\",\"line_color\":\"black\",\"line_alpha\":1.0,\"line_width\":2,\"line_dash\":[4,4],\"fill_color\":\"lightgrey\",\"fill_alpha\":0.5}}}},{\"type\":\"object\",\"name\":\"SaveTool\",\"id\":\"p2942\"},{\"type\":\"object\",\"name\":\"ResetTool\",\"id\":\"p2943\"},{\"type\":\"object\",\"name\":\"HelpTool\",\"id\":\"p2944\"}]}},\"left\":[{\"type\":\"object\",\"name\":\"LinearAxis\",\"id\":\"p2931\",\"attributes\":{\"ticker\":{\"type\":\"object\",\"name\":\"BasicTicker\",\"id\":\"p2932\",\"attributes\":{\"mantissas\":[1,2,5]}},\"formatter\":{\"type\":\"object\",\"name\":\"BasicTickFormatter\",\"id\":\"p2933\"},\"axis_label_standoff\":10,\"axis_label_text_color\":\"#E0E0E0\",\"axis_label_text_font\":\"Helvetica\",\"axis_label_text_font_size\":\"1.25em\",\"axis_label_text_font_style\":\"normal\",\"major_label_policy\":{\"type\":\"object\",\"name\":\"AllLabels\",\"id\":\"p2934\"},\"major_label_text_color\":\"#E0E0E0\",\"major_label_text_font\":\"Helvetica\",\"major_label_text_font_size\":\"1.025em\",\"axis_line_color\":\"#E0E0E0\",\"axis_line_alpha\":0,\"major_tick_line_color\":\"#E0E0E0\",\"major_tick_line_alpha\":0,\"minor_tick_line_color\":\"#E0E0E0\",\"minor_tick_line_alpha\":0}}],\"below\":[{\"type\":\"object\",\"name\":\"LinearAxis\",\"id\":\"p2924\",\"attributes\":{\"ticker\":{\"type\":\"object\",\"name\":\"BasicTicker\",\"id\":\"p2925\",\"attributes\":{\"mantissas\":[1,2,5]}},\"formatter\":{\"type\":\"object\",\"name\":\"BasicTickFormatter\",\"id\":\"p2926\"},\"axis_label_standoff\":10,\"axis_label_text_color\":\"#E0E0E0\",\"axis_label_text_font\":\"Helvetica\",\"axis_label_text_font_size\":\"1.25em\",\"axis_label_text_font_style\":\"normal\",\"major_label_policy\":{\"type\":\"object\",\"name\":\"AllLabels\",\"id\":\"p2927\"},\"major_label_text_color\":\"#E0E0E0\",\"major_label_text_font\":\"Helvetica\",\"major_label_text_font_size\":\"1.025em\",\"axis_line_color\":\"#E0E0E0\",\"axis_line_alpha\":0,\"major_tick_line_color\":\"#E0E0E0\",\"major_tick_line_alpha\":0,\"minor_tick_line_color\":\"#E0E0E0\",\"minor_tick_line_alpha\":0}}],\"center\":[{\"type\":\"object\",\"name\":\"Grid\",\"id\":\"p2930\",\"attributes\":{\"axis\":{\"id\":\"p2924\"},\"grid_line_color\":\"#E0E0E0\",\"grid_line_alpha\":0.25}},{\"type\":\"object\",\"name\":\"Grid\",\"id\":\"p2937\",\"attributes\":{\"dimension\":1,\"axis\":{\"id\":\"p2931\"},\"grid_line_color\":\"#E0E0E0\",\"grid_line_alpha\":0.25}}],\"background_fill_color\":\"#20262B\",\"border_fill_color\":\"#15191C\"}}],\"callbacks\":{\"type\":\"map\"}}};\n",
       "  const render_items = [{\"docid\":\"eb16d428-9f33-49d6-b6e9-b3ee2c65fa61\",\"roots\":{\"p2907\":\"1b722ebc-251b-442f-aee4-e708970aa4f0\"},\"root_ids\":[\"p2907\"]}];\n",
       "  root.Bokeh.embed.embed_items_notebook(docs_json, render_items);\n",
       "  }\n",
       "  if (root.Bokeh !== undefined) {\n",
       "    embed_document(root);\n",
       "  } else {\n",
       "    let attempts = 0;\n",
       "    const timer = setInterval(function(root) {\n",
       "      if (root.Bokeh !== undefined) {\n",
       "        clearInterval(timer);\n",
       "        embed_document(root);\n",
       "      } else {\n",
       "        attempts++;\n",
       "        if (attempts > 100) {\n",
       "          clearInterval(timer);\n",
       "          console.log(\"Bokeh: ERROR: Unable to run BokehJS code because BokehJS library is missing\");\n",
       "        }\n",
       "      }\n",
       "    }, 10, root)\n",
       "  }\n",
       "})(window);"
      ],
      "application/vnd.bokehjs_exec.v0+json": ""
     },
     "metadata": {
      "application/vnd.bokehjs_exec.v0+json": {
       "id": "p2907"
      }
     },
     "output_type": "display_data"
    }
   ],
   "source": [
    "from bokeh.io import curdoc\n",
    "\n",
    "# apply theme to current document\n",
    "curdoc().theme = \"dark_minimal\"\n",
    "\n",
    "# create a plot\n",
    "p = figure(sizing_mode=\"stretch_width\", max_width=500, height=250)\n",
    "\n",
    "# add a renderer\n",
    "p.line(x, y)\n",
    "\n",
    "# show the results\n",
    "show(p)"
   ]
  },
  {
   "cell_type": "markdown",
   "id": "80ea7635",
   "metadata": {},
   "source": [
    "Restore theme"
   ]
  },
  {
   "cell_type": "code",
   "execution_count": 12,
   "id": "ca94af99",
   "metadata": {},
   "outputs": [],
   "source": [
    "curdoc().theme = \"light_minimal\""
   ]
  },
  {
   "cell_type": "markdown",
   "id": "e0234dc4",
   "metadata": {},
   "source": [
    "## Resizing your plot"
   ]
  },
  {
   "cell_type": "code",
   "execution_count": 13,
   "id": "510a2432",
   "metadata": {},
   "outputs": [
    {
     "data": {
      "text/html": [
       "\n",
       "  <div id=\"eb89ae00-1e06-4697-a636-2b7673e5ecbf\" data-root-id=\"p3187\" style=\"display: contents;\"></div>\n"
      ]
     },
     "metadata": {},
     "output_type": "display_data"
    },
    {
     "data": {
      "application/javascript": [
       "(function(root) {\n",
       "  function embed_document(root) {\n",
       "  const docs_json = {\"8a3d9b6f-fbbd-4ed2-82e8-4a0cccf1b594\":{\"version\":\"3.1.0\",\"title\":\"Bokeh Application\",\"defs\":[],\"roots\":[{\"type\":\"object\",\"name\":\"Figure\",\"id\":\"p3187\",\"attributes\":{\"width\":350,\"height\":150,\"x_range\":{\"type\":\"object\",\"name\":\"DataRange1d\",\"id\":\"p3189\"},\"y_range\":{\"type\":\"object\",\"name\":\"DataRange1d\",\"id\":\"p3188\"},\"x_scale\":{\"type\":\"object\",\"name\":\"LinearScale\",\"id\":\"p3201\"},\"y_scale\":{\"type\":\"object\",\"name\":\"LinearScale\",\"id\":\"p3203\"},\"title\":{\"type\":\"object\",\"name\":\"Title\",\"id\":\"p3190\",\"attributes\":{\"text\":\"Plot sizing example\",\"text_color\":\"#5B5B5B\",\"text_font\":\"Helvetica\",\"text_font_size\":\"1.15em\"}},\"renderers\":[{\"type\":\"object\",\"name\":\"GlyphRenderer\",\"id\":\"p3240\",\"attributes\":{\"data_source\":{\"type\":\"object\",\"name\":\"ColumnDataSource\",\"id\":\"p3234\",\"attributes\":{\"selected\":{\"type\":\"object\",\"name\":\"Selection\",\"id\":\"p3236\",\"attributes\":{\"indices\":[],\"line_indices\":[]}},\"selection_policy\":{\"type\":\"object\",\"name\":\"UnionRenderers\",\"id\":\"p3235\"},\"data\":{\"type\":\"map\",\"entries\":[[\"x\",[1,2,3,4,5]],[\"y\",[4,5,5,7,2]]]}}},\"view\":{\"type\":\"object\",\"name\":\"CDSView\",\"id\":\"p3241\",\"attributes\":{\"filter\":{\"type\":\"object\",\"name\":\"AllIndices\",\"id\":\"p3242\"}}},\"glyph\":{\"type\":\"object\",\"name\":\"Circle\",\"id\":\"p3237\",\"attributes\":{\"x\":{\"type\":\"field\",\"field\":\"x\"},\"y\":{\"type\":\"field\",\"field\":\"y\"},\"size\":{\"type\":\"value\",\"value\":15},\"line_color\":{\"type\":\"value\",\"value\":\"#1f77b4\"},\"fill_color\":{\"type\":\"value\",\"value\":\"red\"}}},\"nonselection_glyph\":{\"type\":\"object\",\"name\":\"Circle\",\"id\":\"p3238\",\"attributes\":{\"x\":{\"type\":\"field\",\"field\":\"x\"},\"y\":{\"type\":\"field\",\"field\":\"y\"},\"size\":{\"type\":\"value\",\"value\":15},\"line_color\":{\"type\":\"value\",\"value\":\"#1f77b4\"},\"line_alpha\":{\"type\":\"value\",\"value\":0.1},\"fill_color\":{\"type\":\"value\",\"value\":\"red\"},\"fill_alpha\":{\"type\":\"value\",\"value\":0.1},\"hatch_alpha\":{\"type\":\"value\",\"value\":0.1}}},\"muted_glyph\":{\"type\":\"object\",\"name\":\"Circle\",\"id\":\"p3239\",\"attributes\":{\"x\":{\"type\":\"field\",\"field\":\"x\"},\"y\":{\"type\":\"field\",\"field\":\"y\"},\"size\":{\"type\":\"value\",\"value\":15},\"line_color\":{\"type\":\"value\",\"value\":\"#1f77b4\"},\"line_alpha\":{\"type\":\"value\",\"value\":0.2},\"fill_color\":{\"type\":\"value\",\"value\":\"red\"},\"fill_alpha\":{\"type\":\"value\",\"value\":0.2},\"hatch_alpha\":{\"type\":\"value\",\"value\":0.2}}}}}],\"toolbar\":{\"type\":\"object\",\"name\":\"Toolbar\",\"id\":\"p3193\",\"attributes\":{\"tools\":[{\"type\":\"object\",\"name\":\"PanTool\",\"id\":\"p3219\"},{\"type\":\"object\",\"name\":\"WheelZoomTool\",\"id\":\"p3220\"},{\"type\":\"object\",\"name\":\"BoxZoomTool\",\"id\":\"p3221\",\"attributes\":{\"overlay\":{\"type\":\"object\",\"name\":\"BoxAnnotation\",\"id\":\"p3222\",\"attributes\":{\"syncable\":false,\"level\":\"overlay\",\"visible\":false,\"left_units\":\"canvas\",\"right_units\":\"canvas\",\"bottom_units\":\"canvas\",\"top_units\":\"canvas\",\"line_color\":\"black\",\"line_alpha\":1.0,\"line_width\":2,\"line_dash\":[4,4],\"fill_color\":\"lightgrey\",\"fill_alpha\":0.5}}}},{\"type\":\"object\",\"name\":\"SaveTool\",\"id\":\"p3223\"},{\"type\":\"object\",\"name\":\"ResetTool\",\"id\":\"p3224\"},{\"type\":\"object\",\"name\":\"HelpTool\",\"id\":\"p3225\"}]}},\"left\":[{\"type\":\"object\",\"name\":\"LinearAxis\",\"id\":\"p3212\",\"attributes\":{\"ticker\":{\"type\":\"object\",\"name\":\"BasicTicker\",\"id\":\"p3213\",\"attributes\":{\"mantissas\":[1,2,5]}},\"formatter\":{\"type\":\"object\",\"name\":\"BasicTickFormatter\",\"id\":\"p3214\"},\"axis_label\":\"y\",\"axis_label_standoff\":10,\"axis_label_text_color\":\"#5B5B5B\",\"axis_label_text_font\":\"Helvetica\",\"axis_label_text_font_size\":\"1.25em\",\"axis_label_text_font_style\":\"normal\",\"major_label_policy\":{\"type\":\"object\",\"name\":\"AllLabels\",\"id\":\"p3215\"},\"major_label_text_color\":\"#5B5B5B\",\"major_label_text_font\":\"Helvetica\",\"major_label_text_font_size\":\"1.025em\",\"axis_line_color\":\"#5B5B5B\",\"axis_line_alpha\":0,\"major_tick_line_color\":\"#5B5B5B\",\"major_tick_line_alpha\":0,\"minor_tick_line_color\":\"#5B5B5B\",\"minor_tick_line_alpha\":0}}],\"below\":[{\"type\":\"object\",\"name\":\"LinearAxis\",\"id\":\"p3205\",\"attributes\":{\"ticker\":{\"type\":\"object\",\"name\":\"BasicTicker\",\"id\":\"p3206\",\"attributes\":{\"mantissas\":[1,2,5]}},\"formatter\":{\"type\":\"object\",\"name\":\"BasicTickFormatter\",\"id\":\"p3207\"},\"axis_label\":\"x\",\"axis_label_standoff\":10,\"axis_label_text_color\":\"#5B5B5B\",\"axis_label_text_font\":\"Helvetica\",\"axis_label_text_font_size\":\"1.25em\",\"axis_label_text_font_style\":\"normal\",\"major_label_policy\":{\"type\":\"object\",\"name\":\"AllLabels\",\"id\":\"p3208\"},\"major_label_text_color\":\"#5B5B5B\",\"major_label_text_font\":\"Helvetica\",\"major_label_text_font_size\":\"1.025em\",\"axis_line_color\":\"#5B5B5B\",\"axis_line_alpha\":0,\"major_tick_line_color\":\"#5B5B5B\",\"major_tick_line_alpha\":0,\"minor_tick_line_color\":\"#5B5B5B\",\"minor_tick_line_alpha\":0}}],\"center\":[{\"type\":\"object\",\"name\":\"Grid\",\"id\":\"p3211\",\"attributes\":{\"axis\":{\"id\":\"p3205\"}}},{\"type\":\"object\",\"name\":\"Grid\",\"id\":\"p3218\",\"attributes\":{\"dimension\":1,\"axis\":{\"id\":\"p3212\"}}}]}}],\"callbacks\":{\"type\":\"map\"}}};\n",
       "  const render_items = [{\"docid\":\"8a3d9b6f-fbbd-4ed2-82e8-4a0cccf1b594\",\"roots\":{\"p3187\":\"eb89ae00-1e06-4697-a636-2b7673e5ecbf\"},\"root_ids\":[\"p3187\"]}];\n",
       "  root.Bokeh.embed.embed_items_notebook(docs_json, render_items);\n",
       "  }\n",
       "  if (root.Bokeh !== undefined) {\n",
       "    embed_document(root);\n",
       "  } else {\n",
       "    let attempts = 0;\n",
       "    const timer = setInterval(function(root) {\n",
       "      if (root.Bokeh !== undefined) {\n",
       "        clearInterval(timer);\n",
       "        embed_document(root);\n",
       "      } else {\n",
       "        attempts++;\n",
       "        if (attempts > 100) {\n",
       "          clearInterval(timer);\n",
       "          console.log(\"Bokeh: ERROR: Unable to run BokehJS code because BokehJS library is missing\");\n",
       "        }\n",
       "      }\n",
       "    }, 10, root)\n",
       "  }\n",
       "})(window);"
      ],
      "application/vnd.bokehjs_exec.v0+json": ""
     },
     "metadata": {
      "application/vnd.bokehjs_exec.v0+json": {
       "id": "p3187"
      }
     },
     "output_type": "display_data"
    }
   ],
   "source": [
    "from bokeh.plotting import figure, show\n",
    "\n",
    "# prepare some data\n",
    "x = [1, 2, 3, 4, 5]\n",
    "y = [4, 5, 5, 7, 2]\n",
    "\n",
    "# create a new plot with a specific size\n",
    "p = figure(\n",
    "    title=\"Plot sizing example\",\n",
    "    width=350,\n",
    "    height=250,\n",
    "    x_axis_label=\"x\",\n",
    "    y_axis_label=\"y\",\n",
    ")\n",
    "\n",
    "# add circle renderer\n",
    "circle = p.circle(x, y, fill_color=\"red\", size=15)\n",
    "\n",
    "## # change plot size\n",
    "## p.width = 450\n",
    "p.height = 150\n",
    "\n",
    "# show the results\n",
    "show(p)"
   ]
  },
  {
   "cell_type": "markdown",
   "id": "a3aba2d9",
   "metadata": {},
   "source": [
    "## Vectorizing colors and sizes\n",
    "\n",
    "To create a plot with colors and sizes in relation to your data, apply the same principle to the radius argument of your renderer:\n",
    "\n"
   ]
  },
  {
   "cell_type": "code",
   "execution_count": 14,
   "id": "55ad9c2c",
   "metadata": {},
   "outputs": [
    {
     "data": {
      "text/html": [
       "\n",
       "  <div id=\"9cb69943-13ef-487e-bc74-dee458bfd9d1\" data-root-id=\"p3473\" style=\"display: contents;\"></div>\n"
      ]
     },
     "metadata": {},
     "output_type": "display_data"
    },
    {
     "data": {
      "application/javascript": [
       "(function(root) {\n",
       "  function embed_document(root) {\n",
       "  const docs_json = {\"daedd5df-018f-4bbd-a694-336d3758d840\":{\"version\":\"3.1.0\",\"title\":\"Bokeh Application\",\"defs\":[],\"roots\":[{\"type\":\"object\",\"name\":\"Figure\",\"id\":\"p3473\",\"attributes\":{\"height\":250,\"max_width\":500,\"sizing_mode\":\"stretch_width\",\"x_range\":{\"type\":\"object\",\"name\":\"DataRange1d\",\"id\":\"p3475\"},\"y_range\":{\"type\":\"object\",\"name\":\"DataRange1d\",\"id\":\"p3474\"},\"x_scale\":{\"type\":\"object\",\"name\":\"LinearScale\",\"id\":\"p3487\"},\"y_scale\":{\"type\":\"object\",\"name\":\"LinearScale\",\"id\":\"p3489\"},\"title\":{\"type\":\"object\",\"name\":\"Title\",\"id\":\"p3476\",\"attributes\":{\"text\":\"Vectorized colors and radii example\",\"text_color\":\"#5B5B5B\",\"text_font\":\"Helvetica\",\"text_font_size\":\"1.15em\"}},\"renderers\":[{\"type\":\"object\",\"name\":\"GlyphRenderer\",\"id\":\"p3526\",\"attributes\":{\"data_source\":{\"type\":\"object\",\"name\":\"ColumnDataSource\",\"id\":\"p3520\",\"attributes\":{\"selected\":{\"type\":\"object\",\"name\":\"Selection\",\"id\":\"p3522\",\"attributes\":{\"indices\":[],\"line_indices\":[]}},\"selection_policy\":{\"type\":\"object\",\"name\":\"UnionRenderers\",\"id\":\"p3521\"},\"data\":{\"type\":\"map\",\"entries\":[[\"radius\",{\"type\":\"ndarray\",\"array\":{\"type\":\"bytes\",\"data\":\"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\"},\"shape\":[1000],\"dtype\":\"float64\",\"order\":\"little\"}],[\"x\",{\"type\":\"ndarray\",\"array\":{\"type\":\"bytes\",\"data\":\"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\"},\"shape\":[1000],\"dtype\":\"float64\",\"order\":\"little\"}],[\"y\",{\"type\":\"ndarray\",\"array\":{\"type\":\"bytes\",\"data\":\"49AFE+jsU0AIAJv4K1RRQBxleWYgJzVARJVgXksASEAtJ1Q+VExWQB4WEFe1SDdA8TSb9381UUDU76xRIc0rQJ6xyH9IUExAID5aqCrjRUBsEDYxbShWQM1y7hC8+FBAz5sIribiSEB8wl0hTspLQBZz+H4iFkFAf2hz9fMtSECsj0eg25BHQN6YFMFjbEhAJrqJFSHnUkBFjFZpWpVXQCupdF96+0RA1P1I6mrrQ0BuM54kOmg0QOtBdKNzuEVA3CNvzJ8kRUCsoAtSflBPQBOs3iSgk01ATnJFbA+cVEA0Bo4vUhIjQIcZsWd01TxAb91Jtja4UECldf2qEFs5QK3xro8ws0tAjP62y9H8RkCl55jTVG9KQEtQ6QegLjJAbeD1lkIwU0DF6HHKGcVLQGqPsMoMUFRAH+wTHKawVkDiR8ufO2VRQDHdqeepSEFARGhf3JkuQEB37ELJRN1GQEHilPjcIERAi1cEuaPLPECewaqxuoVHQIP+/oHtalVA9HIOx5cBRkAC+eJoeLMeQGbe38IuyFFABgVm90AQTkAVMj70rFxXQMrg2dyr5ylAXBSh00MkRkA8EASaD59VQKGboLv8llZAouIoyKNCT0DtBOHVpTk5QGqvmuzJcEFAMtDyDyrcU0CZON5oYItJQJjZbx3OlVRAXW8CTfyGUEAJb52s+N0/QA13s2M1d1dAQFohMkQOTECnjr99ACBEQPrALj7LDBtAzlH1m0ApU0BkXebU9ug5QOUv8K9+FDNAORdob///QUAmBxp1q9A2QHU+Z1ETBj1AEwnWT6S5QUCsdlGusmlUQENNFyyV+CtABFUKyFt3VUB16JoTxbxRQGuxaPcWdjJAXC6qo1KjV0DElovdAR5AQFn8EFoKYilAWo27J6o5RUDdAQKSvMdSQJ9aFT6STyJAv03DLMRNTUAocNz/Kf1IQPteUtjWJFFARYNk7YYwVkABAvvMgiZNQHxDreogA1JAlvRWkpcsVUDM1hU363A1QPJ+0Adq7kFAOwbBilWGUkBFCU2mzqxAQNcEran98BVAX7wNnDaiV0BAFnMOrxoDQHphk9o75A1AffN1shMxVkBI3E8mdA1BQLL3i6wyz0dApEjmRJjLUkCggvx5Rw5PQIjzkDeMBiBAe8p/kRIkU0BHVN1X0KVSQCtuCSNTbS9AFz7H9x30D0DLTyUh0esTQE7ooFDjzFZAiVh0uX0UV0A4qMuDYGEoQKwJ7RLNsVZA0P69437yVECi3kwxkltVQIcVNcvBuFVA8OK+UQAFGUAc/ekvFB4kQKBhrn3xZkpAMCGr4AsSWEBY/8DdtUEwQPPEIVGjMldAgY7p++8BP0AAR0pgnNhHQD6OY/9o8T9AesWiX0ncUEBiBsRzJjNSQHmf++OF1zJAyfdkffpmIECkhOfWFXBUQN0WsO3BnVFAnSZcQJ2lNUAb3BUlvJxNQGJFvuOcpTlAVzjg339uVEB7aDowNJ5QQBX79Wy0X1RA+lVjlsQ5VUAfqHb5RYtVQEA43Y2gGEdA1v8ajVxqUUBYhcZqlMNLQB+JeP6f8VdAcL3D7EgDLEBoQX/5K6tMQGKsDEd9ekJAvJ2/C3ugUkA5vEjSrDowQArnJKXG2R5A9m47H7UXU0CV/33fQHxWQMavXjUecVRArSJ+Jb7mCUB4YcYrmRJWQGUAl9Ieo0hAX0/pJX4vSkDDz6SJh/hJQEP7+wgEKjpAYbWsR+JRC0BbsyOTSFNPQNXQSWMaqExAi5XUtHW1UEAQKTyX+8YwQEaAqBr4kldA/tc3WW6+U0CfkeMtm9dJQEwny0fsGSBAzKrCKIu5T0BJReLPdG5SQE2i06/z2D9AjzO1tHLULECehduglpxIQOpEVdpnuRlAxwC3RX9XQEAkfmRWoEJSQA7ywe/U/k9AUB7PxvGyOkCpcRhBASQyQPIJAD1s20BAWdOo5dUxNEARgLv33TBWQDOoEeBEilBA1qrQvVNpGEAjLrMFp9ZIQEzCDRFEakRA+XXxrAhAUUAh4FIhDKFOQOwE4aS2hURAkkpNqL8uPUCfA+zbH4dRQIWQjMbLoElAh1M2X7igVED2vwcEAnNYQJUichwPS1JAHQ4YjZBxHkCR54lQietXQLZ99i6v7iVAgTTyCc0rSEBfgdOJRpA2QGBuVuMAITRATysXsjaUPUCF2bfkJfFEQCxXsnTpbEZACUUr1mtPRkCzRaSyrCY9QItKrmS6TVZAW74Ak45XS0BHvvoYedg0QCwUKgkk4VVArS4lfhsdUEAqIAoHZYg7QOSD6tmoBEdAJXk/05QzT0DdasHDSpA/QNbEb5m3FTFAIBGAbWm2UUAM+WxYmzclQNuYaF9+i1BAA0j1aPgDV0AljsfDZr1SQCZgfMQ5pVRATu5MbMGeU0DVkwIOfKJXQJgFHGXD4j9AbAk02vmeOEC5Qam68MkyQOUgxNLdrE9ALQ5bI1vuL0DcFdzrqMBMQLuRcGn6iCNAkvCp5+YNNkClUmzrVp8xQIguKIEn9y1AJKXVtLP2EkCq+j9QmkNCQB8eQ5kFk1FApY/tWTYAOkBSyg6pvPo6QPPAfZnlDEpASAM7kMDgR0AHaXGQk7lCQAvi89ou2ERAEq30R6wyVkCQLEmNoNNSQPCQu5PegiZA6+TABvy8VEDzGSwlFk8wQFKRhV50JFBAYbYRsx1EV0AvINjrdDZBQNOXkm/POTpARtHs/KQMHkD5wy4H+D49QLYUWvQFGzpAIiruoBnfB0D7k9LVESgwQOfSCy//WUlAIEGW2cG/HUBc0sFtnPVSQMhVCp/q4VFASRtKLgw5Q0CoIWOuyPI4QDQDIb7AXVVANr+aP0kCKUAEHdPsX9VFQLlQm4mGQFhAIg3py3F/AUA0D8L6T/ErQM89Mv+gBSdAj9jGYtNyU0BLoQ56oCVVQD7/NRMkYkVAT2dV2ujcKEB5Hqp7uQlEQH5qxZ21O1VA/8u0sfv8T0AIWL0UlKg0QKQFPVZ4tRBANES820B3PUDiBCrWqORPQGIxZb0F71VAqQkUjEAGWEDHMudOf6VYQKHfQ8SKbVhAgDSeA3axJ0DmfhgiiH1YQPFdvL8UbEVACYxk2nGAUECyXZlqIHgsQJM099nLQFhAMT0mcEBKJkCJGOfUmhpVQC2YNXKIxUhAuIB/OD9gUkCrNoLp7ehNQEl75pITAzFAaOixk9fbIUDhnpj8TzgzQGjkOe3RckpAf/8U7ujKU0BNYcqtxG9RQFqwsd/nkBZAdeOgtQLHLUA/a1Dp35ZWQJ2xHJ3O9kJAx4cBFEw1Q0C0ffsOj3f3P9oyfdVV11JAE9PDByy8RUCbI3c0XypOQIrzx9EM0kBAtPirS0B8UUBzIBd7AwJGQKkDQZhyFEFAnj+u3u0bJ0CqOmmThTw5QBB6e6N/X1VAGcRWfeC5P0CaXgb/5jVJQB3AkxAPKiNACqjul1iDQkCfjK+29KFKQOhBEHRJyRtAUnxs2pGLVECxYvyKrOlRQHWg+JYuBEpAKqx0kqWxQ0CeTP9qG8dIQHGMvO5U7VdAyXestTohPUBT09hPgmU9QJSEIPCIxFZAqThBIL/JS0AevTWaUrFXQOecnUePwE5Ai2kPNWFuSEAnS2unH9RNQF2xetHTpUZAZbdNN//hT0DOsJX8IWNHQJMb0I6PdlRAIqrsn0TAR0CORAoZVPY+QE87px+Z3CVATSqzJiYHV0AEE1LWyFNFQKwHOwzA6FhAnUfwC2qOR0Bzmeek7mZXQMZ3AKjZdkRAfRgI445gMkD9xDnbuTIyQD9aiIGlhk5A9LnUhH0LT0DA3v9G8uNWQAbSSxZgfB5AhSVtE9ROQECgAAQaFZw/QEAtNzkCpURAybL0VYIZNkAoBG21ikVCQKHSVYxPxE5AQbUn+uq3U0DQ2M9I+QxWQP/pBYA6iVhAnRnvfRcjV0BvNUxji0NVQHBnJrNrsk9ADFuFOsDQUUCvF5AuZ8VFQGUonR/czENAMqzJ9Rr3CEAPvfPua6xAQMua95rdvEFASk0s8ROk/z+kobWAVslVQPEdCgAPCihA4SPEver3RUDa+5aBA9/1PyZGWLWN30hAbtMeSk4QHECIMt8OSwhQQMFRlJZeXz1ApmdXCh9WTED3nc7CynFRQLNqH+gtZ1NAnqxGntrSQkARWqkMG8lFQHK05b5Xd0BAf9OkYtFrSkA6JDeWHppSQNHbUeAsUVNAzKhqAU9FREADldYNmZVQQBHcv9wBk1hAj03w7kl1SECjUDZ0m8RVQCcDNWxMaAZAB/czHNkaV0B0LYQTYDtIQDX8qQ4ZUUVA1okl8c2LVUBcwiU9yrVXQDChIGAnzStAEpV4p6WTT0BASfXvNFJBQEzgZEP3IhlANC162giyMEBqxH6vpbgSQBMu1BnhiDtAEhRT7FlXSUAYShmNFpBLQPaZTkEM0VNA+ffnodtiDkDaK5wJLA4XQAyFZvRFyk1A6E12JP7xKEC93lt0ZVI5QI8QxvB3gzhAn+9Ql60iJ0CKJX0+T5lJQHK3Kq5ZRVRArerP0QBcRUBR5g+1Nus8QMLkiw8LIFFAZl+U+JGZQEB78HRVG+pWQEN4YL4rrFNADtJ+SIEBOECg0VnfeSJVQGe+gYHhwkdA6pjmszajQkCCJu6zPxZUQNVu6vUG+UdASRvuo0TTTkBH3y0SZ7VOQAfNTY1kaVRApVgCwgpMI0ASf3dzV9wdQO1calEJtFFApD9mQppePEDG6IviWIgaQAYvBXXqFVJAKZRM75AiU0BAMTHXZdpCQLPd09QZQ1BAi5OoYzkVN0A1BToXtGhQQHaTfZyFe/c/R9ua3qAVRkDGD1Meqp9XQP9PNEpy1U1AA8SdNYo9SkCpo1o/Q3sqQLf7I4YPXjNAKqWwhLqsP0De4ydstaRDQFHB0fiYF0VAvlNKlkoAUkD6g0RFUcY4QNBd2PoRM1dA460MivIILUDKvRZ84qEcQD58OElZ9UVALvcE5aCzUkBd/wPMnhlFQOvP2P26pFZAAUqzJ5NsUUD9VqYFbq1PQFio7IY+qChAUbohwDUAU0CTMKZoW3pWQFcpDzG5EUxALy574f/2NEDUpvcHz8xQQLbgBJiDr01A/60PG/7/QEBDRavd5xkmQFpSm6UuoT5AAGApJ+quD0BKfLVGfsIcQFURGbUOaStAqHP/JyKQMEBom2jgKs8NQOicV/RwJD5Atx529yZsS0Ce9RFlbG1DQGloVKdvyFVAZvbkQHGfPkBt4+QVB49MQPGco87N41NAEH6PYR1iTED8ufeDNzRAQAaOONZPr/w/Vhu+6Ap3MkCxRJ382V1SQKVlA/2PSz9A8ul8bfZmRkA6KsG9xNRUQE4PFrIg8khA2P5AwsMGV0AAVCMY3aI/QJNHrCF/igFAYxkovC3jQ0AnTPdwW4xJQF1YaSJlqVhAq0Gh1IC6VUCM/RxLTx5PQKQZ1lSKIktAWYwtnx1VVkCrSttYPG0dQL2toT86Q0RAARp6gmFtQkA1Y3Y4bidUQDVuHYQFxFhAfOBVXTu7MEB6PHc5PsQ7QE9Yda5PW1JAAbT4V7rEV0D3DkCY+JJMQG6lMJ0iwkxA18EOUvOEWEBZ404CUeNCQMiGPPBBUt0/iWbw9IxjHEAKZL2xB7hDQMeAK+BiIVhAXyD5oa8oVUDB+iQ2tYVIQHKeE36ihERA06PzMKRiOkC0hcr12g1UQEb5GF+95zBAj11ei+b3MkDaicSDrYBJQLF/synrW1ZAh7nF4JaFVUDYwvd99XhBQKjFkfRo501AqHQAFzOcTUCRJfSW7zwjQOGON9vb61ZAFDdg0yM5QEDBC77yqhZQQI8C9hw2MUJAu9uJKRdNREAJo5iz0i9YQJ1hlmGwVVNA82qnj2gBP0BPV+0qTYVUQPdGl3IsHlZA1nTNZJAKUEA4D5RairVAQHAYXTnMEUpACX0XummiFEBdxh+VQWs4QPQmEyT3SVZA7UkdDYOwIUDOivGJ1spPQOGvE9WCf1VASRAFnzhrPUCgL4vW8hJIQJHCiycICk5A+gijJSiQVEDAFtbwtIVPQGyohHOe0iFAZrpwEdf6U0ASmC6pcw1OQKXIgHqHizVAgcK5lZ0ITUD5vmGzKdUrQHshH9yMzkdAfEjd1f2ePECe4xK/tGNVQGKQ1Ha0fBFAu2TXbdT5V0BPpaYvHhJSQDUJXvjf2EJAAiKijVq/WECLMtONK2tBQCAYzo3ms0VABLdIqNiHOkB4F0eg7qNUQPTcxq6DslJAfSbiu4qqVUDU5ucaGj47QHSRN4QZX05AJtIc6Lg1R0A8VOlPFVg/QLdNUxYjf0RAII4iOncpTEB266S0l8JLQBQ1NiaoXU9Ax08uLyohUEDVDBuLzy9CQDg0e2+7v0JAtLFK7AovMUCLQKw4S6NXQDWKfXdfoEhAJAJkbNVrN0BTOc5Wbq4yQLFqfF9tuVJAiz0L60mtR0Duor2jVOhEQBIlUoEoGA5AKckIf//fSEBUYn3EAs9LQBE2UT/cYVRAbHORHdtmMkDcBeuHf9UXQAlqlE9bT0NAH3etq4ZjSUBaRrfGT70yQCjNcWurPCxAfO10i7L9WEBNzT8RQT1TQCEhJZg0k0xA4IHfsHbiV0CQb1wXiTXOP0/Pkxgymi1AQcaDX/NRTEDs8GFePApNQAui8ZBc2FhAaAPnPFSLVUCZfH+DpCchQJSw+5DR01VAaErh2UQWMkC//W53BNdTQHWNeN8+L1RAU9O0iDKaVEBmit0Q2qtQQFeH+8pgHU1AYdOOrNVRVED6S2PJFGtWQP0ZpAmal1JAoPtuG4m2T0DayngjpdoUQAkDk/XwzElAYLCtNjXiP0DnHP2FubpHQBEZ+Nb84VFALhM/n6LYOEBkQ7rBYM1OQM16jFMJgypAE4PmI3+QVkCrF477QDxMQFIpbvvWRFZAZs6DCjydQUDl+pJczP4vQB43wADCBStAH/pNZagdUkDsWc95ZctXQLjBwVhbC1NANYvjIBSjQUCgCUNFi2M/QBq2eOQIADBACLuFhvBtJUCw0jwZAhczQDXRsZnn70lA0rlkNKViQkBA7cJ6zSpXQJ2M41tl6ydAWGa9gQSJVUDkq0htIFBHQNyKkgtTN0hA/ZZM1ZTvUUCSHaF00A9WQF6sXbHAtE5A9QxQvicyVEDDhi7LMBxXQMbL9eQCOT9AXUbzHIjQVUCpE4MgTi1SQGnGaCChxFhA1s+CvmFKQUCNbIbnu/oiQIp59ntMlVRALkcaZ/asT0Ci70RQ+WUQQCQQ4PuMrlVAxp4nu4E+VkDKRlTxyB0mQDPlcCiMYzJAfS/GrG+pB0BiO37wW7pJQOG66HoAHkFA6xh0yOkhU0A3QxUSyXFMQP1v+GWtRFZA8wmJxdPFVEAaJcz+O1JLQLIaId0xoUJA3S4NPgd0UEAgTNI3mk1OQGVUNdf7wypAO10b0m/DVEDixf/bRIAyQABGuGkD8DRAO4tsf0PCM0BvM93ajJAtQBCrZoxjvEpAxvH8iCZrWEAIViEvUuNMQHs2WMlwTDdA2yI96V5IFkBnvweELkBFQOKjvXnyoVVA11QMUin1T0DIkFNhir9HQF3NR7IuBlZAFMkstgG4RkCysyWCEvQRQHvjQceUO1VA86wJUKG0TUClD87bkiVNQIcLgxQwe1FAz1AaVNaTP0BsPLCWo0FVQDk3zOTtqVFA8gcksd7qWEDUSL7bNa0zQMeSOq1zsDtAV2PGCHqrVEB60h/ukHNUQPuZiW3kP0BAFacfW2/bUEDIWN2DUdAxQMCW7md9jKE/6zivtk8YQ0A8SdxuMn81QNkkQiVMGEdAuOMF7WIvIkDKU716mEtVQGIfudBY0zdAP0arEtD2UED3FktxuCkzQI+bKouutlVAVoQCG8mTKUBsTM3H25BUQORnxlZTZjJAlhSI+VNrUUBZPT6jJDlUQDxrg4Ed0UpA8OVQrUMFU0AYUnU29eL7PydIR9FIVkNAHgrMiB51VEDIG9krOiVVQLl9FZ0vPCpAH3vptPJzTEAUQlyKdbdAQGJAH90OKPY/nxoeGjn6RECnQLOjCWk5QAbQsV3spjJAiVpEsul2WEAYswchj2pBQGrGDbL9HEJAXp1EobdLV0CygzkY7g8bQEI/sXg9CktAE7uqsjM8V0AVMl4uU6c+QF1a0bpBcFBATuxXfY/wVUD4Z0LNWjhNQA2+8Tq/ISxA81Cz11WAHkDBwXWE8Ps7QEYjvgNczUtA6vAcYMM9FUBVUfKYBLRQQMbPZJwtQEBAG/rWhoboSkAi9ItYnj0fQHzYlVK41VNAY/tMsdcsVkBDjcNt/pxTQEjuP4Lx/lZAYKWutWtjQECOqAmL4DZGQOwro3RPNBBAuM9KhatXUkCmnFuhIjxJQJ/7/lpthFBAPLqELotoSUAeRHUg4JJFQNJGn7akB0BAFVdtHLiFNkAvmQyPwqA7QMHoUPr5WVhAb5jyKoOpWED9gOiqfPlEQFeSQKHw8lNAY/w5iIE+TEAa3x8G0qtSQChUDmWUh1VA4hh57WIVO0CyP8jJP25FQI7zHbw/y1FAbwJeBMMbNkBXYta7+4RMQOGGYqQBfVVA0Ry/Cy/KRkCBO8bJoec/QBeeCST/E1NA+bsGnGmkM0C+zGBrs/hXQC7GhsdRilZAOteKkgKSTkDCuehPykhGQPZi963fZiJAQsbGjn1URUCtLKgB6HVBQGrF8uF2/FNAt4NhhCNTTEC70PkpKzRUQIpOQdfHs1JA3Hc+JovRUEAjhyAVAh8IQFD23Dij60NAjn3eQNtoE0AAFCLgGgxQQPmiK1JNTVFASR4SncS6UkCfzS/O8PcfQAyCLMnD5jNAEvyPXGC5UkBQo2woHUxAQA6QAnWwbFBATBNHh1+uUUDPC49nvXEsQByemJjdR+I/5H3n5ww+AEBSsNFT9z9NQGaczFVVgipABnHVeHE/NEBBWGlVq49QQD7a6NMqfQRAFXkdmHfzQEAhh1vWzUJEQC6O6awh41VAiP7j/+adU0ADRpB9YZc+QJo4qZyxAzdAsqAQMqavQ0BsbaNhLC0rQPqK4tBK01ZAxjhK7+xqTUBu2omwy5E0QHcGmWJyFkpAQCnpbrs8TUBKc6U1YcBQQPPt6t2bxFJA/xlNU44lNkDa7mDOABRAQLI+O8MPuEhAjDuneMfW6j909Y3tU6VHQCS+hg5GolVASqxkNOunTEBFdkq7f7pSQB8fgWFy5lZAZirRtGv3NUC14Co/CIJOQF+Al4AX/jlA1QgJp+ANRkD0Ciyz+ORFQEAewuFoiD1Ar6wyvU57I0CL0t1geKtLQAZDLmow80lAO28ZOpEFTUCo3/IiO45AQDGzK0uZ/09AhlSsVZp/LUDIz4jk9KkyQCGQnPt23FdATjuA26f5OEB3yYISqg42QDwuMHpw21RAa29WX7xmUkAf7U86zhBKQICxwWowekhAq8oQ+DsEM0CuYO9HfSocQBRTyH0crUtAYp3kHYisVECLuhgn5XJVQAb4Ag8RVFVA83Qv503XOECcG+VVQJlUQABU28eE+xxAtYgZOGboMUBIeifMxkwWQFbpH/3NCBNAe2JhICmHREBBggHFEfFYQEhM4OWM+kBAQI48dRg1JEAAdpp7t/ZDQJjrvcWRt0pA+Bqyyc3fN0DpnGTEtMxQQA7AxPIJCUNAMEWXpHhfxz9QSrRxFZgjQKp5RMA3JlVAxHuTZFyUKkA+jPmZu6X4P5nw/x2Os1ZAWq2z6Us5VEBIM9D7HRU1QOMSMMCun1RAde+EiNvmV0BEogLmXRhFQMpWgB0N5lhAed4kia8NQUA0OgX44eBUQDV7BG8KP1RA9BNTDZMuVkBWeBgn0ZNLQJOaN+TTzkhAcQTtHmUDUEA0JhGZ0nRYQIT96ibrEEhAkAptiODRUED+Bt9ypoNXQMkI00o7fgpAYB5SnEdKVkA6wEXPoCBTQAsgEu46NDBA0aX7LUmVUEBcTN5KuVrlPyZtC4F1u1RAGFOANGbqG0BPCTyFpSdQQPWs7HtOGUVAvJYKTEcJSkAR8sjZrvBRQNTHdMI6TSpAKD0frZOBVEAiGCVO59clQIQIdWZzRC1AuKLQB2ewQEBS9lcL5ThUQBxxWvKWFUNACDtkeuHTQ0AXxmhVNz81QE//utUy+0RAO7yt4CmRM0A09EHiPnEHQMyNTbi7ekVA6b3K/GShR0CqRq4GQcZRQEbUqRsJKE1Ae6dkNGHmU0BWqXZkHDFUQCPitySyvVdAg34/p0hqSUCatFNZSqdJQDr+m+s3KkJARYtTj4nfVEBy9hZC86BHQH1C0zJOTjNAvLNUEU3yAkAEIr30F/UoQCQuv8KWZU1AgMYAMAnJNEBo7XkD1B9WQCW8YB8L+1BAec/Am8QiI0Bpp7BaUWtLQPcNOKBxGFZAOQ//WqjzPEC0GnKzgNf8P3P4Wb/yQjNA4rKXoF4vA0BBEWOGPVlQQCIg+erWizFAM+Vnn8+ZTEBM/yE8nUxLQI9OPr+rVh1AQVYFoIqRL0D9R1LEOks9QKclFAD24VFA70AFgLCUWEAEzIdvyY9EQPZt5V1sYkhAxDAkRPNmMkC2YJ61Wkk1QPiHeqOm7ktAOOZ/b0OZOEDVyT05ZPBTQOCrfWcRIi1AEI9+VzrcRkA=\"},\"shape\":[1000],\"dtype\":\"float64\",\"order\":\"little\"}],[\"fill_color\",[\"#ffcbff\",\"#ffb0ff\",\"#ff35ff\",\"#ff7aff\",\"#ffe3ff\",\"#ff3bff\",\"#ffafff\",\"#ff23ff\",\"#ff90ff\",\"#ff6fff\",\"#ffe2ff\",\"#ffadff\",\"#ff7eff\",\"#ff8dff\",\"#ff57ff\",\"#ff7bff\",\"#ff78ff\",\"#ff7cff\",\"#ffc0ff\",\"#fff0ff\",\"#ff6bff\",\"#ff65ff\",\"#ff34ff\",\"#ff6eff\",\"#ff6bff\",\"#ff9fff\",\"#ff96ff\",\"#ffd2ff\",\"#ff18ff\",\"#ff49ff\",\"#ffaaff\",\"#ff40ff\",\"#ff8dff\",\"#ff75ff\",\"#ff86ff\",\"#ff2eff\",\"#ffc3ff\",\"#ff8dff\",\"#ffcfff\",\"#ffe7ff\",\"#ffb1ff\",\"#ff58ff\",\"#ff52ff\",\"#ff74ff\",\"#ff66ff\",\"#ff49ff\",\"#ff77ff\",\"#ffdaff\",\"#ff70ff\",\"#ff13ff\",\"#ffb5ff\",\"#ff99ff\",\"#ffeeff\",\"#ff21ff\",\"#ff70ff\",\"#ffdcff\",\"#ffe6ff\",\"#ff9fff\",\"#ff40ff\",\"#ff58ff\",\"#ffcaff\",\"#ff82ff\",\"#ffd1ff\",\"#ffa8ff\",\"#ff51ff\",\"#ffefff\",\"#ff8fff\",\"#ff66ff\",\"#ff11ff\",\"#ffc3ff\",\"#ff42ff\",\"#ff30ff\",\"#ff5bff\",\"#ff3aff\",\"#ff4aff\",\"#ff5aff\",\"#ffd0ff\",\"#ff23ff\",\"#ffdaff\",\"#ffb4ff\",\"#ff2fff\",\"#fff1ff\",\"#ff52ff\",\"#ff20ff\",\"#ff6cff\",\"#ffbfff\",\"#ff17ff\",\"#ff95ff\",\"#ff7fff\",\"#ffaeff\",\"#ffe2ff\",\"#ff94ff\",\"#ffb7ff\",\"#ffd7ff\",\"#ff36ff\",\"#ff5bff\",\"#ffbcff\",\"#ff55ff\",\"#ff0dff\",\"#fff1ff\",\"#ff06ff\",\"#ff09ff\",\"#ffe2ff\",\"#ff56ff\",\"#ff79ff\",\"#ffbfff\",\"#ff9eff\",\"#ff14ff\",\"#ffc3ff\",\"#ffbeff\",\"#ff28ff\",\"#ff0aff\",\"#ff0cff\",\"#ffe8ff\",\"#ffebff\",\"#ff1fff\",\"#ffe7ff\",\"#ffd5ff\",\"#ffd9ff\",\"#ffddff\",\"#ff0fff\",\"#ff19ff\",\"#ff86ff\",\"#fff5ff\",\"#ff29ff\",\"#ffecff\",\"#ff4fff\",\"#ff79ff\",\"#ff51ff\",\"#ffabff\",\"#ffb9ff\",\"#ff30ff\",\"#ff14ff\",\"#ffd0ff\",\"#ffb3ff\",\"#ff37ff\",\"#ff97ff\",\"#ff41ff\",\"#ffd0ff\",\"#ffa9ff\",\"#ffcfff\",\"#ffd8ff\",\"#ffdbff\",\"#ff75ff\",\"#ffb1ff\",\"#ff8dff\",\"#fff4ff\",\"#ff23ff\",\"#ff92ff\",\"#ff5eff\",\"#ffbdff\",\"#ff29ff\",\"#ff13ff\",\"#ffc2ff\",\"#ffe5ff\",\"#ffd0ff\",\"#ff08ff\",\"#ffe1ff\",\"#ff7dff\",\"#ff85ff\",\"#ff84ff\",\"#ff42ff\",\"#ff08ff\",\"#ff9fff\",\"#ff92ff\",\"#ffaaff\",\"#ff2aff\",\"#fff0ff\",\"#ffc9ff\",\"#ff83ff\",\"#ff14ff\",\"#ffa1ff\",\"#ffbcff\",\"#ff51ff\",\"#ff24ff\",\"#ff7dff\",\"#ff10ff\",\"#ff53ff\",\"#ffbaff\",\"#ffa3ff\",\"#ff44ff\",\"#ff2eff\",\"#ff55ff\",\"#ff33ff\",\"#ffe2ff\",\"#ffa8ff\",\"#ff0fff\",\"#ff7eff\",\"#ff68ff\",\"#ffafff\",\"#ff9cff\",\"#ff68ff\",\"#ff4aff\",\"#ffb2ff\",\"#ff82ff\",\"#ffd2ff\",\"#fff9ff\",\"#ffbaff\",\"#ff13ff\",\"#fff3ff\",\"#ff1bff\",\"#ff7bff\",\"#ff39ff\",\"#ff33ff\",\"#ff4bff\",\"#ff6aff\",\"#ff72ff\",\"#ff71ff\",\"#ff4aff\",\"#ffe3ff\",\"#ff8bff\",\"#ff35ff\",\"#ffdfff\",\"#ffa4ff\",\"#ff46ff\",\"#ff75ff\",\"#ff9fff\",\"#ff50ff\",\"#ff2bff\",\"#ffb4ff\",\"#ff1bff\",\"#ffa8ff\",\"#ffeaff\",\"#ffbfff\",\"#ffd2ff\",\"#ffc8ff\",\"#fff1ff\",\"#ff51ff\",\"#ff3eff\",\"#ff2fff\",\"#ffa1ff\",\"#ff28ff\",\"#ff92ff\",\"#ff18ff\",\"#ff38ff\",\"#ff2cff\",\"#ff26ff\",\"#ff0cff\",\"#ff5dff\",\"#ffb3ff\",\"#ff42ff\",\"#ff44ff\",\"#ff84ff\",\"#ff79ff\",\"#ff5fff\",\"#ff6aff\",\"#ffe2ff\",\"#ffc0ff\",\"#ff1cff\",\"#ffd3ff\",\"#ff29ff\",\"#ffa4ff\",\"#ffedff\",\"#ff57ff\",\"#ff42ff\",\"#ff13ff\",\"#ff4aff\",\"#ff42ff\",\"#ff07ff\",\"#ff29ff\",\"#ff81ff\",\"#ff12ff\",\"#ffc1ff\",\"#ffb6ff\",\"#ff62ff\",\"#ff3fff\",\"#ffd9ff\",\"#ff1fff\",\"#ff6fff\",\"#fff7ff\",\"#ff05ff\",\"#ff23ff\",\"#ff1dff\",\"#ffc6ff\",\"#ffd7ff\",\"#ff6dff\",\"#ff1fff\",\"#ff66ff\",\"#ffd8ff\",\"#ffa3ff\",\"#ff34ff\",\"#ff0aff\",\"#ff4bff\",\"#ffa2ff\",\"#ffdfff\",\"#fff5ff\",\"#fffbff\",\"#fff9ff\",\"#ff1eff\",\"#fff9ff\",\"#ff6dff\",\"#ffa8ff\",\"#ff24ff\",\"#fff7ff\",\"#ff1cff\",\"#ffd7ff\",\"#ff7eff\",\"#ffbbff\",\"#ff98ff\",\"#ff2bff\",\"#ff16ff\",\"#ff31ff\",\"#ff86ff\",\"#ffc9ff\",\"#ffb1ff\",\"#ff0eff\",\"#ff25ff\",\"#ffe6ff\",\"#ff60ff\",\"#ff61ff\",\"#ff03ff\",\"#ffc0ff\",\"#ff6eff\",\"#ff99ff\",\"#ff55ff\",\"#ffb2ff\",\"#ff70ff\",\"#ff57ff\",\"#ff1dff\",\"#ff40ff\",\"#ffdaff\",\"#ff50ff\",\"#ff80ff\",\"#ff18ff\",\"#ff5eff\",\"#ff87ff\",\"#ff11ff\",\"#ffd1ff\",\"#ffb6ff\",\"#ff84ff\",\"#ff64ff\",\"#ff7eff\",\"#fff4ff\",\"#ff4aff\",\"#ff4aff\",\"#ffe8ff\",\"#ff8dff\",\"#fff1ff\",\"#ff9cff\",\"#ff7cff\",\"#ff98ff\",\"#ff73ff\",\"#ffa2ff\",\"#ff77ff\",\"#ffd0ff\",\"#ff79ff\",\"#ff4eff\",\"#ff1bff\",\"#ffeaff\",\"#ff6cff\",\"#fffeff\",\"#ff78ff\",\"#ffeeff\",\"#ff68ff\",\"#ff2eff\",\"#ff2eff\",\"#ff9bff\",\"#ff9eff\",\"#ffe9ff\",\"#ff13ff\",\"#ff53ff\",\"#ff50ff\",\"#ff69ff\",\"#ff38ff\",\"#ff5dff\",\"#ff9cff\",\"#ffc9ff\",\"#ffe0ff\",\"#fffaff\",\"#ffebff\",\"#ffd8ff\",\"#ffa1ff\",\"#ffb5ff\",\"#ff6fff\",\"#ff64ff\",\"#ff07ff\",\"#ff55ff\",\"#ff5aff\",\"#ff05ff\",\"#ffdeff\",\"#ff1eff\",\"#ff70ff\",\"#ff03ff\",\"#ff7eff\",\"#ff11ff\",\"#ffa3ff\",\"#ff4aff\",\"#ff90ff\",\"#ffb1ff\",\"#ffc5ff\",\"#ff60ff\",\"#ff6fff\",\"#ff53ff\",\"#ff86ff\",\"#ffbdff\",\"#ffc5ff\",\"#ff67ff\",\"#ffa9ff\",\"#fffaff\",\"#ff7cff\",\"#ffdeff\",\"#ff07ff\",\"#ffebff\",\"#ff7bff\",\"#ff6cff\",\"#ffdbff\",\"#fff1ff\",\"#ff23ff\",\"#ffa1ff\",\"#ff58ff\",\"#ff10ff\",\"#ff2aff\",\"#ff0bff\",\"#ff46ff\",\"#ff81ff\",\"#ff8cff\",\"#ffcaff\",\"#ff09ff\",\"#ff0eff\",\"#ff97ff\",\"#ff1fff\",\"#ff40ff\",\"#ff3eff\",\"#ff1dff\",\"#ff82ff\",\"#ffceff\",\"#ff6cff\",\"#ff49ff\",\"#ffaeff\",\"#ff54ff\",\"#ffe9ff\",\"#ffc8ff\",\"#ff3dff\",\"#ffd7ff\",\"#ff79ff\",\"#ff5fff\",\"#ffccff\",\"#ff7aff\",\"#ff9dff\",\"#ff9cff\",\"#ffd0ff\",\"#ff18ff\",\"#ff13ff\",\"#ffb4ff\",\"#ff48ff\",\"#ff10ff\",\"#ffb8ff\",\"#ffc3ff\",\"#ff60ff\",\"#ffa5ff\",\"#ff3aff\",\"#ffa7ff\",\"#ff03ff\",\"#ff70ff\",\"#fff0ff\",\"#ff98ff\",\"#ff85ff\",\"#ff21ff\",\"#ff31ff\",\"#ff50ff\",\"#ff64ff\",\"#ff6bff\",\"#ffb7ff\",\"#ff3fff\",\"#ffecff\",\"#ff25ff\",\"#ff12ff\",\"#ff6fff\",\"#ffbeff\",\"#ff6bff\",\"#ffe6ff\",\"#ffb1ff\",\"#ffa1ff\",\"#ff1fff\",\"#ffc1ff\",\"#ffe5ff\",\"#ff8fff\",\"#ff35ff\",\"#ffabff\",\"#ff97ff\",\"#ff56ff\",\"#ff1cff\",\"#ff4eff\",\"#ff0aff\",\"#ff12ff\",\"#ff22ff\",\"#ff2aff\",\"#ff09ff\",\"#ff4cff\",\"#ff8bff\",\"#ff63ff\",\"#ffdeff\",\"#ff4eff\",\"#ff91ff\",\"#ffcaff\",\"#ff90ff\",\"#ff52ff\",\"#ff04ff\",\"#ff2fff\",\"#ffbbff\",\"#ff4fff\",\"#ff72ff\",\"#ffd4ff\",\"#ff7fff\",\"#ffeaff\",\"#ff50ff\",\"#ff05ff\",\"#ff65ff\",\"#ff82ff\",\"#fffbff\",\"#ffddff\",\"#ff9eff\",\"#ff8aff\",\"#ffe3ff\",\"#ff12ff\",\"#ff67ff\",\"#ff5dff\",\"#ffcdff\",\"#fffcff\",\"#ff2aff\",\"#ff46ff\",\"#ffbbff\",\"#fff2ff\",\"#ff91ff\",\"#ff92ff\",\"#fffaff\",\"#ff60ff\",\"#ff01ff\",\"#ff12ff\",\"#ff64ff\",\"#fff6ff\",\"#ffd7ff\",\"#ff7dff\",\"#ff68ff\",\"#ff43ff\",\"#ffccff\",\"#ff2bff\",\"#ff30ff\",\"#ff82ff\",\"#ffe4ff\",\"#ffdbff\",\"#ff59ff\",\"#ff98ff\",\"#ff97ff\",\"#ff18ff\",\"#ffe9ff\",\"#ff52ff\",\"#ffa4ff\",\"#ff5cff\",\"#ff67ff\",\"#fff6ff\",\"#ffc5ff\",\"#ff4fff\",\"#ffd1ff\",\"#ffe1ff\",\"#ffa3ff\",\"#ff55ff\",\"#ff84ff\",\"#ff0dff\",\"#ff3eff\",\"#ffe3ff\",\"#ff16ff\",\"#ffa2ff\",\"#ffdbff\",\"#ff4bff\",\"#ff7aff\",\"#ff99ff\",\"#ffd1ff\",\"#ffa0ff\",\"#ff16ff\",\"#ffcbff\",\"#ff99ff\",\"#ff36ff\",\"#ff94ff\",\"#ff23ff\",\"#ff79ff\",\"#ff48ff\",\"#ffdaff\",\"#ff0bff\",\"#fff4ff\",\"#ffb8ff\",\"#ff60ff\",\"#fffcff\",\"#ff58ff\",\"#ff6eff\",\"#ff43ff\",\"#ffd2ff\",\"#ffbeff\",\"#ffdcff\",\"#ff45ff\",\"#ff9aff\",\"#ff76ff\",\"#ff4fff\",\"#ff68ff\",\"#ff8fff\",\"#ff8dff\",\"#ff9fff\",\"#ffa4ff\",\"#ff5cff\",\"#ff5fff\",\"#ff2bff\",\"#fff1ff\",\"#ff7dff\",\"#ff3bff\",\"#ff2fff\",\"#ffbeff\",\"#ff78ff\",\"#ff6aff\",\"#ff09ff\",\"#ff7eff\",\"#ff8dff\",\"#ffcfff\",\"#ff2eff\",\"#ff0fff\",\"#ff62ff\",\"#ff81ff\",\"#ff2fff\",\"#ff24ff\",\"#fffeff\",\"#ffc4ff\",\"#ff91ff\",\"#fff3ff\",\"#ff00ff\",\"#ff25ff\",\"#ff90ff\",\"#ff94ff\",\"#fffdff\",\"#ffdbff\",\"#ff15ff\",\"#ffdeff\",\"#ff2eff\",\"#ffcaff\",\"#ffcdff\",\"#ffd2ff\",\"#ffaaff\",\"#ff94ff\",\"#ffcfff\",\"#ffe4ff\",\"#ffbdff\",\"#ffa1ff\",\"#ff0dff\",\"#ff83ff\",\"#ff51ff\",\"#ff79ff\",\"#ffb6ff\",\"#ff3fff\",\"#ff9dff\",\"#ff21ff\",\"#ffe6ff\",\"#ff90ff\",\"#ffe3ff\",\"#ff59ff\",\"#ff28ff\",\"#ff22ff\",\"#ffb8ff\",\"#fff2ff\",\"#ffc2ff\",\"#ff59ff\",\"#ff50ff\",\"#ff28ff\",\"#ff1bff\",\"#ff30ff\",\"#ff84ff\",\"#ff5dff\",\"#ffecff\",\"#ff1eff\",\"#ffdbff\",\"#ff76ff\",\"#ff7bff\",\"#ffb6ff\",\"#ffe1ff\",\"#ff9cff\",\"#ffcdff\",\"#ffebff\",\"#ff4fff\",\"#ffdeff\",\"#ffb9ff\",\"#fffcff\",\"#ff58ff\",\"#ff18ff\",\"#ffd1ff\",\"#ffa1ff\",\"#ff0aff\",\"#ffddff\",\"#ffe2ff\",\"#ff1cff\",\"#ff2eff\",\"#ff07ff\",\"#ff83ff\",\"#ff57ff\",\"#ffc3ff\",\"#ff91ff\",\"#ffe3ff\",\"#ffd3ff\",\"#ff8bff\",\"#ff5fff\",\"#ffa7ff\",\"#ff9aff\",\"#ff22ff\",\"#ffd3ff\",\"#ff2fff\",\"#ff35ff\",\"#ff32ff\",\"#ff25ff\",\"#ff88ff\",\"#fff9ff\",\"#ff93ff\",\"#ff3bff\",\"#ff0eff\",\"#ff6cff\",\"#ffdcff\",\"#ffa2ff\",\"#ff79ff\",\"#ffe0ff\",\"#ff73ff\",\"#ff0bff\",\"#ffd8ff\",\"#ff97ff\",\"#ff94ff\",\"#ffb2ff\",\"#ff50ff\",\"#ffd8ff\",\"#ffb4ff\",\"#fffeff\",\"#ff32ff\",\"#ff46ff\",\"#ffd2ff\",\"#ffd0ff\",\"#ff52ff\",\"#ffabff\",\"#ff2dff\",\"#ff00ff\",\"#ff61ff\",\"#ff36ff\",\"#ff75ff\",\"#ff17ff\",\"#ffd9ff\",\"#ff3cff\",\"#ffadff\",\"#ff30ff\",\"#ffddff\",\"#ff20ff\",\"#ffd1ff\",\"#ff2eff\",\"#ffb1ff\",\"#ffceff\",\"#ff88ff\",\"#ffc2ff\",\"#ff04ff\",\"#ff62ff\",\"#ffd0ff\",\"#ffd7ff\",\"#ff21ff\",\"#ff91ff\",\"#ff55ff\",\"#ff03ff\",\"#ff6aff\",\"#ff40ff\",\"#ff2fff\",\"#fff9ff\",\"#ff58ff\",\"#ff5cff\",\"#ffedff\",\"#ff11ff\",\"#ff89ff\",\"#ffecff\",\"#ff4eff\",\"#ffa7ff\",\"#ffdfff\",\"#ff95ff\",\"#ff23ff\",\"#ff13ff\",\"#ff47ff\",\"#ff8dff\",\"#ff0dff\",\"#ffaaff\",\"#ff52ff\",\"#ff89ff\",\"#ff13ff\",\"#ffcaff\",\"#ffe2ff\",\"#ffc8ff\",\"#ffeaff\",\"#ff53ff\",\"#ff71ff\",\"#ff0aff\",\"#ffbbff\",\"#ff80ff\",\"#ffa8ff\",\"#ff81ff\",\"#ff6eff\",\"#ff51ff\",\"#ff39ff\",\"#ff46ff\",\"#fff8ff\",\"#fffbff\",\"#ff6aff\",\"#ffcbff\",\"#ff90ff\",\"#ffbeff\",\"#ffdbff\",\"#ff45ff\",\"#ff6dff\",\"#ffb5ff\",\"#ff38ff\",\"#ff91ff\",\"#ffdbff\",\"#ff74ff\",\"#ff51ff\",\"#ffc2ff\",\"#ff32ff\",\"#fff4ff\",\"#ffe5ff\",\"#ff9bff\",\"#ff71ff\",\"#ff17ff\",\"#ff6cff\",\"#ff59ff\",\"#ffcbff\",\"#ff90ff\",\"#ffceff\",\"#ffbeff\",\"#ffabff\",\"#ff07ff\",\"#ff65ff\",\"#ff0cff\",\"#ffa3ff\",\"#ffb0ff\",\"#ffbfff\",\"#ff14ff\",\"#ff32ff\",\"#ffbeff\",\"#ff53ff\",\"#ffa7ff\",\"#ffb4ff\",\"#ff24ff\",\"#ff01ff\",\"#ff05ff\",\"#ff95ff\",\"#ff21ff\",\"#ff33ff\",\"#ffa8ff\",\"#ff06ff\",\"#ff56ff\",\"#ff67ff\",\"#ffdfff\",\"#ffc8ff\",\"#ff4eff\",\"#ff3aff\",\"#ff64ff\",\"#ff22ff\",\"#ffe8ff\",\"#ff96ff\",\"#ff34ff\",\"#ff85ff\",\"#ff95ff\",\"#ffaaff\",\"#ffbfff\",\"#ff38ff\",\"#ff51ff\",\"#ff7eff\",\"#ff02ff\",\"#ff78ff\",\"#ffdcff\",\"#ff92ff\",\"#ffbfff\",\"#ffe9ff\",\"#ff38ff\",\"#ff9bff\",\"#ff42ff\",\"#ff70ff\",\"#ff6fff\",\"#ff4bff\",\"#ff18ff\",\"#ff8dff\",\"#ff84ff\",\"#ff94ff\",\"#ff54ff\",\"#ffa3ff\",\"#ff25ff\",\"#ff2fff\",\"#fff3ff\",\"#ff3fff\",\"#ff38ff\",\"#ffd4ff\",\"#ffbbff\",\"#ff84ff\",\"#ff7cff\",\"#ff30ff\",\"#ff11ff\",\"#ff8dff\",\"#ffd2ff\",\"#ffdaff\",\"#ffd9ff\",\"#ff3fff\",\"#ffd2ff\",\"#ff12ff\",\"#ff2dff\",\"#ff0eff\",\"#ff0cff\",\"#ff68ff\",\"#fffeff\",\"#ff56ff\",\"#ff19ff\",\"#ff65ff\",\"#ff88ff\",\"#ff3cff\",\"#ffabff\",\"#ff61ff\",\"#ff00ff\",\"#ff18ff\",\"#ffd7ff\",\"#ff21ff\",\"#ff03ff\",\"#ffe7ff\",\"#ffceff\",\"#ff35ff\",\"#ffd2ff\",\"#fff3ff\",\"#ff6bff\",\"#fffdff\",\"#ff56ff\",\"#ffd4ff\",\"#ffceff\",\"#ffe2ff\",\"#ff8cff\",\"#ff7eff\",\"#ffa3ff\",\"#fff9ff\",\"#ff7aff\",\"#ffabff\",\"#ffefff\",\"#ff08ff\",\"#ffe3ff\",\"#ffc3ff\",\"#ff29ff\",\"#ffa9ff\",\"#ff01ff\",\"#ffd3ff\",\"#ff11ff\",\"#ffa4ff\",\"#ff6bff\",\"#ff84ff\",\"#ffb6ff\",\"#ff21ff\",\"#ffd1ff\",\"#ff1bff\",\"#ff25ff\",\"#ff55ff\",\"#ffceff\",\"#ff61ff\",\"#ff65ff\",\"#ff36ff\",\"#ff6bff\",\"#ff31ff\",\"#ff07ff\",\"#ff6dff\",\"#ff78ff\",\"#ffb5ff\",\"#ff94ff\",\"#ffcaff\",\"#ffcdff\",\"#fff2ff\",\"#ff81ff\",\"#ff82ff\",\"#ff5cff\",\"#ffd4ff\",\"#ff78ff\",\"#ff31ff\",\"#ff06ff\",\"#ff1fff\",\"#ff95ff\",\"#ff35ff\",\"#ffe1ff\",\"#ffadff\",\"#ff18ff\",\"#ff8bff\",\"#ffe1ff\",\"#ff49ff\",\"#ff04ff\",\"#ff31ff\",\"#ff06ff\",\"#ffa6ff\",\"#ff2cff\",\"#ff91ff\",\"#ff8bff\",\"#ff12ff\",\"#ff28ff\",\"#ff4aff\",\"#ffb6ff\",\"#fffaff\",\"#ff68ff\",\"#ff7cff\",\"#ff2eff\",\"#ff36ff\",\"#ff8eff\",\"#ff3eff\",\"#ffcbff\",\"#ff25ff\",\"#ff74ff\"]]]}}},\"view\":{\"type\":\"object\",\"name\":\"CDSView\",\"id\":\"p3527\",\"attributes\":{\"filter\":{\"type\":\"object\",\"name\":\"AllIndices\",\"id\":\"p3528\"}}},\"glyph\":{\"type\":\"object\",\"name\":\"Circle\",\"id\":\"p3523\",\"attributes\":{\"x\":{\"type\":\"field\",\"field\":\"x\"},\"y\":{\"type\":\"field\",\"field\":\"y\"},\"line_color\":{\"type\":\"value\",\"value\":\"lightgrey\"},\"fill_color\":{\"type\":\"field\",\"field\":\"fill_color\"},\"fill_alpha\":{\"type\":\"value\",\"value\":0.6},\"radius\":{\"type\":\"field\",\"field\":\"radius\"}}},\"nonselection_glyph\":{\"type\":\"object\",\"name\":\"Circle\",\"id\":\"p3524\",\"attributes\":{\"x\":{\"type\":\"field\",\"field\":\"x\"},\"y\":{\"type\":\"field\",\"field\":\"y\"},\"line_color\":{\"type\":\"value\",\"value\":\"lightgrey\"},\"line_alpha\":{\"type\":\"value\",\"value\":0.1},\"fill_color\":{\"type\":\"field\",\"field\":\"fill_color\"},\"fill_alpha\":{\"type\":\"value\",\"value\":0.1},\"hatch_alpha\":{\"type\":\"value\",\"value\":0.1},\"radius\":{\"type\":\"field\",\"field\":\"radius\"}}},\"muted_glyph\":{\"type\":\"object\",\"name\":\"Circle\",\"id\":\"p3525\",\"attributes\":{\"x\":{\"type\":\"field\",\"field\":\"x\"},\"y\":{\"type\":\"field\",\"field\":\"y\"},\"line_color\":{\"type\":\"value\",\"value\":\"lightgrey\"},\"line_alpha\":{\"type\":\"value\",\"value\":0.2},\"fill_color\":{\"type\":\"field\",\"field\":\"fill_color\"},\"fill_alpha\":{\"type\":\"value\",\"value\":0.2},\"hatch_alpha\":{\"type\":\"value\",\"value\":0.2},\"radius\":{\"type\":\"field\",\"field\":\"radius\"}}}}}],\"toolbar\":{\"type\":\"object\",\"name\":\"Toolbar\",\"id\":\"p3479\",\"attributes\":{\"tools\":[{\"type\":\"object\",\"name\":\"PanTool\",\"id\":\"p3505\"},{\"type\":\"object\",\"name\":\"WheelZoomTool\",\"id\":\"p3506\"},{\"type\":\"object\",\"name\":\"BoxZoomTool\",\"id\":\"p3507\",\"attributes\":{\"overlay\":{\"type\":\"object\",\"name\":\"BoxAnnotation\",\"id\":\"p3508\",\"attributes\":{\"syncable\":false,\"level\":\"overlay\",\"visible\":false,\"left_units\":\"canvas\",\"right_units\":\"canvas\",\"bottom_units\":\"canvas\",\"top_units\":\"canvas\",\"line_color\":\"black\",\"line_alpha\":1.0,\"line_width\":2,\"line_dash\":[4,4],\"fill_color\":\"lightgrey\",\"fill_alpha\":0.5}}}},{\"type\":\"object\",\"name\":\"SaveTool\",\"id\":\"p3509\"},{\"type\":\"object\",\"name\":\"ResetTool\",\"id\":\"p3510\"},{\"type\":\"object\",\"name\":\"HelpTool\",\"id\":\"p3511\"}]}},\"left\":[{\"type\":\"object\",\"name\":\"LinearAxis\",\"id\":\"p3498\",\"attributes\":{\"ticker\":{\"type\":\"object\",\"name\":\"BasicTicker\",\"id\":\"p3499\",\"attributes\":{\"mantissas\":[1,2,5]}},\"formatter\":{\"type\":\"object\",\"name\":\"BasicTickFormatter\",\"id\":\"p3500\"},\"axis_label_standoff\":10,\"axis_label_text_color\":\"#5B5B5B\",\"axis_label_text_font\":\"Helvetica\",\"axis_label_text_font_size\":\"1.25em\",\"axis_label_text_font_style\":\"normal\",\"major_label_policy\":{\"type\":\"object\",\"name\":\"AllLabels\",\"id\":\"p3501\"},\"major_label_text_color\":\"#5B5B5B\",\"major_label_text_font\":\"Helvetica\",\"major_label_text_font_size\":\"1.025em\",\"axis_line_color\":\"#5B5B5B\",\"axis_line_alpha\":0,\"major_tick_line_color\":\"#5B5B5B\",\"major_tick_line_alpha\":0,\"minor_tick_line_color\":\"#5B5B5B\",\"minor_tick_line_alpha\":0}}],\"below\":[{\"type\":\"object\",\"name\":\"LinearAxis\",\"id\":\"p3491\",\"attributes\":{\"ticker\":{\"type\":\"object\",\"name\":\"BasicTicker\",\"id\":\"p3492\",\"attributes\":{\"mantissas\":[1,2,5]}},\"formatter\":{\"type\":\"object\",\"name\":\"BasicTickFormatter\",\"id\":\"p3493\"},\"axis_label_standoff\":10,\"axis_label_text_color\":\"#5B5B5B\",\"axis_label_text_font\":\"Helvetica\",\"axis_label_text_font_size\":\"1.25em\",\"axis_label_text_font_style\":\"normal\",\"major_label_policy\":{\"type\":\"object\",\"name\":\"AllLabels\",\"id\":\"p3494\"},\"major_label_text_color\":\"#5B5B5B\",\"major_label_text_font\":\"Helvetica\",\"major_label_text_font_size\":\"1.025em\",\"axis_line_color\":\"#5B5B5B\",\"axis_line_alpha\":0,\"major_tick_line_color\":\"#5B5B5B\",\"major_tick_line_alpha\":0,\"minor_tick_line_color\":\"#5B5B5B\",\"minor_tick_line_alpha\":0}}],\"center\":[{\"type\":\"object\",\"name\":\"Grid\",\"id\":\"p3497\",\"attributes\":{\"axis\":{\"id\":\"p3491\"}}},{\"type\":\"object\",\"name\":\"Grid\",\"id\":\"p3504\",\"attributes\":{\"dimension\":1,\"axis\":{\"id\":\"p3498\"}}}]}}],\"callbacks\":{\"type\":\"map\"}}};\n",
       "  const render_items = [{\"docid\":\"daedd5df-018f-4bbd-a694-336d3758d840\",\"roots\":{\"p3473\":\"9cb69943-13ef-487e-bc74-dee458bfd9d1\"},\"root_ids\":[\"p3473\"]}];\n",
       "  root.Bokeh.embed.embed_items_notebook(docs_json, render_items);\n",
       "  }\n",
       "  if (root.Bokeh !== undefined) {\n",
       "    embed_document(root);\n",
       "  } else {\n",
       "    let attempts = 0;\n",
       "    const timer = setInterval(function(root) {\n",
       "      if (root.Bokeh !== undefined) {\n",
       "        clearInterval(timer);\n",
       "        embed_document(root);\n",
       "      } else {\n",
       "        attempts++;\n",
       "        if (attempts > 100) {\n",
       "          clearInterval(timer);\n",
       "          console.log(\"Bokeh: ERROR: Unable to run BokehJS code because BokehJS library is missing\");\n",
       "        }\n",
       "      }\n",
       "    }, 10, root)\n",
       "  }\n",
       "})(window);"
      ],
      "application/vnd.bokehjs_exec.v0+json": ""
     },
     "metadata": {
      "application/vnd.bokehjs_exec.v0+json": {
       "id": "p3473"
      }
     },
     "output_type": "display_data"
    }
   ],
   "source": [
    "import numpy as np\n",
    "\n",
    "from bokeh.plotting import figure, show\n",
    "\n",
    "# generate some data\n",
    "N = 1000\n",
    "x = np.random.random(size=N) * 100\n",
    "y = np.random.random(size=N) * 100\n",
    "\n",
    "# generate radii and colors based on data\n",
    "radii = y / 100 * 2   ## <<<<<<<<<<<<\n",
    "colors = [f\"#{255:02x}{int((value * 255) / 100):02x}{255:02x}\" for value in y] ## <<<<<<<<<<<<<\n",
    "\n",
    "# create a new plot with a specific size\n",
    "p = figure(\n",
    "    title=\"Vectorized colors and radii example\",\n",
    "    sizing_mode=\"stretch_width\",\n",
    "    max_width=500,\n",
    "    height=250,\n",
    ")\n",
    "\n",
    "# add circle renderer\n",
    "p.circle(\n",
    "    x,\n",
    "    y,\n",
    "    radius=radii, ## <<<<<<<<<<<<<<<<<<\n",
    "    fill_color=colors, ## <<<<<<<<<<<<<<<<<<\n",
    "    fill_alpha=0.6,\n",
    "    line_color=\"lightgrey\",\n",
    ")\n",
    "\n",
    "# show the results\n",
    "show(p)"
   ]
  },
  {
   "cell_type": "markdown",
   "id": "0b684a53",
   "metadata": {},
   "source": [
    "## Exporting SVG images\n",
    "\n",
    "Bokeh can also replace the HTML5 Canvas plot output with a Scalable Vector Graphics (SVG) element. \n",
    "\n",
    "WARNING: SVG output isn’t as performant as the default Canvas backend when it comes to rendering a large number of glyphs or handling lots of user interactions such as panning.\n",
    "\n",
    "To activate the SVG backend, set the Plot.output_backend attribute to \"svg\".\n",
    "\n",
    "```\n",
    "plot.output_backend = \"svg\"\n",
    "```\n",
    "\n",
    "To create an SVG with a transparent background, set the Plot.background_fill_color and Plot.border_fill_color properties to None, same as for PNG exports.\n",
    "\n",
    "With code:\n",
    "```\n",
    "from bokeh.io import export_svg\n",
    "\n",
    "export_svg(plot, filename=\"plot.svg\")\n",
    "```\n",
    "\n"
   ]
  },
  {
   "cell_type": "markdown",
   "id": "e004a1e4",
   "metadata": {},
   "source": [
    "# Combining plots\n",
    "\n",
    "The easiest way to combine individual plots is to assign them to rows or columns.\n",
    "\n"
   ]
  },
  {
   "cell_type": "code",
   "execution_count": 17,
   "id": "dc61a8a7",
   "metadata": {},
   "outputs": [
    {
     "data": {
      "text/html": [
       "\n",
       "  <div id=\"8b64dc61-fbdb-4372-9c8b-ab1b4e1c8d58\" data-root-id=\"p5339\" style=\"display: contents;\"></div>\n"
      ]
     },
     "metadata": {},
     "output_type": "display_data"
    },
    {
     "data": {
      "application/javascript": [
       "(function(root) {\n",
       "  function embed_document(root) {\n",
       "  const docs_json = {\"52a2c413-d5da-4536-81fa-098f8a7b1b95\":{\"version\":\"3.1.0\",\"title\":\"Bokeh Application\",\"defs\":[],\"roots\":[{\"type\":\"object\",\"name\":\"Row\",\"id\":\"p5339\",\"attributes\":{\"children\":[{\"type\":\"object\",\"name\":\"Figure\",\"id\":\"p5119\",\"attributes\":{\"width\":250,\"height\":250,\"x_range\":{\"type\":\"object\",\"name\":\"DataRange1d\",\"id\":\"p5121\"},\"y_range\":{\"type\":\"object\",\"name\":\"DataRange1d\",\"id\":\"p5120\"},\"x_scale\":{\"type\":\"object\",\"name\":\"LinearScale\",\"id\":\"p5132\"},\"y_scale\":{\"type\":\"object\",\"name\":\"LinearScale\",\"id\":\"p5134\"},\"title\":{\"type\":\"object\",\"name\":\"Title\",\"id\":\"p5126\",\"attributes\":{\"text_color\":\"#5B5B5B\",\"text_font\":\"Helvetica\",\"text_font_size\":\"1.15em\"}},\"renderers\":[{\"type\":\"object\",\"name\":\"GlyphRenderer\",\"id\":\"p5171\",\"attributes\":{\"data_source\":{\"type\":\"object\",\"name\":\"ColumnDataSource\",\"id\":\"p5165\",\"attributes\":{\"selected\":{\"type\":\"object\",\"name\":\"Selection\",\"id\":\"p5167\",\"attributes\":{\"indices\":[],\"line_indices\":[]}},\"selection_policy\":{\"type\":\"object\",\"name\":\"UnionRenderers\",\"id\":\"p5166\"},\"data\":{\"type\":\"map\",\"entries\":[[\"x\",[0,1,2,3,4,5,6,7,8,9,10]],[\"y\",[0,1,2,3,4,5,6,7,8,9,10]]]}}},\"view\":{\"type\":\"object\",\"name\":\"CDSView\",\"id\":\"p5172\",\"attributes\":{\"filter\":{\"type\":\"object\",\"name\":\"AllIndices\",\"id\":\"p5173\"}}},\"glyph\":{\"type\":\"object\",\"name\":\"Circle\",\"id\":\"p5168\",\"attributes\":{\"x\":{\"type\":\"field\",\"field\":\"x\"},\"y\":{\"type\":\"field\",\"field\":\"y\"},\"size\":{\"type\":\"value\",\"value\":12},\"line_color\":{\"type\":\"value\",\"value\":\"#53777a\"},\"line_alpha\":{\"type\":\"value\",\"value\":0.8},\"fill_color\":{\"type\":\"value\",\"value\":\"#53777a\"},\"fill_alpha\":{\"type\":\"value\",\"value\":0.8},\"hatch_color\":{\"type\":\"value\",\"value\":\"#53777a\"},\"hatch_alpha\":{\"type\":\"value\",\"value\":0.8}}},\"nonselection_glyph\":{\"type\":\"object\",\"name\":\"Circle\",\"id\":\"p5169\",\"attributes\":{\"x\":{\"type\":\"field\",\"field\":\"x\"},\"y\":{\"type\":\"field\",\"field\":\"y\"},\"size\":{\"type\":\"value\",\"value\":12},\"line_color\":{\"type\":\"value\",\"value\":\"#53777a\"},\"line_alpha\":{\"type\":\"value\",\"value\":0.1},\"fill_color\":{\"type\":\"value\",\"value\":\"#53777a\"},\"fill_alpha\":{\"type\":\"value\",\"value\":0.1},\"hatch_color\":{\"type\":\"value\",\"value\":\"#53777a\"},\"hatch_alpha\":{\"type\":\"value\",\"value\":0.1}}},\"muted_glyph\":{\"type\":\"object\",\"name\":\"Circle\",\"id\":\"p5170\",\"attributes\":{\"x\":{\"type\":\"field\",\"field\":\"x\"},\"y\":{\"type\":\"field\",\"field\":\"y\"},\"size\":{\"type\":\"value\",\"value\":12},\"line_color\":{\"type\":\"value\",\"value\":\"#53777a\"},\"line_alpha\":{\"type\":\"value\",\"value\":0.2},\"fill_color\":{\"type\":\"value\",\"value\":\"#53777a\"},\"fill_alpha\":{\"type\":\"value\",\"value\":0.2},\"hatch_color\":{\"type\":\"value\",\"value\":\"#53777a\"},\"hatch_alpha\":{\"type\":\"value\",\"value\":0.2}}}}}],\"toolbar\":{\"type\":\"object\",\"name\":\"Toolbar\",\"id\":\"p5123\",\"attributes\":{\"tools\":[{\"type\":\"object\",\"name\":\"PanTool\",\"id\":\"p5150\"},{\"type\":\"object\",\"name\":\"WheelZoomTool\",\"id\":\"p5151\"},{\"type\":\"object\",\"name\":\"BoxZoomTool\",\"id\":\"p5152\",\"attributes\":{\"overlay\":{\"type\":\"object\",\"name\":\"BoxAnnotation\",\"id\":\"p5153\",\"attributes\":{\"syncable\":false,\"level\":\"overlay\",\"visible\":false,\"left_units\":\"canvas\",\"right_units\":\"canvas\",\"bottom_units\":\"canvas\",\"top_units\":\"canvas\",\"line_color\":\"black\",\"line_alpha\":1.0,\"line_width\":2,\"line_dash\":[4,4],\"fill_color\":\"lightgrey\",\"fill_alpha\":0.5}}}},{\"type\":\"object\",\"name\":\"SaveTool\",\"id\":\"p5154\"},{\"type\":\"object\",\"name\":\"ResetTool\",\"id\":\"p5155\"},{\"type\":\"object\",\"name\":\"HelpTool\",\"id\":\"p5156\"}]}},\"left\":[{\"type\":\"object\",\"name\":\"LinearAxis\",\"id\":\"p5143\",\"attributes\":{\"ticker\":{\"type\":\"object\",\"name\":\"BasicTicker\",\"id\":\"p5144\",\"attributes\":{\"mantissas\":[1,2,5]}},\"formatter\":{\"type\":\"object\",\"name\":\"BasicTickFormatter\",\"id\":\"p5145\"},\"axis_label_standoff\":10,\"axis_label_text_color\":\"#5B5B5B\",\"axis_label_text_font\":\"Helvetica\",\"axis_label_text_font_size\":\"1.25em\",\"axis_label_text_font_style\":\"normal\",\"major_label_policy\":{\"type\":\"object\",\"name\":\"AllLabels\",\"id\":\"p5146\"},\"major_label_text_color\":\"#5B5B5B\",\"major_label_text_font\":\"Helvetica\",\"major_label_text_font_size\":\"1.025em\",\"axis_line_color\":\"#5B5B5B\",\"axis_line_alpha\":0,\"major_tick_line_color\":\"#5B5B5B\",\"major_tick_line_alpha\":0,\"minor_tick_line_color\":\"#5B5B5B\",\"minor_tick_line_alpha\":0}}],\"below\":[{\"type\":\"object\",\"name\":\"LinearAxis\",\"id\":\"p5136\",\"attributes\":{\"ticker\":{\"type\":\"object\",\"name\":\"BasicTicker\",\"id\":\"p5137\",\"attributes\":{\"mantissas\":[1,2,5]}},\"formatter\":{\"type\":\"object\",\"name\":\"BasicTickFormatter\",\"id\":\"p5138\"},\"axis_label_standoff\":10,\"axis_label_text_color\":\"#5B5B5B\",\"axis_label_text_font\":\"Helvetica\",\"axis_label_text_font_size\":\"1.25em\",\"axis_label_text_font_style\":\"normal\",\"major_label_policy\":{\"type\":\"object\",\"name\":\"AllLabels\",\"id\":\"p5139\"},\"major_label_text_color\":\"#5B5B5B\",\"major_label_text_font\":\"Helvetica\",\"major_label_text_font_size\":\"1.025em\",\"axis_line_color\":\"#5B5B5B\",\"axis_line_alpha\":0,\"major_tick_line_color\":\"#5B5B5B\",\"major_tick_line_alpha\":0,\"minor_tick_line_color\":\"#5B5B5B\",\"minor_tick_line_alpha\":0}}],\"center\":[{\"type\":\"object\",\"name\":\"Grid\",\"id\":\"p5142\",\"attributes\":{\"axis\":{\"id\":\"p5136\"}}},{\"type\":\"object\",\"name\":\"Grid\",\"id\":\"p5149\",\"attributes\":{\"dimension\":1,\"axis\":{\"id\":\"p5143\"}}}],\"background_fill_color\":\"#fafafa\"}},{\"type\":\"object\",\"name\":\"Figure\",\"id\":\"p5174\",\"attributes\":{\"width\":250,\"height\":250,\"x_range\":{\"type\":\"object\",\"name\":\"DataRange1d\",\"id\":\"p5176\"},\"y_range\":{\"type\":\"object\",\"name\":\"DataRange1d\",\"id\":\"p5175\"},\"x_scale\":{\"type\":\"object\",\"name\":\"LinearScale\",\"id\":\"p5187\"},\"y_scale\":{\"type\":\"object\",\"name\":\"LinearScale\",\"id\":\"p5189\"},\"title\":{\"type\":\"object\",\"name\":\"Title\",\"id\":\"p5181\",\"attributes\":{\"text_color\":\"#5B5B5B\",\"text_font\":\"Helvetica\",\"text_font_size\":\"1.15em\"}},\"renderers\":[{\"type\":\"object\",\"name\":\"GlyphRenderer\",\"id\":\"p5226\",\"attributes\":{\"data_source\":{\"type\":\"object\",\"name\":\"ColumnDataSource\",\"id\":\"p5220\",\"attributes\":{\"selected\":{\"type\":\"object\",\"name\":\"Selection\",\"id\":\"p5222\",\"attributes\":{\"indices\":[],\"line_indices\":[]}},\"selection_policy\":{\"type\":\"object\",\"name\":\"UnionRenderers\",\"id\":\"p5221\"},\"data\":{\"type\":\"map\",\"entries\":[[\"x\",[0,1,2,3,4,5,6,7,8,9,10]],[\"y\",[10,9,8,7,6,5,4,3,2,1,0]]]}}},\"view\":{\"type\":\"object\",\"name\":\"CDSView\",\"id\":\"p5227\",\"attributes\":{\"filter\":{\"type\":\"object\",\"name\":\"AllIndices\",\"id\":\"p5228\"}}},\"glyph\":{\"type\":\"object\",\"name\":\"Scatter\",\"id\":\"p5223\",\"attributes\":{\"x\":{\"type\":\"field\",\"field\":\"x\"},\"y\":{\"type\":\"field\",\"field\":\"y\"},\"size\":{\"type\":\"value\",\"value\":12},\"line_color\":{\"type\":\"value\",\"value\":\"#c02942\"},\"line_alpha\":{\"type\":\"value\",\"value\":0.8},\"fill_color\":{\"type\":\"value\",\"value\":\"#c02942\"},\"fill_alpha\":{\"type\":\"value\",\"value\":0.8},\"hatch_color\":{\"type\":\"value\",\"value\":\"#c02942\"},\"hatch_alpha\":{\"type\":\"value\",\"value\":0.8},\"marker\":{\"type\":\"value\",\"value\":\"triangle\"}}},\"nonselection_glyph\":{\"type\":\"object\",\"name\":\"Scatter\",\"id\":\"p5224\",\"attributes\":{\"x\":{\"type\":\"field\",\"field\":\"x\"},\"y\":{\"type\":\"field\",\"field\":\"y\"},\"size\":{\"type\":\"value\",\"value\":12},\"line_color\":{\"type\":\"value\",\"value\":\"#c02942\"},\"line_alpha\":{\"type\":\"value\",\"value\":0.1},\"fill_color\":{\"type\":\"value\",\"value\":\"#c02942\"},\"fill_alpha\":{\"type\":\"value\",\"value\":0.1},\"hatch_color\":{\"type\":\"value\",\"value\":\"#c02942\"},\"hatch_alpha\":{\"type\":\"value\",\"value\":0.1},\"marker\":{\"type\":\"value\",\"value\":\"triangle\"}}},\"muted_glyph\":{\"type\":\"object\",\"name\":\"Scatter\",\"id\":\"p5225\",\"attributes\":{\"x\":{\"type\":\"field\",\"field\":\"x\"},\"y\":{\"type\":\"field\",\"field\":\"y\"},\"size\":{\"type\":\"value\",\"value\":12},\"line_color\":{\"type\":\"value\",\"value\":\"#c02942\"},\"line_alpha\":{\"type\":\"value\",\"value\":0.2},\"fill_color\":{\"type\":\"value\",\"value\":\"#c02942\"},\"fill_alpha\":{\"type\":\"value\",\"value\":0.2},\"hatch_color\":{\"type\":\"value\",\"value\":\"#c02942\"},\"hatch_alpha\":{\"type\":\"value\",\"value\":0.2},\"marker\":{\"type\":\"value\",\"value\":\"triangle\"}}}}}],\"toolbar\":{\"type\":\"object\",\"name\":\"Toolbar\",\"id\":\"p5178\",\"attributes\":{\"tools\":[{\"type\":\"object\",\"name\":\"PanTool\",\"id\":\"p5205\"},{\"type\":\"object\",\"name\":\"WheelZoomTool\",\"id\":\"p5206\"},{\"type\":\"object\",\"name\":\"BoxZoomTool\",\"id\":\"p5207\",\"attributes\":{\"overlay\":{\"type\":\"object\",\"name\":\"BoxAnnotation\",\"id\":\"p5208\",\"attributes\":{\"syncable\":false,\"level\":\"overlay\",\"visible\":false,\"left_units\":\"canvas\",\"right_units\":\"canvas\",\"bottom_units\":\"canvas\",\"top_units\":\"canvas\",\"line_color\":\"black\",\"line_alpha\":1.0,\"line_width\":2,\"line_dash\":[4,4],\"fill_color\":\"lightgrey\",\"fill_alpha\":0.5}}}},{\"type\":\"object\",\"name\":\"SaveTool\",\"id\":\"p5209\"},{\"type\":\"object\",\"name\":\"ResetTool\",\"id\":\"p5210\"},{\"type\":\"object\",\"name\":\"HelpTool\",\"id\":\"p5211\"}]}},\"left\":[{\"type\":\"object\",\"name\":\"LinearAxis\",\"id\":\"p5198\",\"attributes\":{\"ticker\":{\"type\":\"object\",\"name\":\"BasicTicker\",\"id\":\"p5199\",\"attributes\":{\"mantissas\":[1,2,5]}},\"formatter\":{\"type\":\"object\",\"name\":\"BasicTickFormatter\",\"id\":\"p5200\"},\"axis_label_standoff\":10,\"axis_label_text_color\":\"#5B5B5B\",\"axis_label_text_font\":\"Helvetica\",\"axis_label_text_font_size\":\"1.25em\",\"axis_label_text_font_style\":\"normal\",\"major_label_policy\":{\"type\":\"object\",\"name\":\"AllLabels\",\"id\":\"p5201\"},\"major_label_text_color\":\"#5B5B5B\",\"major_label_text_font\":\"Helvetica\",\"major_label_text_font_size\":\"1.025em\",\"axis_line_color\":\"#5B5B5B\",\"axis_line_alpha\":0,\"major_tick_line_color\":\"#5B5B5B\",\"major_tick_line_alpha\":0,\"minor_tick_line_color\":\"#5B5B5B\",\"minor_tick_line_alpha\":0}}],\"below\":[{\"type\":\"object\",\"name\":\"LinearAxis\",\"id\":\"p5191\",\"attributes\":{\"ticker\":{\"type\":\"object\",\"name\":\"BasicTicker\",\"id\":\"p5192\",\"attributes\":{\"mantissas\":[1,2,5]}},\"formatter\":{\"type\":\"object\",\"name\":\"BasicTickFormatter\",\"id\":\"p5193\"},\"axis_label_standoff\":10,\"axis_label_text_color\":\"#5B5B5B\",\"axis_label_text_font\":\"Helvetica\",\"axis_label_text_font_size\":\"1.25em\",\"axis_label_text_font_style\":\"normal\",\"major_label_policy\":{\"type\":\"object\",\"name\":\"AllLabels\",\"id\":\"p5194\"},\"major_label_text_color\":\"#5B5B5B\",\"major_label_text_font\":\"Helvetica\",\"major_label_text_font_size\":\"1.025em\",\"axis_line_color\":\"#5B5B5B\",\"axis_line_alpha\":0,\"major_tick_line_color\":\"#5B5B5B\",\"major_tick_line_alpha\":0,\"minor_tick_line_color\":\"#5B5B5B\",\"minor_tick_line_alpha\":0}}],\"center\":[{\"type\":\"object\",\"name\":\"Grid\",\"id\":\"p5197\",\"attributes\":{\"axis\":{\"id\":\"p5191\"}}},{\"type\":\"object\",\"name\":\"Grid\",\"id\":\"p5204\",\"attributes\":{\"dimension\":1,\"axis\":{\"id\":\"p5198\"}}}],\"background_fill_color\":\"#fafafa\"}},{\"type\":\"object\",\"name\":\"Figure\",\"id\":\"p5229\",\"attributes\":{\"width\":250,\"height\":250,\"x_range\":{\"type\":\"object\",\"name\":\"DataRange1d\",\"id\":\"p5231\"},\"y_range\":{\"type\":\"object\",\"name\":\"DataRange1d\",\"id\":\"p5230\"},\"x_scale\":{\"type\":\"object\",\"name\":\"LinearScale\",\"id\":\"p5242\"},\"y_scale\":{\"type\":\"object\",\"name\":\"LinearScale\",\"id\":\"p5244\"},\"title\":{\"type\":\"object\",\"name\":\"Title\",\"id\":\"p5236\",\"attributes\":{\"text_color\":\"#5B5B5B\",\"text_font\":\"Helvetica\",\"text_font_size\":\"1.15em\"}},\"renderers\":[{\"type\":\"object\",\"name\":\"GlyphRenderer\",\"id\":\"p5281\",\"attributes\":{\"data_source\":{\"type\":\"object\",\"name\":\"ColumnDataSource\",\"id\":\"p5275\",\"attributes\":{\"selected\":{\"type\":\"object\",\"name\":\"Selection\",\"id\":\"p5277\",\"attributes\":{\"indices\":[],\"line_indices\":[]}},\"selection_policy\":{\"type\":\"object\",\"name\":\"UnionRenderers\",\"id\":\"p5276\"},\"data\":{\"type\":\"map\",\"entries\":[[\"x\",[0,1,2,3,4,5,6,7,8,9,10]],[\"y\",[5,4,3,2,1,0,1,2,3,4,5]]]}}},\"view\":{\"type\":\"object\",\"name\":\"CDSView\",\"id\":\"p5282\",\"attributes\":{\"filter\":{\"type\":\"object\",\"name\":\"AllIndices\",\"id\":\"p5283\"}}},\"glyph\":{\"type\":\"object\",\"name\":\"Scatter\",\"id\":\"p5278\",\"attributes\":{\"x\":{\"type\":\"field\",\"field\":\"x\"},\"y\":{\"type\":\"field\",\"field\":\"y\"},\"size\":{\"type\":\"value\",\"value\":12},\"line_color\":{\"type\":\"value\",\"value\":\"#d95b43\"},\"line_alpha\":{\"type\":\"value\",\"value\":0.8},\"fill_color\":{\"type\":\"value\",\"value\":\"#d95b43\"},\"fill_alpha\":{\"type\":\"value\",\"value\":0.8},\"hatch_color\":{\"type\":\"value\",\"value\":\"#d95b43\"},\"hatch_alpha\":{\"type\":\"value\",\"value\":0.8},\"marker\":{\"type\":\"value\",\"value\":\"square\"}}},\"nonselection_glyph\":{\"type\":\"object\",\"name\":\"Scatter\",\"id\":\"p5279\",\"attributes\":{\"x\":{\"type\":\"field\",\"field\":\"x\"},\"y\":{\"type\":\"field\",\"field\":\"y\"},\"size\":{\"type\":\"value\",\"value\":12},\"line_color\":{\"type\":\"value\",\"value\":\"#d95b43\"},\"line_alpha\":{\"type\":\"value\",\"value\":0.1},\"fill_color\":{\"type\":\"value\",\"value\":\"#d95b43\"},\"fill_alpha\":{\"type\":\"value\",\"value\":0.1},\"hatch_color\":{\"type\":\"value\",\"value\":\"#d95b43\"},\"hatch_alpha\":{\"type\":\"value\",\"value\":0.1},\"marker\":{\"type\":\"value\",\"value\":\"square\"}}},\"muted_glyph\":{\"type\":\"object\",\"name\":\"Scatter\",\"id\":\"p5280\",\"attributes\":{\"x\":{\"type\":\"field\",\"field\":\"x\"},\"y\":{\"type\":\"field\",\"field\":\"y\"},\"size\":{\"type\":\"value\",\"value\":12},\"line_color\":{\"type\":\"value\",\"value\":\"#d95b43\"},\"line_alpha\":{\"type\":\"value\",\"value\":0.2},\"fill_color\":{\"type\":\"value\",\"value\":\"#d95b43\"},\"fill_alpha\":{\"type\":\"value\",\"value\":0.2},\"hatch_color\":{\"type\":\"value\",\"value\":\"#d95b43\"},\"hatch_alpha\":{\"type\":\"value\",\"value\":0.2},\"marker\":{\"type\":\"value\",\"value\":\"square\"}}}}}],\"toolbar\":{\"type\":\"object\",\"name\":\"Toolbar\",\"id\":\"p5233\",\"attributes\":{\"tools\":[{\"type\":\"object\",\"name\":\"PanTool\",\"id\":\"p5260\"},{\"type\":\"object\",\"name\":\"WheelZoomTool\",\"id\":\"p5261\"},{\"type\":\"object\",\"name\":\"BoxZoomTool\",\"id\":\"p5262\",\"attributes\":{\"overlay\":{\"type\":\"object\",\"name\":\"BoxAnnotation\",\"id\":\"p5263\",\"attributes\":{\"syncable\":false,\"level\":\"overlay\",\"visible\":false,\"left_units\":\"canvas\",\"right_units\":\"canvas\",\"bottom_units\":\"canvas\",\"top_units\":\"canvas\",\"line_color\":\"black\",\"line_alpha\":1.0,\"line_width\":2,\"line_dash\":[4,4],\"fill_color\":\"lightgrey\",\"fill_alpha\":0.5}}}},{\"type\":\"object\",\"name\":\"SaveTool\",\"id\":\"p5264\"},{\"type\":\"object\",\"name\":\"ResetTool\",\"id\":\"p5265\"},{\"type\":\"object\",\"name\":\"HelpTool\",\"id\":\"p5266\"}]}},\"left\":[{\"type\":\"object\",\"name\":\"LinearAxis\",\"id\":\"p5253\",\"attributes\":{\"ticker\":{\"type\":\"object\",\"name\":\"BasicTicker\",\"id\":\"p5254\",\"attributes\":{\"mantissas\":[1,2,5]}},\"formatter\":{\"type\":\"object\",\"name\":\"BasicTickFormatter\",\"id\":\"p5255\"},\"axis_label_standoff\":10,\"axis_label_text_color\":\"#5B5B5B\",\"axis_label_text_font\":\"Helvetica\",\"axis_label_text_font_size\":\"1.25em\",\"axis_label_text_font_style\":\"normal\",\"major_label_policy\":{\"type\":\"object\",\"name\":\"AllLabels\",\"id\":\"p5256\"},\"major_label_text_color\":\"#5B5B5B\",\"major_label_text_font\":\"Helvetica\",\"major_label_text_font_size\":\"1.025em\",\"axis_line_color\":\"#5B5B5B\",\"axis_line_alpha\":0,\"major_tick_line_color\":\"#5B5B5B\",\"major_tick_line_alpha\":0,\"minor_tick_line_color\":\"#5B5B5B\",\"minor_tick_line_alpha\":0}}],\"below\":[{\"type\":\"object\",\"name\":\"LinearAxis\",\"id\":\"p5246\",\"attributes\":{\"ticker\":{\"type\":\"object\",\"name\":\"BasicTicker\",\"id\":\"p5247\",\"attributes\":{\"mantissas\":[1,2,5]}},\"formatter\":{\"type\":\"object\",\"name\":\"BasicTickFormatter\",\"id\":\"p5248\"},\"axis_label_standoff\":10,\"axis_label_text_color\":\"#5B5B5B\",\"axis_label_text_font\":\"Helvetica\",\"axis_label_text_font_size\":\"1.25em\",\"axis_label_text_font_style\":\"normal\",\"major_label_policy\":{\"type\":\"object\",\"name\":\"AllLabels\",\"id\":\"p5249\"},\"major_label_text_color\":\"#5B5B5B\",\"major_label_text_font\":\"Helvetica\",\"major_label_text_font_size\":\"1.025em\",\"axis_line_color\":\"#5B5B5B\",\"axis_line_alpha\":0,\"major_tick_line_color\":\"#5B5B5B\",\"major_tick_line_alpha\":0,\"minor_tick_line_color\":\"#5B5B5B\",\"minor_tick_line_alpha\":0}}],\"center\":[{\"type\":\"object\",\"name\":\"Grid\",\"id\":\"p5252\",\"attributes\":{\"axis\":{\"id\":\"p5246\"}}},{\"type\":\"object\",\"name\":\"Grid\",\"id\":\"p5259\",\"attributes\":{\"dimension\":1,\"axis\":{\"id\":\"p5253\"}}}],\"background_fill_color\":\"#fafafa\"}}]}}],\"callbacks\":{\"type\":\"map\"}}};\n",
       "  const render_items = [{\"docid\":\"52a2c413-d5da-4536-81fa-098f8a7b1b95\",\"roots\":{\"p5339\":\"8b64dc61-fbdb-4372-9c8b-ab1b4e1c8d58\"},\"root_ids\":[\"p5339\"]}];\n",
       "  root.Bokeh.embed.embed_items_notebook(docs_json, render_items);\n",
       "  }\n",
       "  if (root.Bokeh !== undefined) {\n",
       "    embed_document(root);\n",
       "  } else {\n",
       "    let attempts = 0;\n",
       "    const timer = setInterval(function(root) {\n",
       "      if (root.Bokeh !== undefined) {\n",
       "        clearInterval(timer);\n",
       "        embed_document(root);\n",
       "      } else {\n",
       "        attempts++;\n",
       "        if (attempts > 100) {\n",
       "          clearInterval(timer);\n",
       "          console.log(\"Bokeh: ERROR: Unable to run BokehJS code because BokehJS library is missing\");\n",
       "        }\n",
       "      }\n",
       "    }, 10, root)\n",
       "  }\n",
       "})(window);"
      ],
      "application/vnd.bokehjs_exec.v0+json": ""
     },
     "metadata": {
      "application/vnd.bokehjs_exec.v0+json": {
       "id": "p5339"
      }
     },
     "output_type": "display_data"
    }
   ],
   "source": [
    "from bokeh.layouts import row\n",
    "from bokeh.plotting import figure, show\n",
    "\n",
    "# prepare some data\n",
    "x = list(range(11))\n",
    "y0 = x\n",
    "y1 = [10 - i for i in x]\n",
    "y2 = [abs(i - 5) for i in x]\n",
    "\n",
    "# create three plots with one renderer each\n",
    "s1 = figure(width=250, height=250, background_fill_color=\"#fafafa\")\n",
    "s1.circle(x, y0, size=12, color=\"#53777a\", alpha=0.8)\n",
    "\n",
    "s2 = figure(width=250, height=250, background_fill_color=\"#fafafa\")\n",
    "s2.triangle(x, y1, size=12, color=\"#c02942\", alpha=0.8)\n",
    "\n",
    "s3 = figure(width=250, height=250, background_fill_color=\"#fafafa\")\n",
    "s3.square(x, y2, size=12, color=\"#d95b43\", alpha=0.8)\n",
    "\n",
    "s4 = figure(width=250, height=250, background_fill_color=\"#fafafa\")\n",
    "s4.diamond(x, y0, size=12, color=\"#53777a\", alpha=0.8)\n",
    "\n",
    "\n",
    "# put the results in a row and show\n",
    "show(row(s1, s2, s3))  ## <<<<<<<<<<<<<<<<<<<<<<<<<<<<<<<<<<\n"
   ]
  },
  {
   "cell_type": "markdown",
   "id": "23f73391",
   "metadata": {},
   "source": [
    "**How would you set the plots in a column?**"
   ]
  },
  {
   "cell_type": "markdown",
   "id": "99c79f40",
   "metadata": {},
   "source": [
    "**And using a different structure?**"
   ]
  },
  {
   "cell_type": "code",
   "execution_count": 20,
   "id": "6f32b598",
   "metadata": {},
   "outputs": [
    {
     "data": {
      "text/html": [
       "\n",
       "  <div id=\"9a387e3a-aee1-480b-8aee-d0904d15c46a\" data-root-id=\"p7407\" style=\"display: contents;\"></div>\n"
      ]
     },
     "metadata": {},
     "output_type": "display_data"
    },
    {
     "data": {
      "application/javascript": [
       "(function(root) {\n",
       "  function embed_document(root) {\n",
       "  const docs_json = {\"b8608f61-3d37-4778-9ae4-a5ce93400c97\":{\"version\":\"3.1.0\",\"title\":\"Bokeh Application\",\"defs\":[],\"roots\":[{\"type\":\"object\",\"name\":\"GridPlot\",\"id\":\"p7407\",\"attributes\":{\"rows\":null,\"cols\":null,\"toolbar\":{\"type\":\"object\",\"name\":\"Toolbar\",\"id\":\"p7406\",\"attributes\":{\"tools\":[{\"type\":\"object\",\"name\":\"ToolProxy\",\"id\":\"p7400\",\"attributes\":{\"tools\":[{\"type\":\"object\",\"name\":\"PanTool\",\"id\":\"p5150\"},{\"type\":\"object\",\"name\":\"PanTool\",\"id\":\"p5205\"},{\"type\":\"object\",\"name\":\"PanTool\",\"id\":\"p5260\"},{\"type\":\"object\",\"name\":\"PanTool\",\"id\":\"p5315\"}]}},{\"type\":\"object\",\"name\":\"ToolProxy\",\"id\":\"p7401\",\"attributes\":{\"tools\":[{\"type\":\"object\",\"name\":\"WheelZoomTool\",\"id\":\"p5151\"},{\"type\":\"object\",\"name\":\"WheelZoomTool\",\"id\":\"p5206\"},{\"type\":\"object\",\"name\":\"WheelZoomTool\",\"id\":\"p5261\"},{\"type\":\"object\",\"name\":\"WheelZoomTool\",\"id\":\"p5316\"}]}},{\"type\":\"object\",\"name\":\"ToolProxy\",\"id\":\"p7402\",\"attributes\":{\"tools\":[{\"type\":\"object\",\"name\":\"BoxZoomTool\",\"id\":\"p5152\",\"attributes\":{\"overlay\":{\"type\":\"object\",\"name\":\"BoxAnnotation\",\"id\":\"p5153\",\"attributes\":{\"syncable\":false,\"level\":\"overlay\",\"visible\":false,\"left_units\":\"canvas\",\"right_units\":\"canvas\",\"bottom_units\":\"canvas\",\"top_units\":\"canvas\",\"line_color\":\"black\",\"line_alpha\":1.0,\"line_width\":2,\"line_dash\":[4,4],\"fill_color\":\"lightgrey\",\"fill_alpha\":0.5}}}},{\"type\":\"object\",\"name\":\"BoxZoomTool\",\"id\":\"p5207\",\"attributes\":{\"overlay\":{\"type\":\"object\",\"name\":\"BoxAnnotation\",\"id\":\"p5208\",\"attributes\":{\"syncable\":false,\"level\":\"overlay\",\"visible\":false,\"left_units\":\"canvas\",\"right_units\":\"canvas\",\"bottom_units\":\"canvas\",\"top_units\":\"canvas\",\"line_color\":\"black\",\"line_alpha\":1.0,\"line_width\":2,\"line_dash\":[4,4],\"fill_color\":\"lightgrey\",\"fill_alpha\":0.5}}}},{\"type\":\"object\",\"name\":\"BoxZoomTool\",\"id\":\"p5262\",\"attributes\":{\"overlay\":{\"type\":\"object\",\"name\":\"BoxAnnotation\",\"id\":\"p5263\",\"attributes\":{\"syncable\":false,\"level\":\"overlay\",\"visible\":false,\"left_units\":\"canvas\",\"right_units\":\"canvas\",\"bottom_units\":\"canvas\",\"top_units\":\"canvas\",\"line_color\":\"black\",\"line_alpha\":1.0,\"line_width\":2,\"line_dash\":[4,4],\"fill_color\":\"lightgrey\",\"fill_alpha\":0.5}}}},{\"type\":\"object\",\"name\":\"BoxZoomTool\",\"id\":\"p5317\",\"attributes\":{\"overlay\":{\"type\":\"object\",\"name\":\"BoxAnnotation\",\"id\":\"p5318\",\"attributes\":{\"syncable\":false,\"level\":\"overlay\",\"visible\":false,\"left_units\":\"canvas\",\"right_units\":\"canvas\",\"bottom_units\":\"canvas\",\"top_units\":\"canvas\",\"line_color\":\"black\",\"line_alpha\":1.0,\"line_width\":2,\"line_dash\":[4,4],\"fill_color\":\"lightgrey\",\"fill_alpha\":0.5}}}}]}},{\"type\":\"object\",\"name\":\"SaveTool\",\"id\":\"p7403\"},{\"type\":\"object\",\"name\":\"ToolProxy\",\"id\":\"p7404\",\"attributes\":{\"tools\":[{\"type\":\"object\",\"name\":\"ResetTool\",\"id\":\"p5155\"},{\"type\":\"object\",\"name\":\"ResetTool\",\"id\":\"p5210\"},{\"type\":\"object\",\"name\":\"ResetTool\",\"id\":\"p5265\"},{\"type\":\"object\",\"name\":\"ResetTool\",\"id\":\"p5320\"}]}},{\"type\":\"object\",\"name\":\"ToolProxy\",\"id\":\"p7405\",\"attributes\":{\"tools\":[{\"type\":\"object\",\"name\":\"HelpTool\",\"id\":\"p5156\"},{\"type\":\"object\",\"name\":\"HelpTool\",\"id\":\"p5211\"},{\"type\":\"object\",\"name\":\"HelpTool\",\"id\":\"p5266\"},{\"type\":\"object\",\"name\":\"HelpTool\",\"id\":\"p5321\"}]}}]}},\"children\":[[{\"type\":\"object\",\"name\":\"Figure\",\"id\":\"p5119\",\"attributes\":{\"width\":250,\"height\":250,\"x_range\":{\"type\":\"object\",\"name\":\"DataRange1d\",\"id\":\"p5121\"},\"y_range\":{\"type\":\"object\",\"name\":\"DataRange1d\",\"id\":\"p5120\"},\"x_scale\":{\"type\":\"object\",\"name\":\"LinearScale\",\"id\":\"p5132\"},\"y_scale\":{\"type\":\"object\",\"name\":\"LinearScale\",\"id\":\"p5134\"},\"title\":{\"type\":\"object\",\"name\":\"Title\",\"id\":\"p5126\",\"attributes\":{\"text_color\":\"#5B5B5B\",\"text_font\":\"Helvetica\",\"text_font_size\":\"1.15em\"}},\"renderers\":[{\"type\":\"object\",\"name\":\"GlyphRenderer\",\"id\":\"p5171\",\"attributes\":{\"data_source\":{\"type\":\"object\",\"name\":\"ColumnDataSource\",\"id\":\"p5165\",\"attributes\":{\"selected\":{\"type\":\"object\",\"name\":\"Selection\",\"id\":\"p5167\",\"attributes\":{\"indices\":[],\"line_indices\":[]}},\"selection_policy\":{\"type\":\"object\",\"name\":\"UnionRenderers\",\"id\":\"p5166\"},\"data\":{\"type\":\"map\",\"entries\":[[\"x\",[0,1,2,3,4,5,6,7,8,9,10]],[\"y\",[0,1,2,3,4,5,6,7,8,9,10]]]}}},\"view\":{\"type\":\"object\",\"name\":\"CDSView\",\"id\":\"p5172\",\"attributes\":{\"filter\":{\"type\":\"object\",\"name\":\"AllIndices\",\"id\":\"p5173\"}}},\"glyph\":{\"type\":\"object\",\"name\":\"Circle\",\"id\":\"p5168\",\"attributes\":{\"x\":{\"type\":\"field\",\"field\":\"x\"},\"y\":{\"type\":\"field\",\"field\":\"y\"},\"size\":{\"type\":\"value\",\"value\":12},\"line_color\":{\"type\":\"value\",\"value\":\"#53777a\"},\"line_alpha\":{\"type\":\"value\",\"value\":0.8},\"fill_color\":{\"type\":\"value\",\"value\":\"#53777a\"},\"fill_alpha\":{\"type\":\"value\",\"value\":0.8},\"hatch_color\":{\"type\":\"value\",\"value\":\"#53777a\"},\"hatch_alpha\":{\"type\":\"value\",\"value\":0.8}}},\"nonselection_glyph\":{\"type\":\"object\",\"name\":\"Circle\",\"id\":\"p5169\",\"attributes\":{\"x\":{\"type\":\"field\",\"field\":\"x\"},\"y\":{\"type\":\"field\",\"field\":\"y\"},\"size\":{\"type\":\"value\",\"value\":12},\"line_color\":{\"type\":\"value\",\"value\":\"#53777a\"},\"line_alpha\":{\"type\":\"value\",\"value\":0.1},\"fill_color\":{\"type\":\"value\",\"value\":\"#53777a\"},\"fill_alpha\":{\"type\":\"value\",\"value\":0.1},\"hatch_color\":{\"type\":\"value\",\"value\":\"#53777a\"},\"hatch_alpha\":{\"type\":\"value\",\"value\":0.1}}},\"muted_glyph\":{\"type\":\"object\",\"name\":\"Circle\",\"id\":\"p5170\",\"attributes\":{\"x\":{\"type\":\"field\",\"field\":\"x\"},\"y\":{\"type\":\"field\",\"field\":\"y\"},\"size\":{\"type\":\"value\",\"value\":12},\"line_color\":{\"type\":\"value\",\"value\":\"#53777a\"},\"line_alpha\":{\"type\":\"value\",\"value\":0.2},\"fill_color\":{\"type\":\"value\",\"value\":\"#53777a\"},\"fill_alpha\":{\"type\":\"value\",\"value\":0.2},\"hatch_color\":{\"type\":\"value\",\"value\":\"#53777a\"},\"hatch_alpha\":{\"type\":\"value\",\"value\":0.2}}}}}],\"toolbar\":{\"type\":\"object\",\"name\":\"Toolbar\",\"id\":\"p5123\",\"attributes\":{\"tools\":[{\"id\":\"p5150\"},{\"id\":\"p5151\"},{\"id\":\"p5152\"},{\"type\":\"object\",\"name\":\"SaveTool\",\"id\":\"p5154\"},{\"id\":\"p5155\"},{\"id\":\"p5156\"}]}},\"toolbar_location\":null,\"left\":[{\"type\":\"object\",\"name\":\"LinearAxis\",\"id\":\"p5143\",\"attributes\":{\"ticker\":{\"type\":\"object\",\"name\":\"BasicTicker\",\"id\":\"p5144\",\"attributes\":{\"mantissas\":[1,2,5]}},\"formatter\":{\"type\":\"object\",\"name\":\"BasicTickFormatter\",\"id\":\"p5145\"},\"axis_label_standoff\":10,\"axis_label_text_color\":\"#5B5B5B\",\"axis_label_text_font\":\"Helvetica\",\"axis_label_text_font_size\":\"1.25em\",\"axis_label_text_font_style\":\"normal\",\"major_label_policy\":{\"type\":\"object\",\"name\":\"AllLabels\",\"id\":\"p5146\"},\"major_label_text_color\":\"#5B5B5B\",\"major_label_text_font\":\"Helvetica\",\"major_label_text_font_size\":\"1.025em\",\"axis_line_color\":\"#5B5B5B\",\"axis_line_alpha\":0,\"major_tick_line_color\":\"#5B5B5B\",\"major_tick_line_alpha\":0,\"minor_tick_line_color\":\"#5B5B5B\",\"minor_tick_line_alpha\":0}}],\"below\":[{\"type\":\"object\",\"name\":\"LinearAxis\",\"id\":\"p5136\",\"attributes\":{\"ticker\":{\"type\":\"object\",\"name\":\"BasicTicker\",\"id\":\"p5137\",\"attributes\":{\"mantissas\":[1,2,5]}},\"formatter\":{\"type\":\"object\",\"name\":\"BasicTickFormatter\",\"id\":\"p5138\"},\"axis_label_standoff\":10,\"axis_label_text_color\":\"#5B5B5B\",\"axis_label_text_font\":\"Helvetica\",\"axis_label_text_font_size\":\"1.25em\",\"axis_label_text_font_style\":\"normal\",\"major_label_policy\":{\"type\":\"object\",\"name\":\"AllLabels\",\"id\":\"p5139\"},\"major_label_text_color\":\"#5B5B5B\",\"major_label_text_font\":\"Helvetica\",\"major_label_text_font_size\":\"1.025em\",\"axis_line_color\":\"#5B5B5B\",\"axis_line_alpha\":0,\"major_tick_line_color\":\"#5B5B5B\",\"major_tick_line_alpha\":0,\"minor_tick_line_color\":\"#5B5B5B\",\"minor_tick_line_alpha\":0}}],\"center\":[{\"type\":\"object\",\"name\":\"Grid\",\"id\":\"p5142\",\"attributes\":{\"axis\":{\"id\":\"p5136\"}}},{\"type\":\"object\",\"name\":\"Grid\",\"id\":\"p5149\",\"attributes\":{\"dimension\":1,\"axis\":{\"id\":\"p5143\"}}}],\"background_fill_color\":\"#fafafa\"}},0,0],[{\"type\":\"object\",\"name\":\"Figure\",\"id\":\"p5174\",\"attributes\":{\"width\":250,\"height\":250,\"x_range\":{\"type\":\"object\",\"name\":\"DataRange1d\",\"id\":\"p5176\"},\"y_range\":{\"type\":\"object\",\"name\":\"DataRange1d\",\"id\":\"p5175\"},\"x_scale\":{\"type\":\"object\",\"name\":\"LinearScale\",\"id\":\"p5187\"},\"y_scale\":{\"type\":\"object\",\"name\":\"LinearScale\",\"id\":\"p5189\"},\"title\":{\"type\":\"object\",\"name\":\"Title\",\"id\":\"p5181\",\"attributes\":{\"text_color\":\"#5B5B5B\",\"text_font\":\"Helvetica\",\"text_font_size\":\"1.15em\"}},\"renderers\":[{\"type\":\"object\",\"name\":\"GlyphRenderer\",\"id\":\"p5226\",\"attributes\":{\"data_source\":{\"type\":\"object\",\"name\":\"ColumnDataSource\",\"id\":\"p5220\",\"attributes\":{\"selected\":{\"type\":\"object\",\"name\":\"Selection\",\"id\":\"p5222\",\"attributes\":{\"indices\":[],\"line_indices\":[]}},\"selection_policy\":{\"type\":\"object\",\"name\":\"UnionRenderers\",\"id\":\"p5221\"},\"data\":{\"type\":\"map\",\"entries\":[[\"x\",[0,1,2,3,4,5,6,7,8,9,10]],[\"y\",[10,9,8,7,6,5,4,3,2,1,0]]]}}},\"view\":{\"type\":\"object\",\"name\":\"CDSView\",\"id\":\"p5227\",\"attributes\":{\"filter\":{\"type\":\"object\",\"name\":\"AllIndices\",\"id\":\"p5228\"}}},\"glyph\":{\"type\":\"object\",\"name\":\"Scatter\",\"id\":\"p5223\",\"attributes\":{\"x\":{\"type\":\"field\",\"field\":\"x\"},\"y\":{\"type\":\"field\",\"field\":\"y\"},\"size\":{\"type\":\"value\",\"value\":12},\"line_color\":{\"type\":\"value\",\"value\":\"#c02942\"},\"line_alpha\":{\"type\":\"value\",\"value\":0.8},\"fill_color\":{\"type\":\"value\",\"value\":\"#c02942\"},\"fill_alpha\":{\"type\":\"value\",\"value\":0.8},\"hatch_color\":{\"type\":\"value\",\"value\":\"#c02942\"},\"hatch_alpha\":{\"type\":\"value\",\"value\":0.8},\"marker\":{\"type\":\"value\",\"value\":\"triangle\"}}},\"nonselection_glyph\":{\"type\":\"object\",\"name\":\"Scatter\",\"id\":\"p5224\",\"attributes\":{\"x\":{\"type\":\"field\",\"field\":\"x\"},\"y\":{\"type\":\"field\",\"field\":\"y\"},\"size\":{\"type\":\"value\",\"value\":12},\"line_color\":{\"type\":\"value\",\"value\":\"#c02942\"},\"line_alpha\":{\"type\":\"value\",\"value\":0.1},\"fill_color\":{\"type\":\"value\",\"value\":\"#c02942\"},\"fill_alpha\":{\"type\":\"value\",\"value\":0.1},\"hatch_color\":{\"type\":\"value\",\"value\":\"#c02942\"},\"hatch_alpha\":{\"type\":\"value\",\"value\":0.1},\"marker\":{\"type\":\"value\",\"value\":\"triangle\"}}},\"muted_glyph\":{\"type\":\"object\",\"name\":\"Scatter\",\"id\":\"p5225\",\"attributes\":{\"x\":{\"type\":\"field\",\"field\":\"x\"},\"y\":{\"type\":\"field\",\"field\":\"y\"},\"size\":{\"type\":\"value\",\"value\":12},\"line_color\":{\"type\":\"value\",\"value\":\"#c02942\"},\"line_alpha\":{\"type\":\"value\",\"value\":0.2},\"fill_color\":{\"type\":\"value\",\"value\":\"#c02942\"},\"fill_alpha\":{\"type\":\"value\",\"value\":0.2},\"hatch_color\":{\"type\":\"value\",\"value\":\"#c02942\"},\"hatch_alpha\":{\"type\":\"value\",\"value\":0.2},\"marker\":{\"type\":\"value\",\"value\":\"triangle\"}}}}}],\"toolbar\":{\"type\":\"object\",\"name\":\"Toolbar\",\"id\":\"p5178\",\"attributes\":{\"tools\":[{\"id\":\"p5205\"},{\"id\":\"p5206\"},{\"id\":\"p5207\"},{\"type\":\"object\",\"name\":\"SaveTool\",\"id\":\"p5209\"},{\"id\":\"p5210\"},{\"id\":\"p5211\"}]}},\"toolbar_location\":null,\"left\":[{\"type\":\"object\",\"name\":\"LinearAxis\",\"id\":\"p5198\",\"attributes\":{\"ticker\":{\"type\":\"object\",\"name\":\"BasicTicker\",\"id\":\"p5199\",\"attributes\":{\"mantissas\":[1,2,5]}},\"formatter\":{\"type\":\"object\",\"name\":\"BasicTickFormatter\",\"id\":\"p5200\"},\"axis_label_standoff\":10,\"axis_label_text_color\":\"#5B5B5B\",\"axis_label_text_font\":\"Helvetica\",\"axis_label_text_font_size\":\"1.25em\",\"axis_label_text_font_style\":\"normal\",\"major_label_policy\":{\"type\":\"object\",\"name\":\"AllLabels\",\"id\":\"p5201\"},\"major_label_text_color\":\"#5B5B5B\",\"major_label_text_font\":\"Helvetica\",\"major_label_text_font_size\":\"1.025em\",\"axis_line_color\":\"#5B5B5B\",\"axis_line_alpha\":0,\"major_tick_line_color\":\"#5B5B5B\",\"major_tick_line_alpha\":0,\"minor_tick_line_color\":\"#5B5B5B\",\"minor_tick_line_alpha\":0}}],\"below\":[{\"type\":\"object\",\"name\":\"LinearAxis\",\"id\":\"p5191\",\"attributes\":{\"ticker\":{\"type\":\"object\",\"name\":\"BasicTicker\",\"id\":\"p5192\",\"attributes\":{\"mantissas\":[1,2,5]}},\"formatter\":{\"type\":\"object\",\"name\":\"BasicTickFormatter\",\"id\":\"p5193\"},\"axis_label_standoff\":10,\"axis_label_text_color\":\"#5B5B5B\",\"axis_label_text_font\":\"Helvetica\",\"axis_label_text_font_size\":\"1.25em\",\"axis_label_text_font_style\":\"normal\",\"major_label_policy\":{\"type\":\"object\",\"name\":\"AllLabels\",\"id\":\"p5194\"},\"major_label_text_color\":\"#5B5B5B\",\"major_label_text_font\":\"Helvetica\",\"major_label_text_font_size\":\"1.025em\",\"axis_line_color\":\"#5B5B5B\",\"axis_line_alpha\":0,\"major_tick_line_color\":\"#5B5B5B\",\"major_tick_line_alpha\":0,\"minor_tick_line_color\":\"#5B5B5B\",\"minor_tick_line_alpha\":0}}],\"center\":[{\"type\":\"object\",\"name\":\"Grid\",\"id\":\"p5197\",\"attributes\":{\"axis\":{\"id\":\"p5191\"}}},{\"type\":\"object\",\"name\":\"Grid\",\"id\":\"p5204\",\"attributes\":{\"dimension\":1,\"axis\":{\"id\":\"p5198\"}}}],\"background_fill_color\":\"#fafafa\"}},0,1],[{\"type\":\"object\",\"name\":\"Figure\",\"id\":\"p5229\",\"attributes\":{\"width\":250,\"height\":250,\"x_range\":{\"type\":\"object\",\"name\":\"DataRange1d\",\"id\":\"p5231\"},\"y_range\":{\"type\":\"object\",\"name\":\"DataRange1d\",\"id\":\"p5230\"},\"x_scale\":{\"type\":\"object\",\"name\":\"LinearScale\",\"id\":\"p5242\"},\"y_scale\":{\"type\":\"object\",\"name\":\"LinearScale\",\"id\":\"p5244\"},\"title\":{\"type\":\"object\",\"name\":\"Title\",\"id\":\"p5236\",\"attributes\":{\"text_color\":\"#5B5B5B\",\"text_font\":\"Helvetica\",\"text_font_size\":\"1.15em\"}},\"renderers\":[{\"type\":\"object\",\"name\":\"GlyphRenderer\",\"id\":\"p5281\",\"attributes\":{\"data_source\":{\"type\":\"object\",\"name\":\"ColumnDataSource\",\"id\":\"p5275\",\"attributes\":{\"selected\":{\"type\":\"object\",\"name\":\"Selection\",\"id\":\"p5277\",\"attributes\":{\"indices\":[],\"line_indices\":[]}},\"selection_policy\":{\"type\":\"object\",\"name\":\"UnionRenderers\",\"id\":\"p5276\"},\"data\":{\"type\":\"map\",\"entries\":[[\"x\",[0,1,2,3,4,5,6,7,8,9,10]],[\"y\",[5,4,3,2,1,0,1,2,3,4,5]]]}}},\"view\":{\"type\":\"object\",\"name\":\"CDSView\",\"id\":\"p5282\",\"attributes\":{\"filter\":{\"type\":\"object\",\"name\":\"AllIndices\",\"id\":\"p5283\"}}},\"glyph\":{\"type\":\"object\",\"name\":\"Scatter\",\"id\":\"p5278\",\"attributes\":{\"x\":{\"type\":\"field\",\"field\":\"x\"},\"y\":{\"type\":\"field\",\"field\":\"y\"},\"size\":{\"type\":\"value\",\"value\":12},\"line_color\":{\"type\":\"value\",\"value\":\"#d95b43\"},\"line_alpha\":{\"type\":\"value\",\"value\":0.8},\"fill_color\":{\"type\":\"value\",\"value\":\"#d95b43\"},\"fill_alpha\":{\"type\":\"value\",\"value\":0.8},\"hatch_color\":{\"type\":\"value\",\"value\":\"#d95b43\"},\"hatch_alpha\":{\"type\":\"value\",\"value\":0.8},\"marker\":{\"type\":\"value\",\"value\":\"square\"}}},\"nonselection_glyph\":{\"type\":\"object\",\"name\":\"Scatter\",\"id\":\"p5279\",\"attributes\":{\"x\":{\"type\":\"field\",\"field\":\"x\"},\"y\":{\"type\":\"field\",\"field\":\"y\"},\"size\":{\"type\":\"value\",\"value\":12},\"line_color\":{\"type\":\"value\",\"value\":\"#d95b43\"},\"line_alpha\":{\"type\":\"value\",\"value\":0.1},\"fill_color\":{\"type\":\"value\",\"value\":\"#d95b43\"},\"fill_alpha\":{\"type\":\"value\",\"value\":0.1},\"hatch_color\":{\"type\":\"value\",\"value\":\"#d95b43\"},\"hatch_alpha\":{\"type\":\"value\",\"value\":0.1},\"marker\":{\"type\":\"value\",\"value\":\"square\"}}},\"muted_glyph\":{\"type\":\"object\",\"name\":\"Scatter\",\"id\":\"p5280\",\"attributes\":{\"x\":{\"type\":\"field\",\"field\":\"x\"},\"y\":{\"type\":\"field\",\"field\":\"y\"},\"size\":{\"type\":\"value\",\"value\":12},\"line_color\":{\"type\":\"value\",\"value\":\"#d95b43\"},\"line_alpha\":{\"type\":\"value\",\"value\":0.2},\"fill_color\":{\"type\":\"value\",\"value\":\"#d95b43\"},\"fill_alpha\":{\"type\":\"value\",\"value\":0.2},\"hatch_color\":{\"type\":\"value\",\"value\":\"#d95b43\"},\"hatch_alpha\":{\"type\":\"value\",\"value\":0.2},\"marker\":{\"type\":\"value\",\"value\":\"square\"}}}}}],\"toolbar\":{\"type\":\"object\",\"name\":\"Toolbar\",\"id\":\"p5233\",\"attributes\":{\"tools\":[{\"id\":\"p5260\"},{\"id\":\"p5261\"},{\"id\":\"p5262\"},{\"type\":\"object\",\"name\":\"SaveTool\",\"id\":\"p5264\"},{\"id\":\"p5265\"},{\"id\":\"p5266\"}]}},\"toolbar_location\":null,\"left\":[{\"type\":\"object\",\"name\":\"LinearAxis\",\"id\":\"p5253\",\"attributes\":{\"ticker\":{\"type\":\"object\",\"name\":\"BasicTicker\",\"id\":\"p5254\",\"attributes\":{\"mantissas\":[1,2,5]}},\"formatter\":{\"type\":\"object\",\"name\":\"BasicTickFormatter\",\"id\":\"p5255\"},\"axis_label_standoff\":10,\"axis_label_text_color\":\"#5B5B5B\",\"axis_label_text_font\":\"Helvetica\",\"axis_label_text_font_size\":\"1.25em\",\"axis_label_text_font_style\":\"normal\",\"major_label_policy\":{\"type\":\"object\",\"name\":\"AllLabels\",\"id\":\"p5256\"},\"major_label_text_color\":\"#5B5B5B\",\"major_label_text_font\":\"Helvetica\",\"major_label_text_font_size\":\"1.025em\",\"axis_line_color\":\"#5B5B5B\",\"axis_line_alpha\":0,\"major_tick_line_color\":\"#5B5B5B\",\"major_tick_line_alpha\":0,\"minor_tick_line_color\":\"#5B5B5B\",\"minor_tick_line_alpha\":0}}],\"below\":[{\"type\":\"object\",\"name\":\"LinearAxis\",\"id\":\"p5246\",\"attributes\":{\"ticker\":{\"type\":\"object\",\"name\":\"BasicTicker\",\"id\":\"p5247\",\"attributes\":{\"mantissas\":[1,2,5]}},\"formatter\":{\"type\":\"object\",\"name\":\"BasicTickFormatter\",\"id\":\"p5248\"},\"axis_label_standoff\":10,\"axis_label_text_color\":\"#5B5B5B\",\"axis_label_text_font\":\"Helvetica\",\"axis_label_text_font_size\":\"1.25em\",\"axis_label_text_font_style\":\"normal\",\"major_label_policy\":{\"type\":\"object\",\"name\":\"AllLabels\",\"id\":\"p5249\"},\"major_label_text_color\":\"#5B5B5B\",\"major_label_text_font\":\"Helvetica\",\"major_label_text_font_size\":\"1.025em\",\"axis_line_color\":\"#5B5B5B\",\"axis_line_alpha\":0,\"major_tick_line_color\":\"#5B5B5B\",\"major_tick_line_alpha\":0,\"minor_tick_line_color\":\"#5B5B5B\",\"minor_tick_line_alpha\":0}}],\"center\":[{\"type\":\"object\",\"name\":\"Grid\",\"id\":\"p5252\",\"attributes\":{\"axis\":{\"id\":\"p5246\"}}},{\"type\":\"object\",\"name\":\"Grid\",\"id\":\"p5259\",\"attributes\":{\"dimension\":1,\"axis\":{\"id\":\"p5253\"}}}],\"background_fill_color\":\"#fafafa\"}},1,0],[{\"type\":\"object\",\"name\":\"Figure\",\"id\":\"p5284\",\"attributes\":{\"width\":250,\"height\":250,\"x_range\":{\"type\":\"object\",\"name\":\"DataRange1d\",\"id\":\"p5286\"},\"y_range\":{\"type\":\"object\",\"name\":\"DataRange1d\",\"id\":\"p5285\"},\"x_scale\":{\"type\":\"object\",\"name\":\"LinearScale\",\"id\":\"p5297\"},\"y_scale\":{\"type\":\"object\",\"name\":\"LinearScale\",\"id\":\"p5299\"},\"title\":{\"type\":\"object\",\"name\":\"Title\",\"id\":\"p5291\",\"attributes\":{\"text_color\":\"#5B5B5B\",\"text_font\":\"Helvetica\",\"text_font_size\":\"1.15em\"}},\"renderers\":[{\"type\":\"object\",\"name\":\"GlyphRenderer\",\"id\":\"p5336\",\"attributes\":{\"data_source\":{\"type\":\"object\",\"name\":\"ColumnDataSource\",\"id\":\"p5330\",\"attributes\":{\"selected\":{\"type\":\"object\",\"name\":\"Selection\",\"id\":\"p5332\",\"attributes\":{\"indices\":[],\"line_indices\":[]}},\"selection_policy\":{\"type\":\"object\",\"name\":\"UnionRenderers\",\"id\":\"p5331\"},\"data\":{\"type\":\"map\",\"entries\":[[\"x\",[0,1,2,3,4,5,6,7,8,9,10]],[\"y\",[0,1,2,3,4,5,6,7,8,9,10]]]}}},\"view\":{\"type\":\"object\",\"name\":\"CDSView\",\"id\":\"p5337\",\"attributes\":{\"filter\":{\"type\":\"object\",\"name\":\"AllIndices\",\"id\":\"p5338\"}}},\"glyph\":{\"type\":\"object\",\"name\":\"Scatter\",\"id\":\"p5333\",\"attributes\":{\"x\":{\"type\":\"field\",\"field\":\"x\"},\"y\":{\"type\":\"field\",\"field\":\"y\"},\"size\":{\"type\":\"value\",\"value\":12},\"line_color\":{\"type\":\"value\",\"value\":\"#53777a\"},\"line_alpha\":{\"type\":\"value\",\"value\":0.8},\"fill_color\":{\"type\":\"value\",\"value\":\"#53777a\"},\"fill_alpha\":{\"type\":\"value\",\"value\":0.8},\"hatch_color\":{\"type\":\"value\",\"value\":\"#53777a\"},\"hatch_alpha\":{\"type\":\"value\",\"value\":0.8},\"marker\":{\"type\":\"value\",\"value\":\"diamond\"}}},\"nonselection_glyph\":{\"type\":\"object\",\"name\":\"Scatter\",\"id\":\"p5334\",\"attributes\":{\"x\":{\"type\":\"field\",\"field\":\"x\"},\"y\":{\"type\":\"field\",\"field\":\"y\"},\"size\":{\"type\":\"value\",\"value\":12},\"line_color\":{\"type\":\"value\",\"value\":\"#53777a\"},\"line_alpha\":{\"type\":\"value\",\"value\":0.1},\"fill_color\":{\"type\":\"value\",\"value\":\"#53777a\"},\"fill_alpha\":{\"type\":\"value\",\"value\":0.1},\"hatch_color\":{\"type\":\"value\",\"value\":\"#53777a\"},\"hatch_alpha\":{\"type\":\"value\",\"value\":0.1},\"marker\":{\"type\":\"value\",\"value\":\"diamond\"}}},\"muted_glyph\":{\"type\":\"object\",\"name\":\"Scatter\",\"id\":\"p5335\",\"attributes\":{\"x\":{\"type\":\"field\",\"field\":\"x\"},\"y\":{\"type\":\"field\",\"field\":\"y\"},\"size\":{\"type\":\"value\",\"value\":12},\"line_color\":{\"type\":\"value\",\"value\":\"#53777a\"},\"line_alpha\":{\"type\":\"value\",\"value\":0.2},\"fill_color\":{\"type\":\"value\",\"value\":\"#53777a\"},\"fill_alpha\":{\"type\":\"value\",\"value\":0.2},\"hatch_color\":{\"type\":\"value\",\"value\":\"#53777a\"},\"hatch_alpha\":{\"type\":\"value\",\"value\":0.2},\"marker\":{\"type\":\"value\",\"value\":\"diamond\"}}}}}],\"toolbar\":{\"type\":\"object\",\"name\":\"Toolbar\",\"id\":\"p5288\",\"attributes\":{\"tools\":[{\"id\":\"p5315\"},{\"id\":\"p5316\"},{\"id\":\"p5317\"},{\"type\":\"object\",\"name\":\"SaveTool\",\"id\":\"p5319\"},{\"id\":\"p5320\"},{\"id\":\"p5321\"}]}},\"toolbar_location\":null,\"left\":[{\"type\":\"object\",\"name\":\"LinearAxis\",\"id\":\"p5308\",\"attributes\":{\"ticker\":{\"type\":\"object\",\"name\":\"BasicTicker\",\"id\":\"p5309\",\"attributes\":{\"mantissas\":[1,2,5]}},\"formatter\":{\"type\":\"object\",\"name\":\"BasicTickFormatter\",\"id\":\"p5310\"},\"axis_label_standoff\":10,\"axis_label_text_color\":\"#5B5B5B\",\"axis_label_text_font\":\"Helvetica\",\"axis_label_text_font_size\":\"1.25em\",\"axis_label_text_font_style\":\"normal\",\"major_label_policy\":{\"type\":\"object\",\"name\":\"AllLabels\",\"id\":\"p5311\"},\"major_label_text_color\":\"#5B5B5B\",\"major_label_text_font\":\"Helvetica\",\"major_label_text_font_size\":\"1.025em\",\"axis_line_color\":\"#5B5B5B\",\"axis_line_alpha\":0,\"major_tick_line_color\":\"#5B5B5B\",\"major_tick_line_alpha\":0,\"minor_tick_line_color\":\"#5B5B5B\",\"minor_tick_line_alpha\":0}}],\"below\":[{\"type\":\"object\",\"name\":\"LinearAxis\",\"id\":\"p5301\",\"attributes\":{\"ticker\":{\"type\":\"object\",\"name\":\"BasicTicker\",\"id\":\"p5302\",\"attributes\":{\"mantissas\":[1,2,5]}},\"formatter\":{\"type\":\"object\",\"name\":\"BasicTickFormatter\",\"id\":\"p5303\"},\"axis_label_standoff\":10,\"axis_label_text_color\":\"#5B5B5B\",\"axis_label_text_font\":\"Helvetica\",\"axis_label_text_font_size\":\"1.25em\",\"axis_label_text_font_style\":\"normal\",\"major_label_policy\":{\"type\":\"object\",\"name\":\"AllLabels\",\"id\":\"p5304\"},\"major_label_text_color\":\"#5B5B5B\",\"major_label_text_font\":\"Helvetica\",\"major_label_text_font_size\":\"1.025em\",\"axis_line_color\":\"#5B5B5B\",\"axis_line_alpha\":0,\"major_tick_line_color\":\"#5B5B5B\",\"major_tick_line_alpha\":0,\"minor_tick_line_color\":\"#5B5B5B\",\"minor_tick_line_alpha\":0}}],\"center\":[{\"type\":\"object\",\"name\":\"Grid\",\"id\":\"p5307\",\"attributes\":{\"axis\":{\"id\":\"p5301\"}}},{\"type\":\"object\",\"name\":\"Grid\",\"id\":\"p5314\",\"attributes\":{\"dimension\":1,\"axis\":{\"id\":\"p5308\"}}}],\"background_fill_color\":\"#fafafa\"}},1,1]]}}],\"callbacks\":{\"type\":\"map\"}}};\n",
       "  const render_items = [{\"docid\":\"b8608f61-3d37-4778-9ae4-a5ce93400c97\",\"roots\":{\"p7407\":\"9a387e3a-aee1-480b-8aee-d0904d15c46a\"},\"root_ids\":[\"p7407\"]}];\n",
       "  root.Bokeh.embed.embed_items_notebook(docs_json, render_items);\n",
       "  }\n",
       "  if (root.Bokeh !== undefined) {\n",
       "    embed_document(root);\n",
       "  } else {\n",
       "    let attempts = 0;\n",
       "    const timer = setInterval(function(root) {\n",
       "      if (root.Bokeh !== undefined) {\n",
       "        clearInterval(timer);\n",
       "        embed_document(root);\n",
       "      } else {\n",
       "        attempts++;\n",
       "        if (attempts > 100) {\n",
       "          clearInterval(timer);\n",
       "          console.log(\"Bokeh: ERROR: Unable to run BokehJS code because BokehJS library is missing\");\n",
       "        }\n",
       "      }\n",
       "    }, 10, root)\n",
       "  }\n",
       "})(window);"
      ],
      "application/vnd.bokehjs_exec.v0+json": ""
     },
     "metadata": {
      "application/vnd.bokehjs_exec.v0+json": {
       "id": "p7407"
      }
     },
     "output_type": "display_data"
    }
   ],
   "source": [
    "from bokeh.layouts import gridplot\n",
    "p = gridplot([[s1, s2], [s3, s4]])\n",
    "show(p)"
   ]
  },
  {
   "cell_type": "code",
   "execution_count": 21,
   "id": "648fccfd",
   "metadata": {},
   "outputs": [
    {
     "data": {
      "text/html": [
       "\n",
       "  <div id=\"c1be4dc0-59cd-475d-a0d6-3e13a6719051\" data-root-id=\"p7407\" style=\"display: contents;\"></div>\n"
      ]
     },
     "metadata": {},
     "output_type": "display_data"
    },
    {
     "data": {
      "application/javascript": [
       "(function(root) {\n",
       "  function embed_document(root) {\n",
       "  const docs_json = {\"6168bcf7-0935-40f8-a918-cc5db18c7430\":{\"version\":\"3.1.0\",\"title\":\"Bokeh Application\",\"defs\":[],\"roots\":[{\"type\":\"object\",\"name\":\"GridPlot\",\"id\":\"p7407\",\"attributes\":{\"rows\":null,\"cols\":null,\"toolbar\":{\"type\":\"object\",\"name\":\"Toolbar\",\"id\":\"p7406\",\"attributes\":{\"tools\":[{\"type\":\"object\",\"name\":\"ToolProxy\",\"id\":\"p7400\",\"attributes\":{\"tools\":[{\"type\":\"object\",\"name\":\"PanTool\",\"id\":\"p5150\"},{\"type\":\"object\",\"name\":\"PanTool\",\"id\":\"p5205\"},{\"type\":\"object\",\"name\":\"PanTool\",\"id\":\"p5260\"},{\"type\":\"object\",\"name\":\"PanTool\",\"id\":\"p5315\"}]}},{\"type\":\"object\",\"name\":\"ToolProxy\",\"id\":\"p7401\",\"attributes\":{\"tools\":[{\"type\":\"object\",\"name\":\"WheelZoomTool\",\"id\":\"p5151\"},{\"type\":\"object\",\"name\":\"WheelZoomTool\",\"id\":\"p5206\"},{\"type\":\"object\",\"name\":\"WheelZoomTool\",\"id\":\"p5261\"},{\"type\":\"object\",\"name\":\"WheelZoomTool\",\"id\":\"p5316\"}]}},{\"type\":\"object\",\"name\":\"ToolProxy\",\"id\":\"p7402\",\"attributes\":{\"tools\":[{\"type\":\"object\",\"name\":\"BoxZoomTool\",\"id\":\"p5152\",\"attributes\":{\"overlay\":{\"type\":\"object\",\"name\":\"BoxAnnotation\",\"id\":\"p5153\",\"attributes\":{\"syncable\":false,\"level\":\"overlay\",\"visible\":false,\"left_units\":\"canvas\",\"right_units\":\"canvas\",\"bottom_units\":\"canvas\",\"top_units\":\"canvas\",\"line_color\":\"black\",\"line_alpha\":1.0,\"line_width\":2,\"line_dash\":[4,4],\"fill_color\":\"lightgrey\",\"fill_alpha\":0.5}}}},{\"type\":\"object\",\"name\":\"BoxZoomTool\",\"id\":\"p5207\",\"attributes\":{\"overlay\":{\"type\":\"object\",\"name\":\"BoxAnnotation\",\"id\":\"p5208\",\"attributes\":{\"syncable\":false,\"level\":\"overlay\",\"visible\":false,\"left_units\":\"canvas\",\"right_units\":\"canvas\",\"bottom_units\":\"canvas\",\"top_units\":\"canvas\",\"line_color\":\"black\",\"line_alpha\":1.0,\"line_width\":2,\"line_dash\":[4,4],\"fill_color\":\"lightgrey\",\"fill_alpha\":0.5}}}},{\"type\":\"object\",\"name\":\"BoxZoomTool\",\"id\":\"p5262\",\"attributes\":{\"overlay\":{\"type\":\"object\",\"name\":\"BoxAnnotation\",\"id\":\"p5263\",\"attributes\":{\"syncable\":false,\"level\":\"overlay\",\"visible\":false,\"left_units\":\"canvas\",\"right_units\":\"canvas\",\"bottom_units\":\"canvas\",\"top_units\":\"canvas\",\"line_color\":\"black\",\"line_alpha\":1.0,\"line_width\":2,\"line_dash\":[4,4],\"fill_color\":\"lightgrey\",\"fill_alpha\":0.5}}}},{\"type\":\"object\",\"name\":\"BoxZoomTool\",\"id\":\"p5317\",\"attributes\":{\"overlay\":{\"type\":\"object\",\"name\":\"BoxAnnotation\",\"id\":\"p5318\",\"attributes\":{\"syncable\":false,\"level\":\"overlay\",\"visible\":false,\"left_units\":\"canvas\",\"right_units\":\"canvas\",\"bottom_units\":\"canvas\",\"top_units\":\"canvas\",\"line_color\":\"black\",\"line_alpha\":1.0,\"line_width\":2,\"line_dash\":[4,4],\"fill_color\":\"lightgrey\",\"fill_alpha\":0.5}}}}]}},{\"type\":\"object\",\"name\":\"SaveTool\",\"id\":\"p7403\"},{\"type\":\"object\",\"name\":\"ToolProxy\",\"id\":\"p7404\",\"attributes\":{\"tools\":[{\"type\":\"object\",\"name\":\"ResetTool\",\"id\":\"p5155\"},{\"type\":\"object\",\"name\":\"ResetTool\",\"id\":\"p5210\"},{\"type\":\"object\",\"name\":\"ResetTool\",\"id\":\"p5265\"},{\"type\":\"object\",\"name\":\"ResetTool\",\"id\":\"p5320\"}]}},{\"type\":\"object\",\"name\":\"ToolProxy\",\"id\":\"p7405\",\"attributes\":{\"tools\":[{\"type\":\"object\",\"name\":\"HelpTool\",\"id\":\"p5156\"},{\"type\":\"object\",\"name\":\"HelpTool\",\"id\":\"p5211\"},{\"type\":\"object\",\"name\":\"HelpTool\",\"id\":\"p5266\"},{\"type\":\"object\",\"name\":\"HelpTool\",\"id\":\"p5321\"}]}}]}},\"children\":[[{\"type\":\"object\",\"name\":\"Figure\",\"id\":\"p5119\",\"attributes\":{\"width\":200,\"height\":100,\"x_range\":{\"type\":\"object\",\"name\":\"DataRange1d\",\"id\":\"p5121\"},\"y_range\":{\"type\":\"object\",\"name\":\"DataRange1d\",\"id\":\"p5120\"},\"x_scale\":{\"type\":\"object\",\"name\":\"LinearScale\",\"id\":\"p5132\"},\"y_scale\":{\"type\":\"object\",\"name\":\"LinearScale\",\"id\":\"p5134\"},\"title\":{\"type\":\"object\",\"name\":\"Title\",\"id\":\"p5126\",\"attributes\":{\"text_color\":\"#5B5B5B\",\"text_font\":\"Helvetica\",\"text_font_size\":\"1.15em\"}},\"renderers\":[{\"type\":\"object\",\"name\":\"GlyphRenderer\",\"id\":\"p5171\",\"attributes\":{\"data_source\":{\"type\":\"object\",\"name\":\"ColumnDataSource\",\"id\":\"p5165\",\"attributes\":{\"selected\":{\"type\":\"object\",\"name\":\"Selection\",\"id\":\"p5167\",\"attributes\":{\"indices\":[],\"line_indices\":[]}},\"selection_policy\":{\"type\":\"object\",\"name\":\"UnionRenderers\",\"id\":\"p5166\"},\"data\":{\"type\":\"map\",\"entries\":[[\"x\",[0,1,2,3,4,5,6,7,8,9,10]],[\"y\",[0,1,2,3,4,5,6,7,8,9,10]]]}}},\"view\":{\"type\":\"object\",\"name\":\"CDSView\",\"id\":\"p5172\",\"attributes\":{\"filter\":{\"type\":\"object\",\"name\":\"AllIndices\",\"id\":\"p5173\"}}},\"glyph\":{\"type\":\"object\",\"name\":\"Circle\",\"id\":\"p5168\",\"attributes\":{\"x\":{\"type\":\"field\",\"field\":\"x\"},\"y\":{\"type\":\"field\",\"field\":\"y\"},\"size\":{\"type\":\"value\",\"value\":12},\"line_color\":{\"type\":\"value\",\"value\":\"#53777a\"},\"line_alpha\":{\"type\":\"value\",\"value\":0.8},\"fill_color\":{\"type\":\"value\",\"value\":\"#53777a\"},\"fill_alpha\":{\"type\":\"value\",\"value\":0.8},\"hatch_color\":{\"type\":\"value\",\"value\":\"#53777a\"},\"hatch_alpha\":{\"type\":\"value\",\"value\":0.8}}},\"nonselection_glyph\":{\"type\":\"object\",\"name\":\"Circle\",\"id\":\"p5169\",\"attributes\":{\"x\":{\"type\":\"field\",\"field\":\"x\"},\"y\":{\"type\":\"field\",\"field\":\"y\"},\"size\":{\"type\":\"value\",\"value\":12},\"line_color\":{\"type\":\"value\",\"value\":\"#53777a\"},\"line_alpha\":{\"type\":\"value\",\"value\":0.1},\"fill_color\":{\"type\":\"value\",\"value\":\"#53777a\"},\"fill_alpha\":{\"type\":\"value\",\"value\":0.1},\"hatch_color\":{\"type\":\"value\",\"value\":\"#53777a\"},\"hatch_alpha\":{\"type\":\"value\",\"value\":0.1}}},\"muted_glyph\":{\"type\":\"object\",\"name\":\"Circle\",\"id\":\"p5170\",\"attributes\":{\"x\":{\"type\":\"field\",\"field\":\"x\"},\"y\":{\"type\":\"field\",\"field\":\"y\"},\"size\":{\"type\":\"value\",\"value\":12},\"line_color\":{\"type\":\"value\",\"value\":\"#53777a\"},\"line_alpha\":{\"type\":\"value\",\"value\":0.2},\"fill_color\":{\"type\":\"value\",\"value\":\"#53777a\"},\"fill_alpha\":{\"type\":\"value\",\"value\":0.2},\"hatch_color\":{\"type\":\"value\",\"value\":\"#53777a\"},\"hatch_alpha\":{\"type\":\"value\",\"value\":0.2}}}}}],\"toolbar\":{\"type\":\"object\",\"name\":\"Toolbar\",\"id\":\"p5123\",\"attributes\":{\"tools\":[{\"id\":\"p5150\"},{\"id\":\"p5151\"},{\"id\":\"p5152\"},{\"type\":\"object\",\"name\":\"SaveTool\",\"id\":\"p5154\"},{\"id\":\"p5155\"},{\"id\":\"p5156\"}]}},\"toolbar_location\":null,\"left\":[{\"type\":\"object\",\"name\":\"LinearAxis\",\"id\":\"p5143\",\"attributes\":{\"ticker\":{\"type\":\"object\",\"name\":\"BasicTicker\",\"id\":\"p5144\",\"attributes\":{\"mantissas\":[1,2,5]}},\"formatter\":{\"type\":\"object\",\"name\":\"BasicTickFormatter\",\"id\":\"p5145\"},\"axis_label_standoff\":10,\"axis_label_text_color\":\"#5B5B5B\",\"axis_label_text_font\":\"Helvetica\",\"axis_label_text_font_size\":\"1.25em\",\"axis_label_text_font_style\":\"normal\",\"major_label_policy\":{\"type\":\"object\",\"name\":\"AllLabels\",\"id\":\"p5146\"},\"major_label_text_color\":\"#5B5B5B\",\"major_label_text_font\":\"Helvetica\",\"major_label_text_font_size\":\"1.025em\",\"axis_line_color\":\"#5B5B5B\",\"axis_line_alpha\":0,\"major_tick_line_color\":\"#5B5B5B\",\"major_tick_line_alpha\":0,\"minor_tick_line_color\":\"#5B5B5B\",\"minor_tick_line_alpha\":0}}],\"below\":[{\"type\":\"object\",\"name\":\"LinearAxis\",\"id\":\"p5136\",\"attributes\":{\"ticker\":{\"type\":\"object\",\"name\":\"BasicTicker\",\"id\":\"p5137\",\"attributes\":{\"mantissas\":[1,2,5]}},\"formatter\":{\"type\":\"object\",\"name\":\"BasicTickFormatter\",\"id\":\"p5138\"},\"axis_label_standoff\":10,\"axis_label_text_color\":\"#5B5B5B\",\"axis_label_text_font\":\"Helvetica\",\"axis_label_text_font_size\":\"1.25em\",\"axis_label_text_font_style\":\"normal\",\"major_label_policy\":{\"type\":\"object\",\"name\":\"AllLabels\",\"id\":\"p5139\"},\"major_label_text_color\":\"#5B5B5B\",\"major_label_text_font\":\"Helvetica\",\"major_label_text_font_size\":\"1.025em\",\"axis_line_color\":\"#5B5B5B\",\"axis_line_alpha\":0,\"major_tick_line_color\":\"#5B5B5B\",\"major_tick_line_alpha\":0,\"minor_tick_line_color\":\"#5B5B5B\",\"minor_tick_line_alpha\":0}}],\"center\":[{\"type\":\"object\",\"name\":\"Grid\",\"id\":\"p5142\",\"attributes\":{\"axis\":{\"id\":\"p5136\"}}},{\"type\":\"object\",\"name\":\"Grid\",\"id\":\"p5149\",\"attributes\":{\"dimension\":1,\"axis\":{\"id\":\"p5143\"}}}],\"background_fill_color\":\"#fafafa\"}},0,0],[{\"type\":\"object\",\"name\":\"Figure\",\"id\":\"p5174\",\"attributes\":{\"width\":200,\"height\":100,\"x_range\":{\"type\":\"object\",\"name\":\"DataRange1d\",\"id\":\"p5176\"},\"y_range\":{\"type\":\"object\",\"name\":\"DataRange1d\",\"id\":\"p5175\"},\"x_scale\":{\"type\":\"object\",\"name\":\"LinearScale\",\"id\":\"p5187\"},\"y_scale\":{\"type\":\"object\",\"name\":\"LinearScale\",\"id\":\"p5189\"},\"title\":{\"type\":\"object\",\"name\":\"Title\",\"id\":\"p5181\",\"attributes\":{\"text_color\":\"#5B5B5B\",\"text_font\":\"Helvetica\",\"text_font_size\":\"1.15em\"}},\"renderers\":[{\"type\":\"object\",\"name\":\"GlyphRenderer\",\"id\":\"p5226\",\"attributes\":{\"data_source\":{\"type\":\"object\",\"name\":\"ColumnDataSource\",\"id\":\"p5220\",\"attributes\":{\"selected\":{\"type\":\"object\",\"name\":\"Selection\",\"id\":\"p5222\",\"attributes\":{\"indices\":[],\"line_indices\":[]}},\"selection_policy\":{\"type\":\"object\",\"name\":\"UnionRenderers\",\"id\":\"p5221\"},\"data\":{\"type\":\"map\",\"entries\":[[\"x\",[0,1,2,3,4,5,6,7,8,9,10]],[\"y\",[10,9,8,7,6,5,4,3,2,1,0]]]}}},\"view\":{\"type\":\"object\",\"name\":\"CDSView\",\"id\":\"p5227\",\"attributes\":{\"filter\":{\"type\":\"object\",\"name\":\"AllIndices\",\"id\":\"p5228\"}}},\"glyph\":{\"type\":\"object\",\"name\":\"Scatter\",\"id\":\"p5223\",\"attributes\":{\"x\":{\"type\":\"field\",\"field\":\"x\"},\"y\":{\"type\":\"field\",\"field\":\"y\"},\"size\":{\"type\":\"value\",\"value\":12},\"line_color\":{\"type\":\"value\",\"value\":\"#c02942\"},\"line_alpha\":{\"type\":\"value\",\"value\":0.8},\"fill_color\":{\"type\":\"value\",\"value\":\"#c02942\"},\"fill_alpha\":{\"type\":\"value\",\"value\":0.8},\"hatch_color\":{\"type\":\"value\",\"value\":\"#c02942\"},\"hatch_alpha\":{\"type\":\"value\",\"value\":0.8},\"marker\":{\"type\":\"value\",\"value\":\"triangle\"}}},\"nonselection_glyph\":{\"type\":\"object\",\"name\":\"Scatter\",\"id\":\"p5224\",\"attributes\":{\"x\":{\"type\":\"field\",\"field\":\"x\"},\"y\":{\"type\":\"field\",\"field\":\"y\"},\"size\":{\"type\":\"value\",\"value\":12},\"line_color\":{\"type\":\"value\",\"value\":\"#c02942\"},\"line_alpha\":{\"type\":\"value\",\"value\":0.1},\"fill_color\":{\"type\":\"value\",\"value\":\"#c02942\"},\"fill_alpha\":{\"type\":\"value\",\"value\":0.1},\"hatch_color\":{\"type\":\"value\",\"value\":\"#c02942\"},\"hatch_alpha\":{\"type\":\"value\",\"value\":0.1},\"marker\":{\"type\":\"value\",\"value\":\"triangle\"}}},\"muted_glyph\":{\"type\":\"object\",\"name\":\"Scatter\",\"id\":\"p5225\",\"attributes\":{\"x\":{\"type\":\"field\",\"field\":\"x\"},\"y\":{\"type\":\"field\",\"field\":\"y\"},\"size\":{\"type\":\"value\",\"value\":12},\"line_color\":{\"type\":\"value\",\"value\":\"#c02942\"},\"line_alpha\":{\"type\":\"value\",\"value\":0.2},\"fill_color\":{\"type\":\"value\",\"value\":\"#c02942\"},\"fill_alpha\":{\"type\":\"value\",\"value\":0.2},\"hatch_color\":{\"type\":\"value\",\"value\":\"#c02942\"},\"hatch_alpha\":{\"type\":\"value\",\"value\":0.2},\"marker\":{\"type\":\"value\",\"value\":\"triangle\"}}}}}],\"toolbar\":{\"type\":\"object\",\"name\":\"Toolbar\",\"id\":\"p5178\",\"attributes\":{\"tools\":[{\"id\":\"p5205\"},{\"id\":\"p5206\"},{\"id\":\"p5207\"},{\"type\":\"object\",\"name\":\"SaveTool\",\"id\":\"p5209\"},{\"id\":\"p5210\"},{\"id\":\"p5211\"}]}},\"toolbar_location\":null,\"left\":[{\"type\":\"object\",\"name\":\"LinearAxis\",\"id\":\"p5198\",\"attributes\":{\"ticker\":{\"type\":\"object\",\"name\":\"BasicTicker\",\"id\":\"p5199\",\"attributes\":{\"mantissas\":[1,2,5]}},\"formatter\":{\"type\":\"object\",\"name\":\"BasicTickFormatter\",\"id\":\"p5200\"},\"axis_label_standoff\":10,\"axis_label_text_color\":\"#5B5B5B\",\"axis_label_text_font\":\"Helvetica\",\"axis_label_text_font_size\":\"1.25em\",\"axis_label_text_font_style\":\"normal\",\"major_label_policy\":{\"type\":\"object\",\"name\":\"AllLabels\",\"id\":\"p5201\"},\"major_label_text_color\":\"#5B5B5B\",\"major_label_text_font\":\"Helvetica\",\"major_label_text_font_size\":\"1.025em\",\"axis_line_color\":\"#5B5B5B\",\"axis_line_alpha\":0,\"major_tick_line_color\":\"#5B5B5B\",\"major_tick_line_alpha\":0,\"minor_tick_line_color\":\"#5B5B5B\",\"minor_tick_line_alpha\":0}}],\"below\":[{\"type\":\"object\",\"name\":\"LinearAxis\",\"id\":\"p5191\",\"attributes\":{\"ticker\":{\"type\":\"object\",\"name\":\"BasicTicker\",\"id\":\"p5192\",\"attributes\":{\"mantissas\":[1,2,5]}},\"formatter\":{\"type\":\"object\",\"name\":\"BasicTickFormatter\",\"id\":\"p5193\"},\"axis_label_standoff\":10,\"axis_label_text_color\":\"#5B5B5B\",\"axis_label_text_font\":\"Helvetica\",\"axis_label_text_font_size\":\"1.25em\",\"axis_label_text_font_style\":\"normal\",\"major_label_policy\":{\"type\":\"object\",\"name\":\"AllLabels\",\"id\":\"p5194\"},\"major_label_text_color\":\"#5B5B5B\",\"major_label_text_font\":\"Helvetica\",\"major_label_text_font_size\":\"1.025em\",\"axis_line_color\":\"#5B5B5B\",\"axis_line_alpha\":0,\"major_tick_line_color\":\"#5B5B5B\",\"major_tick_line_alpha\":0,\"minor_tick_line_color\":\"#5B5B5B\",\"minor_tick_line_alpha\":0}}],\"center\":[{\"type\":\"object\",\"name\":\"Grid\",\"id\":\"p5197\",\"attributes\":{\"axis\":{\"id\":\"p5191\"}}},{\"type\":\"object\",\"name\":\"Grid\",\"id\":\"p5204\",\"attributes\":{\"dimension\":1,\"axis\":{\"id\":\"p5198\"}}}],\"background_fill_color\":\"#fafafa\"}},0,1],[{\"type\":\"object\",\"name\":\"Figure\",\"id\":\"p5229\",\"attributes\":{\"width\":200,\"height\":100,\"x_range\":{\"type\":\"object\",\"name\":\"DataRange1d\",\"id\":\"p5231\"},\"y_range\":{\"type\":\"object\",\"name\":\"DataRange1d\",\"id\":\"p5230\"},\"x_scale\":{\"type\":\"object\",\"name\":\"LinearScale\",\"id\":\"p5242\"},\"y_scale\":{\"type\":\"object\",\"name\":\"LinearScale\",\"id\":\"p5244\"},\"title\":{\"type\":\"object\",\"name\":\"Title\",\"id\":\"p5236\",\"attributes\":{\"text_color\":\"#5B5B5B\",\"text_font\":\"Helvetica\",\"text_font_size\":\"1.15em\"}},\"renderers\":[{\"type\":\"object\",\"name\":\"GlyphRenderer\",\"id\":\"p5281\",\"attributes\":{\"data_source\":{\"type\":\"object\",\"name\":\"ColumnDataSource\",\"id\":\"p5275\",\"attributes\":{\"selected\":{\"type\":\"object\",\"name\":\"Selection\",\"id\":\"p5277\",\"attributes\":{\"indices\":[],\"line_indices\":[]}},\"selection_policy\":{\"type\":\"object\",\"name\":\"UnionRenderers\",\"id\":\"p5276\"},\"data\":{\"type\":\"map\",\"entries\":[[\"x\",[0,1,2,3,4,5,6,7,8,9,10]],[\"y\",[5,4,3,2,1,0,1,2,3,4,5]]]}}},\"view\":{\"type\":\"object\",\"name\":\"CDSView\",\"id\":\"p5282\",\"attributes\":{\"filter\":{\"type\":\"object\",\"name\":\"AllIndices\",\"id\":\"p5283\"}}},\"glyph\":{\"type\":\"object\",\"name\":\"Scatter\",\"id\":\"p5278\",\"attributes\":{\"x\":{\"type\":\"field\",\"field\":\"x\"},\"y\":{\"type\":\"field\",\"field\":\"y\"},\"size\":{\"type\":\"value\",\"value\":12},\"line_color\":{\"type\":\"value\",\"value\":\"#d95b43\"},\"line_alpha\":{\"type\":\"value\",\"value\":0.8},\"fill_color\":{\"type\":\"value\",\"value\":\"#d95b43\"},\"fill_alpha\":{\"type\":\"value\",\"value\":0.8},\"hatch_color\":{\"type\":\"value\",\"value\":\"#d95b43\"},\"hatch_alpha\":{\"type\":\"value\",\"value\":0.8},\"marker\":{\"type\":\"value\",\"value\":\"square\"}}},\"nonselection_glyph\":{\"type\":\"object\",\"name\":\"Scatter\",\"id\":\"p5279\",\"attributes\":{\"x\":{\"type\":\"field\",\"field\":\"x\"},\"y\":{\"type\":\"field\",\"field\":\"y\"},\"size\":{\"type\":\"value\",\"value\":12},\"line_color\":{\"type\":\"value\",\"value\":\"#d95b43\"},\"line_alpha\":{\"type\":\"value\",\"value\":0.1},\"fill_color\":{\"type\":\"value\",\"value\":\"#d95b43\"},\"fill_alpha\":{\"type\":\"value\",\"value\":0.1},\"hatch_color\":{\"type\":\"value\",\"value\":\"#d95b43\"},\"hatch_alpha\":{\"type\":\"value\",\"value\":0.1},\"marker\":{\"type\":\"value\",\"value\":\"square\"}}},\"muted_glyph\":{\"type\":\"object\",\"name\":\"Scatter\",\"id\":\"p5280\",\"attributes\":{\"x\":{\"type\":\"field\",\"field\":\"x\"},\"y\":{\"type\":\"field\",\"field\":\"y\"},\"size\":{\"type\":\"value\",\"value\":12},\"line_color\":{\"type\":\"value\",\"value\":\"#d95b43\"},\"line_alpha\":{\"type\":\"value\",\"value\":0.2},\"fill_color\":{\"type\":\"value\",\"value\":\"#d95b43\"},\"fill_alpha\":{\"type\":\"value\",\"value\":0.2},\"hatch_color\":{\"type\":\"value\",\"value\":\"#d95b43\"},\"hatch_alpha\":{\"type\":\"value\",\"value\":0.2},\"marker\":{\"type\":\"value\",\"value\":\"square\"}}}}}],\"toolbar\":{\"type\":\"object\",\"name\":\"Toolbar\",\"id\":\"p5233\",\"attributes\":{\"tools\":[{\"id\":\"p5260\"},{\"id\":\"p5261\"},{\"id\":\"p5262\"},{\"type\":\"object\",\"name\":\"SaveTool\",\"id\":\"p5264\"},{\"id\":\"p5265\"},{\"id\":\"p5266\"}]}},\"toolbar_location\":null,\"left\":[{\"type\":\"object\",\"name\":\"LinearAxis\",\"id\":\"p5253\",\"attributes\":{\"ticker\":{\"type\":\"object\",\"name\":\"BasicTicker\",\"id\":\"p5254\",\"attributes\":{\"mantissas\":[1,2,5]}},\"formatter\":{\"type\":\"object\",\"name\":\"BasicTickFormatter\",\"id\":\"p5255\"},\"axis_label_standoff\":10,\"axis_label_text_color\":\"#5B5B5B\",\"axis_label_text_font\":\"Helvetica\",\"axis_label_text_font_size\":\"1.25em\",\"axis_label_text_font_style\":\"normal\",\"major_label_policy\":{\"type\":\"object\",\"name\":\"AllLabels\",\"id\":\"p5256\"},\"major_label_text_color\":\"#5B5B5B\",\"major_label_text_font\":\"Helvetica\",\"major_label_text_font_size\":\"1.025em\",\"axis_line_color\":\"#5B5B5B\",\"axis_line_alpha\":0,\"major_tick_line_color\":\"#5B5B5B\",\"major_tick_line_alpha\":0,\"minor_tick_line_color\":\"#5B5B5B\",\"minor_tick_line_alpha\":0}}],\"below\":[{\"type\":\"object\",\"name\":\"LinearAxis\",\"id\":\"p5246\",\"attributes\":{\"ticker\":{\"type\":\"object\",\"name\":\"BasicTicker\",\"id\":\"p5247\",\"attributes\":{\"mantissas\":[1,2,5]}},\"formatter\":{\"type\":\"object\",\"name\":\"BasicTickFormatter\",\"id\":\"p5248\"},\"axis_label_standoff\":10,\"axis_label_text_color\":\"#5B5B5B\",\"axis_label_text_font\":\"Helvetica\",\"axis_label_text_font_size\":\"1.25em\",\"axis_label_text_font_style\":\"normal\",\"major_label_policy\":{\"type\":\"object\",\"name\":\"AllLabels\",\"id\":\"p5249\"},\"major_label_text_color\":\"#5B5B5B\",\"major_label_text_font\":\"Helvetica\",\"major_label_text_font_size\":\"1.025em\",\"axis_line_color\":\"#5B5B5B\",\"axis_line_alpha\":0,\"major_tick_line_color\":\"#5B5B5B\",\"major_tick_line_alpha\":0,\"minor_tick_line_color\":\"#5B5B5B\",\"minor_tick_line_alpha\":0}}],\"center\":[{\"type\":\"object\",\"name\":\"Grid\",\"id\":\"p5252\",\"attributes\":{\"axis\":{\"id\":\"p5246\"}}},{\"type\":\"object\",\"name\":\"Grid\",\"id\":\"p5259\",\"attributes\":{\"dimension\":1,\"axis\":{\"id\":\"p5253\"}}}],\"background_fill_color\":\"#fafafa\"}},1,0],[{\"type\":\"object\",\"name\":\"Figure\",\"id\":\"p5284\",\"attributes\":{\"width\":250,\"height\":250,\"x_range\":{\"type\":\"object\",\"name\":\"DataRange1d\",\"id\":\"p5286\"},\"y_range\":{\"type\":\"object\",\"name\":\"DataRange1d\",\"id\":\"p5285\"},\"x_scale\":{\"type\":\"object\",\"name\":\"LinearScale\",\"id\":\"p5297\"},\"y_scale\":{\"type\":\"object\",\"name\":\"LinearScale\",\"id\":\"p5299\"},\"title\":{\"type\":\"object\",\"name\":\"Title\",\"id\":\"p5291\",\"attributes\":{\"text_color\":\"#5B5B5B\",\"text_font\":\"Helvetica\",\"text_font_size\":\"1.15em\"}},\"renderers\":[{\"type\":\"object\",\"name\":\"GlyphRenderer\",\"id\":\"p5336\",\"attributes\":{\"data_source\":{\"type\":\"object\",\"name\":\"ColumnDataSource\",\"id\":\"p5330\",\"attributes\":{\"selected\":{\"type\":\"object\",\"name\":\"Selection\",\"id\":\"p5332\",\"attributes\":{\"indices\":[],\"line_indices\":[]}},\"selection_policy\":{\"type\":\"object\",\"name\":\"UnionRenderers\",\"id\":\"p5331\"},\"data\":{\"type\":\"map\",\"entries\":[[\"x\",[0,1,2,3,4,5,6,7,8,9,10]],[\"y\",[0,1,2,3,4,5,6,7,8,9,10]]]}}},\"view\":{\"type\":\"object\",\"name\":\"CDSView\",\"id\":\"p5337\",\"attributes\":{\"filter\":{\"type\":\"object\",\"name\":\"AllIndices\",\"id\":\"p5338\"}}},\"glyph\":{\"type\":\"object\",\"name\":\"Scatter\",\"id\":\"p5333\",\"attributes\":{\"x\":{\"type\":\"field\",\"field\":\"x\"},\"y\":{\"type\":\"field\",\"field\":\"y\"},\"size\":{\"type\":\"value\",\"value\":12},\"line_color\":{\"type\":\"value\",\"value\":\"#53777a\"},\"line_alpha\":{\"type\":\"value\",\"value\":0.8},\"fill_color\":{\"type\":\"value\",\"value\":\"#53777a\"},\"fill_alpha\":{\"type\":\"value\",\"value\":0.8},\"hatch_color\":{\"type\":\"value\",\"value\":\"#53777a\"},\"hatch_alpha\":{\"type\":\"value\",\"value\":0.8},\"marker\":{\"type\":\"value\",\"value\":\"diamond\"}}},\"nonselection_glyph\":{\"type\":\"object\",\"name\":\"Scatter\",\"id\":\"p5334\",\"attributes\":{\"x\":{\"type\":\"field\",\"field\":\"x\"},\"y\":{\"type\":\"field\",\"field\":\"y\"},\"size\":{\"type\":\"value\",\"value\":12},\"line_color\":{\"type\":\"value\",\"value\":\"#53777a\"},\"line_alpha\":{\"type\":\"value\",\"value\":0.1},\"fill_color\":{\"type\":\"value\",\"value\":\"#53777a\"},\"fill_alpha\":{\"type\":\"value\",\"value\":0.1},\"hatch_color\":{\"type\":\"value\",\"value\":\"#53777a\"},\"hatch_alpha\":{\"type\":\"value\",\"value\":0.1},\"marker\":{\"type\":\"value\",\"value\":\"diamond\"}}},\"muted_glyph\":{\"type\":\"object\",\"name\":\"Scatter\",\"id\":\"p5335\",\"attributes\":{\"x\":{\"type\":\"field\",\"field\":\"x\"},\"y\":{\"type\":\"field\",\"field\":\"y\"},\"size\":{\"type\":\"value\",\"value\":12},\"line_color\":{\"type\":\"value\",\"value\":\"#53777a\"},\"line_alpha\":{\"type\":\"value\",\"value\":0.2},\"fill_color\":{\"type\":\"value\",\"value\":\"#53777a\"},\"fill_alpha\":{\"type\":\"value\",\"value\":0.2},\"hatch_color\":{\"type\":\"value\",\"value\":\"#53777a\"},\"hatch_alpha\":{\"type\":\"value\",\"value\":0.2},\"marker\":{\"type\":\"value\",\"value\":\"diamond\"}}}}}],\"toolbar\":{\"type\":\"object\",\"name\":\"Toolbar\",\"id\":\"p5288\",\"attributes\":{\"tools\":[{\"id\":\"p5315\"},{\"id\":\"p5316\"},{\"id\":\"p5317\"},{\"type\":\"object\",\"name\":\"SaveTool\",\"id\":\"p5319\"},{\"id\":\"p5320\"},{\"id\":\"p5321\"}]}},\"toolbar_location\":null,\"left\":[{\"type\":\"object\",\"name\":\"LinearAxis\",\"id\":\"p5308\",\"attributes\":{\"ticker\":{\"type\":\"object\",\"name\":\"BasicTicker\",\"id\":\"p5309\",\"attributes\":{\"mantissas\":[1,2,5]}},\"formatter\":{\"type\":\"object\",\"name\":\"BasicTickFormatter\",\"id\":\"p5310\"},\"axis_label_standoff\":10,\"axis_label_text_color\":\"#5B5B5B\",\"axis_label_text_font\":\"Helvetica\",\"axis_label_text_font_size\":\"1.25em\",\"axis_label_text_font_style\":\"normal\",\"major_label_policy\":{\"type\":\"object\",\"name\":\"AllLabels\",\"id\":\"p5311\"},\"major_label_text_color\":\"#5B5B5B\",\"major_label_text_font\":\"Helvetica\",\"major_label_text_font_size\":\"1.025em\",\"axis_line_color\":\"#5B5B5B\",\"axis_line_alpha\":0,\"major_tick_line_color\":\"#5B5B5B\",\"major_tick_line_alpha\":0,\"minor_tick_line_color\":\"#5B5B5B\",\"minor_tick_line_alpha\":0}}],\"below\":[{\"type\":\"object\",\"name\":\"LinearAxis\",\"id\":\"p5301\",\"attributes\":{\"ticker\":{\"type\":\"object\",\"name\":\"BasicTicker\",\"id\":\"p5302\",\"attributes\":{\"mantissas\":[1,2,5]}},\"formatter\":{\"type\":\"object\",\"name\":\"BasicTickFormatter\",\"id\":\"p5303\"},\"axis_label_standoff\":10,\"axis_label_text_color\":\"#5B5B5B\",\"axis_label_text_font\":\"Helvetica\",\"axis_label_text_font_size\":\"1.25em\",\"axis_label_text_font_style\":\"normal\",\"major_label_policy\":{\"type\":\"object\",\"name\":\"AllLabels\",\"id\":\"p5304\"},\"major_label_text_color\":\"#5B5B5B\",\"major_label_text_font\":\"Helvetica\",\"major_label_text_font_size\":\"1.025em\",\"axis_line_color\":\"#5B5B5B\",\"axis_line_alpha\":0,\"major_tick_line_color\":\"#5B5B5B\",\"major_tick_line_alpha\":0,\"minor_tick_line_color\":\"#5B5B5B\",\"minor_tick_line_alpha\":0}}],\"center\":[{\"type\":\"object\",\"name\":\"Grid\",\"id\":\"p5307\",\"attributes\":{\"axis\":{\"id\":\"p5301\"}}},{\"type\":\"object\",\"name\":\"Grid\",\"id\":\"p5314\",\"attributes\":{\"dimension\":1,\"axis\":{\"id\":\"p5308\"}}}],\"background_fill_color\":\"#fafafa\"}},1,1]]}}],\"callbacks\":{\"type\":\"map\"}}};\n",
       "  const render_items = [{\"docid\":\"6168bcf7-0935-40f8-a918-cc5db18c7430\",\"roots\":{\"p7407\":\"c1be4dc0-59cd-475d-a0d6-3e13a6719051\"},\"root_ids\":[\"p7407\"]}];\n",
       "  root.Bokeh.embed.embed_items_notebook(docs_json, render_items);\n",
       "  }\n",
       "  if (root.Bokeh !== undefined) {\n",
       "    embed_document(root);\n",
       "  } else {\n",
       "    let attempts = 0;\n",
       "    const timer = setInterval(function(root) {\n",
       "      if (root.Bokeh !== undefined) {\n",
       "        clearInterval(timer);\n",
       "        embed_document(root);\n",
       "      } else {\n",
       "        attempts++;\n",
       "        if (attempts > 100) {\n",
       "          clearInterval(timer);\n",
       "          console.log(\"Bokeh: ERROR: Unable to run BokehJS code because BokehJS library is missing\");\n",
       "        }\n",
       "      }\n",
       "    }, 10, root)\n",
       "  }\n",
       "})(window);"
      ],
      "application/vnd.bokehjs_exec.v0+json": ""
     },
     "metadata": {
      "application/vnd.bokehjs_exec.v0+json": {
       "id": "p7407"
      }
     },
     "output_type": "display_data"
    }
   ],
   "source": [
    "gridplot([s1, s2, s3, s1], ncols=2, width=200, height=100)\n",
    "show(p)"
   ]
  },
  {
   "cell_type": "code",
   "execution_count": 22,
   "id": "a3b456c3",
   "metadata": {},
   "outputs": [
    {
     "name": "stderr",
     "output_type": "stream",
     "text": [
      "WARNING:bokeh.core.validation.check:W-1005 (FIXED_SIZING_MODE): 'fixed' sizing mode requires width and height to be set: GridPlot(id='p8569', ...)\n"
     ]
    },
    {
     "data": {
      "text/html": [
       "\n",
       "  <div id=\"8b5a7132-bb93-4cd7-bc30-c3d6af5c225e\" data-root-id=\"p8569\" style=\"display: contents;\"></div>\n"
      ]
     },
     "metadata": {},
     "output_type": "display_data"
    },
    {
     "data": {
      "application/javascript": [
       "(function(root) {\n",
       "  function embed_document(root) {\n",
       "  const docs_json = {\"8c2cc4b2-533b-4436-bda9-b6f93235c185\":{\"version\":\"3.1.0\",\"title\":\"Bokeh Application\",\"defs\":[],\"roots\":[{\"type\":\"object\",\"name\":\"GridPlot\",\"id\":\"p8569\",\"attributes\":{\"rows\":null,\"cols\":null,\"sizing_mode\":\"fixed\",\"toolbar\":{\"type\":\"object\",\"name\":\"Toolbar\",\"id\":\"p8568\",\"attributes\":{\"logo\":\"grey\",\"tools\":[{\"type\":\"object\",\"name\":\"ToolProxy\",\"id\":\"p8562\",\"attributes\":{\"tools\":[{\"type\":\"object\",\"name\":\"PanTool\",\"id\":\"p5150\"},{\"type\":\"object\",\"name\":\"PanTool\",\"id\":\"p5205\"},{\"type\":\"object\",\"name\":\"PanTool\",\"id\":\"p5260\"}]}},{\"type\":\"object\",\"name\":\"ToolProxy\",\"id\":\"p8563\",\"attributes\":{\"tools\":[{\"type\":\"object\",\"name\":\"WheelZoomTool\",\"id\":\"p5151\"},{\"type\":\"object\",\"name\":\"WheelZoomTool\",\"id\":\"p5206\"},{\"type\":\"object\",\"name\":\"WheelZoomTool\",\"id\":\"p5261\"}]}},{\"type\":\"object\",\"name\":\"ToolProxy\",\"id\":\"p8564\",\"attributes\":{\"tools\":[{\"type\":\"object\",\"name\":\"BoxZoomTool\",\"id\":\"p5152\",\"attributes\":{\"overlay\":{\"type\":\"object\",\"name\":\"BoxAnnotation\",\"id\":\"p5153\",\"attributes\":{\"syncable\":false,\"level\":\"overlay\",\"visible\":false,\"left_units\":\"canvas\",\"right_units\":\"canvas\",\"bottom_units\":\"canvas\",\"top_units\":\"canvas\",\"line_color\":\"black\",\"line_alpha\":1.0,\"line_width\":2,\"line_dash\":[4,4],\"fill_color\":\"lightgrey\",\"fill_alpha\":0.5}}}},{\"type\":\"object\",\"name\":\"BoxZoomTool\",\"id\":\"p5207\",\"attributes\":{\"overlay\":{\"type\":\"object\",\"name\":\"BoxAnnotation\",\"id\":\"p5208\",\"attributes\":{\"syncable\":false,\"level\":\"overlay\",\"visible\":false,\"left_units\":\"canvas\",\"right_units\":\"canvas\",\"bottom_units\":\"canvas\",\"top_units\":\"canvas\",\"line_color\":\"black\",\"line_alpha\":1.0,\"line_width\":2,\"line_dash\":[4,4],\"fill_color\":\"lightgrey\",\"fill_alpha\":0.5}}}},{\"type\":\"object\",\"name\":\"BoxZoomTool\",\"id\":\"p5262\",\"attributes\":{\"overlay\":{\"type\":\"object\",\"name\":\"BoxAnnotation\",\"id\":\"p5263\",\"attributes\":{\"syncable\":false,\"level\":\"overlay\",\"visible\":false,\"left_units\":\"canvas\",\"right_units\":\"canvas\",\"bottom_units\":\"canvas\",\"top_units\":\"canvas\",\"line_color\":\"black\",\"line_alpha\":1.0,\"line_width\":2,\"line_dash\":[4,4],\"fill_color\":\"lightgrey\",\"fill_alpha\":0.5}}}}]}},{\"type\":\"object\",\"name\":\"SaveTool\",\"id\":\"p8565\"},{\"type\":\"object\",\"name\":\"ToolProxy\",\"id\":\"p8566\",\"attributes\":{\"tools\":[{\"type\":\"object\",\"name\":\"ResetTool\",\"id\":\"p5155\"},{\"type\":\"object\",\"name\":\"ResetTool\",\"id\":\"p5210\"},{\"type\":\"object\",\"name\":\"ResetTool\",\"id\":\"p5265\"}]}},{\"type\":\"object\",\"name\":\"ToolProxy\",\"id\":\"p8567\",\"attributes\":{\"tools\":[{\"type\":\"object\",\"name\":\"HelpTool\",\"id\":\"p5156\"},{\"type\":\"object\",\"name\":\"HelpTool\",\"id\":\"p5211\"},{\"type\":\"object\",\"name\":\"HelpTool\",\"id\":\"p5266\"}]}}]}},\"toolbar_location\":\"right\",\"children\":[[{\"type\":\"object\",\"name\":\"Figure\",\"id\":\"p5119\",\"attributes\":{\"width\":200,\"height\":100,\"sizing_mode\":\"fixed\",\"x_range\":{\"type\":\"object\",\"name\":\"DataRange1d\",\"id\":\"p5121\"},\"y_range\":{\"type\":\"object\",\"name\":\"DataRange1d\",\"id\":\"p5120\"},\"x_scale\":{\"type\":\"object\",\"name\":\"LinearScale\",\"id\":\"p5132\"},\"y_scale\":{\"type\":\"object\",\"name\":\"LinearScale\",\"id\":\"p5134\"},\"title\":{\"type\":\"object\",\"name\":\"Title\",\"id\":\"p5126\",\"attributes\":{\"text_color\":\"#5B5B5B\",\"text_font\":\"Helvetica\",\"text_font_size\":\"1.15em\"}},\"renderers\":[{\"type\":\"object\",\"name\":\"GlyphRenderer\",\"id\":\"p5171\",\"attributes\":{\"data_source\":{\"type\":\"object\",\"name\":\"ColumnDataSource\",\"id\":\"p5165\",\"attributes\":{\"selected\":{\"type\":\"object\",\"name\":\"Selection\",\"id\":\"p5167\",\"attributes\":{\"indices\":[],\"line_indices\":[]}},\"selection_policy\":{\"type\":\"object\",\"name\":\"UnionRenderers\",\"id\":\"p5166\"},\"data\":{\"type\":\"map\",\"entries\":[[\"x\",[0,1,2,3,4,5,6,7,8,9,10]],[\"y\",[0,1,2,3,4,5,6,7,8,9,10]]]}}},\"view\":{\"type\":\"object\",\"name\":\"CDSView\",\"id\":\"p5172\",\"attributes\":{\"filter\":{\"type\":\"object\",\"name\":\"AllIndices\",\"id\":\"p5173\"}}},\"glyph\":{\"type\":\"object\",\"name\":\"Circle\",\"id\":\"p5168\",\"attributes\":{\"x\":{\"type\":\"field\",\"field\":\"x\"},\"y\":{\"type\":\"field\",\"field\":\"y\"},\"size\":{\"type\":\"value\",\"value\":12},\"line_color\":{\"type\":\"value\",\"value\":\"#53777a\"},\"line_alpha\":{\"type\":\"value\",\"value\":0.8},\"fill_color\":{\"type\":\"value\",\"value\":\"#53777a\"},\"fill_alpha\":{\"type\":\"value\",\"value\":0.8},\"hatch_color\":{\"type\":\"value\",\"value\":\"#53777a\"},\"hatch_alpha\":{\"type\":\"value\",\"value\":0.8}}},\"nonselection_glyph\":{\"type\":\"object\",\"name\":\"Circle\",\"id\":\"p5169\",\"attributes\":{\"x\":{\"type\":\"field\",\"field\":\"x\"},\"y\":{\"type\":\"field\",\"field\":\"y\"},\"size\":{\"type\":\"value\",\"value\":12},\"line_color\":{\"type\":\"value\",\"value\":\"#53777a\"},\"line_alpha\":{\"type\":\"value\",\"value\":0.1},\"fill_color\":{\"type\":\"value\",\"value\":\"#53777a\"},\"fill_alpha\":{\"type\":\"value\",\"value\":0.1},\"hatch_color\":{\"type\":\"value\",\"value\":\"#53777a\"},\"hatch_alpha\":{\"type\":\"value\",\"value\":0.1}}},\"muted_glyph\":{\"type\":\"object\",\"name\":\"Circle\",\"id\":\"p5170\",\"attributes\":{\"x\":{\"type\":\"field\",\"field\":\"x\"},\"y\":{\"type\":\"field\",\"field\":\"y\"},\"size\":{\"type\":\"value\",\"value\":12},\"line_color\":{\"type\":\"value\",\"value\":\"#53777a\"},\"line_alpha\":{\"type\":\"value\",\"value\":0.2},\"fill_color\":{\"type\":\"value\",\"value\":\"#53777a\"},\"fill_alpha\":{\"type\":\"value\",\"value\":0.2},\"hatch_color\":{\"type\":\"value\",\"value\":\"#53777a\"},\"hatch_alpha\":{\"type\":\"value\",\"value\":0.2}}}}}],\"toolbar\":{\"type\":\"object\",\"name\":\"Toolbar\",\"id\":\"p5123\",\"attributes\":{\"tools\":[{\"id\":\"p5150\"},{\"id\":\"p5151\"},{\"id\":\"p5152\"},{\"type\":\"object\",\"name\":\"SaveTool\",\"id\":\"p5154\"},{\"id\":\"p5155\"},{\"id\":\"p5156\"}]}},\"toolbar_location\":null,\"left\":[{\"type\":\"object\",\"name\":\"LinearAxis\",\"id\":\"p5143\",\"attributes\":{\"ticker\":{\"type\":\"object\",\"name\":\"BasicTicker\",\"id\":\"p5144\",\"attributes\":{\"mantissas\":[1,2,5]}},\"formatter\":{\"type\":\"object\",\"name\":\"BasicTickFormatter\",\"id\":\"p5145\"},\"axis_label_standoff\":10,\"axis_label_text_color\":\"#5B5B5B\",\"axis_label_text_font\":\"Helvetica\",\"axis_label_text_font_size\":\"1.25em\",\"axis_label_text_font_style\":\"normal\",\"major_label_policy\":{\"type\":\"object\",\"name\":\"AllLabels\",\"id\":\"p5146\"},\"major_label_text_color\":\"#5B5B5B\",\"major_label_text_font\":\"Helvetica\",\"major_label_text_font_size\":\"1.025em\",\"axis_line_color\":\"#5B5B5B\",\"axis_line_alpha\":0,\"major_tick_line_color\":\"#5B5B5B\",\"major_tick_line_alpha\":0,\"minor_tick_line_color\":\"#5B5B5B\",\"minor_tick_line_alpha\":0}}],\"below\":[{\"type\":\"object\",\"name\":\"LinearAxis\",\"id\":\"p5136\",\"attributes\":{\"ticker\":{\"type\":\"object\",\"name\":\"BasicTicker\",\"id\":\"p5137\",\"attributes\":{\"mantissas\":[1,2,5]}},\"formatter\":{\"type\":\"object\",\"name\":\"BasicTickFormatter\",\"id\":\"p5138\"},\"axis_label_standoff\":10,\"axis_label_text_color\":\"#5B5B5B\",\"axis_label_text_font\":\"Helvetica\",\"axis_label_text_font_size\":\"1.25em\",\"axis_label_text_font_style\":\"normal\",\"major_label_policy\":{\"type\":\"object\",\"name\":\"AllLabels\",\"id\":\"p5139\"},\"major_label_text_color\":\"#5B5B5B\",\"major_label_text_font\":\"Helvetica\",\"major_label_text_font_size\":\"1.025em\",\"axis_line_color\":\"#5B5B5B\",\"axis_line_alpha\":0,\"major_tick_line_color\":\"#5B5B5B\",\"major_tick_line_alpha\":0,\"minor_tick_line_color\":\"#5B5B5B\",\"minor_tick_line_alpha\":0}}],\"center\":[{\"type\":\"object\",\"name\":\"Grid\",\"id\":\"p5142\",\"attributes\":{\"axis\":{\"id\":\"p5136\"}}},{\"type\":\"object\",\"name\":\"Grid\",\"id\":\"p5149\",\"attributes\":{\"dimension\":1,\"axis\":{\"id\":\"p5143\"}}}],\"background_fill_color\":\"#fafafa\"}},0,0],[{\"type\":\"object\",\"name\":\"Figure\",\"id\":\"p5174\",\"attributes\":{\"width\":200,\"height\":100,\"sizing_mode\":\"fixed\",\"x_range\":{\"type\":\"object\",\"name\":\"DataRange1d\",\"id\":\"p5176\"},\"y_range\":{\"type\":\"object\",\"name\":\"DataRange1d\",\"id\":\"p5175\"},\"x_scale\":{\"type\":\"object\",\"name\":\"LinearScale\",\"id\":\"p5187\"},\"y_scale\":{\"type\":\"object\",\"name\":\"LinearScale\",\"id\":\"p5189\"},\"title\":{\"type\":\"object\",\"name\":\"Title\",\"id\":\"p5181\",\"attributes\":{\"text_color\":\"#5B5B5B\",\"text_font\":\"Helvetica\",\"text_font_size\":\"1.15em\"}},\"renderers\":[{\"type\":\"object\",\"name\":\"GlyphRenderer\",\"id\":\"p5226\",\"attributes\":{\"data_source\":{\"type\":\"object\",\"name\":\"ColumnDataSource\",\"id\":\"p5220\",\"attributes\":{\"selected\":{\"type\":\"object\",\"name\":\"Selection\",\"id\":\"p5222\",\"attributes\":{\"indices\":[],\"line_indices\":[]}},\"selection_policy\":{\"type\":\"object\",\"name\":\"UnionRenderers\",\"id\":\"p5221\"},\"data\":{\"type\":\"map\",\"entries\":[[\"x\",[0,1,2,3,4,5,6,7,8,9,10]],[\"y\",[10,9,8,7,6,5,4,3,2,1,0]]]}}},\"view\":{\"type\":\"object\",\"name\":\"CDSView\",\"id\":\"p5227\",\"attributes\":{\"filter\":{\"type\":\"object\",\"name\":\"AllIndices\",\"id\":\"p5228\"}}},\"glyph\":{\"type\":\"object\",\"name\":\"Scatter\",\"id\":\"p5223\",\"attributes\":{\"x\":{\"type\":\"field\",\"field\":\"x\"},\"y\":{\"type\":\"field\",\"field\":\"y\"},\"size\":{\"type\":\"value\",\"value\":12},\"line_color\":{\"type\":\"value\",\"value\":\"#c02942\"},\"line_alpha\":{\"type\":\"value\",\"value\":0.8},\"fill_color\":{\"type\":\"value\",\"value\":\"#c02942\"},\"fill_alpha\":{\"type\":\"value\",\"value\":0.8},\"hatch_color\":{\"type\":\"value\",\"value\":\"#c02942\"},\"hatch_alpha\":{\"type\":\"value\",\"value\":0.8},\"marker\":{\"type\":\"value\",\"value\":\"triangle\"}}},\"nonselection_glyph\":{\"type\":\"object\",\"name\":\"Scatter\",\"id\":\"p5224\",\"attributes\":{\"x\":{\"type\":\"field\",\"field\":\"x\"},\"y\":{\"type\":\"field\",\"field\":\"y\"},\"size\":{\"type\":\"value\",\"value\":12},\"line_color\":{\"type\":\"value\",\"value\":\"#c02942\"},\"line_alpha\":{\"type\":\"value\",\"value\":0.1},\"fill_color\":{\"type\":\"value\",\"value\":\"#c02942\"},\"fill_alpha\":{\"type\":\"value\",\"value\":0.1},\"hatch_color\":{\"type\":\"value\",\"value\":\"#c02942\"},\"hatch_alpha\":{\"type\":\"value\",\"value\":0.1},\"marker\":{\"type\":\"value\",\"value\":\"triangle\"}}},\"muted_glyph\":{\"type\":\"object\",\"name\":\"Scatter\",\"id\":\"p5225\",\"attributes\":{\"x\":{\"type\":\"field\",\"field\":\"x\"},\"y\":{\"type\":\"field\",\"field\":\"y\"},\"size\":{\"type\":\"value\",\"value\":12},\"line_color\":{\"type\":\"value\",\"value\":\"#c02942\"},\"line_alpha\":{\"type\":\"value\",\"value\":0.2},\"fill_color\":{\"type\":\"value\",\"value\":\"#c02942\"},\"fill_alpha\":{\"type\":\"value\",\"value\":0.2},\"hatch_color\":{\"type\":\"value\",\"value\":\"#c02942\"},\"hatch_alpha\":{\"type\":\"value\",\"value\":0.2},\"marker\":{\"type\":\"value\",\"value\":\"triangle\"}}}}}],\"toolbar\":{\"type\":\"object\",\"name\":\"Toolbar\",\"id\":\"p5178\",\"attributes\":{\"tools\":[{\"id\":\"p5205\"},{\"id\":\"p5206\"},{\"id\":\"p5207\"},{\"type\":\"object\",\"name\":\"SaveTool\",\"id\":\"p5209\"},{\"id\":\"p5210\"},{\"id\":\"p5211\"}]}},\"toolbar_location\":null,\"left\":[{\"type\":\"object\",\"name\":\"LinearAxis\",\"id\":\"p5198\",\"attributes\":{\"ticker\":{\"type\":\"object\",\"name\":\"BasicTicker\",\"id\":\"p5199\",\"attributes\":{\"mantissas\":[1,2,5]}},\"formatter\":{\"type\":\"object\",\"name\":\"BasicTickFormatter\",\"id\":\"p5200\"},\"axis_label_standoff\":10,\"axis_label_text_color\":\"#5B5B5B\",\"axis_label_text_font\":\"Helvetica\",\"axis_label_text_font_size\":\"1.25em\",\"axis_label_text_font_style\":\"normal\",\"major_label_policy\":{\"type\":\"object\",\"name\":\"AllLabels\",\"id\":\"p5201\"},\"major_label_text_color\":\"#5B5B5B\",\"major_label_text_font\":\"Helvetica\",\"major_label_text_font_size\":\"1.025em\",\"axis_line_color\":\"#5B5B5B\",\"axis_line_alpha\":0,\"major_tick_line_color\":\"#5B5B5B\",\"major_tick_line_alpha\":0,\"minor_tick_line_color\":\"#5B5B5B\",\"minor_tick_line_alpha\":0}}],\"below\":[{\"type\":\"object\",\"name\":\"LinearAxis\",\"id\":\"p5191\",\"attributes\":{\"ticker\":{\"type\":\"object\",\"name\":\"BasicTicker\",\"id\":\"p5192\",\"attributes\":{\"mantissas\":[1,2,5]}},\"formatter\":{\"type\":\"object\",\"name\":\"BasicTickFormatter\",\"id\":\"p5193\"},\"axis_label_standoff\":10,\"axis_label_text_color\":\"#5B5B5B\",\"axis_label_text_font\":\"Helvetica\",\"axis_label_text_font_size\":\"1.25em\",\"axis_label_text_font_style\":\"normal\",\"major_label_policy\":{\"type\":\"object\",\"name\":\"AllLabels\",\"id\":\"p5194\"},\"major_label_text_color\":\"#5B5B5B\",\"major_label_text_font\":\"Helvetica\",\"major_label_text_font_size\":\"1.025em\",\"axis_line_color\":\"#5B5B5B\",\"axis_line_alpha\":0,\"major_tick_line_color\":\"#5B5B5B\",\"major_tick_line_alpha\":0,\"minor_tick_line_color\":\"#5B5B5B\",\"minor_tick_line_alpha\":0}}],\"center\":[{\"type\":\"object\",\"name\":\"Grid\",\"id\":\"p5197\",\"attributes\":{\"axis\":{\"id\":\"p5191\"}}},{\"type\":\"object\",\"name\":\"Grid\",\"id\":\"p5204\",\"attributes\":{\"dimension\":1,\"axis\":{\"id\":\"p5198\"}}}],\"background_fill_color\":\"#fafafa\"}},0,1],[{\"type\":\"object\",\"name\":\"Figure\",\"id\":\"p5229\",\"attributes\":{\"width\":200,\"height\":100,\"sizing_mode\":\"fixed\",\"x_range\":{\"type\":\"object\",\"name\":\"DataRange1d\",\"id\":\"p5231\"},\"y_range\":{\"type\":\"object\",\"name\":\"DataRange1d\",\"id\":\"p5230\"},\"x_scale\":{\"type\":\"object\",\"name\":\"LinearScale\",\"id\":\"p5242\"},\"y_scale\":{\"type\":\"object\",\"name\":\"LinearScale\",\"id\":\"p5244\"},\"title\":{\"type\":\"object\",\"name\":\"Title\",\"id\":\"p5236\",\"attributes\":{\"text_color\":\"#5B5B5B\",\"text_font\":\"Helvetica\",\"text_font_size\":\"1.15em\"}},\"renderers\":[{\"type\":\"object\",\"name\":\"GlyphRenderer\",\"id\":\"p5281\",\"attributes\":{\"data_source\":{\"type\":\"object\",\"name\":\"ColumnDataSource\",\"id\":\"p5275\",\"attributes\":{\"selected\":{\"type\":\"object\",\"name\":\"Selection\",\"id\":\"p5277\",\"attributes\":{\"indices\":[],\"line_indices\":[]}},\"selection_policy\":{\"type\":\"object\",\"name\":\"UnionRenderers\",\"id\":\"p5276\"},\"data\":{\"type\":\"map\",\"entries\":[[\"x\",[0,1,2,3,4,5,6,7,8,9,10]],[\"y\",[5,4,3,2,1,0,1,2,3,4,5]]]}}},\"view\":{\"type\":\"object\",\"name\":\"CDSView\",\"id\":\"p5282\",\"attributes\":{\"filter\":{\"type\":\"object\",\"name\":\"AllIndices\",\"id\":\"p5283\"}}},\"glyph\":{\"type\":\"object\",\"name\":\"Scatter\",\"id\":\"p5278\",\"attributes\":{\"x\":{\"type\":\"field\",\"field\":\"x\"},\"y\":{\"type\":\"field\",\"field\":\"y\"},\"size\":{\"type\":\"value\",\"value\":12},\"line_color\":{\"type\":\"value\",\"value\":\"#d95b43\"},\"line_alpha\":{\"type\":\"value\",\"value\":0.8},\"fill_color\":{\"type\":\"value\",\"value\":\"#d95b43\"},\"fill_alpha\":{\"type\":\"value\",\"value\":0.8},\"hatch_color\":{\"type\":\"value\",\"value\":\"#d95b43\"},\"hatch_alpha\":{\"type\":\"value\",\"value\":0.8},\"marker\":{\"type\":\"value\",\"value\":\"square\"}}},\"nonselection_glyph\":{\"type\":\"object\",\"name\":\"Scatter\",\"id\":\"p5279\",\"attributes\":{\"x\":{\"type\":\"field\",\"field\":\"x\"},\"y\":{\"type\":\"field\",\"field\":\"y\"},\"size\":{\"type\":\"value\",\"value\":12},\"line_color\":{\"type\":\"value\",\"value\":\"#d95b43\"},\"line_alpha\":{\"type\":\"value\",\"value\":0.1},\"fill_color\":{\"type\":\"value\",\"value\":\"#d95b43\"},\"fill_alpha\":{\"type\":\"value\",\"value\":0.1},\"hatch_color\":{\"type\":\"value\",\"value\":\"#d95b43\"},\"hatch_alpha\":{\"type\":\"value\",\"value\":0.1},\"marker\":{\"type\":\"value\",\"value\":\"square\"}}},\"muted_glyph\":{\"type\":\"object\",\"name\":\"Scatter\",\"id\":\"p5280\",\"attributes\":{\"x\":{\"type\":\"field\",\"field\":\"x\"},\"y\":{\"type\":\"field\",\"field\":\"y\"},\"size\":{\"type\":\"value\",\"value\":12},\"line_color\":{\"type\":\"value\",\"value\":\"#d95b43\"},\"line_alpha\":{\"type\":\"value\",\"value\":0.2},\"fill_color\":{\"type\":\"value\",\"value\":\"#d95b43\"},\"fill_alpha\":{\"type\":\"value\",\"value\":0.2},\"hatch_color\":{\"type\":\"value\",\"value\":\"#d95b43\"},\"hatch_alpha\":{\"type\":\"value\",\"value\":0.2},\"marker\":{\"type\":\"value\",\"value\":\"square\"}}}}}],\"toolbar\":{\"type\":\"object\",\"name\":\"Toolbar\",\"id\":\"p5233\",\"attributes\":{\"tools\":[{\"id\":\"p5260\"},{\"id\":\"p5261\"},{\"id\":\"p5262\"},{\"type\":\"object\",\"name\":\"SaveTool\",\"id\":\"p5264\"},{\"id\":\"p5265\"},{\"id\":\"p5266\"}]}},\"toolbar_location\":null,\"left\":[{\"type\":\"object\",\"name\":\"LinearAxis\",\"id\":\"p5253\",\"attributes\":{\"ticker\":{\"type\":\"object\",\"name\":\"BasicTicker\",\"id\":\"p5254\",\"attributes\":{\"mantissas\":[1,2,5]}},\"formatter\":{\"type\":\"object\",\"name\":\"BasicTickFormatter\",\"id\":\"p5255\"},\"axis_label_standoff\":10,\"axis_label_text_color\":\"#5B5B5B\",\"axis_label_text_font\":\"Helvetica\",\"axis_label_text_font_size\":\"1.25em\",\"axis_label_text_font_style\":\"normal\",\"major_label_policy\":{\"type\":\"object\",\"name\":\"AllLabels\",\"id\":\"p5256\"},\"major_label_text_color\":\"#5B5B5B\",\"major_label_text_font\":\"Helvetica\",\"major_label_text_font_size\":\"1.025em\",\"axis_line_color\":\"#5B5B5B\",\"axis_line_alpha\":0,\"major_tick_line_color\":\"#5B5B5B\",\"major_tick_line_alpha\":0,\"minor_tick_line_color\":\"#5B5B5B\",\"minor_tick_line_alpha\":0}}],\"below\":[{\"type\":\"object\",\"name\":\"LinearAxis\",\"id\":\"p5246\",\"attributes\":{\"ticker\":{\"type\":\"object\",\"name\":\"BasicTicker\",\"id\":\"p5247\",\"attributes\":{\"mantissas\":[1,2,5]}},\"formatter\":{\"type\":\"object\",\"name\":\"BasicTickFormatter\",\"id\":\"p5248\"},\"axis_label_standoff\":10,\"axis_label_text_color\":\"#5B5B5B\",\"axis_label_text_font\":\"Helvetica\",\"axis_label_text_font_size\":\"1.25em\",\"axis_label_text_font_style\":\"normal\",\"major_label_policy\":{\"type\":\"object\",\"name\":\"AllLabels\",\"id\":\"p5249\"},\"major_label_text_color\":\"#5B5B5B\",\"major_label_text_font\":\"Helvetica\",\"major_label_text_font_size\":\"1.025em\",\"axis_line_color\":\"#5B5B5B\",\"axis_line_alpha\":0,\"major_tick_line_color\":\"#5B5B5B\",\"major_tick_line_alpha\":0,\"minor_tick_line_color\":\"#5B5B5B\",\"minor_tick_line_alpha\":0}}],\"center\":[{\"type\":\"object\",\"name\":\"Grid\",\"id\":\"p5252\",\"attributes\":{\"axis\":{\"id\":\"p5246\"}}},{\"type\":\"object\",\"name\":\"Grid\",\"id\":\"p5259\",\"attributes\":{\"dimension\":1,\"axis\":{\"id\":\"p5253\"}}}],\"background_fill_color\":\"#fafafa\"}},1,1]]}}],\"callbacks\":{\"type\":\"map\"}}};\n",
       "  const render_items = [{\"docid\":\"8c2cc4b2-533b-4436-bda9-b6f93235c185\",\"roots\":{\"p8569\":\"8b5a7132-bb93-4cd7-bc30-c3d6af5c225e\"},\"root_ids\":[\"p8569\"]}];\n",
       "  root.Bokeh.embed.embed_items_notebook(docs_json, render_items);\n",
       "  }\n",
       "  if (root.Bokeh !== undefined) {\n",
       "    embed_document(root);\n",
       "  } else {\n",
       "    let attempts = 0;\n",
       "    const timer = setInterval(function(root) {\n",
       "      if (root.Bokeh !== undefined) {\n",
       "        clearInterval(timer);\n",
       "        embed_document(root);\n",
       "      } else {\n",
       "        attempts++;\n",
       "        if (attempts > 100) {\n",
       "          clearInterval(timer);\n",
       "          console.log(\"Bokeh: ERROR: Unable to run BokehJS code because BokehJS library is missing\");\n",
       "        }\n",
       "      }\n",
       "    }, 10, root)\n",
       "  }\n",
       "})(window);"
      ],
      "application/vnd.bokehjs_exec.v0+json": ""
     },
     "metadata": {
      "application/vnd.bokehjs_exec.v0+json": {
       "id": "p8569"
      }
     },
     "output_type": "display_data"
    }
   ],
   "source": [
    "p = gridplot(\n",
    "        children=[[s1, s2], [None, s3]],\n",
    "        toolbar_location='right',\n",
    "        sizing_mode='fixed',\n",
    "        toolbar_options=dict(logo='grey')\n",
    "    )\n",
    "\n",
    "show(p)"
   ]
  },
  {
   "cell_type": "markdown",
   "id": "e822b874",
   "metadata": {},
   "source": [
    "## Linked Panning\n",
    "It’s often desired to link pan or zooming actions across many plots. All that is needed to enable this feature is to share range objects between figure() calls."
   ]
  },
  {
   "cell_type": "code",
   "execution_count": 25,
   "id": "47ad83ea",
   "metadata": {},
   "outputs": [
    {
     "name": "stderr",
     "output_type": "stream",
     "text": [
      "BokehUserWarning: ColumnDataSource's columns must be of the same length. Current lengths: ('x', 41), ('y', 11)\n"
     ]
    },
    {
     "data": {
      "text/html": [
       "\n",
       "  <div id=\"8a6be112-795e-4e09-bf15-fc1178d9d725\" data-root-id=\"p11327\" style=\"display: contents;\"></div>\n"
      ]
     },
     "metadata": {},
     "output_type": "display_data"
    },
    {
     "data": {
      "application/javascript": [
       "(function(root) {\n",
       "  function embed_document(root) {\n",
       "  const docs_json = {\"a2e400b1-ffa9-470a-b467-14f517fa9a48\":{\"version\":\"3.1.0\",\"title\":\"Bokeh Application\",\"defs\":[],\"roots\":[{\"type\":\"object\",\"name\":\"GridPlot\",\"id\":\"p11327\",\"attributes\":{\"rows\":null,\"cols\":null,\"toolbar\":{\"type\":\"object\",\"name\":\"Toolbar\",\"id\":\"p11326\",\"attributes\":{\"tools\":[{\"type\":\"object\",\"name\":\"ToolProxy\",\"id\":\"p11320\",\"attributes\":{\"tools\":[{\"type\":\"object\",\"name\":\"PanTool\",\"id\":\"p11144\"},{\"type\":\"object\",\"name\":\"PanTool\",\"id\":\"p11197\"},{\"type\":\"object\",\"name\":\"PanTool\",\"id\":\"p11251\"}]}},{\"type\":\"object\",\"name\":\"ToolProxy\",\"id\":\"p11321\",\"attributes\":{\"tools\":[{\"type\":\"object\",\"name\":\"WheelZoomTool\",\"id\":\"p11145\"},{\"type\":\"object\",\"name\":\"WheelZoomTool\",\"id\":\"p11198\"},{\"type\":\"object\",\"name\":\"WheelZoomTool\",\"id\":\"p11252\"}]}},{\"type\":\"object\",\"name\":\"ToolProxy\",\"id\":\"p11322\",\"attributes\":{\"tools\":[{\"type\":\"object\",\"name\":\"BoxZoomTool\",\"id\":\"p11146\",\"attributes\":{\"overlay\":{\"type\":\"object\",\"name\":\"BoxAnnotation\",\"id\":\"p11147\",\"attributes\":{\"syncable\":false,\"level\":\"overlay\",\"visible\":false,\"left_units\":\"canvas\",\"right_units\":\"canvas\",\"bottom_units\":\"canvas\",\"top_units\":\"canvas\",\"line_color\":\"black\",\"line_alpha\":1.0,\"line_width\":2,\"line_dash\":[4,4],\"fill_color\":\"lightgrey\",\"fill_alpha\":0.5}}}},{\"type\":\"object\",\"name\":\"BoxZoomTool\",\"id\":\"p11199\",\"attributes\":{\"overlay\":{\"type\":\"object\",\"name\":\"BoxAnnotation\",\"id\":\"p11200\",\"attributes\":{\"syncable\":false,\"level\":\"overlay\",\"visible\":false,\"left_units\":\"canvas\",\"right_units\":\"canvas\",\"bottom_units\":\"canvas\",\"top_units\":\"canvas\",\"line_color\":\"black\",\"line_alpha\":1.0,\"line_width\":2,\"line_dash\":[4,4],\"fill_color\":\"lightgrey\",\"fill_alpha\":0.5}}}},{\"type\":\"object\",\"name\":\"BoxZoomTool\",\"id\":\"p11253\",\"attributes\":{\"overlay\":{\"type\":\"object\",\"name\":\"BoxAnnotation\",\"id\":\"p11254\",\"attributes\":{\"syncable\":false,\"level\":\"overlay\",\"visible\":false,\"left_units\":\"canvas\",\"right_units\":\"canvas\",\"bottom_units\":\"canvas\",\"top_units\":\"canvas\",\"line_color\":\"black\",\"line_alpha\":1.0,\"line_width\":2,\"line_dash\":[4,4],\"fill_color\":\"lightgrey\",\"fill_alpha\":0.5}}}}]}},{\"type\":\"object\",\"name\":\"SaveTool\",\"id\":\"p11323\"},{\"type\":\"object\",\"name\":\"ToolProxy\",\"id\":\"p11324\",\"attributes\":{\"tools\":[{\"type\":\"object\",\"name\":\"ResetTool\",\"id\":\"p11149\"},{\"type\":\"object\",\"name\":\"ResetTool\",\"id\":\"p11202\"},{\"type\":\"object\",\"name\":\"ResetTool\",\"id\":\"p11256\"}]}},{\"type\":\"object\",\"name\":\"ToolProxy\",\"id\":\"p11325\",\"attributes\":{\"tools\":[{\"type\":\"object\",\"name\":\"HelpTool\",\"id\":\"p11150\"},{\"type\":\"object\",\"name\":\"HelpTool\",\"id\":\"p11203\"},{\"type\":\"object\",\"name\":\"HelpTool\",\"id\":\"p11257\"}]}}]}},\"toolbar_location\":\"right\",\"children\":[[{\"type\":\"object\",\"name\":\"Figure\",\"id\":\"p11113\",\"attributes\":{\"width\":250,\"height\":250,\"x_range\":{\"type\":\"object\",\"name\":\"DataRange1d\",\"id\":\"p11115\"},\"y_range\":{\"type\":\"object\",\"name\":\"DataRange1d\",\"id\":\"p11114\"},\"x_scale\":{\"type\":\"object\",\"name\":\"LinearScale\",\"id\":\"p11126\"},\"y_scale\":{\"type\":\"object\",\"name\":\"LinearScale\",\"id\":\"p11128\"},\"title\":null,\"renderers\":[{\"type\":\"object\",\"name\":\"GlyphRenderer\",\"id\":\"p11165\",\"attributes\":{\"data_source\":{\"type\":\"object\",\"name\":\"ColumnDataSource\",\"id\":\"p11159\",\"attributes\":{\"selected\":{\"type\":\"object\",\"name\":\"Selection\",\"id\":\"p11161\",\"attributes\":{\"indices\":[],\"line_indices\":[]}},\"selection_policy\":{\"type\":\"object\",\"name\":\"UnionRenderers\",\"id\":\"p11160\"},\"data\":{\"type\":\"map\",\"entries\":[[\"x\",[-20,-19,-18,-17,-16,-15,-14,-13,-12,-11,-10,-9,-8,-7,-6,-5,-4,-3,-2,-1,0,1,2,3,4,5,6,7,8,9,10,11,12,13,14,15,16,17,18,19,20]],[\"y\",[20,19,18,17,16,15,14,13,12,11,10,9,8,7,6,5,4,3,2,1,0,1,2,3,4,5,6,7,8,9,10,11,12,13,14,15,16,17,18,19,20]]]}}},\"view\":{\"type\":\"object\",\"name\":\"CDSView\",\"id\":\"p11166\",\"attributes\":{\"filter\":{\"type\":\"object\",\"name\":\"AllIndices\",\"id\":\"p11167\"}}},\"glyph\":{\"type\":\"object\",\"name\":\"Circle\",\"id\":\"p11162\",\"attributes\":{\"x\":{\"type\":\"field\",\"field\":\"x\"},\"y\":{\"type\":\"field\",\"field\":\"y\"},\"size\":{\"type\":\"value\",\"value\":10},\"line_color\":{\"type\":\"value\",\"value\":\"navy\"},\"line_alpha\":{\"type\":\"value\",\"value\":0.5},\"fill_color\":{\"type\":\"value\",\"value\":\"navy\"},\"fill_alpha\":{\"type\":\"value\",\"value\":0.5},\"hatch_color\":{\"type\":\"value\",\"value\":\"navy\"},\"hatch_alpha\":{\"type\":\"value\",\"value\":0.5}}},\"nonselection_glyph\":{\"type\":\"object\",\"name\":\"Circle\",\"id\":\"p11163\",\"attributes\":{\"x\":{\"type\":\"field\",\"field\":\"x\"},\"y\":{\"type\":\"field\",\"field\":\"y\"},\"size\":{\"type\":\"value\",\"value\":10},\"line_color\":{\"type\":\"value\",\"value\":\"navy\"},\"line_alpha\":{\"type\":\"value\",\"value\":0.1},\"fill_color\":{\"type\":\"value\",\"value\":\"navy\"},\"fill_alpha\":{\"type\":\"value\",\"value\":0.1},\"hatch_color\":{\"type\":\"value\",\"value\":\"navy\"},\"hatch_alpha\":{\"type\":\"value\",\"value\":0.1}}},\"muted_glyph\":{\"type\":\"object\",\"name\":\"Circle\",\"id\":\"p11164\",\"attributes\":{\"x\":{\"type\":\"field\",\"field\":\"x\"},\"y\":{\"type\":\"field\",\"field\":\"y\"},\"size\":{\"type\":\"value\",\"value\":10},\"line_color\":{\"type\":\"value\",\"value\":\"navy\"},\"line_alpha\":{\"type\":\"value\",\"value\":0.2},\"fill_color\":{\"type\":\"value\",\"value\":\"navy\"},\"fill_alpha\":{\"type\":\"value\",\"value\":0.2},\"hatch_color\":{\"type\":\"value\",\"value\":\"navy\"},\"hatch_alpha\":{\"type\":\"value\",\"value\":0.2}}}}}],\"toolbar\":{\"type\":\"object\",\"name\":\"Toolbar\",\"id\":\"p11118\",\"attributes\":{\"tools\":[{\"id\":\"p11144\"},{\"id\":\"p11145\"},{\"id\":\"p11146\"},{\"type\":\"object\",\"name\":\"SaveTool\",\"id\":\"p11148\"},{\"id\":\"p11149\"},{\"id\":\"p11150\"}]}},\"toolbar_location\":null,\"left\":[{\"type\":\"object\",\"name\":\"LinearAxis\",\"id\":\"p11137\",\"attributes\":{\"ticker\":{\"type\":\"object\",\"name\":\"BasicTicker\",\"id\":\"p11138\",\"attributes\":{\"mantissas\":[1,2,5]}},\"formatter\":{\"type\":\"object\",\"name\":\"BasicTickFormatter\",\"id\":\"p11139\"},\"axis_label_standoff\":10,\"axis_label_text_color\":\"#5B5B5B\",\"axis_label_text_font\":\"Helvetica\",\"axis_label_text_font_size\":\"1.25em\",\"axis_label_text_font_style\":\"normal\",\"major_label_policy\":{\"type\":\"object\",\"name\":\"AllLabels\",\"id\":\"p11140\"},\"major_label_text_color\":\"#5B5B5B\",\"major_label_text_font\":\"Helvetica\",\"major_label_text_font_size\":\"1.025em\",\"axis_line_color\":\"#5B5B5B\",\"axis_line_alpha\":0,\"major_tick_line_color\":\"#5B5B5B\",\"major_tick_line_alpha\":0,\"minor_tick_line_color\":\"#5B5B5B\",\"minor_tick_line_alpha\":0}}],\"below\":[{\"type\":\"object\",\"name\":\"LinearAxis\",\"id\":\"p11130\",\"attributes\":{\"ticker\":{\"type\":\"object\",\"name\":\"BasicTicker\",\"id\":\"p11131\",\"attributes\":{\"mantissas\":[1,2,5]}},\"formatter\":{\"type\":\"object\",\"name\":\"BasicTickFormatter\",\"id\":\"p11132\"},\"axis_label_standoff\":10,\"axis_label_text_color\":\"#5B5B5B\",\"axis_label_text_font\":\"Helvetica\",\"axis_label_text_font_size\":\"1.25em\",\"axis_label_text_font_style\":\"normal\",\"major_label_policy\":{\"type\":\"object\",\"name\":\"AllLabels\",\"id\":\"p11133\"},\"major_label_text_color\":\"#5B5B5B\",\"major_label_text_font\":\"Helvetica\",\"major_label_text_font_size\":\"1.025em\",\"axis_line_color\":\"#5B5B5B\",\"axis_line_alpha\":0,\"major_tick_line_color\":\"#5B5B5B\",\"major_tick_line_alpha\":0,\"minor_tick_line_color\":\"#5B5B5B\",\"minor_tick_line_alpha\":0}}],\"center\":[{\"type\":\"object\",\"name\":\"Grid\",\"id\":\"p11136\",\"attributes\":{\"axis\":{\"id\":\"p11130\"}}},{\"type\":\"object\",\"name\":\"Grid\",\"id\":\"p11143\",\"attributes\":{\"dimension\":1,\"axis\":{\"id\":\"p11137\"}}}]}},0,0],[{\"type\":\"object\",\"name\":\"Figure\",\"id\":\"p11168\",\"attributes\":{\"width\":250,\"height\":250,\"x_range\":{\"id\":\"p11115\"},\"y_range\":{\"id\":\"p11114\"},\"x_scale\":{\"type\":\"object\",\"name\":\"LinearScale\",\"id\":\"p11179\"},\"y_scale\":{\"type\":\"object\",\"name\":\"LinearScale\",\"id\":\"p11181\"},\"title\":null,\"renderers\":[{\"type\":\"object\",\"name\":\"GlyphRenderer\",\"id\":\"p11218\",\"attributes\":{\"data_source\":{\"type\":\"object\",\"name\":\"ColumnDataSource\",\"id\":\"p11212\",\"attributes\":{\"selected\":{\"type\":\"object\",\"name\":\"Selection\",\"id\":\"p11214\",\"attributes\":{\"indices\":[],\"line_indices\":[]}},\"selection_policy\":{\"type\":\"object\",\"name\":\"UnionRenderers\",\"id\":\"p11213\"},\"data\":{\"type\":\"map\",\"entries\":[[\"x\",[-20,-19,-18,-17,-16,-15,-14,-13,-12,-11,-10,-9,-8,-7,-6,-5,-4,-3,-2,-1,0,1,2,3,4,5,6,7,8,9,10,11,12,13,14,15,16,17,18,19,20]],[\"y\",[400,361,324,289,256,225,196,169,144,121,100,81,64,49,36,25,16,9,4,1,0,1,4,9,16,25,36,49,64,81,100,121,144,169,196,225,256,289,324,361,400]]]}}},\"view\":{\"type\":\"object\",\"name\":\"CDSView\",\"id\":\"p11219\",\"attributes\":{\"filter\":{\"type\":\"object\",\"name\":\"AllIndices\",\"id\":\"p11220\"}}},\"glyph\":{\"type\":\"object\",\"name\":\"Scatter\",\"id\":\"p11215\",\"attributes\":{\"x\":{\"type\":\"field\",\"field\":\"x\"},\"y\":{\"type\":\"field\",\"field\":\"y\"},\"size\":{\"type\":\"value\",\"value\":10},\"line_color\":{\"type\":\"value\",\"value\":\"firebrick\"},\"line_alpha\":{\"type\":\"value\",\"value\":0.5},\"fill_color\":{\"type\":\"value\",\"value\":\"firebrick\"},\"fill_alpha\":{\"type\":\"value\",\"value\":0.5},\"hatch_color\":{\"type\":\"value\",\"value\":\"firebrick\"},\"hatch_alpha\":{\"type\":\"value\",\"value\":0.5},\"marker\":{\"type\":\"value\",\"value\":\"triangle\"}}},\"nonselection_glyph\":{\"type\":\"object\",\"name\":\"Scatter\",\"id\":\"p11216\",\"attributes\":{\"x\":{\"type\":\"field\",\"field\":\"x\"},\"y\":{\"type\":\"field\",\"field\":\"y\"},\"size\":{\"type\":\"value\",\"value\":10},\"line_color\":{\"type\":\"value\",\"value\":\"firebrick\"},\"line_alpha\":{\"type\":\"value\",\"value\":0.1},\"fill_color\":{\"type\":\"value\",\"value\":\"firebrick\"},\"fill_alpha\":{\"type\":\"value\",\"value\":0.1},\"hatch_color\":{\"type\":\"value\",\"value\":\"firebrick\"},\"hatch_alpha\":{\"type\":\"value\",\"value\":0.1},\"marker\":{\"type\":\"value\",\"value\":\"triangle\"}}},\"muted_glyph\":{\"type\":\"object\",\"name\":\"Scatter\",\"id\":\"p11217\",\"attributes\":{\"x\":{\"type\":\"field\",\"field\":\"x\"},\"y\":{\"type\":\"field\",\"field\":\"y\"},\"size\":{\"type\":\"value\",\"value\":10},\"line_color\":{\"type\":\"value\",\"value\":\"firebrick\"},\"line_alpha\":{\"type\":\"value\",\"value\":0.2},\"fill_color\":{\"type\":\"value\",\"value\":\"firebrick\"},\"fill_alpha\":{\"type\":\"value\",\"value\":0.2},\"hatch_color\":{\"type\":\"value\",\"value\":\"firebrick\"},\"hatch_alpha\":{\"type\":\"value\",\"value\":0.2},\"marker\":{\"type\":\"value\",\"value\":\"triangle\"}}}}}],\"toolbar\":{\"type\":\"object\",\"name\":\"Toolbar\",\"id\":\"p11173\",\"attributes\":{\"tools\":[{\"id\":\"p11197\"},{\"id\":\"p11198\"},{\"id\":\"p11199\"},{\"type\":\"object\",\"name\":\"SaveTool\",\"id\":\"p11201\"},{\"id\":\"p11202\"},{\"id\":\"p11203\"}]}},\"toolbar_location\":null,\"left\":[{\"type\":\"object\",\"name\":\"LinearAxis\",\"id\":\"p11190\",\"attributes\":{\"ticker\":{\"type\":\"object\",\"name\":\"BasicTicker\",\"id\":\"p11191\",\"attributes\":{\"mantissas\":[1,2,5]}},\"formatter\":{\"type\":\"object\",\"name\":\"BasicTickFormatter\",\"id\":\"p11192\"},\"axis_label_standoff\":10,\"axis_label_text_color\":\"#5B5B5B\",\"axis_label_text_font\":\"Helvetica\",\"axis_label_text_font_size\":\"1.25em\",\"axis_label_text_font_style\":\"normal\",\"major_label_policy\":{\"type\":\"object\",\"name\":\"AllLabels\",\"id\":\"p11193\"},\"major_label_text_color\":\"#5B5B5B\",\"major_label_text_font\":\"Helvetica\",\"major_label_text_font_size\":\"1.025em\",\"axis_line_color\":\"#5B5B5B\",\"axis_line_alpha\":0,\"major_tick_line_color\":\"#5B5B5B\",\"major_tick_line_alpha\":0,\"minor_tick_line_color\":\"#5B5B5B\",\"minor_tick_line_alpha\":0}}],\"below\":[{\"type\":\"object\",\"name\":\"LinearAxis\",\"id\":\"p11183\",\"attributes\":{\"ticker\":{\"type\":\"object\",\"name\":\"BasicTicker\",\"id\":\"p11184\",\"attributes\":{\"mantissas\":[1,2,5]}},\"formatter\":{\"type\":\"object\",\"name\":\"BasicTickFormatter\",\"id\":\"p11185\"},\"axis_label_standoff\":10,\"axis_label_text_color\":\"#5B5B5B\",\"axis_label_text_font\":\"Helvetica\",\"axis_label_text_font_size\":\"1.25em\",\"axis_label_text_font_style\":\"normal\",\"major_label_policy\":{\"type\":\"object\",\"name\":\"AllLabels\",\"id\":\"p11186\"},\"major_label_text_color\":\"#5B5B5B\",\"major_label_text_font\":\"Helvetica\",\"major_label_text_font_size\":\"1.025em\",\"axis_line_color\":\"#5B5B5B\",\"axis_line_alpha\":0,\"major_tick_line_color\":\"#5B5B5B\",\"major_tick_line_alpha\":0,\"minor_tick_line_color\":\"#5B5B5B\",\"minor_tick_line_alpha\":0}}],\"center\":[{\"type\":\"object\",\"name\":\"Grid\",\"id\":\"p11189\",\"attributes\":{\"axis\":{\"id\":\"p11183\"}}},{\"type\":\"object\",\"name\":\"Grid\",\"id\":\"p11196\",\"attributes\":{\"dimension\":1,\"axis\":{\"id\":\"p11190\"}}}]}},0,1],[{\"type\":\"object\",\"name\":\"Figure\",\"id\":\"p11221\",\"attributes\":{\"width\":250,\"height\":250,\"x_range\":{\"id\":\"p11115\"},\"y_range\":{\"type\":\"object\",\"name\":\"DataRange1d\",\"id\":\"p11223\"},\"x_scale\":{\"type\":\"object\",\"name\":\"LinearScale\",\"id\":\"p11233\"},\"y_scale\":{\"type\":\"object\",\"name\":\"LinearScale\",\"id\":\"p11235\"},\"title\":null,\"renderers\":[{\"type\":\"object\",\"name\":\"GlyphRenderer\",\"id\":\"p11272\",\"attributes\":{\"data_source\":{\"type\":\"object\",\"name\":\"ColumnDataSource\",\"id\":\"p11266\",\"attributes\":{\"selected\":{\"type\":\"object\",\"name\":\"Selection\",\"id\":\"p11268\",\"attributes\":{\"indices\":[],\"line_indices\":[]}},\"selection_policy\":{\"type\":\"object\",\"name\":\"UnionRenderers\",\"id\":\"p11267\"},\"data\":{\"type\":\"map\",\"entries\":[[\"x\",[-20,-19,-18,-17,-16,-15,-14,-13,-12,-11,-10,-9,-8,-7,-6,-5,-4,-3,-2,-1,0,1,2,3,4,5,6,7,8,9,10,11,12,13,14,15,16,17,18,19,20]],[\"y\",[5,4,3,2,1,0,1,2,3,4,5]]]}}},\"view\":{\"type\":\"object\",\"name\":\"CDSView\",\"id\":\"p11273\",\"attributes\":{\"filter\":{\"type\":\"object\",\"name\":\"AllIndices\",\"id\":\"p11274\"}}},\"glyph\":{\"type\":\"object\",\"name\":\"Scatter\",\"id\":\"p11269\",\"attributes\":{\"x\":{\"type\":\"field\",\"field\":\"x\"},\"y\":{\"type\":\"field\",\"field\":\"y\"},\"size\":{\"type\":\"value\",\"value\":10},\"line_color\":{\"type\":\"value\",\"value\":\"olive\"},\"line_alpha\":{\"type\":\"value\",\"value\":0.5},\"fill_color\":{\"type\":\"value\",\"value\":\"olive\"},\"fill_alpha\":{\"type\":\"value\",\"value\":0.5},\"hatch_color\":{\"type\":\"value\",\"value\":\"olive\"},\"hatch_alpha\":{\"type\":\"value\",\"value\":0.5},\"marker\":{\"type\":\"value\",\"value\":\"square\"}}},\"nonselection_glyph\":{\"type\":\"object\",\"name\":\"Scatter\",\"id\":\"p11270\",\"attributes\":{\"x\":{\"type\":\"field\",\"field\":\"x\"},\"y\":{\"type\":\"field\",\"field\":\"y\"},\"size\":{\"type\":\"value\",\"value\":10},\"line_color\":{\"type\":\"value\",\"value\":\"olive\"},\"line_alpha\":{\"type\":\"value\",\"value\":0.1},\"fill_color\":{\"type\":\"value\",\"value\":\"olive\"},\"fill_alpha\":{\"type\":\"value\",\"value\":0.1},\"hatch_color\":{\"type\":\"value\",\"value\":\"olive\"},\"hatch_alpha\":{\"type\":\"value\",\"value\":0.1},\"marker\":{\"type\":\"value\",\"value\":\"square\"}}},\"muted_glyph\":{\"type\":\"object\",\"name\":\"Scatter\",\"id\":\"p11271\",\"attributes\":{\"x\":{\"type\":\"field\",\"field\":\"x\"},\"y\":{\"type\":\"field\",\"field\":\"y\"},\"size\":{\"type\":\"value\",\"value\":10},\"line_color\":{\"type\":\"value\",\"value\":\"olive\"},\"line_alpha\":{\"type\":\"value\",\"value\":0.2},\"fill_color\":{\"type\":\"value\",\"value\":\"olive\"},\"fill_alpha\":{\"type\":\"value\",\"value\":0.2},\"hatch_color\":{\"type\":\"value\",\"value\":\"olive\"},\"hatch_alpha\":{\"type\":\"value\",\"value\":0.2},\"marker\":{\"type\":\"value\",\"value\":\"square\"}}}}}],\"toolbar\":{\"type\":\"object\",\"name\":\"Toolbar\",\"id\":\"p11226\",\"attributes\":{\"tools\":[{\"id\":\"p11251\"},{\"id\":\"p11252\"},{\"id\":\"p11253\"},{\"type\":\"object\",\"name\":\"SaveTool\",\"id\":\"p11255\"},{\"id\":\"p11256\"},{\"id\":\"p11257\"}]}},\"toolbar_location\":null,\"left\":[{\"type\":\"object\",\"name\":\"LinearAxis\",\"id\":\"p11244\",\"attributes\":{\"ticker\":{\"type\":\"object\",\"name\":\"BasicTicker\",\"id\":\"p11245\",\"attributes\":{\"mantissas\":[1,2,5]}},\"formatter\":{\"type\":\"object\",\"name\":\"BasicTickFormatter\",\"id\":\"p11246\"},\"axis_label_standoff\":10,\"axis_label_text_color\":\"#5B5B5B\",\"axis_label_text_font\":\"Helvetica\",\"axis_label_text_font_size\":\"1.25em\",\"axis_label_text_font_style\":\"normal\",\"major_label_policy\":{\"type\":\"object\",\"name\":\"AllLabels\",\"id\":\"p11247\"},\"major_label_text_color\":\"#5B5B5B\",\"major_label_text_font\":\"Helvetica\",\"major_label_text_font_size\":\"1.025em\",\"axis_line_color\":\"#5B5B5B\",\"axis_line_alpha\":0,\"major_tick_line_color\":\"#5B5B5B\",\"major_tick_line_alpha\":0,\"minor_tick_line_color\":\"#5B5B5B\",\"minor_tick_line_alpha\":0}}],\"below\":[{\"type\":\"object\",\"name\":\"LinearAxis\",\"id\":\"p11237\",\"attributes\":{\"ticker\":{\"type\":\"object\",\"name\":\"BasicTicker\",\"id\":\"p11238\",\"attributes\":{\"mantissas\":[1,2,5]}},\"formatter\":{\"type\":\"object\",\"name\":\"BasicTickFormatter\",\"id\":\"p11239\"},\"axis_label_standoff\":10,\"axis_label_text_color\":\"#5B5B5B\",\"axis_label_text_font\":\"Helvetica\",\"axis_label_text_font_size\":\"1.25em\",\"axis_label_text_font_style\":\"normal\",\"major_label_policy\":{\"type\":\"object\",\"name\":\"AllLabels\",\"id\":\"p11240\"},\"major_label_text_color\":\"#5B5B5B\",\"major_label_text_font\":\"Helvetica\",\"major_label_text_font_size\":\"1.025em\",\"axis_line_color\":\"#5B5B5B\",\"axis_line_alpha\":0,\"major_tick_line_color\":\"#5B5B5B\",\"major_tick_line_alpha\":0,\"minor_tick_line_color\":\"#5B5B5B\",\"minor_tick_line_alpha\":0}}],\"center\":[{\"type\":\"object\",\"name\":\"Grid\",\"id\":\"p11243\",\"attributes\":{\"axis\":{\"id\":\"p11237\"}}},{\"type\":\"object\",\"name\":\"Grid\",\"id\":\"p11250\",\"attributes\":{\"dimension\":1,\"axis\":{\"id\":\"p11244\"}}}]}},0,2]]}}],\"callbacks\":{\"type\":\"map\"}}};\n",
       "  const render_items = [{\"docid\":\"a2e400b1-ffa9-470a-b467-14f517fa9a48\",\"roots\":{\"p11327\":\"8a6be112-795e-4e09-bf15-fc1178d9d725\"},\"root_ids\":[\"p11327\"]}];\n",
       "  root.Bokeh.embed.embed_items_notebook(docs_json, render_items);\n",
       "  }\n",
       "  if (root.Bokeh !== undefined) {\n",
       "    embed_document(root);\n",
       "  } else {\n",
       "    let attempts = 0;\n",
       "    const timer = setInterval(function(root) {\n",
       "      if (root.Bokeh !== undefined) {\n",
       "        clearInterval(timer);\n",
       "        embed_document(root);\n",
       "      } else {\n",
       "        attempts++;\n",
       "        if (attempts > 100) {\n",
       "          clearInterval(timer);\n",
       "          console.log(\"Bokeh: ERROR: Unable to run BokehJS code because BokehJS library is missing\");\n",
       "        }\n",
       "      }\n",
       "    }, 10, root)\n",
       "  }\n",
       "})(window);"
      ],
      "application/vnd.bokehjs_exec.v0+json": ""
     },
     "metadata": {
      "application/vnd.bokehjs_exec.v0+json": {
       "id": "p11327"
      }
     },
     "output_type": "display_data"
    }
   ],
   "source": [
    "from bokeh.plotting import figure, gridplot, show\n",
    "\n",
    "# create a new plot\n",
    "s1 = figure(width=250, height=250, title=None)\n",
    "s1.circle(x, y0, size=10, color=\"navy\", alpha=0.5)\n",
    "\n",
    "# create a new plot and share both ranges\n",
    "s2 = figure(width=250, height=250, x_range=s1.x_range, y_range=s1.y_range, title=None)\n",
    "s2.triangle(x, y1, size=10, color=\"firebrick\", alpha=0.5)\n",
    "\n",
    "# create a new plot and share only one range\n",
    "s3 = figure(width=250, height=250, x_range=s1.x_range, title=None)\n",
    "s3.square(x, y2, size=10, color=\"olive\", alpha=0.5)\n",
    "\n",
    "p = gridplot([[s1, s2, s3]], toolbar_location='right')\n",
    "\n",
    "# show the results\n",
    "show(p)"
   ]
  },
  {
   "cell_type": "markdown",
   "id": "37dad109",
   "metadata": {},
   "source": [
    "## Linked Brushing\n",
    "Linked brushing in Bokeh is expressed by sharing data sources between glyph renderers. This is all Bokeh needs to understand that selections acted on one glyph must pass to all other glyphs that share that same source.\n",
    "\n",
    "The following code shows an example of linked brushing between circle glyphs on two different figure() calls.\n"
   ]
  },
  {
   "cell_type": "code",
   "execution_count": 26,
   "id": "95992b80",
   "metadata": {},
   "outputs": [
    {
     "data": {
      "text/html": [
       "\n",
       "  <div id=\"80397c18-4921-4287-afee-4d0e03be32f9\" data-root-id=\"p12285\" style=\"display: contents;\"></div>\n"
      ]
     },
     "metadata": {},
     "output_type": "display_data"
    },
    {
     "data": {
      "application/javascript": [
       "(function(root) {\n",
       "  function embed_document(root) {\n",
       "  const docs_json = {\"b7568f0b-0004-49cc-a6ed-805ba4efa337\":{\"version\":\"3.1.0\",\"title\":\"Bokeh Application\",\"defs\":[],\"roots\":[{\"type\":\"object\",\"name\":\"GridPlot\",\"id\":\"p12285\",\"attributes\":{\"rows\":null,\"cols\":null,\"toolbar\":{\"type\":\"object\",\"name\":\"Toolbar\",\"id\":\"p12284\",\"attributes\":{\"tools\":[{\"type\":\"object\",\"name\":\"ToolProxy\",\"id\":\"p12281\",\"attributes\":{\"tools\":[{\"type\":\"object\",\"name\":\"BoxSelectTool\",\"id\":\"p12176\",\"attributes\":{\"renderers\":\"auto\",\"overlay\":{\"type\":\"object\",\"name\":\"BoxAnnotation\",\"id\":\"p12177\",\"attributes\":{\"syncable\":false,\"level\":\"overlay\",\"visible\":false,\"editable\":true,\"line_color\":\"black\",\"line_alpha\":1.0,\"line_width\":2,\"line_dash\":[4,4],\"fill_color\":\"lightgrey\",\"fill_alpha\":0.5}}}},{\"type\":\"object\",\"name\":\"BoxSelectTool\",\"id\":\"p12227\",\"attributes\":{\"renderers\":\"auto\",\"overlay\":{\"type\":\"object\",\"name\":\"BoxAnnotation\",\"id\":\"p12228\",\"attributes\":{\"syncable\":false,\"level\":\"overlay\",\"visible\":false,\"editable\":true,\"line_color\":\"black\",\"line_alpha\":1.0,\"line_width\":2,\"line_dash\":[4,4],\"fill_color\":\"lightgrey\",\"fill_alpha\":0.5}}}}]}},{\"type\":\"object\",\"name\":\"ToolProxy\",\"id\":\"p12282\",\"attributes\":{\"tools\":[{\"type\":\"object\",\"name\":\"LassoSelectTool\",\"id\":\"p12178\",\"attributes\":{\"renderers\":\"auto\",\"overlay\":{\"type\":\"object\",\"name\":\"PolyAnnotation\",\"id\":\"p12179\",\"attributes\":{\"syncable\":false,\"level\":\"overlay\",\"visible\":false,\"xs\":[],\"ys\":[],\"editable\":true,\"line_color\":\"black\",\"line_alpha\":1.0,\"line_width\":2,\"line_dash\":[4,4],\"fill_color\":\"lightgrey\",\"fill_alpha\":0.5}}}},{\"type\":\"object\",\"name\":\"LassoSelectTool\",\"id\":\"p12229\",\"attributes\":{\"renderers\":\"auto\",\"overlay\":{\"type\":\"object\",\"name\":\"PolyAnnotation\",\"id\":\"p12230\",\"attributes\":{\"syncable\":false,\"level\":\"overlay\",\"visible\":false,\"xs\":[],\"ys\":[],\"editable\":true,\"line_color\":\"black\",\"line_alpha\":1.0,\"line_width\":2,\"line_dash\":[4,4],\"fill_color\":\"lightgrey\",\"fill_alpha\":0.5}}}}]}},{\"type\":\"object\",\"name\":\"ToolProxy\",\"id\":\"p12283\",\"attributes\":{\"tools\":[{\"type\":\"object\",\"name\":\"HelpTool\",\"id\":\"p12180\"},{\"type\":\"object\",\"name\":\"HelpTool\",\"id\":\"p12231\"}]}}]}},\"children\":[[{\"type\":\"object\",\"name\":\"Figure\",\"id\":\"p12145\",\"attributes\":{\"width\":300,\"height\":300,\"x_range\":{\"type\":\"object\",\"name\":\"DataRange1d\",\"id\":\"p12147\"},\"y_range\":{\"type\":\"object\",\"name\":\"DataRange1d\",\"id\":\"p12146\"},\"x_scale\":{\"type\":\"object\",\"name\":\"LinearScale\",\"id\":\"p12158\"},\"y_scale\":{\"type\":\"object\",\"name\":\"LinearScale\",\"id\":\"p12160\"},\"title\":null,\"renderers\":[{\"type\":\"object\",\"name\":\"GlyphRenderer\",\"id\":\"p12193\",\"attributes\":{\"data_source\":{\"type\":\"object\",\"name\":\"ColumnDataSource\",\"id\":\"p12142\",\"attributes\":{\"selected\":{\"type\":\"object\",\"name\":\"Selection\",\"id\":\"p12144\",\"attributes\":{\"indices\":[],\"line_indices\":[]}},\"selection_policy\":{\"type\":\"object\",\"name\":\"UnionRenderers\",\"id\":\"p12143\"},\"data\":{\"type\":\"map\",\"entries\":[[\"x\",[-20,-19,-18,-17,-16,-15,-14,-13,-12,-11,-10,-9,-8,-7,-6,-5,-4,-3,-2,-1,0,1,2,3,4,5,6,7,8,9,10,11,12,13,14,15,16,17,18,19,20]],[\"y0\",[20,19,18,17,16,15,14,13,12,11,10,9,8,7,6,5,4,3,2,1,0,1,2,3,4,5,6,7,8,9,10,11,12,13,14,15,16,17,18,19,20]],[\"y1\",[400,361,324,289,256,225,196,169,144,121,100,81,64,49,36,25,16,9,4,1,0,1,4,9,16,25,36,49,64,81,100,121,144,169,196,225,256,289,324,361,400]]]}}},\"view\":{\"type\":\"object\",\"name\":\"CDSView\",\"id\":\"p12194\",\"attributes\":{\"filter\":{\"type\":\"object\",\"name\":\"AllIndices\",\"id\":\"p12195\"}}},\"glyph\":{\"type\":\"object\",\"name\":\"Circle\",\"id\":\"p12190\",\"attributes\":{\"x\":{\"type\":\"field\",\"field\":\"x\"},\"y\":{\"type\":\"field\",\"field\":\"y0\"},\"line_color\":{\"type\":\"value\",\"value\":\"#1f77b4\"},\"fill_color\":{\"type\":\"value\",\"value\":\"#1f77b4\"}}},\"nonselection_glyph\":{\"type\":\"object\",\"name\":\"Circle\",\"id\":\"p12191\",\"attributes\":{\"x\":{\"type\":\"field\",\"field\":\"x\"},\"y\":{\"type\":\"field\",\"field\":\"y0\"},\"line_color\":{\"type\":\"value\",\"value\":\"#1f77b4\"},\"line_alpha\":{\"type\":\"value\",\"value\":0.1},\"fill_color\":{\"type\":\"value\",\"value\":\"#1f77b4\"},\"fill_alpha\":{\"type\":\"value\",\"value\":0.1},\"hatch_alpha\":{\"type\":\"value\",\"value\":0.1}}},\"muted_glyph\":{\"type\":\"object\",\"name\":\"Circle\",\"id\":\"p12192\",\"attributes\":{\"x\":{\"type\":\"field\",\"field\":\"x\"},\"y\":{\"type\":\"field\",\"field\":\"y0\"},\"line_color\":{\"type\":\"value\",\"value\":\"#1f77b4\"},\"line_alpha\":{\"type\":\"value\",\"value\":0.2},\"fill_color\":{\"type\":\"value\",\"value\":\"#1f77b4\"},\"fill_alpha\":{\"type\":\"value\",\"value\":0.2},\"hatch_alpha\":{\"type\":\"value\",\"value\":0.2}}}}}],\"toolbar\":{\"type\":\"object\",\"name\":\"Toolbar\",\"id\":\"p12150\",\"attributes\":{\"tools\":[{\"id\":\"p12176\"},{\"id\":\"p12178\"},{\"id\":\"p12180\"}]}},\"toolbar_location\":null,\"left\":[{\"type\":\"object\",\"name\":\"LinearAxis\",\"id\":\"p12169\",\"attributes\":{\"ticker\":{\"type\":\"object\",\"name\":\"BasicTicker\",\"id\":\"p12170\",\"attributes\":{\"mantissas\":[1,2,5]}},\"formatter\":{\"type\":\"object\",\"name\":\"BasicTickFormatter\",\"id\":\"p12171\"},\"axis_label_standoff\":10,\"axis_label_text_color\":\"#5B5B5B\",\"axis_label_text_font\":\"Helvetica\",\"axis_label_text_font_size\":\"1.25em\",\"axis_label_text_font_style\":\"normal\",\"major_label_policy\":{\"type\":\"object\",\"name\":\"AllLabels\",\"id\":\"p12172\"},\"major_label_text_color\":\"#5B5B5B\",\"major_label_text_font\":\"Helvetica\",\"major_label_text_font_size\":\"1.025em\",\"axis_line_color\":\"#5B5B5B\",\"axis_line_alpha\":0,\"major_tick_line_color\":\"#5B5B5B\",\"major_tick_line_alpha\":0,\"minor_tick_line_color\":\"#5B5B5B\",\"minor_tick_line_alpha\":0}}],\"below\":[{\"type\":\"object\",\"name\":\"LinearAxis\",\"id\":\"p12162\",\"attributes\":{\"ticker\":{\"type\":\"object\",\"name\":\"BasicTicker\",\"id\":\"p12163\",\"attributes\":{\"mantissas\":[1,2,5]}},\"formatter\":{\"type\":\"object\",\"name\":\"BasicTickFormatter\",\"id\":\"p12164\"},\"axis_label_standoff\":10,\"axis_label_text_color\":\"#5B5B5B\",\"axis_label_text_font\":\"Helvetica\",\"axis_label_text_font_size\":\"1.25em\",\"axis_label_text_font_style\":\"normal\",\"major_label_policy\":{\"type\":\"object\",\"name\":\"AllLabels\",\"id\":\"p12165\"},\"major_label_text_color\":\"#5B5B5B\",\"major_label_text_font\":\"Helvetica\",\"major_label_text_font_size\":\"1.025em\",\"axis_line_color\":\"#5B5B5B\",\"axis_line_alpha\":0,\"major_tick_line_color\":\"#5B5B5B\",\"major_tick_line_alpha\":0,\"minor_tick_line_color\":\"#5B5B5B\",\"minor_tick_line_alpha\":0}}],\"center\":[{\"type\":\"object\",\"name\":\"Grid\",\"id\":\"p12168\",\"attributes\":{\"axis\":{\"id\":\"p12162\"}}},{\"type\":\"object\",\"name\":\"Grid\",\"id\":\"p12175\",\"attributes\":{\"dimension\":1,\"axis\":{\"id\":\"p12169\"}}}]}},0,0],[{\"type\":\"object\",\"name\":\"Figure\",\"id\":\"p12196\",\"attributes\":{\"width\":300,\"height\":300,\"x_range\":{\"type\":\"object\",\"name\":\"DataRange1d\",\"id\":\"p12198\"},\"y_range\":{\"type\":\"object\",\"name\":\"DataRange1d\",\"id\":\"p12197\"},\"x_scale\":{\"type\":\"object\",\"name\":\"LinearScale\",\"id\":\"p12209\"},\"y_scale\":{\"type\":\"object\",\"name\":\"LinearScale\",\"id\":\"p12211\"},\"title\":null,\"renderers\":[{\"type\":\"object\",\"name\":\"GlyphRenderer\",\"id\":\"p12244\",\"attributes\":{\"data_source\":{\"id\":\"p12142\"},\"view\":{\"type\":\"object\",\"name\":\"CDSView\",\"id\":\"p12245\",\"attributes\":{\"filter\":{\"type\":\"object\",\"name\":\"AllIndices\",\"id\":\"p12246\"}}},\"glyph\":{\"type\":\"object\",\"name\":\"Circle\",\"id\":\"p12241\",\"attributes\":{\"x\":{\"type\":\"field\",\"field\":\"x\"},\"y\":{\"type\":\"field\",\"field\":\"y1\"},\"line_color\":{\"type\":\"value\",\"value\":\"#1f77b4\"},\"fill_color\":{\"type\":\"value\",\"value\":\"#1f77b4\"}}},\"nonselection_glyph\":{\"type\":\"object\",\"name\":\"Circle\",\"id\":\"p12242\",\"attributes\":{\"x\":{\"type\":\"field\",\"field\":\"x\"},\"y\":{\"type\":\"field\",\"field\":\"y1\"},\"line_color\":{\"type\":\"value\",\"value\":\"#1f77b4\"},\"line_alpha\":{\"type\":\"value\",\"value\":0.1},\"fill_color\":{\"type\":\"value\",\"value\":\"#1f77b4\"},\"fill_alpha\":{\"type\":\"value\",\"value\":0.1},\"hatch_alpha\":{\"type\":\"value\",\"value\":0.1}}},\"muted_glyph\":{\"type\":\"object\",\"name\":\"Circle\",\"id\":\"p12243\",\"attributes\":{\"x\":{\"type\":\"field\",\"field\":\"x\"},\"y\":{\"type\":\"field\",\"field\":\"y1\"},\"line_color\":{\"type\":\"value\",\"value\":\"#1f77b4\"},\"line_alpha\":{\"type\":\"value\",\"value\":0.2},\"fill_color\":{\"type\":\"value\",\"value\":\"#1f77b4\"},\"fill_alpha\":{\"type\":\"value\",\"value\":0.2},\"hatch_alpha\":{\"type\":\"value\",\"value\":0.2}}}}}],\"toolbar\":{\"type\":\"object\",\"name\":\"Toolbar\",\"id\":\"p12201\",\"attributes\":{\"tools\":[{\"id\":\"p12227\"},{\"id\":\"p12229\"},{\"id\":\"p12231\"}]}},\"toolbar_location\":null,\"left\":[{\"type\":\"object\",\"name\":\"LinearAxis\",\"id\":\"p12220\",\"attributes\":{\"ticker\":{\"type\":\"object\",\"name\":\"BasicTicker\",\"id\":\"p12221\",\"attributes\":{\"mantissas\":[1,2,5]}},\"formatter\":{\"type\":\"object\",\"name\":\"BasicTickFormatter\",\"id\":\"p12222\"},\"axis_label_standoff\":10,\"axis_label_text_color\":\"#5B5B5B\",\"axis_label_text_font\":\"Helvetica\",\"axis_label_text_font_size\":\"1.25em\",\"axis_label_text_font_style\":\"normal\",\"major_label_policy\":{\"type\":\"object\",\"name\":\"AllLabels\",\"id\":\"p12223\"},\"major_label_text_color\":\"#5B5B5B\",\"major_label_text_font\":\"Helvetica\",\"major_label_text_font_size\":\"1.025em\",\"axis_line_color\":\"#5B5B5B\",\"axis_line_alpha\":0,\"major_tick_line_color\":\"#5B5B5B\",\"major_tick_line_alpha\":0,\"minor_tick_line_color\":\"#5B5B5B\",\"minor_tick_line_alpha\":0}}],\"below\":[{\"type\":\"object\",\"name\":\"LinearAxis\",\"id\":\"p12213\",\"attributes\":{\"ticker\":{\"type\":\"object\",\"name\":\"BasicTicker\",\"id\":\"p12214\",\"attributes\":{\"mantissas\":[1,2,5]}},\"formatter\":{\"type\":\"object\",\"name\":\"BasicTickFormatter\",\"id\":\"p12215\"},\"axis_label_standoff\":10,\"axis_label_text_color\":\"#5B5B5B\",\"axis_label_text_font\":\"Helvetica\",\"axis_label_text_font_size\":\"1.25em\",\"axis_label_text_font_style\":\"normal\",\"major_label_policy\":{\"type\":\"object\",\"name\":\"AllLabels\",\"id\":\"p12216\"},\"major_label_text_color\":\"#5B5B5B\",\"major_label_text_font\":\"Helvetica\",\"major_label_text_font_size\":\"1.025em\",\"axis_line_color\":\"#5B5B5B\",\"axis_line_alpha\":0,\"major_tick_line_color\":\"#5B5B5B\",\"major_tick_line_alpha\":0,\"minor_tick_line_color\":\"#5B5B5B\",\"minor_tick_line_alpha\":0}}],\"center\":[{\"type\":\"object\",\"name\":\"Grid\",\"id\":\"p12219\",\"attributes\":{\"axis\":{\"id\":\"p12213\"}}},{\"type\":\"object\",\"name\":\"Grid\",\"id\":\"p12226\",\"attributes\":{\"dimension\":1,\"axis\":{\"id\":\"p12220\"}}}]}},0,1]]}}],\"callbacks\":{\"type\":\"map\"}}};\n",
       "  const render_items = [{\"docid\":\"b7568f0b-0004-49cc-a6ed-805ba4efa337\",\"roots\":{\"p12285\":\"80397c18-4921-4287-afee-4d0e03be32f9\"},\"root_ids\":[\"p12285\"]}];\n",
       "  root.Bokeh.embed.embed_items_notebook(docs_json, render_items);\n",
       "  }\n",
       "  if (root.Bokeh !== undefined) {\n",
       "    embed_document(root);\n",
       "  } else {\n",
       "    let attempts = 0;\n",
       "    const timer = setInterval(function(root) {\n",
       "      if (root.Bokeh !== undefined) {\n",
       "        clearInterval(timer);\n",
       "        embed_document(root);\n",
       "      } else {\n",
       "        attempts++;\n",
       "        if (attempts > 100) {\n",
       "          clearInterval(timer);\n",
       "          console.log(\"Bokeh: ERROR: Unable to run BokehJS code because BokehJS library is missing\");\n",
       "        }\n",
       "      }\n",
       "    }, 10, root)\n",
       "  }\n",
       "})(window);"
      ],
      "application/vnd.bokehjs_exec.v0+json": ""
     },
     "metadata": {
      "application/vnd.bokehjs_exec.v0+json": {
       "id": "p12285"
      }
     },
     "output_type": "display_data"
    }
   ],
   "source": [
    "\n",
    "from bokeh.models import ColumnDataSource\n",
    "from bokeh.plotting import figure, gridplot, output_file, show\n",
    "\n",
    "# output_file(\"brushing.html\")\n",
    "\n",
    "x = list(range(-20, 21))\n",
    "y0 = [abs(xx) for xx in x]\n",
    "y1 = [xx**2 for xx in x]\n",
    "\n",
    "# create a column data source for the plots to share\n",
    "source = ColumnDataSource(data=dict(x=x, y0=y0, y1=y1))\n",
    "\n",
    "TOOLS = \"box_select,lasso_select,help\"\n",
    "\n",
    "# create a new plot and add a renderer\n",
    "left = figure(tools=TOOLS, width=300, height=300, title=None)\n",
    "left.circle('x', 'y0', source=source)\n",
    "\n",
    "# create another new plot and add a renderer\n",
    "right = figure(tools=TOOLS, width=300, height=300, title=None)\n",
    "right.circle('x', 'y1', source=source)\n",
    "\n",
    "p = gridplot([[left, right]])\n",
    "\n",
    "show(p)"
   ]
  },
  {
   "cell_type": "markdown",
   "id": "770e0200",
   "metadata": {},
   "source": [
    "# Sources of data"
   ]
  },
  {
   "cell_type": "markdown",
   "id": "f8c69ae7",
   "metadata": {},
   "source": [
    "## Python lists"
   ]
  },
  {
   "cell_type": "code",
   "execution_count": 27,
   "id": "9c8607a5",
   "metadata": {},
   "outputs": [
    {
     "data": {
      "text/html": [
       "\n",
       "  <div id=\"0ea082db-494e-4735-96e7-74ccb84cf939\" data-root-id=\"p13061\" style=\"display: contents;\"></div>\n"
      ]
     },
     "metadata": {},
     "output_type": "display_data"
    },
    {
     "data": {
      "application/javascript": [
       "(function(root) {\n",
       "  function embed_document(root) {\n",
       "  const docs_json = {\"831f7f58-b11a-4778-a3e6-396dccda51b6\":{\"version\":\"3.1.0\",\"title\":\"Bokeh Application\",\"defs\":[],\"roots\":[{\"type\":\"object\",\"name\":\"Figure\",\"id\":\"p13061\",\"attributes\":{\"x_range\":{\"type\":\"object\",\"name\":\"DataRange1d\",\"id\":\"p13063\"},\"y_range\":{\"type\":\"object\",\"name\":\"DataRange1d\",\"id\":\"p13062\"},\"x_scale\":{\"type\":\"object\",\"name\":\"LinearScale\",\"id\":\"p13074\"},\"y_scale\":{\"type\":\"object\",\"name\":\"LinearScale\",\"id\":\"p13076\"},\"title\":{\"type\":\"object\",\"name\":\"Title\",\"id\":\"p13068\",\"attributes\":{\"text_color\":\"#5B5B5B\",\"text_font\":\"Helvetica\",\"text_font_size\":\"1.15em\"}},\"renderers\":[{\"type\":\"object\",\"name\":\"GlyphRenderer\",\"id\":\"p13113\",\"attributes\":{\"data_source\":{\"type\":\"object\",\"name\":\"ColumnDataSource\",\"id\":\"p13107\",\"attributes\":{\"selected\":{\"type\":\"object\",\"name\":\"Selection\",\"id\":\"p13109\",\"attributes\":{\"indices\":[],\"line_indices\":[]}},\"selection_policy\":{\"type\":\"object\",\"name\":\"UnionRenderers\",\"id\":\"p13108\"},\"data\":{\"type\":\"map\",\"entries\":[[\"x\",[1,2,3,4,5]],[\"y\",[6,7,2,3,6]]]}}},\"view\":{\"type\":\"object\",\"name\":\"CDSView\",\"id\":\"p13114\",\"attributes\":{\"filter\":{\"type\":\"object\",\"name\":\"AllIndices\",\"id\":\"p13115\"}}},\"glyph\":{\"type\":\"object\",\"name\":\"Circle\",\"id\":\"p13110\",\"attributes\":{\"x\":{\"type\":\"field\",\"field\":\"x\"},\"y\":{\"type\":\"field\",\"field\":\"y\"},\"line_color\":{\"type\":\"value\",\"value\":\"#1f77b4\"},\"fill_color\":{\"type\":\"value\",\"value\":\"#1f77b4\"}}},\"nonselection_glyph\":{\"type\":\"object\",\"name\":\"Circle\",\"id\":\"p13111\",\"attributes\":{\"x\":{\"type\":\"field\",\"field\":\"x\"},\"y\":{\"type\":\"field\",\"field\":\"y\"},\"line_color\":{\"type\":\"value\",\"value\":\"#1f77b4\"},\"line_alpha\":{\"type\":\"value\",\"value\":0.1},\"fill_color\":{\"type\":\"value\",\"value\":\"#1f77b4\"},\"fill_alpha\":{\"type\":\"value\",\"value\":0.1},\"hatch_alpha\":{\"type\":\"value\",\"value\":0.1}}},\"muted_glyph\":{\"type\":\"object\",\"name\":\"Circle\",\"id\":\"p13112\",\"attributes\":{\"x\":{\"type\":\"field\",\"field\":\"x\"},\"y\":{\"type\":\"field\",\"field\":\"y\"},\"line_color\":{\"type\":\"value\",\"value\":\"#1f77b4\"},\"line_alpha\":{\"type\":\"value\",\"value\":0.2},\"fill_color\":{\"type\":\"value\",\"value\":\"#1f77b4\"},\"fill_alpha\":{\"type\":\"value\",\"value\":0.2},\"hatch_alpha\":{\"type\":\"value\",\"value\":0.2}}}}}],\"toolbar\":{\"type\":\"object\",\"name\":\"Toolbar\",\"id\":\"p13065\",\"attributes\":{\"tools\":[{\"type\":\"object\",\"name\":\"PanTool\",\"id\":\"p13092\"},{\"type\":\"object\",\"name\":\"WheelZoomTool\",\"id\":\"p13093\"},{\"type\":\"object\",\"name\":\"BoxZoomTool\",\"id\":\"p13094\",\"attributes\":{\"overlay\":{\"type\":\"object\",\"name\":\"BoxAnnotation\",\"id\":\"p13095\",\"attributes\":{\"syncable\":false,\"level\":\"overlay\",\"visible\":false,\"left_units\":\"canvas\",\"right_units\":\"canvas\",\"bottom_units\":\"canvas\",\"top_units\":\"canvas\",\"line_color\":\"black\",\"line_alpha\":1.0,\"line_width\":2,\"line_dash\":[4,4],\"fill_color\":\"lightgrey\",\"fill_alpha\":0.5}}}},{\"type\":\"object\",\"name\":\"SaveTool\",\"id\":\"p13096\"},{\"type\":\"object\",\"name\":\"ResetTool\",\"id\":\"p13097\"},{\"type\":\"object\",\"name\":\"HelpTool\",\"id\":\"p13098\"}]}},\"left\":[{\"type\":\"object\",\"name\":\"LinearAxis\",\"id\":\"p13085\",\"attributes\":{\"ticker\":{\"type\":\"object\",\"name\":\"BasicTicker\",\"id\":\"p13086\",\"attributes\":{\"mantissas\":[1,2,5]}},\"formatter\":{\"type\":\"object\",\"name\":\"BasicTickFormatter\",\"id\":\"p13087\"},\"axis_label_standoff\":10,\"axis_label_text_color\":\"#5B5B5B\",\"axis_label_text_font\":\"Helvetica\",\"axis_label_text_font_size\":\"1.25em\",\"axis_label_text_font_style\":\"normal\",\"major_label_policy\":{\"type\":\"object\",\"name\":\"AllLabels\",\"id\":\"p13088\"},\"major_label_text_color\":\"#5B5B5B\",\"major_label_text_font\":\"Helvetica\",\"major_label_text_font_size\":\"1.025em\",\"axis_line_color\":\"#5B5B5B\",\"axis_line_alpha\":0,\"major_tick_line_color\":\"#5B5B5B\",\"major_tick_line_alpha\":0,\"minor_tick_line_color\":\"#5B5B5B\",\"minor_tick_line_alpha\":0}}],\"below\":[{\"type\":\"object\",\"name\":\"LinearAxis\",\"id\":\"p13078\",\"attributes\":{\"ticker\":{\"type\":\"object\",\"name\":\"BasicTicker\",\"id\":\"p13079\",\"attributes\":{\"mantissas\":[1,2,5]}},\"formatter\":{\"type\":\"object\",\"name\":\"BasicTickFormatter\",\"id\":\"p13080\"},\"axis_label_standoff\":10,\"axis_label_text_color\":\"#5B5B5B\",\"axis_label_text_font\":\"Helvetica\",\"axis_label_text_font_size\":\"1.25em\",\"axis_label_text_font_style\":\"normal\",\"major_label_policy\":{\"type\":\"object\",\"name\":\"AllLabels\",\"id\":\"p13081\"},\"major_label_text_color\":\"#5B5B5B\",\"major_label_text_font\":\"Helvetica\",\"major_label_text_font_size\":\"1.025em\",\"axis_line_color\":\"#5B5B5B\",\"axis_line_alpha\":0,\"major_tick_line_color\":\"#5B5B5B\",\"major_tick_line_alpha\":0,\"minor_tick_line_color\":\"#5B5B5B\",\"minor_tick_line_alpha\":0}}],\"center\":[{\"type\":\"object\",\"name\":\"Grid\",\"id\":\"p13084\",\"attributes\":{\"axis\":{\"id\":\"p13078\"}}},{\"type\":\"object\",\"name\":\"Grid\",\"id\":\"p13091\",\"attributes\":{\"dimension\":1,\"axis\":{\"id\":\"p13085\"}}}]}}],\"callbacks\":{\"type\":\"map\"}}};\n",
       "  const render_items = [{\"docid\":\"831f7f58-b11a-4778-a3e6-396dccda51b6\",\"roots\":{\"p13061\":\"0ea082db-494e-4735-96e7-74ccb84cf939\"},\"root_ids\":[\"p13061\"]}];\n",
       "  root.Bokeh.embed.embed_items_notebook(docs_json, render_items);\n",
       "  }\n",
       "  if (root.Bokeh !== undefined) {\n",
       "    embed_document(root);\n",
       "  } else {\n",
       "    let attempts = 0;\n",
       "    const timer = setInterval(function(root) {\n",
       "      if (root.Bokeh !== undefined) {\n",
       "        clearInterval(timer);\n",
       "        embed_document(root);\n",
       "      } else {\n",
       "        attempts++;\n",
       "        if (attempts > 100) {\n",
       "          clearInterval(timer);\n",
       "          console.log(\"Bokeh: ERROR: Unable to run BokehJS code because BokehJS library is missing\");\n",
       "        }\n",
       "      }\n",
       "    }, 10, root)\n",
       "  }\n",
       "})(window);"
      ],
      "application/vnd.bokehjs_exec.v0+json": ""
     },
     "metadata": {
      "application/vnd.bokehjs_exec.v0+json": {
       "id": "p13061"
      }
     },
     "output_type": "display_data"
    }
   ],
   "source": [
    "from bokeh.plotting import figure\n",
    "\n",
    "x_values = [1, 2, 3, 4, 5]\n",
    "y_values = [6, 7, 2, 3, 6]\n",
    "\n",
    "p = figure()\n",
    "p.circle(x=x_values, y=y_values)\n",
    "show(p)"
   ]
  },
  {
   "cell_type": "markdown",
   "id": "61b3d5ca",
   "metadata": {},
   "source": [
    "\n",
    "\n",
    "### Numpy"
   ]
  },
  {
   "cell_type": "code",
   "execution_count": 28,
   "id": "42c8451f",
   "metadata": {},
   "outputs": [
    {
     "data": {
      "text/html": [
       "\n",
       "  <div id=\"8f7a0c1b-466e-46b8-98be-1acee9ce1308\" data-root-id=\"p13844\" style=\"display: contents;\"></div>\n"
      ]
     },
     "metadata": {},
     "output_type": "display_data"
    },
    {
     "data": {
      "application/javascript": [
       "(function(root) {\n",
       "  function embed_document(root) {\n",
       "  const docs_json = {\"200f5842-327c-4fa0-9e76-e5f4aaf9f5ce\":{\"version\":\"3.1.0\",\"title\":\"Bokeh Application\",\"defs\":[],\"roots\":[{\"type\":\"object\",\"name\":\"Figure\",\"id\":\"p13844\",\"attributes\":{\"x_range\":{\"type\":\"object\",\"name\":\"DataRange1d\",\"id\":\"p13846\"},\"y_range\":{\"type\":\"object\",\"name\":\"DataRange1d\",\"id\":\"p13845\"},\"x_scale\":{\"type\":\"object\",\"name\":\"LinearScale\",\"id\":\"p13857\"},\"y_scale\":{\"type\":\"object\",\"name\":\"LinearScale\",\"id\":\"p13859\"},\"title\":{\"type\":\"object\",\"name\":\"Title\",\"id\":\"p13851\",\"attributes\":{\"text_color\":\"#5B5B5B\",\"text_font\":\"Helvetica\",\"text_font_size\":\"1.15em\"}},\"renderers\":[{\"type\":\"object\",\"name\":\"GlyphRenderer\",\"id\":\"p13896\",\"attributes\":{\"data_source\":{\"type\":\"object\",\"name\":\"ColumnDataSource\",\"id\":\"p13890\",\"attributes\":{\"selected\":{\"type\":\"object\",\"name\":\"Selection\",\"id\":\"p13892\",\"attributes\":{\"indices\":[],\"line_indices\":[]}},\"selection_policy\":{\"type\":\"object\",\"name\":\"UnionRenderers\",\"id\":\"p13891\"},\"data\":{\"type\":\"map\",\"entries\":[[\"x\",[1,2,3,4,5]],[\"y\",{\"type\":\"ndarray\",\"array\":{\"type\":\"bytes\",\"data\":\"oTOQnk3D4r9G4AzKABueP06KNzYNZMu/j8mwtITc+z8YQMChMjHbvw==\"},\"shape\":[5],\"dtype\":\"float64\",\"order\":\"little\"}]]}}},\"view\":{\"type\":\"object\",\"name\":\"CDSView\",\"id\":\"p13897\",\"attributes\":{\"filter\":{\"type\":\"object\",\"name\":\"AllIndices\",\"id\":\"p13898\"}}},\"glyph\":{\"type\":\"object\",\"name\":\"Circle\",\"id\":\"p13893\",\"attributes\":{\"x\":{\"type\":\"field\",\"field\":\"x\"},\"y\":{\"type\":\"field\",\"field\":\"y\"},\"line_color\":{\"type\":\"value\",\"value\":\"#1f77b4\"},\"fill_color\":{\"type\":\"value\",\"value\":\"#1f77b4\"}}},\"nonselection_glyph\":{\"type\":\"object\",\"name\":\"Circle\",\"id\":\"p13894\",\"attributes\":{\"x\":{\"type\":\"field\",\"field\":\"x\"},\"y\":{\"type\":\"field\",\"field\":\"y\"},\"line_color\":{\"type\":\"value\",\"value\":\"#1f77b4\"},\"line_alpha\":{\"type\":\"value\",\"value\":0.1},\"fill_color\":{\"type\":\"value\",\"value\":\"#1f77b4\"},\"fill_alpha\":{\"type\":\"value\",\"value\":0.1},\"hatch_alpha\":{\"type\":\"value\",\"value\":0.1}}},\"muted_glyph\":{\"type\":\"object\",\"name\":\"Circle\",\"id\":\"p13895\",\"attributes\":{\"x\":{\"type\":\"field\",\"field\":\"x\"},\"y\":{\"type\":\"field\",\"field\":\"y\"},\"line_color\":{\"type\":\"value\",\"value\":\"#1f77b4\"},\"line_alpha\":{\"type\":\"value\",\"value\":0.2},\"fill_color\":{\"type\":\"value\",\"value\":\"#1f77b4\"},\"fill_alpha\":{\"type\":\"value\",\"value\":0.2},\"hatch_alpha\":{\"type\":\"value\",\"value\":0.2}}}}},{\"type\":\"object\",\"name\":\"GlyphRenderer\",\"id\":\"p13905\",\"attributes\":{\"data_source\":{\"type\":\"object\",\"name\":\"ColumnDataSource\",\"id\":\"p13899\",\"attributes\":{\"selected\":{\"type\":\"object\",\"name\":\"Selection\",\"id\":\"p13901\",\"attributes\":{\"indices\":[],\"line_indices\":[]}},\"selection_policy\":{\"type\":\"object\",\"name\":\"UnionRenderers\",\"id\":\"p13900\"},\"data\":{\"type\":\"map\",\"entries\":[[\"x\",[1,2,3,4,5]],[\"y\",{\"type\":\"ndarray\",\"array\":{\"type\":\"bytes\",\"data\":\"jAa1DyhK4T8FclNXJqLav9Llhb4Eru+/wSTbBqbq5L/ZSmtwhSfSPw==\"},\"shape\":[5],\"dtype\":\"float64\",\"order\":\"little\"}]]}}},\"view\":{\"type\":\"object\",\"name\":\"CDSView\",\"id\":\"p13906\",\"attributes\":{\"filter\":{\"type\":\"object\",\"name\":\"AllIndices\",\"id\":\"p13907\"}}},\"glyph\":{\"type\":\"object\",\"name\":\"Line\",\"id\":\"p13902\",\"attributes\":{\"x\":{\"type\":\"field\",\"field\":\"x\"},\"y\":{\"type\":\"field\",\"field\":\"y\"},\"line_color\":\"#1f77b4\"}},\"nonselection_glyph\":{\"type\":\"object\",\"name\":\"Line\",\"id\":\"p13903\",\"attributes\":{\"x\":{\"type\":\"field\",\"field\":\"x\"},\"y\":{\"type\":\"field\",\"field\":\"y\"},\"line_color\":\"#1f77b4\",\"line_alpha\":0.1}},\"muted_glyph\":{\"type\":\"object\",\"name\":\"Line\",\"id\":\"p13904\",\"attributes\":{\"x\":{\"type\":\"field\",\"field\":\"x\"},\"y\":{\"type\":\"field\",\"field\":\"y\"},\"line_color\":\"#1f77b4\",\"line_alpha\":0.2}}}}],\"toolbar\":{\"type\":\"object\",\"name\":\"Toolbar\",\"id\":\"p13848\",\"attributes\":{\"tools\":[{\"type\":\"object\",\"name\":\"PanTool\",\"id\":\"p13875\"},{\"type\":\"object\",\"name\":\"WheelZoomTool\",\"id\":\"p13876\"},{\"type\":\"object\",\"name\":\"BoxZoomTool\",\"id\":\"p13877\",\"attributes\":{\"overlay\":{\"type\":\"object\",\"name\":\"BoxAnnotation\",\"id\":\"p13878\",\"attributes\":{\"syncable\":false,\"level\":\"overlay\",\"visible\":false,\"left_units\":\"canvas\",\"right_units\":\"canvas\",\"bottom_units\":\"canvas\",\"top_units\":\"canvas\",\"line_color\":\"black\",\"line_alpha\":1.0,\"line_width\":2,\"line_dash\":[4,4],\"fill_color\":\"lightgrey\",\"fill_alpha\":0.5}}}},{\"type\":\"object\",\"name\":\"SaveTool\",\"id\":\"p13879\"},{\"type\":\"object\",\"name\":\"ResetTool\",\"id\":\"p13880\"},{\"type\":\"object\",\"name\":\"HelpTool\",\"id\":\"p13881\"}]}},\"left\":[{\"type\":\"object\",\"name\":\"LinearAxis\",\"id\":\"p13868\",\"attributes\":{\"ticker\":{\"type\":\"object\",\"name\":\"BasicTicker\",\"id\":\"p13869\",\"attributes\":{\"mantissas\":[1,2,5]}},\"formatter\":{\"type\":\"object\",\"name\":\"BasicTickFormatter\",\"id\":\"p13870\"},\"axis_label_standoff\":10,\"axis_label_text_color\":\"#5B5B5B\",\"axis_label_text_font\":\"Helvetica\",\"axis_label_text_font_size\":\"1.25em\",\"axis_label_text_font_style\":\"normal\",\"major_label_policy\":{\"type\":\"object\",\"name\":\"AllLabels\",\"id\":\"p13871\"},\"major_label_text_color\":\"#5B5B5B\",\"major_label_text_font\":\"Helvetica\",\"major_label_text_font_size\":\"1.025em\",\"axis_line_color\":\"#5B5B5B\",\"axis_line_alpha\":0,\"major_tick_line_color\":\"#5B5B5B\",\"major_tick_line_alpha\":0,\"minor_tick_line_color\":\"#5B5B5B\",\"minor_tick_line_alpha\":0}}],\"below\":[{\"type\":\"object\",\"name\":\"LinearAxis\",\"id\":\"p13861\",\"attributes\":{\"ticker\":{\"type\":\"object\",\"name\":\"BasicTicker\",\"id\":\"p13862\",\"attributes\":{\"mantissas\":[1,2,5]}},\"formatter\":{\"type\":\"object\",\"name\":\"BasicTickFormatter\",\"id\":\"p13863\"},\"axis_label_standoff\":10,\"axis_label_text_color\":\"#5B5B5B\",\"axis_label_text_font\":\"Helvetica\",\"axis_label_text_font_size\":\"1.25em\",\"axis_label_text_font_style\":\"normal\",\"major_label_policy\":{\"type\":\"object\",\"name\":\"AllLabels\",\"id\":\"p13864\"},\"major_label_text_color\":\"#5B5B5B\",\"major_label_text_font\":\"Helvetica\",\"major_label_text_font_size\":\"1.025em\",\"axis_line_color\":\"#5B5B5B\",\"axis_line_alpha\":0,\"major_tick_line_color\":\"#5B5B5B\",\"major_tick_line_alpha\":0,\"minor_tick_line_color\":\"#5B5B5B\",\"minor_tick_line_alpha\":0}}],\"center\":[{\"type\":\"object\",\"name\":\"Grid\",\"id\":\"p13867\",\"attributes\":{\"axis\":{\"id\":\"p13861\"}}},{\"type\":\"object\",\"name\":\"Grid\",\"id\":\"p13874\",\"attributes\":{\"dimension\":1,\"axis\":{\"id\":\"p13868\"}}}]}}],\"callbacks\":{\"type\":\"map\"}}};\n",
       "  const render_items = [{\"docid\":\"200f5842-327c-4fa0-9e76-e5f4aaf9f5ce\",\"roots\":{\"p13844\":\"8f7a0c1b-466e-46b8-98be-1acee9ce1308\"},\"root_ids\":[\"p13844\"]}];\n",
       "  root.Bokeh.embed.embed_items_notebook(docs_json, render_items);\n",
       "  }\n",
       "  if (root.Bokeh !== undefined) {\n",
       "    embed_document(root);\n",
       "  } else {\n",
       "    let attempts = 0;\n",
       "    const timer = setInterval(function(root) {\n",
       "      if (root.Bokeh !== undefined) {\n",
       "        clearInterval(timer);\n",
       "        embed_document(root);\n",
       "      } else {\n",
       "        attempts++;\n",
       "        if (attempts > 100) {\n",
       "          clearInterval(timer);\n",
       "          console.log(\"Bokeh: ERROR: Unable to run BokehJS code because BokehJS library is missing\");\n",
       "        }\n",
       "      }\n",
       "    }, 10, root)\n",
       "  }\n",
       "})(window);"
      ],
      "application/vnd.bokehjs_exec.v0+json": ""
     },
     "metadata": {
      "application/vnd.bokehjs_exec.v0+json": {
       "id": "p13844"
      }
     },
     "output_type": "display_data"
    }
   ],
   "source": [
    "import numpy as np\n",
    "from bokeh.plotting import figure\n",
    "\n",
    "x = [1, 2, 3, 4, 5]\n",
    "random = np.random.standard_normal(5)\n",
    "cosine = np.cos(x)\n",
    "\n",
    "p = figure()\n",
    "p.circle(x=x, y=random)\n",
    "p.line(x=x, y=cosine)\n",
    "show(p)"
   ]
  },
  {
   "cell_type": "markdown",
   "id": "e9f698cd",
   "metadata": {},
   "source": [
    "### ColumnDataSource\n",
    "The ColumnDataSource (CDS) is the core of most Bokeh plots. It provides the data to the glyphs of your plot.\n",
    "\n",
    "When you pass sequences like Python lists or NumPy arrays to a Bokeh renderer, Bokeh automatically creates a ColumnDataSource with this data for you. However, creating a ColumnDataSource yourself gives you access to more advanced options.\n",
    "\n",
    "Creating your own ColumnDataSource allows you to share data between multiple plots and widgets"
   ]
  },
  {
   "cell_type": "code",
   "execution_count": 29,
   "id": "32cf9298",
   "metadata": {},
   "outputs": [
    {
     "data": {
      "text/html": [
       "\n",
       "  <div id=\"7e53205a-34c4-4862-9b96-731dffb992a0\" data-root-id=\"p14688\" style=\"display: contents;\"></div>\n"
      ]
     },
     "metadata": {},
     "output_type": "display_data"
    },
    {
     "data": {
      "application/javascript": [
       "(function(root) {\n",
       "  function embed_document(root) {\n",
       "  const docs_json = {\"a43b63e9-6377-48b0-8003-b1df033ac202\":{\"version\":\"3.1.0\",\"title\":\"Bokeh Application\",\"defs\":[],\"roots\":[{\"type\":\"object\",\"name\":\"Figure\",\"id\":\"p14688\",\"attributes\":{\"x_range\":{\"type\":\"object\",\"name\":\"DataRange1d\",\"id\":\"p14690\"},\"y_range\":{\"type\":\"object\",\"name\":\"DataRange1d\",\"id\":\"p14689\"},\"x_scale\":{\"type\":\"object\",\"name\":\"LinearScale\",\"id\":\"p14701\"},\"y_scale\":{\"type\":\"object\",\"name\":\"LinearScale\",\"id\":\"p14703\"},\"title\":{\"type\":\"object\",\"name\":\"Title\",\"id\":\"p14695\",\"attributes\":{\"text_color\":\"#5B5B5B\",\"text_font\":\"Helvetica\",\"text_font_size\":\"1.15em\"}},\"renderers\":[{\"type\":\"object\",\"name\":\"GlyphRenderer\",\"id\":\"p14740\",\"attributes\":{\"data_source\":{\"type\":\"object\",\"name\":\"ColumnDataSource\",\"id\":\"p14685\",\"attributes\":{\"selected\":{\"type\":\"object\",\"name\":\"Selection\",\"id\":\"p14687\",\"attributes\":{\"indices\":[],\"line_indices\":[]}},\"selection_policy\":{\"type\":\"object\",\"name\":\"UnionRenderers\",\"id\":\"p14686\"},\"data\":{\"type\":\"map\",\"entries\":[[\"x_values\",[1,2,3,4,5]],[\"y_values\",[6,7,2,3,6]]]}}},\"view\":{\"type\":\"object\",\"name\":\"CDSView\",\"id\":\"p14741\",\"attributes\":{\"filter\":{\"type\":\"object\",\"name\":\"AllIndices\",\"id\":\"p14742\"}}},\"glyph\":{\"type\":\"object\",\"name\":\"Circle\",\"id\":\"p14737\",\"attributes\":{\"x\":{\"type\":\"field\",\"field\":\"x_values\"},\"y\":{\"type\":\"field\",\"field\":\"y_values\"},\"line_color\":{\"type\":\"value\",\"value\":\"#1f77b4\"},\"fill_color\":{\"type\":\"value\",\"value\":\"#1f77b4\"}}},\"nonselection_glyph\":{\"type\":\"object\",\"name\":\"Circle\",\"id\":\"p14738\",\"attributes\":{\"x\":{\"type\":\"field\",\"field\":\"x_values\"},\"y\":{\"type\":\"field\",\"field\":\"y_values\"},\"line_color\":{\"type\":\"value\",\"value\":\"#1f77b4\"},\"line_alpha\":{\"type\":\"value\",\"value\":0.1},\"fill_color\":{\"type\":\"value\",\"value\":\"#1f77b4\"},\"fill_alpha\":{\"type\":\"value\",\"value\":0.1},\"hatch_alpha\":{\"type\":\"value\",\"value\":0.1}}},\"muted_glyph\":{\"type\":\"object\",\"name\":\"Circle\",\"id\":\"p14739\",\"attributes\":{\"x\":{\"type\":\"field\",\"field\":\"x_values\"},\"y\":{\"type\":\"field\",\"field\":\"y_values\"},\"line_color\":{\"type\":\"value\",\"value\":\"#1f77b4\"},\"line_alpha\":{\"type\":\"value\",\"value\":0.2},\"fill_color\":{\"type\":\"value\",\"value\":\"#1f77b4\"},\"fill_alpha\":{\"type\":\"value\",\"value\":0.2},\"hatch_alpha\":{\"type\":\"value\",\"value\":0.2}}}}}],\"toolbar\":{\"type\":\"object\",\"name\":\"Toolbar\",\"id\":\"p14692\",\"attributes\":{\"tools\":[{\"type\":\"object\",\"name\":\"PanTool\",\"id\":\"p14719\"},{\"type\":\"object\",\"name\":\"WheelZoomTool\",\"id\":\"p14720\"},{\"type\":\"object\",\"name\":\"BoxZoomTool\",\"id\":\"p14721\",\"attributes\":{\"overlay\":{\"type\":\"object\",\"name\":\"BoxAnnotation\",\"id\":\"p14722\",\"attributes\":{\"syncable\":false,\"level\":\"overlay\",\"visible\":false,\"left_units\":\"canvas\",\"right_units\":\"canvas\",\"bottom_units\":\"canvas\",\"top_units\":\"canvas\",\"line_color\":\"black\",\"line_alpha\":1.0,\"line_width\":2,\"line_dash\":[4,4],\"fill_color\":\"lightgrey\",\"fill_alpha\":0.5}}}},{\"type\":\"object\",\"name\":\"SaveTool\",\"id\":\"p14723\"},{\"type\":\"object\",\"name\":\"ResetTool\",\"id\":\"p14724\"},{\"type\":\"object\",\"name\":\"HelpTool\",\"id\":\"p14725\"}]}},\"left\":[{\"type\":\"object\",\"name\":\"LinearAxis\",\"id\":\"p14712\",\"attributes\":{\"ticker\":{\"type\":\"object\",\"name\":\"BasicTicker\",\"id\":\"p14713\",\"attributes\":{\"mantissas\":[1,2,5]}},\"formatter\":{\"type\":\"object\",\"name\":\"BasicTickFormatter\",\"id\":\"p14714\"},\"axis_label_standoff\":10,\"axis_label_text_color\":\"#5B5B5B\",\"axis_label_text_font\":\"Helvetica\",\"axis_label_text_font_size\":\"1.25em\",\"axis_label_text_font_style\":\"normal\",\"major_label_policy\":{\"type\":\"object\",\"name\":\"AllLabels\",\"id\":\"p14715\"},\"major_label_text_color\":\"#5B5B5B\",\"major_label_text_font\":\"Helvetica\",\"major_label_text_font_size\":\"1.025em\",\"axis_line_color\":\"#5B5B5B\",\"axis_line_alpha\":0,\"major_tick_line_color\":\"#5B5B5B\",\"major_tick_line_alpha\":0,\"minor_tick_line_color\":\"#5B5B5B\",\"minor_tick_line_alpha\":0}}],\"below\":[{\"type\":\"object\",\"name\":\"LinearAxis\",\"id\":\"p14705\",\"attributes\":{\"ticker\":{\"type\":\"object\",\"name\":\"BasicTicker\",\"id\":\"p14706\",\"attributes\":{\"mantissas\":[1,2,5]}},\"formatter\":{\"type\":\"object\",\"name\":\"BasicTickFormatter\",\"id\":\"p14707\"},\"axis_label_standoff\":10,\"axis_label_text_color\":\"#5B5B5B\",\"axis_label_text_font\":\"Helvetica\",\"axis_label_text_font_size\":\"1.25em\",\"axis_label_text_font_style\":\"normal\",\"major_label_policy\":{\"type\":\"object\",\"name\":\"AllLabels\",\"id\":\"p14708\"},\"major_label_text_color\":\"#5B5B5B\",\"major_label_text_font\":\"Helvetica\",\"major_label_text_font_size\":\"1.025em\",\"axis_line_color\":\"#5B5B5B\",\"axis_line_alpha\":0,\"major_tick_line_color\":\"#5B5B5B\",\"major_tick_line_alpha\":0,\"minor_tick_line_color\":\"#5B5B5B\",\"minor_tick_line_alpha\":0}}],\"center\":[{\"type\":\"object\",\"name\":\"Grid\",\"id\":\"p14711\",\"attributes\":{\"axis\":{\"id\":\"p14705\"}}},{\"type\":\"object\",\"name\":\"Grid\",\"id\":\"p14718\",\"attributes\":{\"dimension\":1,\"axis\":{\"id\":\"p14712\"}}}]}}],\"callbacks\":{\"type\":\"map\"}}};\n",
       "  const render_items = [{\"docid\":\"a43b63e9-6377-48b0-8003-b1df033ac202\",\"roots\":{\"p14688\":\"7e53205a-34c4-4862-9b96-731dffb992a0\"},\"root_ids\":[\"p14688\"]}];\n",
       "  root.Bokeh.embed.embed_items_notebook(docs_json, render_items);\n",
       "  }\n",
       "  if (root.Bokeh !== undefined) {\n",
       "    embed_document(root);\n",
       "  } else {\n",
       "    let attempts = 0;\n",
       "    const timer = setInterval(function(root) {\n",
       "      if (root.Bokeh !== undefined) {\n",
       "        clearInterval(timer);\n",
       "        embed_document(root);\n",
       "      } else {\n",
       "        attempts++;\n",
       "        if (attempts > 100) {\n",
       "          clearInterval(timer);\n",
       "          console.log(\"Bokeh: ERROR: Unable to run BokehJS code because BokehJS library is missing\");\n",
       "        }\n",
       "      }\n",
       "    }, 10, root)\n",
       "  }\n",
       "})(window);"
      ],
      "application/vnd.bokehjs_exec.v0+json": ""
     },
     "metadata": {
      "application/vnd.bokehjs_exec.v0+json": {
       "id": "p14688"
      }
     },
     "output_type": "display_data"
    }
   ],
   "source": [
    "from bokeh.plotting import figure\n",
    "from bokeh.models import ColumnDataSource\n",
    "\n",
    "# create dict as basis for ColumnDataSource\n",
    "data = {'x_values': [1, 2, 3, 4, 5],\n",
    "        'y_values': [6, 7, 2, 3, 6]}\n",
    "\n",
    "# create ColumnDataSource based on dict\n",
    "source = ColumnDataSource(data=data)\n",
    "\n",
    "# create a plot and renderer with ColumnDataSource data\n",
    "p = figure()\n",
    "p.circle(x='x_values', y='y_values', source=source)\n",
    "show(p)"
   ]
  },
  {
   "cell_type": "markdown",
   "id": "a210a969",
   "metadata": {},
   "source": [
    "To modify the data of an existing ColumnDataSource, update the .data property of your ColumnDataSource object:\n",
    "\n",
    "To add a new column to an existing ColumnDataSource:\n",
    "\n"
   ]
  },
  {
   "cell_type": "code",
   "execution_count": 30,
   "id": "cf5419e3",
   "metadata": {},
   "outputs": [
    {
     "data": {
      "text/html": [
       "\n",
       "  <div id=\"30b54a41-0833-4826-b77f-bcd0415bc84d\" data-root-id=\"p15504\" style=\"display: contents;\"></div>\n"
      ]
     },
     "metadata": {},
     "output_type": "display_data"
    },
    {
     "data": {
      "application/javascript": [
       "(function(root) {\n",
       "  function embed_document(root) {\n",
       "  const docs_json = {\"73f9f328-3beb-4ec3-9dc4-a63fed20ce9f\":{\"version\":\"3.1.0\",\"title\":\"Bokeh Application\",\"defs\":[],\"roots\":[{\"type\":\"object\",\"name\":\"Figure\",\"id\":\"p15504\",\"attributes\":{\"x_range\":{\"type\":\"object\",\"name\":\"DataRange1d\",\"id\":\"p15506\"},\"y_range\":{\"type\":\"object\",\"name\":\"DataRange1d\",\"id\":\"p15505\"},\"x_scale\":{\"type\":\"object\",\"name\":\"LinearScale\",\"id\":\"p15517\"},\"y_scale\":{\"type\":\"object\",\"name\":\"LinearScale\",\"id\":\"p15519\"},\"title\":{\"type\":\"object\",\"name\":\"Title\",\"id\":\"p15511\",\"attributes\":{\"text_color\":\"#5B5B5B\",\"text_font\":\"Helvetica\",\"text_font_size\":\"1.15em\"}},\"renderers\":[{\"type\":\"object\",\"name\":\"GlyphRenderer\",\"id\":\"p15556\",\"attributes\":{\"data_source\":{\"type\":\"object\",\"name\":\"ColumnDataSource\",\"id\":\"p14685\",\"attributes\":{\"selected\":{\"type\":\"object\",\"name\":\"Selection\",\"id\":\"p14687\",\"attributes\":{\"indices\":[],\"line_indices\":[]}},\"selection_policy\":{\"type\":\"object\",\"name\":\"UnionRenderers\",\"id\":\"p14686\"},\"data\":{\"type\":\"map\",\"entries\":[[\"x_values\",[1,2,3,4,5]],[\"y_values\",[6,7,2,3,6]],[\"new_column\",[8,1,4,7,3]]]}}},\"view\":{\"type\":\"object\",\"name\":\"CDSView\",\"id\":\"p15557\",\"attributes\":{\"filter\":{\"type\":\"object\",\"name\":\"AllIndices\",\"id\":\"p15558\"}}},\"glyph\":{\"type\":\"object\",\"name\":\"Circle\",\"id\":\"p15553\",\"attributes\":{\"x\":{\"type\":\"field\",\"field\":\"x_values\"},\"y\":{\"type\":\"field\",\"field\":\"new_column\"},\"line_color\":{\"type\":\"value\",\"value\":\"#1f77b4\"},\"fill_color\":{\"type\":\"value\",\"value\":\"#1f77b4\"}}},\"nonselection_glyph\":{\"type\":\"object\",\"name\":\"Circle\",\"id\":\"p15554\",\"attributes\":{\"x\":{\"type\":\"field\",\"field\":\"x_values\"},\"y\":{\"type\":\"field\",\"field\":\"new_column\"},\"line_color\":{\"type\":\"value\",\"value\":\"#1f77b4\"},\"line_alpha\":{\"type\":\"value\",\"value\":0.1},\"fill_color\":{\"type\":\"value\",\"value\":\"#1f77b4\"},\"fill_alpha\":{\"type\":\"value\",\"value\":0.1},\"hatch_alpha\":{\"type\":\"value\",\"value\":0.1}}},\"muted_glyph\":{\"type\":\"object\",\"name\":\"Circle\",\"id\":\"p15555\",\"attributes\":{\"x\":{\"type\":\"field\",\"field\":\"x_values\"},\"y\":{\"type\":\"field\",\"field\":\"new_column\"},\"line_color\":{\"type\":\"value\",\"value\":\"#1f77b4\"},\"line_alpha\":{\"type\":\"value\",\"value\":0.2},\"fill_color\":{\"type\":\"value\",\"value\":\"#1f77b4\"},\"fill_alpha\":{\"type\":\"value\",\"value\":0.2},\"hatch_alpha\":{\"type\":\"value\",\"value\":0.2}}}}}],\"toolbar\":{\"type\":\"object\",\"name\":\"Toolbar\",\"id\":\"p15508\",\"attributes\":{\"tools\":[{\"type\":\"object\",\"name\":\"PanTool\",\"id\":\"p15535\"},{\"type\":\"object\",\"name\":\"WheelZoomTool\",\"id\":\"p15536\"},{\"type\":\"object\",\"name\":\"BoxZoomTool\",\"id\":\"p15537\",\"attributes\":{\"overlay\":{\"type\":\"object\",\"name\":\"BoxAnnotation\",\"id\":\"p15538\",\"attributes\":{\"syncable\":false,\"level\":\"overlay\",\"visible\":false,\"left_units\":\"canvas\",\"right_units\":\"canvas\",\"bottom_units\":\"canvas\",\"top_units\":\"canvas\",\"line_color\":\"black\",\"line_alpha\":1.0,\"line_width\":2,\"line_dash\":[4,4],\"fill_color\":\"lightgrey\",\"fill_alpha\":0.5}}}},{\"type\":\"object\",\"name\":\"SaveTool\",\"id\":\"p15539\"},{\"type\":\"object\",\"name\":\"ResetTool\",\"id\":\"p15540\"},{\"type\":\"object\",\"name\":\"HelpTool\",\"id\":\"p15541\"}]}},\"left\":[{\"type\":\"object\",\"name\":\"LinearAxis\",\"id\":\"p15528\",\"attributes\":{\"ticker\":{\"type\":\"object\",\"name\":\"BasicTicker\",\"id\":\"p15529\",\"attributes\":{\"mantissas\":[1,2,5]}},\"formatter\":{\"type\":\"object\",\"name\":\"BasicTickFormatter\",\"id\":\"p15530\"},\"axis_label_standoff\":10,\"axis_label_text_color\":\"#5B5B5B\",\"axis_label_text_font\":\"Helvetica\",\"axis_label_text_font_size\":\"1.25em\",\"axis_label_text_font_style\":\"normal\",\"major_label_policy\":{\"type\":\"object\",\"name\":\"AllLabels\",\"id\":\"p15531\"},\"major_label_text_color\":\"#5B5B5B\",\"major_label_text_font\":\"Helvetica\",\"major_label_text_font_size\":\"1.025em\",\"axis_line_color\":\"#5B5B5B\",\"axis_line_alpha\":0,\"major_tick_line_color\":\"#5B5B5B\",\"major_tick_line_alpha\":0,\"minor_tick_line_color\":\"#5B5B5B\",\"minor_tick_line_alpha\":0}}],\"below\":[{\"type\":\"object\",\"name\":\"LinearAxis\",\"id\":\"p15521\",\"attributes\":{\"ticker\":{\"type\":\"object\",\"name\":\"BasicTicker\",\"id\":\"p15522\",\"attributes\":{\"mantissas\":[1,2,5]}},\"formatter\":{\"type\":\"object\",\"name\":\"BasicTickFormatter\",\"id\":\"p15523\"},\"axis_label_standoff\":10,\"axis_label_text_color\":\"#5B5B5B\",\"axis_label_text_font\":\"Helvetica\",\"axis_label_text_font_size\":\"1.25em\",\"axis_label_text_font_style\":\"normal\",\"major_label_policy\":{\"type\":\"object\",\"name\":\"AllLabels\",\"id\":\"p15524\"},\"major_label_text_color\":\"#5B5B5B\",\"major_label_text_font\":\"Helvetica\",\"major_label_text_font_size\":\"1.025em\",\"axis_line_color\":\"#5B5B5B\",\"axis_line_alpha\":0,\"major_tick_line_color\":\"#5B5B5B\",\"major_tick_line_alpha\":0,\"minor_tick_line_color\":\"#5B5B5B\",\"minor_tick_line_alpha\":0}}],\"center\":[{\"type\":\"object\",\"name\":\"Grid\",\"id\":\"p15527\",\"attributes\":{\"axis\":{\"id\":\"p15521\"}}},{\"type\":\"object\",\"name\":\"Grid\",\"id\":\"p15534\",\"attributes\":{\"dimension\":1,\"axis\":{\"id\":\"p15528\"}}}]}}],\"callbacks\":{\"type\":\"map\"}}};\n",
       "  const render_items = [{\"docid\":\"73f9f328-3beb-4ec3-9dc4-a63fed20ce9f\",\"roots\":{\"p15504\":\"30b54a41-0833-4826-b77f-bcd0415bc84d\"},\"root_ids\":[\"p15504\"]}];\n",
       "  root.Bokeh.embed.embed_items_notebook(docs_json, render_items);\n",
       "  }\n",
       "  if (root.Bokeh !== undefined) {\n",
       "    embed_document(root);\n",
       "  } else {\n",
       "    let attempts = 0;\n",
       "    const timer = setInterval(function(root) {\n",
       "      if (root.Bokeh !== undefined) {\n",
       "        clearInterval(timer);\n",
       "        embed_document(root);\n",
       "      } else {\n",
       "        attempts++;\n",
       "        if (attempts > 100) {\n",
       "          clearInterval(timer);\n",
       "          console.log(\"Bokeh: ERROR: Unable to run BokehJS code because BokehJS library is missing\");\n",
       "        }\n",
       "      }\n",
       "    }, 10, root)\n",
       "  }\n",
       "})(window);"
      ],
      "application/vnd.bokehjs_exec.v0+json": ""
     },
     "metadata": {
      "application/vnd.bokehjs_exec.v0+json": {
       "id": "p15504"
      }
     },
     "output_type": "display_data"
    }
   ],
   "source": [
    "new_sequence = [8, 1, 4, 7, 3]\n",
    "source.data[\"new_column\"] = new_sequence\n",
    "\n",
    "# create a plot and renderer with ColumnDataSource data\n",
    "p = figure()\n",
    "p.circle(x='x_values', y='new_column', source=source)\n",
    "show(p)"
   ]
  },
  {
   "cell_type": "markdown",
   "id": "cb0ae920",
   "metadata": {},
   "source": [
    "## Pandas dataframe\n",
    "\n",
    "```\n",
    "source = ColumnDataSource(df)\n",
    "```"
   ]
  },
  {
   "cell_type": "code",
   "execution_count": 31,
   "id": "156b9ff1",
   "metadata": {},
   "outputs": [],
   "source": [
    "import pandas as pd"
   ]
  },
  {
   "cell_type": "code",
   "execution_count": 32,
   "id": "859e8dde",
   "metadata": {},
   "outputs": [
    {
     "data": {
      "text/html": [
       "<div>\n",
       "<style scoped>\n",
       "    .dataframe tbody tr th:only-of-type {\n",
       "        vertical-align: middle;\n",
       "    }\n",
       "\n",
       "    .dataframe tbody tr th {\n",
       "        vertical-align: top;\n",
       "    }\n",
       "\n",
       "    .dataframe thead tr th {\n",
       "        text-align: left;\n",
       "    }\n",
       "</style>\n",
       "<table border=\"1\" class=\"dataframe\">\n",
       "  <thead>\n",
       "    <tr>\n",
       "      <th></th>\n",
       "      <th></th>\n",
       "      <th>a</th>\n",
       "      <th colspan=\"2\" halign=\"left\">b</th>\n",
       "    </tr>\n",
       "    <tr>\n",
       "      <th></th>\n",
       "      <th></th>\n",
       "      <th>b</th>\n",
       "      <th>a</th>\n",
       "      <th>b</th>\n",
       "    </tr>\n",
       "  </thead>\n",
       "  <tbody>\n",
       "    <tr>\n",
       "      <th rowspan=\"3\" valign=\"top\">A</th>\n",
       "      <th>B</th>\n",
       "      <td>1.0</td>\n",
       "      <td>8.0</td>\n",
       "      <td>10.0</td>\n",
       "    </tr>\n",
       "    <tr>\n",
       "      <th>C</th>\n",
       "      <td>2.0</td>\n",
       "      <td>7.0</td>\n",
       "      <td>NaN</td>\n",
       "    </tr>\n",
       "    <tr>\n",
       "      <th>D</th>\n",
       "      <td>NaN</td>\n",
       "      <td>NaN</td>\n",
       "      <td>9.0</td>\n",
       "    </tr>\n",
       "  </tbody>\n",
       "</table>\n",
       "</div>"
      ],
      "text/plain": [
       "       a    b      \n",
       "       b    a     b\n",
       "A B  1.0  8.0  10.0\n",
       "  C  2.0  7.0   NaN\n",
       "  D  NaN  NaN   9.0"
      ]
     },
     "execution_count": 32,
     "metadata": {},
     "output_type": "execute_result"
    }
   ],
   "source": [
    "df = pd.DataFrame({('a', 'b'): {('A', 'B'): 1, ('A', 'C'): 2},\n",
    "                   ('b', 'a'): {('A', 'C'): 7, ('A', 'B'): 8},\n",
    "                   ('b', 'b'): {('A', 'D'): 9, ('A', 'B'): 10}})\n",
    "cds = ColumnDataSource(df)\n",
    "df"
   ]
  },
  {
   "cell_type": "code",
   "execution_count": 33,
   "id": "73972efd",
   "metadata": {},
   "outputs": [
    {
     "data": {
      "text/html": [
       "\n",
       "  <div id=\"167e1cb5-65fc-48e8-889f-431043c20f75\" data-root-id=\"p16337\" style=\"display: contents;\"></div>\n"
      ]
     },
     "metadata": {},
     "output_type": "display_data"
    },
    {
     "data": {
      "application/javascript": [
       "(function(root) {\n",
       "  function embed_document(root) {\n",
       "  const docs_json = {\"00379afc-dc08-488a-81e6-38275493ce89\":{\"version\":\"3.1.0\",\"title\":\"Bokeh Application\",\"defs\":[],\"roots\":[{\"type\":\"object\",\"name\":\"Figure\",\"id\":\"p16337\",\"attributes\":{\"x_range\":{\"type\":\"object\",\"name\":\"DataRange1d\",\"id\":\"p16339\"},\"y_range\":{\"type\":\"object\",\"name\":\"DataRange1d\",\"id\":\"p16338\"},\"x_scale\":{\"type\":\"object\",\"name\":\"LinearScale\",\"id\":\"p16350\"},\"y_scale\":{\"type\":\"object\",\"name\":\"LinearScale\",\"id\":\"p16352\"},\"title\":{\"type\":\"object\",\"name\":\"Title\",\"id\":\"p16344\",\"attributes\":{\"text_color\":\"#5B5B5B\",\"text_font\":\"Helvetica\",\"text_font_size\":\"1.15em\"}},\"renderers\":[{\"type\":\"object\",\"name\":\"GlyphRenderer\",\"id\":\"p16389\",\"attributes\":{\"data_source\":{\"type\":\"object\",\"name\":\"ColumnDataSource\",\"id\":\"p16334\",\"attributes\":{\"selected\":{\"type\":\"object\",\"name\":\"Selection\",\"id\":\"p16336\",\"attributes\":{\"indices\":[],\"line_indices\":[]}},\"selection_policy\":{\"type\":\"object\",\"name\":\"UnionRenderers\",\"id\":\"p16335\"},\"data\":{\"type\":\"map\",\"entries\":[[\"index\",{\"type\":\"ndarray\",\"array\":[[\"A\",\"B\"],[\"A\",\"C\"],[\"A\",\"D\"]],\"shape\":[3],\"dtype\":\"object\",\"order\":\"little\"}],[\"a_b\",{\"type\":\"ndarray\",\"array\":{\"type\":\"bytes\",\"data\":\"AAAAAAAA8D8AAAAAAAAAQAAAAAAAAPh/\"},\"shape\":[3],\"dtype\":\"float64\",\"order\":\"little\"}],[\"b_a\",{\"type\":\"ndarray\",\"array\":{\"type\":\"bytes\",\"data\":\"AAAAAAAAIEAAAAAAAAAcQAAAAAAAAPh/\"},\"shape\":[3],\"dtype\":\"float64\",\"order\":\"little\"}],[\"b_b\",{\"type\":\"ndarray\",\"array\":{\"type\":\"bytes\",\"data\":\"AAAAAAAAJEAAAAAAAAD4fwAAAAAAACJA\"},\"shape\":[3],\"dtype\":\"float64\",\"order\":\"little\"}]]}}},\"view\":{\"type\":\"object\",\"name\":\"CDSView\",\"id\":\"p16390\",\"attributes\":{\"filter\":{\"type\":\"object\",\"name\":\"AllIndices\",\"id\":\"p16391\"}}},\"glyph\":{\"type\":\"object\",\"name\":\"Circle\",\"id\":\"p16386\",\"attributes\":{\"x\":{\"type\":\"field\",\"field\":\"a_b\"},\"y\":{\"type\":\"field\",\"field\":\"b_a\"},\"line_color\":{\"type\":\"value\",\"value\":\"#1f77b4\"},\"fill_color\":{\"type\":\"value\",\"value\":\"#1f77b4\"}}},\"nonselection_glyph\":{\"type\":\"object\",\"name\":\"Circle\",\"id\":\"p16387\",\"attributes\":{\"x\":{\"type\":\"field\",\"field\":\"a_b\"},\"y\":{\"type\":\"field\",\"field\":\"b_a\"},\"line_color\":{\"type\":\"value\",\"value\":\"#1f77b4\"},\"line_alpha\":{\"type\":\"value\",\"value\":0.1},\"fill_color\":{\"type\":\"value\",\"value\":\"#1f77b4\"},\"fill_alpha\":{\"type\":\"value\",\"value\":0.1},\"hatch_alpha\":{\"type\":\"value\",\"value\":0.1}}},\"muted_glyph\":{\"type\":\"object\",\"name\":\"Circle\",\"id\":\"p16388\",\"attributes\":{\"x\":{\"type\":\"field\",\"field\":\"a_b\"},\"y\":{\"type\":\"field\",\"field\":\"b_a\"},\"line_color\":{\"type\":\"value\",\"value\":\"#1f77b4\"},\"line_alpha\":{\"type\":\"value\",\"value\":0.2},\"fill_color\":{\"type\":\"value\",\"value\":\"#1f77b4\"},\"fill_alpha\":{\"type\":\"value\",\"value\":0.2},\"hatch_alpha\":{\"type\":\"value\",\"value\":0.2}}}}}],\"toolbar\":{\"type\":\"object\",\"name\":\"Toolbar\",\"id\":\"p16341\",\"attributes\":{\"tools\":[{\"type\":\"object\",\"name\":\"PanTool\",\"id\":\"p16368\"},{\"type\":\"object\",\"name\":\"WheelZoomTool\",\"id\":\"p16369\"},{\"type\":\"object\",\"name\":\"BoxZoomTool\",\"id\":\"p16370\",\"attributes\":{\"overlay\":{\"type\":\"object\",\"name\":\"BoxAnnotation\",\"id\":\"p16371\",\"attributes\":{\"syncable\":false,\"level\":\"overlay\",\"visible\":false,\"left_units\":\"canvas\",\"right_units\":\"canvas\",\"bottom_units\":\"canvas\",\"top_units\":\"canvas\",\"line_color\":\"black\",\"line_alpha\":1.0,\"line_width\":2,\"line_dash\":[4,4],\"fill_color\":\"lightgrey\",\"fill_alpha\":0.5}}}},{\"type\":\"object\",\"name\":\"SaveTool\",\"id\":\"p16372\"},{\"type\":\"object\",\"name\":\"ResetTool\",\"id\":\"p16373\"},{\"type\":\"object\",\"name\":\"HelpTool\",\"id\":\"p16374\"}]}},\"left\":[{\"type\":\"object\",\"name\":\"LinearAxis\",\"id\":\"p16361\",\"attributes\":{\"ticker\":{\"type\":\"object\",\"name\":\"BasicTicker\",\"id\":\"p16362\",\"attributes\":{\"mantissas\":[1,2,5]}},\"formatter\":{\"type\":\"object\",\"name\":\"BasicTickFormatter\",\"id\":\"p16363\"},\"axis_label_standoff\":10,\"axis_label_text_color\":\"#5B5B5B\",\"axis_label_text_font\":\"Helvetica\",\"axis_label_text_font_size\":\"1.25em\",\"axis_label_text_font_style\":\"normal\",\"major_label_policy\":{\"type\":\"object\",\"name\":\"AllLabels\",\"id\":\"p16364\"},\"major_label_text_color\":\"#5B5B5B\",\"major_label_text_font\":\"Helvetica\",\"major_label_text_font_size\":\"1.025em\",\"axis_line_color\":\"#5B5B5B\",\"axis_line_alpha\":0,\"major_tick_line_color\":\"#5B5B5B\",\"major_tick_line_alpha\":0,\"minor_tick_line_color\":\"#5B5B5B\",\"minor_tick_line_alpha\":0}}],\"below\":[{\"type\":\"object\",\"name\":\"LinearAxis\",\"id\":\"p16354\",\"attributes\":{\"ticker\":{\"type\":\"object\",\"name\":\"BasicTicker\",\"id\":\"p16355\",\"attributes\":{\"mantissas\":[1,2,5]}},\"formatter\":{\"type\":\"object\",\"name\":\"BasicTickFormatter\",\"id\":\"p16356\"},\"axis_label_standoff\":10,\"axis_label_text_color\":\"#5B5B5B\",\"axis_label_text_font\":\"Helvetica\",\"axis_label_text_font_size\":\"1.25em\",\"axis_label_text_font_style\":\"normal\",\"major_label_policy\":{\"type\":\"object\",\"name\":\"AllLabels\",\"id\":\"p16357\"},\"major_label_text_color\":\"#5B5B5B\",\"major_label_text_font\":\"Helvetica\",\"major_label_text_font_size\":\"1.025em\",\"axis_line_color\":\"#5B5B5B\",\"axis_line_alpha\":0,\"major_tick_line_color\":\"#5B5B5B\",\"major_tick_line_alpha\":0,\"minor_tick_line_color\":\"#5B5B5B\",\"minor_tick_line_alpha\":0}}],\"center\":[{\"type\":\"object\",\"name\":\"Grid\",\"id\":\"p16360\",\"attributes\":{\"axis\":{\"id\":\"p16354\"}}},{\"type\":\"object\",\"name\":\"Grid\",\"id\":\"p16367\",\"attributes\":{\"dimension\":1,\"axis\":{\"id\":\"p16361\"}}}]}}],\"callbacks\":{\"type\":\"map\"}}};\n",
       "  const render_items = [{\"docid\":\"00379afc-dc08-488a-81e6-38275493ce89\",\"roots\":{\"p16337\":\"167e1cb5-65fc-48e8-889f-431043c20f75\"},\"root_ids\":[\"p16337\"]}];\n",
       "  root.Bokeh.embed.embed_items_notebook(docs_json, render_items);\n",
       "  }\n",
       "  if (root.Bokeh !== undefined) {\n",
       "    embed_document(root);\n",
       "  } else {\n",
       "    let attempts = 0;\n",
       "    const timer = setInterval(function(root) {\n",
       "      if (root.Bokeh !== undefined) {\n",
       "        clearInterval(timer);\n",
       "        embed_document(root);\n",
       "      } else {\n",
       "        attempts++;\n",
       "        if (attempts > 100) {\n",
       "          clearInterval(timer);\n",
       "          console.log(\"Bokeh: ERROR: Unable to run BokehJS code because BokehJS library is missing\");\n",
       "        }\n",
       "      }\n",
       "    }, 10, root)\n",
       "  }\n",
       "})(window);"
      ],
      "application/vnd.bokehjs_exec.v0+json": ""
     },
     "metadata": {
      "application/vnd.bokehjs_exec.v0+json": {
       "id": "p16337"
      }
     },
     "output_type": "display_data"
    }
   ],
   "source": [
    "\n",
    "p = figure()\n",
    "p.circle(x='a_b', y='b_a', source=cds)\n",
    "show(p)"
   ]
  },
  {
   "cell_type": "markdown",
   "id": "9b07829e",
   "metadata": {},
   "source": [
    "# Mapping marker types\n",
    "When you use categorical data, you can use different markers for each of the categories in your data. Use the factor_mark() function to assign different markers to different categories automatically:\n",
    "\n"
   ]
  },
  {
   "cell_type": "code",
   "execution_count": 34,
   "id": "bb2da656",
   "metadata": {},
   "outputs": [
    {
     "data": {
      "text/html": [
       "\n",
       "  <div id=\"26a36f41-748e-43ee-ab07-f3b330db269e\" data-root-id=\"p17184\" style=\"display: contents;\"></div>\n"
      ]
     },
     "metadata": {},
     "output_type": "display_data"
    },
    {
     "data": {
      "application/javascript": [
       "(function(root) {\n",
       "  function embed_document(root) {\n",
       "  const docs_json = {\"228002a0-22bc-4b39-8bd2-79927118b36c\":{\"version\":\"3.1.0\",\"title\":\"Bokeh Application\",\"defs\":[],\"roots\":[{\"type\":\"object\",\"name\":\"Figure\",\"id\":\"p17184\",\"attributes\":{\"x_range\":{\"type\":\"object\",\"name\":\"DataRange1d\",\"id\":\"p17186\"},\"y_range\":{\"type\":\"object\",\"name\":\"DataRange1d\",\"id\":\"p17185\"},\"x_scale\":{\"type\":\"object\",\"name\":\"LinearScale\",\"id\":\"p17198\"},\"y_scale\":{\"type\":\"object\",\"name\":\"LinearScale\",\"id\":\"p17200\"},\"title\":{\"type\":\"object\",\"name\":\"Title\",\"id\":\"p17187\",\"attributes\":{\"text\":\"Penguin size\",\"text_color\":\"#5B5B5B\",\"text_font\":\"Helvetica\",\"text_font_size\":\"1.15em\"}},\"renderers\":[{\"type\":\"object\",\"name\":\"GlyphRenderer\",\"id\":\"p17242\",\"attributes\":{\"data_source\":{\"type\":\"object\",\"name\":\"ColumnDataSource\",\"id\":\"p17233\",\"attributes\":{\"selected\":{\"type\":\"object\",\"name\":\"Selection\",\"id\":\"p17235\",\"attributes\":{\"indices\":[],\"line_indices\":[]}},\"selection_policy\":{\"type\":\"object\",\"name\":\"UnionRenderers\",\"id\":\"p17234\"},\"data\":{\"type\":\"map\",\"entries\":[[\"index\",{\"type\":\"ndarray\",\"array\":{\"type\":\"bytes\",\"data\":\"AAAAAAEAAAACAAAAAwAAAAQAAAAFAAAABgAAAAcAAAAIAAAACQAAAAoAAAALAAAADAAAAA0AAAAOAAAADwAAABAAAAARAAAAEgAAABMAAAAUAAAAFQAAABYAAAAXAAAAGAAAABkAAAAaAAAAGwAAABwAAAAdAAAAHgAAAB8AAAAgAAAAIQAAACIAAAAjAAAAJAAAACUAAAAmAAAAJwAAACgAAAApAAAAKgAAACsAAAAsAAAALQAAAC4AAAAvAAAAMAAAADEAAAAyAAAAMwAAADQAAAA1AAAANgAAADcAAAA4AAAAOQAAADoAAAA7AAAAPAAAAD0AAAA+AAAAPwAAAEAAAABBAAAAQgAAAEMAAABEAAAARQAAAEYAAABHAAAASAAAAEkAAABKAAAASwAAAEwAAABNAAAATgAAAE8AAABQAAAAUQAAAFIAAABTAAAAVAAAAFUAAABWAAAAVwAAAFgAAABZAAAAWgAAAFsAAABcAAAAXQAAAF4AAABfAAAAYAAAAGEAAABiAAAAYwAAAGQAAABlAAAAZgAAAGcAAABoAAAAaQAAAGoAAABrAAAAbAAAAG0AAABuAAAAbwAAAHAAAABxAAAAcgAAAHMAAAB0AAAAdQAAAHYAAAB3AAAAeAAAAHkAAAB6AAAAewAAAHwAAAB9AAAAfgAAAH8AAACAAAAAgQAAAIIAAACDAAAAhAAAAIUAAACGAAAAhwAAAIgAAACJAAAAigAAAIsAAACMAAAAjQAAAI4AAACPAAAAkAAAAJEAAACSAAAAkwAAAJQAAACVAAAAlgAAAJcAAACYAAAAmQAAAJoAAACbAAAAnAAAAJ0AAACeAAAAnwAAAKAAAAChAAAAogAAAKMAAACkAAAApQAAAKYAAACnAAAAqAAAAKkAAACqAAAAqwAAAKwAAACtAAAArgAAAK8AAACwAAAAsQAAALIAAACzAAAAtAAAALUAAAC2AAAAtwAAALgAAAC5AAAAugAAALsAAAC8AAAAvQAAAL4AAAC/AAAAwAAAAMEAAADCAAAAwwAAAMQAAADFAAAAxgAAAMcAAADIAAAAyQAAAMoAAADLAAAAzAAAAM0AAADOAAAAzwAAANAAAADRAAAA0gAAANMAAADUAAAA1QAAANYAAADXAAAA2AAAANkAAADaAAAA2wAAANwAAADdAAAA3gAAAN8AAADgAAAA4QAAAOIAAADjAAAA5AAAAOUAAADmAAAA5wAAAOgAAADpAAAA6gAAAOsAAADsAAAA7QAAAO4AAADvAAAA8AAAAPEAAADyAAAA8wAAAPQAAAD1AAAA9gAAAPcAAAD4AAAA+QAAAPoAAAD7AAAA/AAAAP0AAAD+AAAA/wAAAAABAAABAQAAAgEAAAMBAAAEAQAABQEAAAYBAAAHAQAACAEAAAkBAAAKAQAACwEAAAwBAAANAQAADgEAAA8BAAAQAQAAEQEAABIBAAATAQAAFAEAABUBAAAWAQAAFwEAABgBAAAZAQAAGgEAABsBAAAcAQAAHQEAAB4BAAAfAQAAIAEAACEBAAAiAQAAIwEAACQBAAAlAQAAJgEAACcBAAAoAQAAKQEAACoBAAArAQAALAEAAC0BAAAuAQAALwEAADABAAAxAQAAMgEAADMBAAA0AQAANQEAADYBAAA3AQAAOAEAADkBAAA6AQAAOwEAADwBAAA9AQAAPgEAAD8BAABAAQAAQQEAAEIBAABDAQAARAEAAEUBAABGAQAARwEAAEgBAABJAQAASgEAAEsBAABMAQAATQEAAE4BAABPAQAAUAEAAFEBAABSAQAAUwEAAFQBAABVAQAAVgEAAFcBAAA=\"},\"shape\":[344],\"dtype\":\"int32\",\"order\":\"little\"}],[\"species\",{\"type\":\"ndarray\",\"array\":[\"Adelie\",\"Adelie\",\"Adelie\",\"Adelie\",\"Adelie\",\"Adelie\",\"Adelie\",\"Adelie\",\"Adelie\",\"Adelie\",\"Adelie\",\"Adelie\",\"Adelie\",\"Adelie\",\"Adelie\",\"Adelie\",\"Adelie\",\"Adelie\",\"Adelie\",\"Adelie\",\"Adelie\",\"Adelie\",\"Adelie\",\"Adelie\",\"Adelie\",\"Adelie\",\"Adelie\",\"Adelie\",\"Adelie\",\"Adelie\",\"Adelie\",\"Adelie\",\"Adelie\",\"Adelie\",\"Adelie\",\"Adelie\",\"Adelie\",\"Adelie\",\"Adelie\",\"Adelie\",\"Adelie\",\"Adelie\",\"Adelie\",\"Adelie\",\"Adelie\",\"Adelie\",\"Adelie\",\"Adelie\",\"Adelie\",\"Adelie\",\"Adelie\",\"Adelie\",\"Adelie\",\"Adelie\",\"Adelie\",\"Adelie\",\"Adelie\",\"Adelie\",\"Adelie\",\"Adelie\",\"Adelie\",\"Adelie\",\"Adelie\",\"Adelie\",\"Adelie\",\"Adelie\",\"Adelie\",\"Adelie\",\"Adelie\",\"Adelie\",\"Adelie\",\"Adelie\",\"Adelie\",\"Adelie\",\"Adelie\",\"Adelie\",\"Adelie\",\"Adelie\",\"Adelie\",\"Adelie\",\"Adelie\",\"Adelie\",\"Adelie\",\"Adelie\",\"Adelie\",\"Adelie\",\"Adelie\",\"Adelie\",\"Adelie\",\"Adelie\",\"Adelie\",\"Adelie\",\"Adelie\",\"Adelie\",\"Adelie\",\"Adelie\",\"Adelie\",\"Adelie\",\"Adelie\",\"Adelie\",\"Adelie\",\"Adelie\",\"Adelie\",\"Adelie\",\"Adelie\",\"Adelie\",\"Adelie\",\"Adelie\",\"Adelie\",\"Adelie\",\"Adelie\",\"Adelie\",\"Adelie\",\"Adelie\",\"Adelie\",\"Adelie\",\"Adelie\",\"Adelie\",\"Adelie\",\"Adelie\",\"Adelie\",\"Adelie\",\"Adelie\",\"Adelie\",\"Adelie\",\"Adelie\",\"Adelie\",\"Adelie\",\"Adelie\",\"Adelie\",\"Adelie\",\"Adelie\",\"Adelie\",\"Adelie\",\"Adelie\",\"Adelie\",\"Adelie\",\"Adelie\",\"Adelie\",\"Adelie\",\"Adelie\",\"Adelie\",\"Adelie\",\"Adelie\",\"Adelie\",\"Adelie\",\"Adelie\",\"Adelie\",\"Adelie\",\"Adelie\",\"Adelie\",\"Adelie\",\"Chinstrap\",\"Chinstrap\",\"Chinstrap\",\"Chinstrap\",\"Chinstrap\",\"Chinstrap\",\"Chinstrap\",\"Chinstrap\",\"Chinstrap\",\"Chinstrap\",\"Chinstrap\",\"Chinstrap\",\"Chinstrap\",\"Chinstrap\",\"Chinstrap\",\"Chinstrap\",\"Chinstrap\",\"Chinstrap\",\"Chinstrap\",\"Chinstrap\",\"Chinstrap\",\"Chinstrap\",\"Chinstrap\",\"Chinstrap\",\"Chinstrap\",\"Chinstrap\",\"Chinstrap\",\"Chinstrap\",\"Chinstrap\",\"Chinstrap\",\"Chinstrap\",\"Chinstrap\",\"Chinstrap\",\"Chinstrap\",\"Chinstrap\",\"Chinstrap\",\"Chinstrap\",\"Chinstrap\",\"Chinstrap\",\"Chinstrap\",\"Chinstrap\",\"Chinstrap\",\"Chinstrap\",\"Chinstrap\",\"Chinstrap\",\"Chinstrap\",\"Chinstrap\",\"Chinstrap\",\"Chinstrap\",\"Chinstrap\",\"Chinstrap\",\"Chinstrap\",\"Chinstrap\",\"Chinstrap\",\"Chinstrap\",\"Chinstrap\",\"Chinstrap\",\"Chinstrap\",\"Chinstrap\",\"Chinstrap\",\"Chinstrap\",\"Chinstrap\",\"Chinstrap\",\"Chinstrap\",\"Chinstrap\",\"Chinstrap\",\"Chinstrap\",\"Chinstrap\",\"Gentoo\",\"Gentoo\",\"Gentoo\",\"Gentoo\",\"Gentoo\",\"Gentoo\",\"Gentoo\",\"Gentoo\",\"Gentoo\",\"Gentoo\",\"Gentoo\",\"Gentoo\",\"Gentoo\",\"Gentoo\",\"Gentoo\",\"Gentoo\",\"Gentoo\",\"Gentoo\",\"Gentoo\",\"Gentoo\",\"Gentoo\",\"Gentoo\",\"Gentoo\",\"Gentoo\",\"Gentoo\",\"Gentoo\",\"Gentoo\",\"Gentoo\",\"Gentoo\",\"Gentoo\",\"Gentoo\",\"Gentoo\",\"Gentoo\",\"Gentoo\",\"Gentoo\",\"Gentoo\",\"Gentoo\",\"Gentoo\",\"Gentoo\",\"Gentoo\",\"Gentoo\",\"Gentoo\",\"Gentoo\",\"Gentoo\",\"Gentoo\",\"Gentoo\",\"Gentoo\",\"Gentoo\",\"Gentoo\",\"Gentoo\",\"Gentoo\",\"Gentoo\",\"Gentoo\",\"Gentoo\",\"Gentoo\",\"Gentoo\",\"Gentoo\",\"Gentoo\",\"Gentoo\",\"Gentoo\",\"Gentoo\",\"Gentoo\",\"Gentoo\",\"Gentoo\",\"Gentoo\",\"Gentoo\",\"Gentoo\",\"Gentoo\",\"Gentoo\",\"Gentoo\",\"Gentoo\",\"Gentoo\",\"Gentoo\",\"Gentoo\",\"Gentoo\",\"Gentoo\",\"Gentoo\",\"Gentoo\",\"Gentoo\",\"Gentoo\",\"Gentoo\",\"Gentoo\",\"Gentoo\",\"Gentoo\",\"Gentoo\",\"Gentoo\",\"Gentoo\",\"Gentoo\",\"Gentoo\",\"Gentoo\",\"Gentoo\",\"Gentoo\",\"Gentoo\",\"Gentoo\",\"Gentoo\",\"Gentoo\",\"Gentoo\",\"Gentoo\",\"Gentoo\",\"Gentoo\",\"Gentoo\",\"Gentoo\",\"Gentoo\",\"Gentoo\",\"Gentoo\",\"Gentoo\",\"Gentoo\",\"Gentoo\",\"Gentoo\",\"Gentoo\",\"Gentoo\",\"Gentoo\",\"Gentoo\",\"Gentoo\",\"Gentoo\",\"Gentoo\",\"Gentoo\",\"Gentoo\",\"Gentoo\",\"Gentoo\",\"Gentoo\",\"Gentoo\",\"Gentoo\",\"Gentoo\"],\"shape\":[344],\"dtype\":\"object\",\"order\":\"little\"}],[\"island\",{\"type\":\"ndarray\",\"array\":[\"Torgersen\",\"Torgersen\",\"Torgersen\",\"Torgersen\",\"Torgersen\",\"Torgersen\",\"Torgersen\",\"Torgersen\",\"Torgersen\",\"Torgersen\",\"Torgersen\",\"Torgersen\",\"Torgersen\",\"Torgersen\",\"Torgersen\",\"Torgersen\",\"Torgersen\",\"Torgersen\",\"Torgersen\",\"Torgersen\",\"Biscoe\",\"Biscoe\",\"Biscoe\",\"Biscoe\",\"Biscoe\",\"Biscoe\",\"Biscoe\",\"Biscoe\",\"Biscoe\",\"Biscoe\",\"Dream\",\"Dream\",\"Dream\",\"Dream\",\"Dream\",\"Dream\",\"Dream\",\"Dream\",\"Dream\",\"Dream\",\"Dream\",\"Dream\",\"Dream\",\"Dream\",\"Dream\",\"Dream\",\"Dream\",\"Dream\",\"Dream\",\"Dream\",\"Biscoe\",\"Biscoe\",\"Biscoe\",\"Biscoe\",\"Biscoe\",\"Biscoe\",\"Biscoe\",\"Biscoe\",\"Biscoe\",\"Biscoe\",\"Biscoe\",\"Biscoe\",\"Biscoe\",\"Biscoe\",\"Biscoe\",\"Biscoe\",\"Biscoe\",\"Biscoe\",\"Torgersen\",\"Torgersen\",\"Torgersen\",\"Torgersen\",\"Torgersen\",\"Torgersen\",\"Torgersen\",\"Torgersen\",\"Torgersen\",\"Torgersen\",\"Torgersen\",\"Torgersen\",\"Torgersen\",\"Torgersen\",\"Torgersen\",\"Torgersen\",\"Dream\",\"Dream\",\"Dream\",\"Dream\",\"Dream\",\"Dream\",\"Dream\",\"Dream\",\"Dream\",\"Dream\",\"Dream\",\"Dream\",\"Dream\",\"Dream\",\"Dream\",\"Dream\",\"Biscoe\",\"Biscoe\",\"Biscoe\",\"Biscoe\",\"Biscoe\",\"Biscoe\",\"Biscoe\",\"Biscoe\",\"Biscoe\",\"Biscoe\",\"Biscoe\",\"Biscoe\",\"Biscoe\",\"Biscoe\",\"Biscoe\",\"Biscoe\",\"Torgersen\",\"Torgersen\",\"Torgersen\",\"Torgersen\",\"Torgersen\",\"Torgersen\",\"Torgersen\",\"Torgersen\",\"Torgersen\",\"Torgersen\",\"Torgersen\",\"Torgersen\",\"Torgersen\",\"Torgersen\",\"Torgersen\",\"Torgersen\",\"Dream\",\"Dream\",\"Dream\",\"Dream\",\"Dream\",\"Dream\",\"Dream\",\"Dream\",\"Dream\",\"Dream\",\"Dream\",\"Dream\",\"Dream\",\"Dream\",\"Dream\",\"Dream\",\"Dream\",\"Dream\",\"Dream\",\"Dream\",\"Dream\",\"Dream\",\"Dream\",\"Dream\",\"Dream\",\"Dream\",\"Dream\",\"Dream\",\"Dream\",\"Dream\",\"Dream\",\"Dream\",\"Dream\",\"Dream\",\"Dream\",\"Dream\",\"Dream\",\"Dream\",\"Dream\",\"Dream\",\"Dream\",\"Dream\",\"Dream\",\"Dream\",\"Dream\",\"Dream\",\"Dream\",\"Dream\",\"Dream\",\"Dream\",\"Dream\",\"Dream\",\"Dream\",\"Dream\",\"Dream\",\"Dream\",\"Dream\",\"Dream\",\"Dream\",\"Dream\",\"Dream\",\"Dream\",\"Dream\",\"Dream\",\"Dream\",\"Dream\",\"Dream\",\"Dream\",\"Dream\",\"Dream\",\"Dream\",\"Dream\",\"Dream\",\"Dream\",\"Dream\",\"Dream\",\"Dream\",\"Dream\",\"Dream\",\"Dream\",\"Dream\",\"Dream\",\"Dream\",\"Dream\",\"Dream\",\"Dream\",\"Dream\",\"Dream\",\"Biscoe\",\"Biscoe\",\"Biscoe\",\"Biscoe\",\"Biscoe\",\"Biscoe\",\"Biscoe\",\"Biscoe\",\"Biscoe\",\"Biscoe\",\"Biscoe\",\"Biscoe\",\"Biscoe\",\"Biscoe\",\"Biscoe\",\"Biscoe\",\"Biscoe\",\"Biscoe\",\"Biscoe\",\"Biscoe\",\"Biscoe\",\"Biscoe\",\"Biscoe\",\"Biscoe\",\"Biscoe\",\"Biscoe\",\"Biscoe\",\"Biscoe\",\"Biscoe\",\"Biscoe\",\"Biscoe\",\"Biscoe\",\"Biscoe\",\"Biscoe\",\"Biscoe\",\"Biscoe\",\"Biscoe\",\"Biscoe\",\"Biscoe\",\"Biscoe\",\"Biscoe\",\"Biscoe\",\"Biscoe\",\"Biscoe\",\"Biscoe\",\"Biscoe\",\"Biscoe\",\"Biscoe\",\"Biscoe\",\"Biscoe\",\"Biscoe\",\"Biscoe\",\"Biscoe\",\"Biscoe\",\"Biscoe\",\"Biscoe\",\"Biscoe\",\"Biscoe\",\"Biscoe\",\"Biscoe\",\"Biscoe\",\"Biscoe\",\"Biscoe\",\"Biscoe\",\"Biscoe\",\"Biscoe\",\"Biscoe\",\"Biscoe\",\"Biscoe\",\"Biscoe\",\"Biscoe\",\"Biscoe\",\"Biscoe\",\"Biscoe\",\"Biscoe\",\"Biscoe\",\"Biscoe\",\"Biscoe\",\"Biscoe\",\"Biscoe\",\"Biscoe\",\"Biscoe\",\"Biscoe\",\"Biscoe\",\"Biscoe\",\"Biscoe\",\"Biscoe\",\"Biscoe\",\"Biscoe\",\"Biscoe\",\"Biscoe\",\"Biscoe\",\"Biscoe\",\"Biscoe\",\"Biscoe\",\"Biscoe\",\"Biscoe\",\"Biscoe\",\"Biscoe\",\"Biscoe\",\"Biscoe\",\"Biscoe\",\"Biscoe\",\"Biscoe\",\"Biscoe\",\"Biscoe\",\"Biscoe\",\"Biscoe\",\"Biscoe\",\"Biscoe\",\"Biscoe\",\"Biscoe\",\"Biscoe\",\"Biscoe\",\"Biscoe\",\"Biscoe\",\"Biscoe\",\"Biscoe\",\"Biscoe\",\"Biscoe\",\"Biscoe\",\"Biscoe\",\"Biscoe\",\"Biscoe\"],\"shape\":[344],\"dtype\":\"object\",\"order\":\"little\"}],[\"bill_length_mm\",{\"type\":\"ndarray\",\"array\":{\"type\":\"bytes\",\"data\":\"zczMzMyMQ0AAAAAAAMBDQGZmZmZmJkRAAAAAAAAA+H+amZmZmVlCQGZmZmZmpkNAMzMzMzNzQ0CamZmZmZlDQM3MzMzMDEFAAAAAAAAARUBmZmZmZuZCQGZmZmZm5kJAzczMzMyMREDNzMzMzExDQM3MzMzMTEFAzczMzMxMQkCamZmZmVlDQAAAAAAAQEVAMzMzMzMzQUAAAAAAAABHQGZmZmZm5kJAmpmZmZnZQkAzMzMzM/NBQJqZmZmZGUNAZmZmZmZmQ0BmZmZmZqZBQM3MzMzMTERAAAAAAABAREAzMzMzM/NCQAAAAAAAQERAAAAAAADAQ0CamZmZmZlCQAAAAAAAwENAMzMzMzNzREAzMzMzMzNCQJqZmZmZmUNAZmZmZmZmQ0CamZmZmRlFQM3MzMzMzEJAZmZmZmbmQ0AAAAAAAEBCQGZmZmZmZkRAAAAAAAAAQkDNzMzMzAxGQAAAAAAAgEJAzczMzMzMQ0DNzMzMzIxEQAAAAAAAwEJAAAAAAAAAQkBmZmZmZiZFQM3MzMzMzENAzczMzMwMREAAAAAAAIBBQAAAAAAAAEVAAAAAAABAQUAzMzMzM7NEQAAAAAAAgENAzczMzMxMREAAAAAAAEBCQM3MzMzMzEJAmpmZmZnZQUBmZmZmZqZEQM3MzMzMzEJAzczMzMyMREAzMzMzMzNCQM3MzMzMzERAAAAAAADAQUDNzMzMzIxEQDMzMzMz80FAZmZmZmbmREAAAAAAAMBAQJqZmZmZ2UNAzczMzMzMQ0BmZmZmZuZGQAAAAAAAwEFAZmZmZmZmRUAzMzMzM3NEQJqZmZmZmUJAmpmZmZkZQkDNzMzMzAxFQM3MzMzMTEFAMzMzMzNzRUCamZmZmVlCQM3MzMzMjEFAZmZmZmamQkBmZmZmZqZEQGZmZmZmJkJAMzMzMzNzQkBmZmZmZiZDQDMzMzMzc0NAmpmZmZnZQUDNzMzMzIxEQAAAAAAAAEFAzczMzMzMQ0CamZmZmRlCQGZmZmZmZkRAzczMzMwMQ0BmZmZmZiZEQM3MzMzMjEBAmpmZmZmZRUAAAAAAAIBBQAAAAAAAgERAmpmZmZnZQkBmZmZmZuZCQDMzMzMz80JAmpmZmZnZQ0DNzMzMzExDQJqZmZmZGUNAzczMzMwMQ0CamZmZmZlFQM3MzMzMDENAzczMzMzMRkCamZmZmdlDQJqZmZmZGUVAzczMzMzMQ0CamZmZmVlFQM3MzMzMTENAZmZmZmamQkCamZmZmdlBQM3MzMzMjERAmpmZmZkZQkCamZmZmdlCQJqZmZmZGURAMzMzMzOzRECamZmZmZlBQM3MzMzMTERAZmZmZmZmQ0AAAAAAAMBEQAAAAAAAgENAzczMzMwMRkAAAAAAAEBDQM3MzMzMjEVAZmZmZmZmQkAAAAAAAMBCQM3MzMzMDENAzczMzMyMREDNzMzMzMxBQJqZmZmZGURAAAAAAACAQkCamZmZmdlDQJqZmZmZGURAzczMzMxMREDNzMzMzAxAQJqZmZmZWURAZmZmZmamQkAAAAAAAIBDQJqZmZmZmUNAzczMzMxMQkAAAAAAAABCQGZmZmZm5kJAAAAAAAAAQkAAAAAAAMBEQAAAAAAAQEdAAAAAAAAASUBmZmZmZqZJQDMzMzMzs0ZAmpmZmZlZSkCamZmZmZlGQM3MzMzMDEdAZmZmZmamSUAAAAAAAABHQGZmZmZmpklAzczMzMxMR0CamZmZmdlJQAAAAAAAgEdAAAAAAAAASkAzMzMzM/NGQAAAAAAAQElAZmZmZmYmSUAAAAAAAABNQDMzMzMzM0dAmpmZmZmZSEAzMzMzMzNFQAAAAAAAQEhAmpmZmZmZRUDNzMzMzExJQJqZmZmZWUdAAAAAAAAASkAAAAAAAEBJQAAAAAAAwEhAMzMzMzMzR0BmZmZmZmZKQDMzMzMzc0RAmpmZmZkZS0AAAAAAAEBFQAAAAAAAgElAmpmZmZnZSEAAAAAAAMBHQM3MzMzMzEdAAAAAAAAASkAzMzMzM3NHQAAAAAAAwEpAAAAAAACASECamZmZmRlHQDMzMzMzc0lAAAAAAADARkAzMzMzM3NJQGZmZmZmZklAzczMzMwMSUAAAAAAAIBIQAAAAAAAwElAZmZmZmbmSEDNzMzMzAxIQDMzMzMzs0lAmpmZmZnZRkCamZmZmVlJQAAAAAAAQEVAmpmZmZkZSkCamZmZmZlGQGZmZmZmpkhAmpmZmZkZSUDNzMzMzMxGQDMzMzMz80lAZmZmZmZmR0CamZmZmdlGQGZmZmZm5ktAAAAAAADARUDNzMzMzMxIQGZmZmZmZklAmpmZmZkZSUDNzMzMzAxHQAAAAAAAAElAmpmZmZlZSEAAAAAAAABJQM3MzMzMzEdAAAAAAABAR0AzMzMzM7NGQJqZmZmZWUdAZmZmZmamRUBmZmZmZmZHQDMzMzMzc0RAAAAAAACASEAAAAAAAMBGQDMzMzMzM0hAZmZmZmbmRkBmZmZmZqZIQAAAAAAAAEVAmpmZmZmZSECamZmZmRlHQJqZmZmZWUhAmpmZmZkZSUDNzMzMzIxGQAAAAAAAQEdAZmZmZmYmR0AzMzMzM3NFQM3MzMzMDEdAAAAAAABARkBmZmZmZuZHQJqZmZmZGUhAAAAAAAAASUBmZmZmZqZHQGZmZmZmZkVAzczMzMyMRkDNzMzMzMxNQM3MzMzMjEhAMzMzMzMzSEDNzMzMzExFQDMzMzMzM0ZAAAAAAAAARkCamZmZmVlIQJqZmZmZWUVAzczMzMzMSEBmZmZmZqZGQM3MzMzMzEhAAAAAAABASUDNzMzMzMxFQAAAAAAAwEZAAAAAAABASUAzMzMzM3NGQJqZmZmZmUZAzczMzMxMR0AAAAAAAEBIQM3MzMzMjEZAzczMzMwMSUAAAAAAAEBHQAAAAAAAgEZAZmZmZmbmRUAAAAAAAMBGQJqZmZmZmUVAMzMzMzMzSUBmZmZmZqZGQJqZmZmZGUdAmpmZmZnZRkBmZmZmZiZLQGZmZmZm5kZAZmZmZmbmSECamZmZmRlHQAAAAAAAwEhAAAAAAADARUCamZmZmVlJQJqZmZmZ2UdAMzMzMzMzR0CamZmZmRlIQAAAAAAAQEdAMzMzMzMzR0DNzMzMzExIQAAAAAAAwEdAzczMzMyMSUCamZmZmZlGQJqZmZmZmUZAzczMzMyMSEAAAAAAAEBKQDMzMzMzs0dAAAAAAAAASUAzMzMzM3NGQGZmZmZmZklAMzMzMzOzRUBmZmZmZqZJQAAAAAAAwEdAzczMzMwMSkAAAAAAAMBHQJqZmZmZGUpAAAAAAADARkAAAAAAAMBIQAAAAAAAQEZAZmZmZmZmSUAzMzMzM7NIQDMzMzMzc0dAMzMzMzMzSEDNzMzMzIxJQAAAAAAAQEhAMzMzMzPzS0CamZmZmZlHQM3MzMzMjEhAZmZmZmamR0BmZmZmZmZHQJqZmZmZ2URAMzMzMzOzSkBmZmZmZqZFQM3MzMzMDEhAAAAAAABASUBmZmZmZuZIQAAAAAAAwEVAAAAAAADASUCamZmZmRlHQM3MzMzMjEtAAAAAAABARkBmZmZmZmZIQJqZmZmZmUdAAAAAAAAA+H9mZmZmZmZHQDMzMzMzM0lAmpmZmZmZRkAzMzMzM/NIQA==\"},\"shape\":[344],\"dtype\":\"float64\",\"order\":\"little\"}],[\"bill_depth_mm\",{\"type\":\"ndarray\",\"array\":{\"type\":\"bytes\",\"data\":\"MzMzMzOzMkBmZmZmZmYxQAAAAAAAADJAAAAAAAAA+H/NzMzMzEwzQJqZmZmZmTRAzczMzMzMMUCamZmZmZkzQJqZmZmZGTJAMzMzMzMzNECamZmZmRkxQM3MzMzMTDFAmpmZmZmZMUAzMzMzMzM1QJqZmZmZGTVAzczMzMzMMUAAAAAAAAAzQDMzMzMzszRAZmZmZmZmMkAAAAAAAIA1QM3MzMzMTDJAMzMzMzOzMkAzMzMzMzMzQJqZmZmZGTJAMzMzMzMzMUBmZmZmZuYyQJqZmZmZmTJAZmZmZmbmMUCamZmZmZkyQGZmZmZm5jJAMzMzMzOzMECamZmZmRkyQM3MzMzMzDFAZmZmZmbmMkAAAAAAAAAxQJqZmZmZGTVAAAAAAAAANEAAAAAAAIAyQM3MzMzMTDNAmpmZmZkZM0AAAAAAAAAyQGZmZmZmZjJAAAAAAACAMkAzMzMzM7MzQGZmZmZm5jBAzczMzMzMMkAAAAAAAAAzQGZmZmZm5jJAZmZmZmbmMUAzMzMzMzM1QDMzMzMzszFAZmZmZmbmMkBmZmZmZuYxQAAAAAAAgDNAmpmZmZkZMkCamZmZmZkyQAAAAAAAgDFAzczMzMzMMkCamZmZmZkwQJqZmZmZGTNAZmZmZmbmMECamZmZmRk1QAAAAAAAADFAMzMzMzMzMkCamZmZmRkxQAAAAAAAADJAMzMzMzMzMECamZmZmRkzQJqZmZmZmTBAZmZmZmZmM0AAAAAAAAAzQGZmZmZmZjJAMzMzMzMzMUBmZmZmZuYyQAAAAAAAgDFAAAAAAACAMkDNzMzMzMwwQGZmZmZmZjNAmpmZmZkZMECamZmZmRkzQDMzMzMzMzFAmpmZmZmZMUDNzMzMzMwyQGZmZmZmZjNAzczMzMzMMUDNzMzMzEw0QAAAAAAAgDNAmpmZmZmZMkAzMzMzMzMzQM3MzMzMzDJAAAAAAAAAMkCamZmZmRkyQJqZmZmZGTFAmpmZmZkZMkDNzMzMzEwxQGZmZmZm5jJAmpmZmZmZMkAAAAAAAIAyQJqZmZmZGTBAAAAAAACAMkBmZmZmZuYxQAAAAAAAADRAAAAAAAAAMEAAAAAAAAA0QJqZmZmZmTJAZmZmZmbmMkAzMzMzMzMxQAAAAAAAADRAAAAAAAAAMUAAAAAAAAAzQAAAAAAAgDBAzczMzMxMNEAzMzMzM7MxQAAAAAAAgDNAMzMzMzOzNEDNzMzMzEwyQAAAAAAAADFAAAAAAACANEAAAAAAAAAxQJqZmZmZmTJAMzMzMzMzMUDNzMzMzMwzQAAAAAAAADFAAAAAAACAMkDNzMzMzMwvQAAAAAAAADNAmpmZmZmZMUDNzMzMzEwyQJqZmZmZGTFAAAAAAAAAMkBmZmZmZuYxQDMzMzMzMzNAAAAAAACAMkAAAAAAAIAyQJqZmZmZmTFAAAAAAACAMUAAAAAAAIAxQJqZmZmZGTRAAAAAAACAMEBmZmZmZuYxQJqZmZmZGTFAMzMzMzMzMUAAAAAAAAAvQAAAAAAAADFAzczMzMzMMEAzMzMzM7MyQJqZmZmZmTJAZmZmZmZmMkDNzMzMzMwxQJqZmZmZGTJAmpmZmZkZMUAAAAAAAIAyQGZmZmZm5jFAAAAAAACAM0AzMzMzMzMzQDMzMzMzszJAzczMzMzMM0DNzMzMzMwxQDMzMzMzMzJAMzMzMzMzMkBmZmZmZuYyQGZmZmZm5jNAzczMzMzMMUDNzMzMzEw0QM3MzMzMTDFAmpmZmZkZMkCamZmZmRkxQJqZmZmZmTNAAAAAAAAANEDNzMzMzMwxQJqZmZmZmTJAMzMzMzMzMkDNzMzMzEwxQAAAAAAAgDFAmpmZmZmZMEBmZmZmZmYzQGZmZmZm5jFAAAAAAAAAM0BmZmZmZmYyQAAAAAAAADNAzczMzMzMMUAAAAAAAAA0QJqZmZmZmTBAzczMzMzMNEAzMzMzM7MwQM3MzMzMzDJAmpmZmZmZMkDNzMzMzMwwQM3MzMzMTDJAMzMzMzOzNECamZmZmZkwQGZmZmZm5jNAAAAAAACAM0AAAAAAAIAxQJqZmZmZGTNAAAAAAAAAMUBmZmZmZuYxQAAAAAAAgDJAZmZmZmbmMUCamZmZmZkzQDMzMzMzszJAzczMzMxMMUBmZmZmZmYwQAAAAAAAADNAzczMzMxMMUAzMzMzM7MzQM3MzMzMTDFAzczMzMzMMkCamZmZmZkwQGZmZmZm5jNAzczMzMzMMkBmZmZmZmYzQAAAAAAAgDNAAAAAAACAMEAAAAAAAAAxQM3MzMzMzDNAmpmZmZkZMkAzMzMzMzMyQAAAAAAAADNAMzMzMzOzMkBmZmZmZmYqQM3MzMzMTDBAMzMzMzMzLEBmZmZmZmYuQAAAAAAAAC1AAAAAAAAAK0AzMzMzMzMtQJqZmZmZmS5AzczMzMzMKkDNzMzMzMwuQGZmZmZmZitAmpmZmZkZMEBmZmZmZmYrQDMzMzMzMy1AMzMzMzMzLUBmZmZmZmYvQAAAAAAAACtAZmZmZmZmLkAAAAAAAAAtQDMzMzMzMy5AmpmZmZmZLEAAAAAAAAAtQAAAAAAAAC1AmpmZmZmZL0AzMzMzMzMqQDMzMzMzMy5AmpmZmZmZLEAAAAAAAAAuQJqZmZmZmSxAmpmZmZmZLkCamZmZmZkuQGZmZmZmZixAAAAAAAAALUAAAAAAAAAxQJqZmZmZmS1AzczMzMxMMEBmZmZmZmYrQM3MzMzMTDFAMzMzMzMzK0BmZmZmZmYvQGZmZmZmZitAAAAAAAAAMEBmZmZmZmYrQAAAAAAAAC5AzczMzMzML0DNzMzMzMwrQM3MzMzMzCtAzczMzMzML0CamZmZmZkqQJqZmZmZmS9AZmZmZmZmLEAzMzMzMzMsQM3MzMzMzCxAAAAAAAAALkDNzMzMzMwsQM3MzMzMzC5AzczMzMzMK0AAAAAAAAAuQAAAAAAAAC1AmpmZmZmZLkCamZmZmZkrQM3MzMzMzC1AzczMzMzMK0BmZmZmZmYvQGZmZmZmZixAzczMzMzMMEDNzMzMzMwsQDMzMzMzMzBAZmZmZmZmLEAAAAAAAAAuQAAAAAAAAC5AMzMzMzMzL0AzMzMzMzMvQJqZmZmZmS1AAAAAAAAALkAAAAAAAAAwQGZmZmZmZixAzczMzMxMMECamZmZmZkrQGZmZmZmZjBAAAAAAAAALUAzMzMzMzMvQDMzMzMzMy1AzczMzMzML0CamZmZmZkrQM3MzMzMTDFAzczMzMzMLEBmZmZmZmYsQAAAAAAAACxAAAAAAAAAMUAAAAAAAAAuQJqZmZmZGTFAAAAAAAAALUCamZmZmRkwQGZmZmZmZi1AZmZmZmZmL0CamZmZmZkvQDMzMzMzMy1AzczMzMzMLEAAAAAAAIAwQAAAAAAAAC5AAAAAAAAAMUAAAAAAAAAvQAAAAAAAAC5AmpmZmZmZK0CamZmZmRkwQGZmZmZmZi1AmpmZmZmZL0AAAAAAAAAsQDMzMzMzMy5AZmZmZmZmLkDNzMzMzMwvQGZmZmZmZi5AzczMzMxMMEAzMzMzMzMsQAAAAAAAADBAZmZmZmZmL0AzMzMzMzMwQGZmZmZmZitAAAAAAAAA+H+amZmZmZksQGZmZmZmZi9AmpmZmZmZLUCamZmZmRkwQA==\"},\"shape\":[344],\"dtype\":\"float64\",\"order\":\"little\"}],[\"flipper_length_mm\",{\"type\":\"ndarray\",\"array\":{\"type\":\"bytes\",\"data\":\"AAAAAACgZkAAAAAAAEBnQAAAAAAAYGhAAAAAAAAA+H8AAAAAACBoQAAAAAAAwGdAAAAAAACgZkAAAAAAAGBoQAAAAAAAIGhAAAAAAADAZ0AAAAAAAEBnQAAAAAAAgGZAAAAAAADAZkAAAAAAAOBnQAAAAAAAwGhAAAAAAAAgZ0AAAAAAAGBoQAAAAAAAoGhAAAAAAAAAZ0AAAAAAAEBoQAAAAAAAwGVAAAAAAACAZkAAAAAAAKBnQAAAAAAAIGdAAAAAAACAZkAAAAAAAGBnQAAAAAAA4GZAAAAAAABgZ0AAAAAAAIBlQAAAAAAAgGZAAAAAAABAZkAAAAAAAEBmQAAAAAAAgGdAAAAAAAAAZ0AAAAAAAGBoQAAAAAAAgGhAAAAAAADAZ0AAAAAAAIBmQAAAAAAAoGZAAAAAAAAAZ0AAAAAAAMBmQAAAAAAAYGhAAAAAAABAZ0AAAAAAAIBoQAAAAAAAIGdAAAAAAADAZ0AAAAAAAMBmQAAAAAAAYGZAAAAAAADAZ0AAAAAAAOBnQAAAAAAAQGdAAAAAAACAZ0AAAAAAAMBnQAAAAAAAAGlAAAAAAABgZ0AAAAAAAOBnQAAAAAAAQGdAAAAAAAAgaEAAAAAAAKBmQAAAAAAAQGhAAAAAAAAgZ0AAAAAAAGBoQAAAAAAAIGdAAAAAAAAAaEAAAAAAAABnQAAAAAAAAGhAAAAAAABgaEAAAAAAAIBnQAAAAAAAwGdAAAAAAADAaEAAAAAAAMBnQAAAAAAAwGdAAAAAAACAaEAAAAAAAKBoQAAAAAAAwGdAAAAAAABgaEAAAAAAAOBnQAAAAAAAAGdAAAAAAABgZ0AAAAAAAGBoQAAAAAAAoGdAAAAAAACAaEAAAAAAAGBnQAAAAAAAIGhAAAAAAADgZ0AAAAAAAEBoQAAAAAAAwGdAAAAAAACgZ0AAAAAAAKBnQAAAAAAAwGdAAAAAAABAaUAAAAAAAKBpQAAAAAAAIGdAAAAAAABAZ0AAAAAAAGBnQAAAAAAAAGpAAAAAAADAZ0AAAAAAAIBoQAAAAAAAQGZAAAAAAAAAaEAAAAAAAABoQAAAAAAAYGlAAAAAAADgZkAAAAAAAMBnQAAAAAAAIGhAAAAAAAAAZ0AAAAAAAOBoQAAAAAAAwGdAAAAAAACgZkAAAAAAAKBoQAAAAAAAwGhAAAAAAADgZ0AAAAAAACBoQAAAAAAAoGhAAAAAAADgZ0AAAAAAAIBoQAAAAAAAgGdAAAAAAADgaEAAAAAAAKBnQAAAAAAAoGdAAAAAAABgZ0AAAAAAAMBoQAAAAAAAAGZAAAAAAABAaUAAAAAAAEBnQAAAAAAA4GhAAAAAAADgZ0AAAAAAAGBoQAAAAAAA4GdAAAAAAABAakAAAAAAAMBnQAAAAAAAoGhAAAAAAAAgaEAAAAAAAOBoQAAAAAAAYGdAAAAAAADAZ0AAAAAAAOBnQAAAAAAAAGlAAAAAAAAgZ0AAAAAAACBoQAAAAAAAIGhAAAAAAABgZ0AAAAAAAIBnQAAAAAAAwGdAAAAAAAAAaEAAAAAAACBnQAAAAAAAwGdAAAAAAAAAZ0AAAAAAAGBoQAAAAAAAIGhAAAAAAABgZ0AAAAAAACBpQAAAAAAAAGhAAAAAAACAaEAAAAAAACBoQAAAAAAAgGdAAAAAAACgaEAAAAAAAMBoQAAAAAAAQGZAAAAAAACgaEAAAAAAAGBoQAAAAAAAwGhAAAAAAAAgaEAAAAAAAEBoQAAAAAAAIGdAAAAAAAAgaUAAAAAAAMBnQAAAAAAAIGlAAAAAAACgaEAAAAAAAKBmQAAAAAAAwGdAAAAAAABgaEAAAAAAAKBmQAAAAAAA4GdAAAAAAABgZ0AAAAAAACBoQAAAAAAAYGhAAAAAAACgaEAAAAAAAABpQAAAAAAAAGlAAAAAAADgZ0AAAAAAAKBpQAAAAAAAYGdAAAAAAAAgaUAAAAAAAGBnQAAAAAAAYGlAAAAAAABgaEAAAAAAAOBoQAAAAAAAYGhAAAAAAABAakAAAAAAAABoQAAAAAAAoGlAAAAAAABAakAAAAAAAGBnQAAAAAAAgGhAAAAAAACAaEAAAAAAAIBoQAAAAAAAIGlAAAAAAADAZ0AAAAAAAIBqQAAAAAAAYGdAAAAAAADAaEAAAAAAAOBoQAAAAAAAIGlAAAAAAAAgaEAAAAAAAGBpQAAAAAAAYGdAAAAAAACgaEAAAAAAAOBnQAAAAAAAYGlAAAAAAABAaUAAAAAAAEBoQAAAAAAAwGlAAAAAAACgZ0AAAAAAAGBoQAAAAAAA4GlAAAAAAABAaUAAAAAAACBoQAAAAAAAQGpAAAAAAADAaEAAAAAAAGBqQAAAAAAAwGxAAAAAAABAakAAAAAAAEBrQAAAAAAA4GpAAAAAAABAakAAAAAAAGBqQAAAAAAAYGtAAAAAAAAgakAAAAAAAOBqQAAAAAAAwGpAAAAAAAAAa0AAAAAAAMBqQAAAAAAAoGpAAAAAAABAakAAAAAAACBrQAAAAAAAQGpAAAAAAACga0AAAAAAACBqQAAAAAAAwGtAAAAAAABAa0AAAAAAAOBqQAAAAAAAoGpAAAAAAADgakAAAAAAAOBqQAAAAAAA4GpAAAAAAAAAa0AAAAAAAOBqQAAAAAAAQGpAAAAAAACAa0AAAAAAAMBrQAAAAAAAIGpAAAAAAADgaUAAAAAAAMBsQAAAAAAAgGtAAAAAAACAa0AAAAAAAKBqQAAAAAAAYGtAAAAAAAAAakAAAAAAAABqQAAAAAAAAGpAAAAAAAAgbEAAAAAAAEBqQAAAAAAAAGtAAAAAAADAa0AAAAAAACBrQAAAAAAAQGpAAAAAAAAgbEAAAAAAAKBqQAAAAAAA4GpAAAAAAABAakAAAAAAAIBrQAAAAAAAQGpAAAAAAAAgbEAAAAAAACBrQAAAAAAAgGtAAAAAAAAAakAAAAAAAIBrQAAAAAAAAGpAAAAAAAAAbEAAAAAAAABqQAAAAAAAoGtAAAAAAADAakAAAAAAAOBsQAAAAAAAYGtAAAAAAADAbEAAAAAAAMBqQAAAAAAAoGxAAAAAAACAa0AAAAAAAOBrQAAAAAAAAGtAAAAAAACga0AAAAAAAKBrQAAAAAAAIGtAAAAAAAAAa0AAAAAAAMBsQAAAAAAAIGpAAAAAAACAa0AAAAAAAOBqQAAAAAAA4GtAAAAAAACAakAAAAAAAKBrQAAAAAAAgGpAAAAAAAAAbEAAAAAAAIBqQAAAAAAAgGxAAAAAAABAa0AAAAAAAEBrQAAAAAAAgGpAAAAAAADAbEAAAAAAAEBrQAAAAAAAgGxAAAAAAACAakAAAAAAAABsQAAAAAAAwGpAAAAAAABAbEAAAAAAAABrQAAAAAAAwGtAAAAAAABgaUAAAAAAACBsQAAAAAAAYGtAAAAAAACAbEAAAAAAAOBqQAAAAAAAgGxAAAAAAAAAa0AAAAAAAOBqQAAAAAAAQGpAAAAAAABga0AAAAAAAABqQAAAAAAAIGpAAAAAAAAAa0AAAAAAAKBsQAAAAAAAoGpAAAAAAADAbEAAAAAAACBrQAAAAAAAwGxAAAAAAAAga0AAAAAAAMBrQAAAAAAAwGpAAAAAAAAA+H8AAAAAAOBqQAAAAAAAwGtAAAAAAACAakAAAAAAAKBqQA==\"},\"shape\":[344],\"dtype\":\"float64\",\"order\":\"little\"}],[\"body_mass_g\",{\"type\":\"ndarray\",\"array\":{\"type\":\"bytes\",\"data\":\"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\"},\"shape\":[344],\"dtype\":\"float64\",\"order\":\"little\"}],[\"sex\",{\"type\":\"ndarray\",\"array\":[\"MALE\",\"FEMALE\",\"FEMALE\",{\"type\":\"number\",\"value\":\"nan\"},\"FEMALE\",\"MALE\",\"FEMALE\",\"MALE\",{\"type\":\"number\",\"value\":\"nan\"},{\"type\":\"number\",\"value\":\"nan\"},{\"type\":\"number\",\"value\":\"nan\"},{\"type\":\"number\",\"value\":\"nan\"},\"FEMALE\",\"MALE\",\"MALE\",\"FEMALE\",\"FEMALE\",\"MALE\",\"FEMALE\",\"MALE\",\"FEMALE\",\"MALE\",\"FEMALE\",\"MALE\",\"MALE\",\"FEMALE\",\"MALE\",\"FEMALE\",\"FEMALE\",\"MALE\",\"FEMALE\",\"MALE\",\"FEMALE\",\"MALE\",\"FEMALE\",\"MALE\",\"MALE\",\"FEMALE\",\"FEMALE\",\"MALE\",\"FEMALE\",\"MALE\",\"FEMALE\",\"MALE\",\"FEMALE\",\"MALE\",\"MALE\",{\"type\":\"number\",\"value\":\"nan\"},\"FEMALE\",\"MALE\",\"FEMALE\",\"MALE\",\"FEMALE\",\"MALE\",\"FEMALE\",\"MALE\",\"FEMALE\",\"MALE\",\"FEMALE\",\"MALE\",\"FEMALE\",\"MALE\",\"FEMALE\",\"MALE\",\"FEMALE\",\"MALE\",\"FEMALE\",\"MALE\",\"FEMALE\",\"MALE\",\"FEMALE\",\"MALE\",\"FEMALE\",\"MALE\",\"FEMALE\",\"MALE\",\"FEMALE\",\"MALE\",\"FEMALE\",\"MALE\",\"FEMALE\",\"MALE\",\"FEMALE\",\"MALE\",\"FEMALE\",\"MALE\",\"MALE\",\"FEMALE\",\"MALE\",\"FEMALE\",\"FEMALE\",\"MALE\",\"FEMALE\",\"MALE\",\"FEMALE\",\"MALE\",\"FEMALE\",\"MALE\",\"FEMALE\",\"MALE\",\"FEMALE\",\"MALE\",\"FEMALE\",\"MALE\",\"FEMALE\",\"MALE\",\"FEMALE\",\"MALE\",\"FEMALE\",\"MALE\",\"FEMALE\",\"MALE\",\"FEMALE\",\"MALE\",\"FEMALE\",\"MALE\",\"FEMALE\",\"MALE\",\"FEMALE\",\"MALE\",\"FEMALE\",\"MALE\",\"FEMALE\",\"MALE\",\"FEMALE\",\"MALE\",\"FEMALE\",\"MALE\",\"FEMALE\",\"MALE\",\"FEMALE\",\"MALE\",\"FEMALE\",\"MALE\",\"FEMALE\",\"MALE\",\"FEMALE\",\"MALE\",\"FEMALE\",\"MALE\",\"FEMALE\",\"MALE\",\"FEMALE\",\"MALE\",\"FEMALE\",\"MALE\",\"MALE\",\"FEMALE\",\"FEMALE\",\"MALE\",\"FEMALE\",\"MALE\",\"FEMALE\",\"MALE\",\"MALE\",\"FEMALE\",\"MALE\",\"FEMALE\",\"FEMALE\",\"MALE\",\"FEMALE\",\"MALE\",\"FEMALE\",\"MALE\",\"FEMALE\",\"MALE\",\"FEMALE\",\"MALE\",\"MALE\",\"FEMALE\",\"FEMALE\",\"MALE\",\"FEMALE\",\"MALE\",\"FEMALE\",\"MALE\",\"FEMALE\",\"MALE\",\"FEMALE\",\"MALE\",\"FEMALE\",\"MALE\",\"FEMALE\",\"MALE\",\"FEMALE\",\"MALE\",\"MALE\",\"FEMALE\",\"FEMALE\",\"MALE\",\"FEMALE\",\"MALE\",\"MALE\",\"FEMALE\",\"MALE\",\"FEMALE\",\"FEMALE\",\"MALE\",\"FEMALE\",\"MALE\",\"MALE\",\"FEMALE\",\"FEMALE\",\"MALE\",\"FEMALE\",\"MALE\",\"FEMALE\",\"MALE\",\"FEMALE\",\"MALE\",\"MALE\",\"FEMALE\",\"MALE\",\"FEMALE\",\"FEMALE\",\"MALE\",\"FEMALE\",\"MALE\",\"MALE\",\"FEMALE\",\"FEMALE\",\"MALE\",\"FEMALE\",\"MALE\",\"MALE\",\"FEMALE\",\"FEMALE\",\"MALE\",\"FEMALE\",\"MALE\",\"FEMALE\",\"MALE\",\"FEMALE\",\"MALE\",\"FEMALE\",\"MALE\",\"FEMALE\",\"MALE\",\"FEMALE\",\"MALE\",\"MALE\",\"FEMALE\",\"FEMALE\",\"MALE\",\"FEMALE\",\"MALE\",{\"type\":\"number\",\"value\":\"nan\"},\"MALE\",\"FEMALE\",\"MALE\",\"MALE\",\"FEMALE\",\"FEMALE\",\"MALE\",\"FEMALE\",\"MALE\",\"FEMALE\",\"MALE\",\"FEMALE\",\"MALE\",\"FEMALE\",\"MALE\",\"FEMALE\",\"MALE\",\"MALE\",\"FEMALE\",\"FEMALE\",\"MALE\",\"FEMALE\",\"MALE\",\"FEMALE\",\"MALE\",\"FEMALE\",\"MALE\",\"FEMALE\",\"MALE\",\"FEMALE\",\"MALE\",\"FEMALE\",\"MALE\",\"FEMALE\",\"MALE\",\"FEMALE\",\"MALE\",\"FEMALE\",\"MALE\",{\"type\":\"number\",\"value\":\"nan\"},\"MALE\",\"FEMALE\",\"MALE\",\"FEMALE\",\"MALE\",\"MALE\",\"FEMALE\",\"FEMALE\",\"MALE\",\"FEMALE\",\"MALE\",\"FEMALE\",\"MALE\",\"FEMALE\",\"MALE\",\"FEMALE\",\"MALE\",\"FEMALE\",\"MALE\",\"FEMALE\",\"MALE\",\"FEMALE\",\"MALE\",\"FEMALE\",\"MALE\",\"FEMALE\",\"MALE\",\"FEMALE\",\"MALE\",\"MALE\",\"FEMALE\",\"FEMALE\",\"MALE\",\"FEMALE\",\"MALE\",\"FEMALE\",\"MALE\",{\"type\":\"number\",\"value\":\"nan\"},\"MALE\",\"FEMALE\",\"MALE\",\"FEMALE\",\"MALE\",\"FEMALE\",\"MALE\",\"FEMALE\",\"MALE\",\"FEMALE\",\"MALE\",{\"type\":\"number\",\"value\":\"nan\"},\"MALE\",\"FEMALE\",{\"type\":\"number\",\"value\":\"nan\"},\"FEMALE\",\"MALE\",\"FEMALE\",\"MALE\"],\"shape\":[344],\"dtype\":\"object\",\"order\":\"little\"}]]}}},\"view\":{\"type\":\"object\",\"name\":\"CDSView\",\"id\":\"p17243\",\"attributes\":{\"filter\":{\"type\":\"object\",\"name\":\"AllIndices\",\"id\":\"p17244\"}}},\"glyph\":{\"type\":\"object\",\"name\":\"Scatter\",\"id\":\"p17239\",\"attributes\":{\"x\":{\"type\":\"field\",\"field\":\"flipper_length_mm\"},\"y\":{\"type\":\"field\",\"field\":\"body_mass_g\"},\"size\":{\"type\":\"value\",\"value\":12},\"line_color\":{\"type\":\"field\",\"field\":\"species\",\"transform\":{\"type\":\"object\",\"name\":\"CategoricalColorMapper\",\"id\":\"p17232\",\"attributes\":{\"palette\":[\"#1f77b4\",\"#ff7f0e\",\"#2ca02c\"],\"factors\":[\"Adelie\",\"Chinstrap\",\"Gentoo\"]}}},\"fill_color\":{\"type\":\"field\",\"field\":\"species\",\"transform\":{\"id\":\"p17232\"}},\"fill_alpha\":{\"type\":\"value\",\"value\":0.4},\"hatch_color\":{\"type\":\"field\",\"field\":\"species\",\"transform\":{\"id\":\"p17232\"}},\"marker\":{\"type\":\"field\",\"field\":\"species\",\"transform\":{\"type\":\"object\",\"name\":\"CategoricalMarkerMapper\",\"id\":\"p17231\",\"attributes\":{\"factors\":[\"Adelie\",\"Chinstrap\",\"Gentoo\"],\"markers\":[\"hex\",\"circle_x\",\"triangle\"]}}}}},\"nonselection_glyph\":{\"type\":\"object\",\"name\":\"Scatter\",\"id\":\"p17240\",\"attributes\":{\"x\":{\"type\":\"field\",\"field\":\"flipper_length_mm\"},\"y\":{\"type\":\"field\",\"field\":\"body_mass_g\"},\"size\":{\"type\":\"value\",\"value\":12},\"line_color\":{\"type\":\"field\",\"field\":\"species\",\"transform\":{\"id\":\"p17232\"}},\"line_alpha\":{\"type\":\"value\",\"value\":0.1},\"fill_color\":{\"type\":\"field\",\"field\":\"species\",\"transform\":{\"id\":\"p17232\"}},\"fill_alpha\":{\"type\":\"value\",\"value\":0.1},\"hatch_color\":{\"type\":\"field\",\"field\":\"species\",\"transform\":{\"id\":\"p17232\"}},\"hatch_alpha\":{\"type\":\"value\",\"value\":0.1},\"marker\":{\"type\":\"field\",\"field\":\"species\",\"transform\":{\"id\":\"p17231\"}}}},\"muted_glyph\":{\"type\":\"object\",\"name\":\"Scatter\",\"id\":\"p17241\",\"attributes\":{\"x\":{\"type\":\"field\",\"field\":\"flipper_length_mm\"},\"y\":{\"type\":\"field\",\"field\":\"body_mass_g\"},\"size\":{\"type\":\"value\",\"value\":12},\"line_color\":{\"type\":\"field\",\"field\":\"species\",\"transform\":{\"id\":\"p17232\"}},\"line_alpha\":{\"type\":\"value\",\"value\":0.2},\"fill_color\":{\"type\":\"field\",\"field\":\"species\",\"transform\":{\"id\":\"p17232\"}},\"fill_alpha\":{\"type\":\"value\",\"value\":0.2},\"hatch_color\":{\"type\":\"field\",\"field\":\"species\",\"transform\":{\"id\":\"p17232\"}},\"hatch_alpha\":{\"type\":\"value\",\"value\":0.2},\"marker\":{\"type\":\"field\",\"field\":\"species\",\"transform\":{\"id\":\"p17231\"}}}}}}],\"toolbar\":{\"type\":\"object\",\"name\":\"Toolbar\",\"id\":\"p17190\",\"attributes\":{\"tools\":[{\"type\":\"object\",\"name\":\"PanTool\",\"id\":\"p17216\"},{\"type\":\"object\",\"name\":\"WheelZoomTool\",\"id\":\"p17217\"},{\"type\":\"object\",\"name\":\"BoxZoomTool\",\"id\":\"p17218\",\"attributes\":{\"overlay\":{\"type\":\"object\",\"name\":\"BoxAnnotation\",\"id\":\"p17219\",\"attributes\":{\"syncable\":false,\"level\":\"overlay\",\"visible\":false,\"left_units\":\"canvas\",\"right_units\":\"canvas\",\"bottom_units\":\"canvas\",\"top_units\":\"canvas\",\"line_color\":\"black\",\"line_alpha\":1.0,\"line_width\":2,\"line_dash\":[4,4],\"fill_color\":\"lightgrey\",\"fill_alpha\":0.5}}}},{\"type\":\"object\",\"name\":\"SaveTool\",\"id\":\"p17220\"},{\"type\":\"object\",\"name\":\"ResetTool\",\"id\":\"p17221\"},{\"type\":\"object\",\"name\":\"HelpTool\",\"id\":\"p17222\"}]}},\"left\":[{\"type\":\"object\",\"name\":\"LinearAxis\",\"id\":\"p17209\",\"attributes\":{\"ticker\":{\"type\":\"object\",\"name\":\"BasicTicker\",\"id\":\"p17210\",\"attributes\":{\"mantissas\":[1,2,5]}},\"formatter\":{\"type\":\"object\",\"name\":\"BasicTickFormatter\",\"id\":\"p17211\"},\"axis_label\":\"Body Mass (g)\",\"axis_label_standoff\":10,\"axis_label_text_color\":\"#5B5B5B\",\"axis_label_text_font\":\"Helvetica\",\"axis_label_text_font_size\":\"1.25em\",\"axis_label_text_font_style\":\"normal\",\"major_label_policy\":{\"type\":\"object\",\"name\":\"AllLabels\",\"id\":\"p17212\"},\"major_label_text_color\":\"#5B5B5B\",\"major_label_text_font\":\"Helvetica\",\"major_label_text_font_size\":\"1.025em\",\"axis_line_color\":\"#5B5B5B\",\"axis_line_alpha\":0,\"major_tick_line_color\":\"#5B5B5B\",\"major_tick_line_alpha\":0,\"minor_tick_line_color\":\"#5B5B5B\",\"minor_tick_line_alpha\":0}}],\"below\":[{\"type\":\"object\",\"name\":\"LinearAxis\",\"id\":\"p17202\",\"attributes\":{\"ticker\":{\"type\":\"object\",\"name\":\"BasicTicker\",\"id\":\"p17203\",\"attributes\":{\"mantissas\":[1,2,5]}},\"formatter\":{\"type\":\"object\",\"name\":\"BasicTickFormatter\",\"id\":\"p17204\"},\"axis_label\":\"Flipper Length (mm)\",\"axis_label_standoff\":10,\"axis_label_text_color\":\"#5B5B5B\",\"axis_label_text_font\":\"Helvetica\",\"axis_label_text_font_size\":\"1.25em\",\"axis_label_text_font_style\":\"normal\",\"major_label_policy\":{\"type\":\"object\",\"name\":\"AllLabels\",\"id\":\"p17205\"},\"major_label_text_color\":\"#5B5B5B\",\"major_label_text_font\":\"Helvetica\",\"major_label_text_font_size\":\"1.025em\",\"axis_line_color\":\"#5B5B5B\",\"axis_line_alpha\":0,\"major_tick_line_color\":\"#5B5B5B\",\"major_tick_line_alpha\":0,\"minor_tick_line_color\":\"#5B5B5B\",\"minor_tick_line_alpha\":0}}],\"center\":[{\"type\":\"object\",\"name\":\"Grid\",\"id\":\"p17208\",\"attributes\":{\"axis\":{\"id\":\"p17202\"}}},{\"type\":\"object\",\"name\":\"Grid\",\"id\":\"p17215\",\"attributes\":{\"dimension\":1,\"axis\":{\"id\":\"p17209\"}}},{\"type\":\"object\",\"name\":\"Legend\",\"id\":\"p17245\",\"attributes\":{\"location\":\"top_left\",\"title\":\"Species\",\"border_line_alpha\":0,\"background_fill_alpha\":0.25,\"label_text_color\":\"#5B5B5B\",\"label_text_font\":\"Helvetica\",\"label_text_font_size\":\"1.025em\",\"label_standoff\":8,\"glyph_width\":15,\"spacing\":8,\"items\":[{\"type\":\"object\",\"name\":\"LegendItem\",\"id\":\"p17246\",\"attributes\":{\"label\":{\"type\":\"value\",\"value\":\"Adelie\"},\"renderers\":[{\"id\":\"p17242\"}],\"index\":0}},{\"type\":\"object\",\"name\":\"LegendItem\",\"id\":\"p17247\",\"attributes\":{\"label\":{\"type\":\"value\",\"value\":\"Chinstrap\"},\"renderers\":[{\"id\":\"p17242\"}],\"index\":152}},{\"type\":\"object\",\"name\":\"LegendItem\",\"id\":\"p17248\",\"attributes\":{\"label\":{\"type\":\"value\",\"value\":\"Gentoo\"},\"renderers\":[{\"id\":\"p17242\"}],\"index\":220}}]}}],\"background_fill_color\":\"#fafafa\"}}],\"callbacks\":{\"type\":\"map\"}}};\n",
       "  const render_items = [{\"docid\":\"228002a0-22bc-4b39-8bd2-79927118b36c\",\"roots\":{\"p17184\":\"26a36f41-748e-43ee-ab07-f3b330db269e\"},\"root_ids\":[\"p17184\"]}];\n",
       "  root.Bokeh.embed.embed_items_notebook(docs_json, render_items);\n",
       "  }\n",
       "  if (root.Bokeh !== undefined) {\n",
       "    embed_document(root);\n",
       "  } else {\n",
       "    let attempts = 0;\n",
       "    const timer = setInterval(function(root) {\n",
       "      if (root.Bokeh !== undefined) {\n",
       "        clearInterval(timer);\n",
       "        embed_document(root);\n",
       "      } else {\n",
       "        attempts++;\n",
       "        if (attempts > 100) {\n",
       "          clearInterval(timer);\n",
       "          console.log(\"Bokeh: ERROR: Unable to run BokehJS code because BokehJS library is missing\");\n",
       "        }\n",
       "      }\n",
       "    }, 10, root)\n",
       "  }\n",
       "})(window);"
      ],
      "application/vnd.bokehjs_exec.v0+json": ""
     },
     "metadata": {
      "application/vnd.bokehjs_exec.v0+json": {
       "id": "p17184"
      }
     },
     "output_type": "display_data"
    }
   ],
   "source": [
    "from bokeh.plotting import figure, show\n",
    "from bokeh.sampledata.penguins import data\n",
    "from bokeh.transform import factor_cmap, factor_mark\n",
    "\n",
    "SPECIES = sorted(data.species.unique())\n",
    "MARKERS = ['hex', 'circle_x', 'triangle']\n",
    "\n",
    "p = figure(title = \"Penguin size\", background_fill_color=\"#fafafa\")\n",
    "p.xaxis.axis_label = 'Flipper Length (mm)'\n",
    "p.yaxis.axis_label = 'Body Mass (g)'\n",
    "\n",
    "p.scatter(\"flipper_length_mm\", \"body_mass_g\", source=data,\n",
    "          legend_group=\"species\", fill_alpha=0.4, size=12,\n",
    "          marker=factor_mark('species', MARKERS, SPECIES),\n",
    "          color=factor_cmap('species', 'Category10_3', SPECIES))\n",
    "\n",
    "p.legend.location = \"top_left\"\n",
    "p.legend.title = \"Species\"\n",
    "\n",
    "show(p)\n"
   ]
  },
  {
   "cell_type": "markdown",
   "id": "f5338512",
   "metadata": {},
   "source": [
    "# Adding custom JS"
   ]
  },
  {
   "cell_type": "raw",
   "id": "3f17e697",
   "metadata": {},
   "source": [
    "v_func = \"\"\"\n",
    "    const first = xs[0]\n",
    "    const norm = new Float64Array(xs.length)\n",
    "    for (let i = 0; i < xs.length; i++) {\n",
    "        norm[i] = xs[i] / first\n",
    "    }\n",
    "    return norm\n",
    "\"\"\"\n",
    "normalize = CustomJSTransform(v_func=v_func)\n",
    "\n",
    "plot.line(x='aapl_date', y=transform('aapl_close', normalize), line_width=2,\n",
    "          color='#cf3c4d', alpha=0.6,legend=\"Apple\", source=aapl_source)"
   ]
  },
  {
   "cell_type": "markdown",
   "id": "a719dd6b",
   "metadata": {},
   "source": [
    "# Filters\n",
    "\n",
    "### Boolean filter example"
   ]
  },
  {
   "cell_type": "code",
   "execution_count": 35,
   "id": "1e0c5782",
   "metadata": {},
   "outputs": [
    {
     "data": {
      "text/html": [
       "\n",
       "  <div id=\"5cd4f45d-3a44-441d-ac89-df21468aeb03\" data-root-id=\"p18188\" style=\"display: contents;\"></div>\n"
      ]
     },
     "metadata": {},
     "output_type": "display_data"
    },
    {
     "data": {
      "application/javascript": [
       "(function(root) {\n",
       "  function embed_document(root) {\n",
       "  const docs_json = {\"b312b3d3-2b8b-4648-ace8-845a8397e25c\":{\"version\":\"3.1.0\",\"title\":\"Bokeh Application\",\"defs\":[],\"roots\":[{\"type\":\"object\",\"name\":\"GridPlot\",\"id\":\"p18188\",\"attributes\":{\"rows\":null,\"cols\":null,\"toolbar\":{\"type\":\"object\",\"name\":\"Toolbar\",\"id\":\"p18187\",\"attributes\":{\"tools\":[{\"type\":\"object\",\"name\":\"ToolProxy\",\"id\":\"p18184\",\"attributes\":{\"tools\":[{\"type\":\"object\",\"name\":\"BoxSelectTool\",\"id\":\"p18088\",\"attributes\":{\"renderers\":\"auto\",\"overlay\":{\"type\":\"object\",\"name\":\"BoxAnnotation\",\"id\":\"p18089\",\"attributes\":{\"syncable\":false,\"level\":\"overlay\",\"visible\":false,\"editable\":true,\"line_color\":\"black\",\"line_alpha\":1.0,\"line_width\":2,\"line_dash\":[4,4],\"fill_color\":\"lightgrey\",\"fill_alpha\":0.5}}}},{\"type\":\"object\",\"name\":\"BoxSelectTool\",\"id\":\"p18136\",\"attributes\":{\"renderers\":\"auto\",\"overlay\":{\"type\":\"object\",\"name\":\"BoxAnnotation\",\"id\":\"p18137\",\"attributes\":{\"syncable\":false,\"level\":\"overlay\",\"visible\":false,\"editable\":true,\"line_color\":\"black\",\"line_alpha\":1.0,\"line_width\":2,\"line_dash\":[4,4],\"fill_color\":\"lightgrey\",\"fill_alpha\":0.5}}}}]}},{\"type\":\"object\",\"name\":\"ToolProxy\",\"id\":\"p18185\",\"attributes\":{\"tools\":[{\"type\":\"object\",\"name\":\"HoverTool\",\"id\":\"p18090\",\"attributes\":{\"renderers\":\"auto\"}},{\"type\":\"object\",\"name\":\"HoverTool\",\"id\":\"p18138\",\"attributes\":{\"renderers\":\"auto\"}}]}},{\"type\":\"object\",\"name\":\"ToolProxy\",\"id\":\"p18186\",\"attributes\":{\"tools\":[{\"type\":\"object\",\"name\":\"ResetTool\",\"id\":\"p18091\"},{\"type\":\"object\",\"name\":\"ResetTool\",\"id\":\"p18139\"}]}}]}},\"children\":[[{\"type\":\"object\",\"name\":\"Figure\",\"id\":\"p18057\",\"attributes\":{\"width\":300,\"height\":300,\"x_range\":{\"type\":\"object\",\"name\":\"DataRange1d\",\"id\":\"p18059\"},\"y_range\":{\"type\":\"object\",\"name\":\"DataRange1d\",\"id\":\"p18058\"},\"x_scale\":{\"type\":\"object\",\"name\":\"LinearScale\",\"id\":\"p18070\"},\"y_scale\":{\"type\":\"object\",\"name\":\"LinearScale\",\"id\":\"p18072\"},\"title\":{\"type\":\"object\",\"name\":\"Title\",\"id\":\"p18064\",\"attributes\":{\"text_color\":\"#5B5B5B\",\"text_font\":\"Helvetica\",\"text_font_size\":\"1.15em\"}},\"renderers\":[{\"type\":\"object\",\"name\":\"GlyphRenderer\",\"id\":\"p18104\",\"attributes\":{\"data_source\":{\"type\":\"object\",\"name\":\"ColumnDataSource\",\"id\":\"p18051\",\"attributes\":{\"selected\":{\"type\":\"object\",\"name\":\"Selection\",\"id\":\"p18053\",\"attributes\":{\"indices\":[],\"line_indices\":[]}},\"selection_policy\":{\"type\":\"object\",\"name\":\"UnionRenderers\",\"id\":\"p18052\"},\"data\":{\"type\":\"map\",\"entries\":[[\"x\",[1,2,3,4,5]],[\"y\",[1,2,3,4,5]]]}}},\"view\":{\"type\":\"object\",\"name\":\"CDSView\",\"id\":\"p18105\",\"attributes\":{\"filter\":{\"type\":\"object\",\"name\":\"AllIndices\",\"id\":\"p18106\"}}},\"glyph\":{\"type\":\"object\",\"name\":\"Circle\",\"id\":\"p18100\",\"attributes\":{\"x\":{\"type\":\"field\",\"field\":\"x\"},\"y\":{\"type\":\"field\",\"field\":\"y\"},\"size\":{\"type\":\"value\",\"value\":10},\"line_color\":{\"type\":\"value\",\"value\":\"#1f77b4\"},\"fill_color\":{\"type\":\"value\",\"value\":\"#1f77b4\"}}},\"nonselection_glyph\":{\"type\":\"object\",\"name\":\"Circle\",\"id\":\"p18101\",\"attributes\":{\"x\":{\"type\":\"field\",\"field\":\"x\"},\"y\":{\"type\":\"field\",\"field\":\"y\"},\"size\":{\"type\":\"value\",\"value\":10},\"line_color\":{\"type\":\"value\",\"value\":\"#1f77b4\"},\"line_alpha\":{\"type\":\"value\",\"value\":0.1},\"fill_color\":{\"type\":\"value\",\"value\":\"#1f77b4\"},\"fill_alpha\":{\"type\":\"value\",\"value\":0.1},\"hatch_alpha\":{\"type\":\"value\",\"value\":0.1}}},\"hover_glyph\":{\"type\":\"object\",\"name\":\"Circle\",\"id\":\"p18102\",\"attributes\":{\"x\":{\"type\":\"field\",\"field\":\"x\"},\"y\":{\"type\":\"field\",\"field\":\"y\"},\"size\":{\"type\":\"value\",\"value\":10},\"line_color\":{\"type\":\"value\",\"value\":\"red\"},\"fill_color\":{\"type\":\"value\",\"value\":\"red\"},\"hatch_color\":{\"type\":\"value\",\"value\":\"red\"}}},\"muted_glyph\":{\"type\":\"object\",\"name\":\"Circle\",\"id\":\"p18103\",\"attributes\":{\"x\":{\"type\":\"field\",\"field\":\"x\"},\"y\":{\"type\":\"field\",\"field\":\"y\"},\"size\":{\"type\":\"value\",\"value\":10},\"line_color\":{\"type\":\"value\",\"value\":\"#1f77b4\"},\"line_alpha\":{\"type\":\"value\",\"value\":0.2},\"fill_color\":{\"type\":\"value\",\"value\":\"#1f77b4\"},\"fill_alpha\":{\"type\":\"value\",\"value\":0.2},\"hatch_alpha\":{\"type\":\"value\",\"value\":0.2}}}}}],\"toolbar\":{\"type\":\"object\",\"name\":\"Toolbar\",\"id\":\"p18061\",\"attributes\":{\"tools\":[{\"id\":\"p18088\"},{\"id\":\"p18090\"},{\"id\":\"p18091\"}]}},\"toolbar_location\":null,\"left\":[{\"type\":\"object\",\"name\":\"LinearAxis\",\"id\":\"p18081\",\"attributes\":{\"ticker\":{\"type\":\"object\",\"name\":\"BasicTicker\",\"id\":\"p18082\",\"attributes\":{\"mantissas\":[1,2,5]}},\"formatter\":{\"type\":\"object\",\"name\":\"BasicTickFormatter\",\"id\":\"p18083\"},\"axis_label_standoff\":10,\"axis_label_text_color\":\"#5B5B5B\",\"axis_label_text_font\":\"Helvetica\",\"axis_label_text_font_size\":\"1.25em\",\"axis_label_text_font_style\":\"normal\",\"major_label_policy\":{\"type\":\"object\",\"name\":\"AllLabels\",\"id\":\"p18084\"},\"major_label_text_color\":\"#5B5B5B\",\"major_label_text_font\":\"Helvetica\",\"major_label_text_font_size\":\"1.025em\",\"axis_line_color\":\"#5B5B5B\",\"axis_line_alpha\":0,\"major_tick_line_color\":\"#5B5B5B\",\"major_tick_line_alpha\":0,\"minor_tick_line_color\":\"#5B5B5B\",\"minor_tick_line_alpha\":0}}],\"below\":[{\"type\":\"object\",\"name\":\"LinearAxis\",\"id\":\"p18074\",\"attributes\":{\"ticker\":{\"type\":\"object\",\"name\":\"BasicTicker\",\"id\":\"p18075\",\"attributes\":{\"mantissas\":[1,2,5]}},\"formatter\":{\"type\":\"object\",\"name\":\"BasicTickFormatter\",\"id\":\"p18076\"},\"axis_label_standoff\":10,\"axis_label_text_color\":\"#5B5B5B\",\"axis_label_text_font\":\"Helvetica\",\"axis_label_text_font_size\":\"1.25em\",\"axis_label_text_font_style\":\"normal\",\"major_label_policy\":{\"type\":\"object\",\"name\":\"AllLabels\",\"id\":\"p18077\"},\"major_label_text_color\":\"#5B5B5B\",\"major_label_text_font\":\"Helvetica\",\"major_label_text_font_size\":\"1.025em\",\"axis_line_color\":\"#5B5B5B\",\"axis_line_alpha\":0,\"major_tick_line_color\":\"#5B5B5B\",\"major_tick_line_alpha\":0,\"minor_tick_line_color\":\"#5B5B5B\",\"minor_tick_line_alpha\":0}}],\"center\":[{\"type\":\"object\",\"name\":\"Grid\",\"id\":\"p18080\",\"attributes\":{\"axis\":{\"id\":\"p18074\"}}},{\"type\":\"object\",\"name\":\"Grid\",\"id\":\"p18087\",\"attributes\":{\"dimension\":1,\"axis\":{\"id\":\"p18081\"}}}]}},0,0],[{\"type\":\"object\",\"name\":\"Figure\",\"id\":\"p18107\",\"attributes\":{\"width\":300,\"height\":300,\"x_range\":{\"id\":\"p18059\"},\"y_range\":{\"id\":\"p18058\"},\"x_scale\":{\"type\":\"object\",\"name\":\"LinearScale\",\"id\":\"p18118\"},\"y_scale\":{\"type\":\"object\",\"name\":\"LinearScale\",\"id\":\"p18120\"},\"title\":{\"type\":\"object\",\"name\":\"Title\",\"id\":\"p18114\",\"attributes\":{\"text_color\":\"#5B5B5B\",\"text_font\":\"Helvetica\",\"text_font_size\":\"1.15em\"}},\"renderers\":[{\"type\":\"object\",\"name\":\"GlyphRenderer\",\"id\":\"p18152\",\"attributes\":{\"data_source\":{\"id\":\"p18051\"},\"view\":{\"type\":\"object\",\"name\":\"CDSView\",\"id\":\"p18055\",\"attributes\":{\"filter\":{\"type\":\"object\",\"name\":\"BooleanFilter\",\"id\":\"p18054\",\"attributes\":{\"booleans\":[false,false,true,true,true]}}}},\"glyph\":{\"type\":\"object\",\"name\":\"Circle\",\"id\":\"p18148\",\"attributes\":{\"x\":{\"type\":\"field\",\"field\":\"x\"},\"y\":{\"type\":\"field\",\"field\":\"y\"},\"size\":{\"type\":\"value\",\"value\":10},\"line_color\":{\"type\":\"value\",\"value\":\"#1f77b4\"},\"fill_color\":{\"type\":\"value\",\"value\":\"#1f77b4\"}}},\"nonselection_glyph\":{\"type\":\"object\",\"name\":\"Circle\",\"id\":\"p18149\",\"attributes\":{\"x\":{\"type\":\"field\",\"field\":\"x\"},\"y\":{\"type\":\"field\",\"field\":\"y\"},\"size\":{\"type\":\"value\",\"value\":10},\"line_color\":{\"type\":\"value\",\"value\":\"#1f77b4\"},\"line_alpha\":{\"type\":\"value\",\"value\":0.1},\"fill_color\":{\"type\":\"value\",\"value\":\"#1f77b4\"},\"fill_alpha\":{\"type\":\"value\",\"value\":0.1},\"hatch_alpha\":{\"type\":\"value\",\"value\":0.1}}},\"hover_glyph\":{\"type\":\"object\",\"name\":\"Circle\",\"id\":\"p18150\",\"attributes\":{\"x\":{\"type\":\"field\",\"field\":\"x\"},\"y\":{\"type\":\"field\",\"field\":\"y\"},\"size\":{\"type\":\"value\",\"value\":10},\"line_color\":{\"type\":\"value\",\"value\":\"red\"},\"fill_color\":{\"type\":\"value\",\"value\":\"red\"},\"hatch_color\":{\"type\":\"value\",\"value\":\"red\"}}},\"muted_glyph\":{\"type\":\"object\",\"name\":\"Circle\",\"id\":\"p18151\",\"attributes\":{\"x\":{\"type\":\"field\",\"field\":\"x\"},\"y\":{\"type\":\"field\",\"field\":\"y\"},\"size\":{\"type\":\"value\",\"value\":10},\"line_color\":{\"type\":\"value\",\"value\":\"#1f77b4\"},\"line_alpha\":{\"type\":\"value\",\"value\":0.2},\"fill_color\":{\"type\":\"value\",\"value\":\"#1f77b4\"},\"fill_alpha\":{\"type\":\"value\",\"value\":0.2},\"hatch_alpha\":{\"type\":\"value\",\"value\":0.2}}}}}],\"toolbar\":{\"type\":\"object\",\"name\":\"Toolbar\",\"id\":\"p18111\",\"attributes\":{\"tools\":[{\"id\":\"p18136\"},{\"id\":\"p18138\"},{\"id\":\"p18139\"}]}},\"toolbar_location\":null,\"left\":[{\"type\":\"object\",\"name\":\"LinearAxis\",\"id\":\"p18129\",\"attributes\":{\"ticker\":{\"type\":\"object\",\"name\":\"BasicTicker\",\"id\":\"p18130\",\"attributes\":{\"mantissas\":[1,2,5]}},\"formatter\":{\"type\":\"object\",\"name\":\"BasicTickFormatter\",\"id\":\"p18131\"},\"axis_label_standoff\":10,\"axis_label_text_color\":\"#5B5B5B\",\"axis_label_text_font\":\"Helvetica\",\"axis_label_text_font_size\":\"1.25em\",\"axis_label_text_font_style\":\"normal\",\"major_label_policy\":{\"type\":\"object\",\"name\":\"AllLabels\",\"id\":\"p18132\"},\"major_label_text_color\":\"#5B5B5B\",\"major_label_text_font\":\"Helvetica\",\"major_label_text_font_size\":\"1.025em\",\"axis_line_color\":\"#5B5B5B\",\"axis_line_alpha\":0,\"major_tick_line_color\":\"#5B5B5B\",\"major_tick_line_alpha\":0,\"minor_tick_line_color\":\"#5B5B5B\",\"minor_tick_line_alpha\":0}}],\"below\":[{\"type\":\"object\",\"name\":\"LinearAxis\",\"id\":\"p18122\",\"attributes\":{\"ticker\":{\"type\":\"object\",\"name\":\"BasicTicker\",\"id\":\"p18123\",\"attributes\":{\"mantissas\":[1,2,5]}},\"formatter\":{\"type\":\"object\",\"name\":\"BasicTickFormatter\",\"id\":\"p18124\"},\"axis_label_standoff\":10,\"axis_label_text_color\":\"#5B5B5B\",\"axis_label_text_font\":\"Helvetica\",\"axis_label_text_font_size\":\"1.25em\",\"axis_label_text_font_style\":\"normal\",\"major_label_policy\":{\"type\":\"object\",\"name\":\"AllLabels\",\"id\":\"p18125\"},\"major_label_text_color\":\"#5B5B5B\",\"major_label_text_font\":\"Helvetica\",\"major_label_text_font_size\":\"1.025em\",\"axis_line_color\":\"#5B5B5B\",\"axis_line_alpha\":0,\"major_tick_line_color\":\"#5B5B5B\",\"major_tick_line_alpha\":0,\"minor_tick_line_color\":\"#5B5B5B\",\"minor_tick_line_alpha\":0}}],\"center\":[{\"type\":\"object\",\"name\":\"Grid\",\"id\":\"p18128\",\"attributes\":{\"axis\":{\"id\":\"p18122\"}}},{\"type\":\"object\",\"name\":\"Grid\",\"id\":\"p18135\",\"attributes\":{\"dimension\":1,\"axis\":{\"id\":\"p18129\"}}}]}},0,1]]}}],\"callbacks\":{\"type\":\"map\"}}};\n",
       "  const render_items = [{\"docid\":\"b312b3d3-2b8b-4648-ace8-845a8397e25c\",\"roots\":{\"p18188\":\"5cd4f45d-3a44-441d-ac89-df21468aeb03\"},\"root_ids\":[\"p18188\"]}];\n",
       "  root.Bokeh.embed.embed_items_notebook(docs_json, render_items);\n",
       "  }\n",
       "  if (root.Bokeh !== undefined) {\n",
       "    embed_document(root);\n",
       "  } else {\n",
       "    let attempts = 0;\n",
       "    const timer = setInterval(function(root) {\n",
       "      if (root.Bokeh !== undefined) {\n",
       "        clearInterval(timer);\n",
       "        embed_document(root);\n",
       "      } else {\n",
       "        attempts++;\n",
       "        if (attempts > 100) {\n",
       "          clearInterval(timer);\n",
       "          console.log(\"Bokeh: ERROR: Unable to run BokehJS code because BokehJS library is missing\");\n",
       "        }\n",
       "      }\n",
       "    }, 10, root)\n",
       "  }\n",
       "})(window);"
      ],
      "application/vnd.bokehjs_exec.v0+json": ""
     },
     "metadata": {
      "application/vnd.bokehjs_exec.v0+json": {
       "id": "p18188"
      }
     },
     "output_type": "display_data"
    }
   ],
   "source": [
    "from bokeh.layouts import gridplot\n",
    "from bokeh.models import BooleanFilter, CDSView, ColumnDataSource\n",
    "from bokeh.plotting import figure, show\n",
    "\n",
    "source = ColumnDataSource(data=dict(x=[1, 2, 3, 4, 5], y=[1, 2, 3, 4, 5]))\n",
    "\n",
    "bools = [True if y_val > 2 else False for y_val in source.data['y']]\n",
    "view = CDSView(filter=BooleanFilter(bools))\n",
    "\n",
    "TOOLS = \"box_select,hover,reset\"\n",
    "\n",
    "p1 = figure(height=300, width=300, tools=TOOLS)\n",
    "p1.circle(x=\"x\", y=\"y\", size=10, hover_color=\"red\", source=source)\n",
    "\n",
    "p2 = figure(height=300, width=300, tools=TOOLS,\n",
    "            x_range=p1.x_range, y_range=p1.y_range)\n",
    "p2.circle(x=\"x\", y=\"y\", size=10, hover_color=\"red\", source=source, view=view)\n",
    "\n",
    "show(gridplot([[p1, p2]]))"
   ]
  },
  {
   "cell_type": "markdown",
   "id": "1a6306fb",
   "metadata": {},
   "source": [
    "# Latex\n",
    "\n",
    "\n",
    "### on axis, labels, ...."
   ]
  },
  {
   "cell_type": "code",
   "execution_count": 36,
   "id": "1b774890",
   "metadata": {},
   "outputs": [
    {
     "data": {
      "text/html": [
       "\n",
       "  <div id=\"9e64f230-6b64-4226-ba48-d29fd68147e9\" data-root-id=\"p19060\" style=\"display: contents;\"></div>\n"
      ]
     },
     "metadata": {},
     "output_type": "display_data"
    },
    {
     "data": {
      "application/javascript": [
       "(function(root) {\n",
       "  function embed_document(root) {\n",
       "  const docs_json = {\"e9d6660b-cbce-416a-a1b1-dab100d8a616\":{\"version\":\"3.1.0\",\"title\":\"Bokeh Application\",\"defs\":[],\"roots\":[{\"type\":\"object\",\"name\":\"Figure\",\"id\":\"p19060\",\"attributes\":{\"height\":250,\"x_range\":{\"type\":\"object\",\"name\":\"DataRange1d\",\"id\":\"p19062\"},\"y_range\":{\"type\":\"object\",\"name\":\"DataRange1d\",\"id\":\"p19061\"},\"x_scale\":{\"type\":\"object\",\"name\":\"LinearScale\",\"id\":\"p19074\"},\"y_scale\":{\"type\":\"object\",\"name\":\"LinearScale\",\"id\":\"p19076\"},\"title\":{\"type\":\"object\",\"name\":\"Title\",\"id\":\"p19063\",\"attributes\":{\"text\":\"\\\\[\\\\sin(x)\\\\text{ for }x\\\\text{ between }-2\\\\pi\\\\text{ and }2\\\\pi\\\\]\",\"text_color\":\"#5B5B5B\",\"text_font\":\"Helvetica\",\"text_font_size\":\"1.15em\"}},\"renderers\":[{\"type\":\"object\",\"name\":\"GlyphRenderer\",\"id\":\"p19113\",\"attributes\":{\"data_source\":{\"type\":\"object\",\"name\":\"ColumnDataSource\",\"id\":\"p19107\",\"attributes\":{\"selected\":{\"type\":\"object\",\"name\":\"Selection\",\"id\":\"p19109\",\"attributes\":{\"indices\":[],\"line_indices\":[]}},\"selection_policy\":{\"type\":\"object\",\"name\":\"UnionRenderers\",\"id\":\"p19108\"},\"data\":{\"type\":\"map\",\"entries\":[[\"x\",{\"type\":\"ndarray\",\"array\":{\"type\":\"bytes\",\"data\":\"GC1EVPshGcCyxt3tlLsYwExgd4cuVRjA5vkQIcjuF8CAk6q6YYgXwBotRFT7IRfAtMbd7ZS7FsBOYHeHLlUWwOj5ECHI7hXAgpOqumGIFcAcLURU+yEVwLbG3e2UuxTAUGB3hy5VFMDq+RAhyO4TwISTqrphiBPAHi1EVPshE8C4xt3tlLsSwFJgd4cuVRLA7PkQIcjuEcCGk6q6YYgRwCAtRFT7IRHAusbd7ZS7EMBUYHeHLlUQwNzzIUKQ3Q/AECdVdcMQD8BEWoio9kMOwHiNu9spdw3ArMDuDl2qDMDg8yFCkN0LwBQnVXXDEAvASFqIqPZDCsB8jbvbKXcJwLDA7g5dqgjA5PMhQpDdB8AYJ1V1wxAHwExaiKj2QwbAgI272yl3BcC0wO4OXaoEwOjzIUKQ3QPAHCdVdcMQA8BQWoio9kMCwISNu9spdwHAuMDuDl2qAMDY50OEILv/v0BOquqGIf6/qLQQUe2H/L8QG3e3U+76v3iB3R26VPm/4OdDhCC7979ITqrqhiH2v7C0EFHth/S/GBt3t1Pu8r+Agd0dulTxv9DPhwhBdu+/oJxU1Q1D7L9waSGi2g/pv0A27m6n3OW/EAO7O3Sp4r/Anw8Rguzev2A5qaobhti/ANNCRLUf0r9A2bi7nXLHvwAZ2N2hS7W/AAIG7943kT8AGltVkee9P8BZeneVwMs/QJMjIrFG1D+g+YmIF63aPwAwePe+ieA/MGOrKvK84z9glt5dJfDmP5DJEZFYI+o/wPxExItW7T/4F7x730TwP5CxVRV53vE/KEvvrhJ48z/A5IhIrBH1P1h+IuJFq/Y/8Be8e99E+D+IsVUVed75PyBL764SePs/uOSISKwR/T9QfiLiRav+P/QL3r1vIgBAwNiqijzvAECMpXdXCbwBQFhyRCTWiAJAJD8R8aJVA0DwC969byIEQLzYqoo87wRAiKV3Vwm8BUBUckQk1ogGQCA/EfGiVQdA7AvevW8iCEC42KqKPO8IQISld1cJvAlAUHJEJNaICkAcPxHxolULQOgL3r1vIgxAtNiqijzvDECApXdXCbwNQExyRCTWiA5AGD8R8aJVD0DyBe/eNxEQQFhsVUWedxBAvtK7qwTeEEAkOSISa0QRQIqfiHjRqhFA8AXv3jcREkBWbFVFnncSQLzSu6sE3hJAIjkiEmtEE0CIn4h40aoTQO4F7943ERRAVGxVRZ53FEC60rurBN4UQCA5IhJrRBVAhp+IeNGqFUDsBe/eNxEWQFJsVUWedxZAuNK7qwTeFkAeOSISa0QXQISfiHjRqhdA6gXv3jcRGEBQbFVFnncYQLbSu6sE3hhA\"},\"shape\":[126],\"dtype\":\"float64\",\"order\":\"little\"}],[\"y\",{\"type\":\"ndarray\",\"array\":{\"type\":\"bytes\",\"data\":\"B1wUMyamsTwky4vLro65P6zSPSP/bck/Jbq6lc3p0j9XZyvpOuzYP9gFS3Tort4/S0GlF40R4j+pGUZpbp3kP7z+v8KU9OY/MKhdmAMR6T/eDAmPVO3qPyhjLUzFhOw/t1UaokPT7T9BHsX5d9XuP/vgRN/NiO8/iG0sm3rr7z/HQuDHgfzvP72YL9e3u+8//RW9gcIp7z9qOBofF0juP2C00er2GO0/HHPrP2mf6z8x16rZM9/pP1MvWC3R3Oc/0tHD9WSd5T/vys8NrybjPwGGoLv8fuA/p6ckJDFa2z9p5l0jcnDVPz8ySNa4n84/z9a2bTgQwj9JFpiCD0qlP9gm6Dk3462/9Qq3ygIxxL+gS/8QyVrQv1Jhun47c9a/JdHwQ0FS3L/dGi7savTgv0DA7P9WlOO/crMfLS4C5r9cHtzduTfov3DI4npTL+q/lhLQ3/Lj67/viQE6O1Htv8QoRTGGc+6/Y0DHPe1H77+p7F0TUczvv1HsNw9f/++/DT4MmpTg77/B6yJ2QHDvv2CZ4PWBr+6/9yLYHEag7b8lJbqyQkXsv5cSvFTvoeq/3gUyl3y66L/SsApOyZPmv0H2lhdWM+S/OMh6STef4b8a4Y7HCrzdv3u+C2SY7de/LaSwivHh0b9m/jPXGVHHv0bTvttYRbW/xSXLwqk3kT/JIzUvK9a9PxjIxkANics//AfpL0vw0z91hzWkD+nZP4cP6pqNn98/CxrYG5SC4j9hCW3CCAblP+5iZOG2U+c/hMjjJbpl6T/Mcx3cxjbrP44pBXs3wuw/3a38hhgE7j/R9xCtMvnuPzNU7vwSn+8/IbeALBH07z+1XzrVU/fvP6DPKKDSqO8/pbRJW1YJ7z+JM+n3dhruP8RhK3eX3uw/Jvgtz99Y6z+f2l/YNI3pP+WxtFcugOc/zaIuPws35T/F08pCpLfiP3g4I+RcCOA/mTEMNiZg2j8025+JG2zUPwSg1R2oh8w/qzXOvj7cvz+ZZ0Soul6ZPxMepJQaPbO/RLIVCFdQxr8Pn7GuhmTRv7Nrs+BkdNe/O7QgoURI3b9ITvP1nmjhv9zlVSmUAOS/XGXQmV9l5r9ZNdHU4ZDov+OMb++Nfeq/d0LwuHcm7L9QJSxSYIftv8TXognBnO6/SRtzYNRj779HhCYhndrvv+yTLnbr/++/NaAP81/T77/KpXWIbFXvv+6vwmBTh+6/2k8AqCNr7b+D929HtAPsv7RWM6KcVOq/8K2gZSti6L8bWsKEWzHmvw8RMHvHx+O/52bX95or4b9I9bkoBsfcv2FS64I67da/RcPLJ8rY0L9F3NCChDLFvyPcIcx4+rC/\"},\"shape\":[126],\"dtype\":\"float64\",\"order\":\"little\"}]]}}},\"view\":{\"type\":\"object\",\"name\":\"CDSView\",\"id\":\"p19114\",\"attributes\":{\"filter\":{\"type\":\"object\",\"name\":\"AllIndices\",\"id\":\"p19115\"}}},\"glyph\":{\"type\":\"object\",\"name\":\"Circle\",\"id\":\"p19110\",\"attributes\":{\"x\":{\"type\":\"field\",\"field\":\"x\"},\"y\":{\"type\":\"field\",\"field\":\"y\"},\"size\":{\"type\":\"value\",\"value\":7},\"line_color\":{\"type\":\"value\",\"value\":\"#1f77b4\"},\"line_alpha\":{\"type\":\"value\",\"value\":0.6},\"fill_color\":{\"type\":\"value\",\"value\":\"#1f77b4\"},\"fill_alpha\":{\"type\":\"value\",\"value\":0.6},\"hatch_alpha\":{\"type\":\"value\",\"value\":0.6}}},\"nonselection_glyph\":{\"type\":\"object\",\"name\":\"Circle\",\"id\":\"p19111\",\"attributes\":{\"x\":{\"type\":\"field\",\"field\":\"x\"},\"y\":{\"type\":\"field\",\"field\":\"y\"},\"size\":{\"type\":\"value\",\"value\":7},\"line_color\":{\"type\":\"value\",\"value\":\"#1f77b4\"},\"line_alpha\":{\"type\":\"value\",\"value\":0.1},\"fill_color\":{\"type\":\"value\",\"value\":\"#1f77b4\"},\"fill_alpha\":{\"type\":\"value\",\"value\":0.1},\"hatch_alpha\":{\"type\":\"value\",\"value\":0.1}}},\"muted_glyph\":{\"type\":\"object\",\"name\":\"Circle\",\"id\":\"p19112\",\"attributes\":{\"x\":{\"type\":\"field\",\"field\":\"x\"},\"y\":{\"type\":\"field\",\"field\":\"y\"},\"size\":{\"type\":\"value\",\"value\":7},\"line_color\":{\"type\":\"value\",\"value\":\"#1f77b4\"},\"line_alpha\":{\"type\":\"value\",\"value\":0.2},\"fill_color\":{\"type\":\"value\",\"value\":\"#1f77b4\"},\"fill_alpha\":{\"type\":\"value\",\"value\":0.2},\"hatch_alpha\":{\"type\":\"value\",\"value\":0.2}}}}}],\"toolbar\":{\"type\":\"object\",\"name\":\"Toolbar\",\"id\":\"p19066\",\"attributes\":{\"tools\":[{\"type\":\"object\",\"name\":\"PanTool\",\"id\":\"p19092\"},{\"type\":\"object\",\"name\":\"WheelZoomTool\",\"id\":\"p19093\"},{\"type\":\"object\",\"name\":\"BoxZoomTool\",\"id\":\"p19094\",\"attributes\":{\"overlay\":{\"type\":\"object\",\"name\":\"BoxAnnotation\",\"id\":\"p19095\",\"attributes\":{\"syncable\":false,\"level\":\"overlay\",\"visible\":false,\"left_units\":\"canvas\",\"right_units\":\"canvas\",\"bottom_units\":\"canvas\",\"top_units\":\"canvas\",\"line_color\":\"black\",\"line_alpha\":1.0,\"line_width\":2,\"line_dash\":[4,4],\"fill_color\":\"lightgrey\",\"fill_alpha\":0.5}}}},{\"type\":\"object\",\"name\":\"SaveTool\",\"id\":\"p19096\"},{\"type\":\"object\",\"name\":\"ResetTool\",\"id\":\"p19097\"},{\"type\":\"object\",\"name\":\"HelpTool\",\"id\":\"p19098\"}]}},\"left\":[{\"type\":\"object\",\"name\":\"LinearAxis\",\"id\":\"p19085\",\"attributes\":{\"ticker\":{\"type\":\"object\",\"name\":\"BasicTicker\",\"id\":\"p19086\",\"attributes\":{\"mantissas\":[1,2,5]}},\"formatter\":{\"type\":\"object\",\"name\":\"BasicTickFormatter\",\"id\":\"p19087\"},\"axis_label\":\"\\\\[\\\\sin(x)\\\\]\",\"axis_label_standoff\":10,\"axis_label_text_color\":\"#5B5B5B\",\"axis_label_text_font\":\"Helvetica\",\"axis_label_text_font_size\":\"1.25em\",\"axis_label_text_font_style\":\"normal\",\"major_label_policy\":{\"type\":\"object\",\"name\":\"AllLabels\",\"id\":\"p19088\"},\"major_label_text_color\":\"#5B5B5B\",\"major_label_text_font\":\"Helvetica\",\"major_label_text_font_size\":\"1.025em\",\"axis_line_color\":\"#5B5B5B\",\"axis_line_alpha\":0,\"major_tick_line_color\":\"#5B5B5B\",\"major_tick_line_alpha\":0,\"minor_tick_line_color\":\"#5B5B5B\",\"minor_tick_line_alpha\":0}}],\"below\":[{\"type\":\"object\",\"name\":\"LinearAxis\",\"id\":\"p19078\",\"attributes\":{\"ticker\":{\"type\":\"object\",\"name\":\"BasicTicker\",\"id\":\"p19079\",\"attributes\":{\"mantissas\":[1,2,5]}},\"formatter\":{\"type\":\"object\",\"name\":\"BasicTickFormatter\",\"id\":\"p19080\"},\"axis_label\":\"\\\\[x\\\\pi\\\\]\",\"axis_label_standoff\":10,\"axis_label_text_color\":\"#5B5B5B\",\"axis_label_text_font\":\"Helvetica\",\"axis_label_text_font_size\":\"1.25em\",\"axis_label_text_font_style\":\"normal\",\"major_label_policy\":{\"type\":\"object\",\"name\":\"AllLabels\",\"id\":\"p19081\"},\"major_label_text_color\":\"#5B5B5B\",\"major_label_text_font\":\"Helvetica\",\"major_label_text_font_size\":\"1.025em\",\"axis_line_color\":\"#5B5B5B\",\"axis_line_alpha\":0,\"major_tick_line_color\":\"#5B5B5B\",\"major_tick_line_alpha\":0,\"minor_tick_line_color\":\"#5B5B5B\",\"minor_tick_line_alpha\":0}}],\"center\":[{\"type\":\"object\",\"name\":\"Grid\",\"id\":\"p19084\",\"attributes\":{\"axis\":{\"id\":\"p19078\"}}},{\"type\":\"object\",\"name\":\"Grid\",\"id\":\"p19091\",\"attributes\":{\"dimension\":1,\"axis\":{\"id\":\"p19085\"}}},{\"type\":\"object\",\"name\":\"Label\",\"id\":\"p19116\",\"attributes\":{\"text\":\"$$y = \\\\sin(x)\\\\$$\",\"x\":150,\"x_units\":\"screen\",\"y\":130,\"y_units\":\"screen\"}}]}}],\"callbacks\":{\"type\":\"map\"}}};\n",
       "  const render_items = [{\"docid\":\"e9d6660b-cbce-416a-a1b1-dab100d8a616\",\"roots\":{\"p19060\":\"9e64f230-6b64-4226-ba48-d29fd68147e9\"},\"root_ids\":[\"p19060\"]}];\n",
       "  root.Bokeh.embed.embed_items_notebook(docs_json, render_items);\n",
       "  }\n",
       "  if (root.Bokeh !== undefined) {\n",
       "    embed_document(root);\n",
       "  } else {\n",
       "    let attempts = 0;\n",
       "    const timer = setInterval(function(root) {\n",
       "      if (root.Bokeh !== undefined) {\n",
       "        clearInterval(timer);\n",
       "        embed_document(root);\n",
       "      } else {\n",
       "        attempts++;\n",
       "        if (attempts > 100) {\n",
       "          clearInterval(timer);\n",
       "          console.log(\"Bokeh: ERROR: Unable to run BokehJS code because BokehJS library is missing\");\n",
       "        }\n",
       "      }\n",
       "    }, 10, root)\n",
       "  }\n",
       "})(window);"
      ],
      "application/vnd.bokehjs_exec.v0+json": ""
     },
     "metadata": {
      "application/vnd.bokehjs_exec.v0+json": {
       "id": "p19060"
      }
     },
     "output_type": "display_data"
    }
   ],
   "source": [
    "from numpy import arange, pi, sin\n",
    "\n",
    "from bokeh.models.annotations.labels import Label\n",
    "from bokeh.plotting import figure, show\n",
    "\n",
    "x = arange(-2*pi, 2*pi, 0.1)\n",
    "y = sin(x)\n",
    "\n",
    "p = figure(height=250, title=r\"\\[\\sin(x)\\text{ for }x\\text{ between }-2\\pi\\text{ and }2\\pi\\]\")\n",
    "p.circle(x, y, alpha=0.6, size=7)\n",
    "\n",
    "label = Label(\n",
    "    text=r\"$$y = \\sin(x)\\$$\",\n",
    "    x=150, y=130,\n",
    "    x_units=\"screen\", y_units=\"screen\",\n",
    ")\n",
    "p.add_layout(label)\n",
    "\n",
    "p.yaxis.axis_label = r\"\\[\\sin(x)\\]\"\n",
    "p.xaxis.axis_label = r\"\\[x\\pi\\]\"\n",
    "\n",
    "show(p)"
   ]
  },
  {
   "cell_type": "markdown",
   "id": "7ccf5bb9",
   "metadata": {},
   "source": [
    "### on tick labels"
   ]
  },
  {
   "cell_type": "code",
   "execution_count": 37,
   "id": "0fbbe2ab",
   "metadata": {
    "scrolled": true
   },
   "outputs": [
    {
     "data": {
      "text/html": [
       "\n",
       "  <div id=\"473ffa2e-26c4-484f-8b6c-a8e5a7e8fbd3\" data-root-id=\"p19952\" style=\"display: contents;\"></div>\n"
      ]
     },
     "metadata": {},
     "output_type": "display_data"
    },
    {
     "data": {
      "application/javascript": [
       "(function(root) {\n",
       "  function embed_document(root) {\n",
       "  const docs_json = {\"4e9ace7c-cb68-4b98-a84d-3d2f96e4fba1\":{\"version\":\"3.1.0\",\"title\":\"Bokeh Application\",\"defs\":[],\"roots\":[{\"type\":\"object\",\"name\":\"Figure\",\"id\":\"p19952\",\"attributes\":{\"height\":200,\"x_range\":{\"type\":\"object\",\"name\":\"DataRange1d\",\"id\":\"p19954\"},\"y_range\":{\"type\":\"object\",\"name\":\"DataRange1d\",\"id\":\"p19953\"},\"x_scale\":{\"type\":\"object\",\"name\":\"LinearScale\",\"id\":\"p19965\"},\"y_scale\":{\"type\":\"object\",\"name\":\"LinearScale\",\"id\":\"p19967\"},\"title\":{\"type\":\"object\",\"name\":\"Title\",\"id\":\"p19959\",\"attributes\":{\"text_color\":\"#5B5B5B\",\"text_font\":\"Helvetica\",\"text_font_size\":\"1.15em\"}},\"renderers\":[{\"type\":\"object\",\"name\":\"GlyphRenderer\",\"id\":\"p20004\",\"attributes\":{\"data_source\":{\"type\":\"object\",\"name\":\"ColumnDataSource\",\"id\":\"p19998\",\"attributes\":{\"selected\":{\"type\":\"object\",\"name\":\"Selection\",\"id\":\"p20000\",\"attributes\":{\"indices\":[],\"line_indices\":[]}},\"selection_policy\":{\"type\":\"object\",\"name\":\"UnionRenderers\",\"id\":\"p19999\"},\"data\":{\"type\":\"map\",\"entries\":[[\"x\",{\"type\":\"ndarray\",\"array\":{\"type\":\"bytes\",\"data\":\"AAAAAAAA8D8AAAAAAAD0PwAAAAAAAPg/AAAAAAAA/D8AAAAAAAAAQAAAAAAAAAJAAAAAAAAABEAAAAAAAAAGQAAAAAAAAAhAAAAAAAAACkAAAAAAAAAMQAAAAAAAAA5AAAAAAAAAEEAAAAAAAAARQA==\"},\"shape\":[14],\"dtype\":\"float64\",\"order\":\"little\"}],[\"y\",{\"type\":\"ndarray\",\"array\":{\"type\":\"bytes\",\"data\":\"AAAAAAAA8D+amZmZmZnpP1VVVVVVVeU/kiRJkiRJ4j8AAAAAAADgPxzHcRzHcdw/mpmZmZmZ2T9GF1100UXXP1VVVVVVVdU/FDuxEzux0z+SJEmSJEnSPxEREREREdE/AAAAAAAA0D8eHh4eHh7OPw==\"},\"shape\":[14],\"dtype\":\"float64\",\"order\":\"little\"}]]}}},\"view\":{\"type\":\"object\",\"name\":\"CDSView\",\"id\":\"p20005\",\"attributes\":{\"filter\":{\"type\":\"object\",\"name\":\"AllIndices\",\"id\":\"p20006\"}}},\"glyph\":{\"type\":\"object\",\"name\":\"Circle\",\"id\":\"p20001\",\"attributes\":{\"x\":{\"type\":\"field\",\"field\":\"x\"},\"y\":{\"type\":\"field\",\"field\":\"y\"},\"size\":{\"type\":\"value\",\"value\":5},\"line_color\":{\"type\":\"value\",\"value\":\"#1f77b4\"},\"fill_color\":{\"type\":\"value\",\"value\":\"blue\"}}},\"nonselection_glyph\":{\"type\":\"object\",\"name\":\"Circle\",\"id\":\"p20002\",\"attributes\":{\"x\":{\"type\":\"field\",\"field\":\"x\"},\"y\":{\"type\":\"field\",\"field\":\"y\"},\"size\":{\"type\":\"value\",\"value\":5},\"line_color\":{\"type\":\"value\",\"value\":\"#1f77b4\"},\"line_alpha\":{\"type\":\"value\",\"value\":0.1},\"fill_color\":{\"type\":\"value\",\"value\":\"blue\"},\"fill_alpha\":{\"type\":\"value\",\"value\":0.1},\"hatch_alpha\":{\"type\":\"value\",\"value\":0.1}}},\"muted_glyph\":{\"type\":\"object\",\"name\":\"Circle\",\"id\":\"p20003\",\"attributes\":{\"x\":{\"type\":\"field\",\"field\":\"x\"},\"y\":{\"type\":\"field\",\"field\":\"y\"},\"size\":{\"type\":\"value\",\"value\":5},\"line_color\":{\"type\":\"value\",\"value\":\"#1f77b4\"},\"line_alpha\":{\"type\":\"value\",\"value\":0.2},\"fill_color\":{\"type\":\"value\",\"value\":\"blue\"},\"fill_alpha\":{\"type\":\"value\",\"value\":0.2},\"hatch_alpha\":{\"type\":\"value\",\"value\":0.2}}}}},{\"type\":\"object\",\"name\":\"GlyphRenderer\",\"id\":\"p20013\",\"attributes\":{\"data_source\":{\"type\":\"object\",\"name\":\"ColumnDataSource\",\"id\":\"p20007\",\"attributes\":{\"selected\":{\"type\":\"object\",\"name\":\"Selection\",\"id\":\"p20009\",\"attributes\":{\"indices\":[],\"line_indices\":[]}},\"selection_policy\":{\"type\":\"object\",\"name\":\"UnionRenderers\",\"id\":\"p20008\"},\"data\":{\"type\":\"map\",\"entries\":[[\"x\",{\"type\":\"ndarray\",\"array\":{\"type\":\"bytes\",\"data\":\"AAAAAAAA8D8AAAAAAAD0PwAAAAAAAPg/AAAAAAAA/D8AAAAAAAAAQAAAAAAAAAJAAAAAAAAABEAAAAAAAAAGQAAAAAAAAAhAAAAAAAAACkAAAAAAAAAMQAAAAAAAAA5AAAAAAAAAEEAAAAAAAAARQA==\"},\"shape\":[14],\"dtype\":\"float64\",\"order\":\"little\"}],[\"y\",{\"type\":\"ndarray\",\"array\":{\"type\":\"bytes\",\"data\":\"AAAAAAAA8D+amZmZmZnpP1VVVVVVVeU/kiRJkiRJ4j8AAAAAAADgPxzHcRzHcdw/mpmZmZmZ2T9GF1100UXXP1VVVVVVVdU/FDuxEzux0z+SJEmSJEnSPxEREREREdE/AAAAAAAA0D8eHh4eHh7OPw==\"},\"shape\":[14],\"dtype\":\"float64\",\"order\":\"little\"}]]}}},\"view\":{\"type\":\"object\",\"name\":\"CDSView\",\"id\":\"p20014\",\"attributes\":{\"filter\":{\"type\":\"object\",\"name\":\"AllIndices\",\"id\":\"p20015\"}}},\"glyph\":{\"type\":\"object\",\"name\":\"Line\",\"id\":\"p20010\",\"attributes\":{\"x\":{\"type\":\"field\",\"field\":\"x\"},\"y\":{\"type\":\"field\",\"field\":\"y\"},\"line_color\":\"darkgrey\"}},\"nonselection_glyph\":{\"type\":\"object\",\"name\":\"Line\",\"id\":\"p20011\",\"attributes\":{\"x\":{\"type\":\"field\",\"field\":\"x\"},\"y\":{\"type\":\"field\",\"field\":\"y\"},\"line_color\":\"darkgrey\",\"line_alpha\":0.1}},\"muted_glyph\":{\"type\":\"object\",\"name\":\"Line\",\"id\":\"p20012\",\"attributes\":{\"x\":{\"type\":\"field\",\"field\":\"x\"},\"y\":{\"type\":\"field\",\"field\":\"y\"},\"line_color\":\"darkgrey\",\"line_alpha\":0.2}}}}],\"toolbar\":{\"type\":\"object\",\"name\":\"Toolbar\",\"id\":\"p19956\",\"attributes\":{\"tools\":[{\"type\":\"object\",\"name\":\"PanTool\",\"id\":\"p19983\"},{\"type\":\"object\",\"name\":\"WheelZoomTool\",\"id\":\"p19984\"},{\"type\":\"object\",\"name\":\"BoxZoomTool\",\"id\":\"p19985\",\"attributes\":{\"overlay\":{\"type\":\"object\",\"name\":\"BoxAnnotation\",\"id\":\"p19986\",\"attributes\":{\"syncable\":false,\"level\":\"overlay\",\"visible\":false,\"left_units\":\"canvas\",\"right_units\":\"canvas\",\"bottom_units\":\"canvas\",\"top_units\":\"canvas\",\"line_color\":\"black\",\"line_alpha\":1.0,\"line_width\":2,\"line_dash\":[4,4],\"fill_color\":\"lightgrey\",\"fill_alpha\":0.5}}}},{\"type\":\"object\",\"name\":\"SaveTool\",\"id\":\"p19987\"},{\"type\":\"object\",\"name\":\"ResetTool\",\"id\":\"p19988\"},{\"type\":\"object\",\"name\":\"HelpTool\",\"id\":\"p19989\"}]}},\"left\":[{\"type\":\"object\",\"name\":\"LinearAxis\",\"id\":\"p19976\",\"attributes\":{\"ticker\":{\"type\":\"object\",\"name\":\"BasicTicker\",\"id\":\"p19977\",\"attributes\":{\"mantissas\":[1,2,5]}},\"formatter\":{\"type\":\"object\",\"name\":\"BasicTickFormatter\",\"id\":\"p19978\"},\"axis_label\":\"Current at 1 V\",\"axis_label_standoff\":10,\"axis_label_text_color\":\"#5B5B5B\",\"axis_label_text_font\":\"Helvetica\",\"axis_label_text_font_size\":\"1.25em\",\"axis_label_text_font_style\":\"normal\",\"major_label_policy\":{\"type\":\"object\",\"name\":\"AllLabels\",\"id\":\"p19979\"},\"major_label_text_color\":\"#5B5B5B\",\"major_label_text_font\":\"Helvetica\",\"major_label_text_font_size\":\"1.025em\",\"axis_line_color\":\"#5B5B5B\",\"axis_line_alpha\":0,\"major_tick_line_color\":\"#5B5B5B\",\"major_tick_line_alpha\":0,\"minor_tick_line_color\":\"#5B5B5B\",\"minor_tick_line_alpha\":0}}],\"below\":[{\"type\":\"object\",\"name\":\"LinearAxis\",\"id\":\"p19969\",\"attributes\":{\"ticker\":{\"type\":\"object\",\"name\":\"FixedTicker\",\"id\":\"p20016\",\"attributes\":{\"ticks\":[1,2,3,4],\"minor_ticks\":[]}},\"formatter\":{\"type\":\"object\",\"name\":\"BasicTickFormatter\",\"id\":\"p19971\"},\"axis_label\":\"Resistance\",\"axis_label_standoff\":10,\"axis_label_text_color\":\"#5B5B5B\",\"axis_label_text_font\":\"Helvetica\",\"axis_label_text_font_size\":\"1.25em\",\"axis_label_text_font_style\":\"normal\",\"major_label_overrides\":{\"type\":\"map\",\"entries\":[[1,\"$$1\\\\ \\\\Omega$$\"],[2,\"$$2\\\\ \\\\Omega$$\"],[3,\"$$3\\\\ \\\\Omega$$\"],[4,\"$$4\\\\ \\\\Omega$$\"]]},\"major_label_policy\":{\"type\":\"object\",\"name\":\"AllLabels\",\"id\":\"p19972\"},\"major_label_text_color\":\"#5B5B5B\",\"major_label_text_font\":\"Helvetica\",\"major_label_text_font_size\":\"1.025em\",\"axis_line_color\":\"#5B5B5B\",\"axis_line_alpha\":0,\"major_tick_line_color\":\"#5B5B5B\",\"major_tick_line_alpha\":0,\"minor_tick_line_color\":\"#5B5B5B\",\"minor_tick_line_alpha\":0}}],\"center\":[{\"type\":\"object\",\"name\":\"Grid\",\"id\":\"p19975\",\"attributes\":{\"axis\":{\"id\":\"p19969\"}}},{\"type\":\"object\",\"name\":\"Grid\",\"id\":\"p19982\",\"attributes\":{\"dimension\":1,\"axis\":{\"id\":\"p19976\"}}}]}}],\"callbacks\":{\"type\":\"map\"}}};\n",
       "  const render_items = [{\"docid\":\"4e9ace7c-cb68-4b98-a84d-3d2f96e4fba1\",\"roots\":{\"p19952\":\"473ffa2e-26c4-484f-8b6c-a8e5a7e8fbd3\"},\"root_ids\":[\"p19952\"]}];\n",
       "  root.Bokeh.embed.embed_items_notebook(docs_json, render_items);\n",
       "  }\n",
       "  if (root.Bokeh !== undefined) {\n",
       "    embed_document(root);\n",
       "  } else {\n",
       "    let attempts = 0;\n",
       "    const timer = setInterval(function(root) {\n",
       "      if (root.Bokeh !== undefined) {\n",
       "        clearInterval(timer);\n",
       "        embed_document(root);\n",
       "      } else {\n",
       "        attempts++;\n",
       "        if (attempts > 100) {\n",
       "          clearInterval(timer);\n",
       "          console.log(\"Bokeh: ERROR: Unable to run BokehJS code because BokehJS library is missing\");\n",
       "        }\n",
       "      }\n",
       "    }, 10, root)\n",
       "  }\n",
       "})(window);"
      ],
      "application/vnd.bokehjs_exec.v0+json": ""
     },
     "metadata": {
      "application/vnd.bokehjs_exec.v0+json": {
       "id": "p19952"
      }
     },
     "output_type": "display_data"
    }
   ],
   "source": [
    "from numpy import arange\n",
    "\n",
    "from bokeh.plotting import figure, show\n",
    "\n",
    "x = arange(1, 4.5, 0.25)\n",
    "y = 1 / x\n",
    "\n",
    "plot = figure(height=200)\n",
    "plot.circle(x, y, fill_color=\"blue\", size=5)\n",
    "plot.line(x, y, color=\"darkgrey\")\n",
    "\n",
    "plot.xaxis.axis_label = \"Resistance\"\n",
    "plot.xaxis.ticker = [1, 2, 3, 4]\n",
    "plot.yaxis.axis_label = \"Current at 1 V\"\n",
    "\n",
    "plot.xaxis.major_label_overrides = {\n",
    "    1: r\"$$1\\ \\Omega$$\",\n",
    "    2: r\"$$2\\ \\Omega$$\",\n",
    "    3: r\"$$3\\ \\Omega$$\",\n",
    "    4: r\"$$4\\ \\Omega$$\",\n",
    "}\n",
    "\n",
    "show(plot)"
   ]
  },
  {
   "cell_type": "markdown",
   "id": "d5ba41ec",
   "metadata": {},
   "source": [
    "### on other elements"
   ]
  },
  {
   "cell_type": "code",
   "execution_count": 38,
   "id": "679090c0",
   "metadata": {},
   "outputs": [
    {
     "data": {
      "text/html": [
       "\n",
       "  <div id=\"caf9586e-5bcd-4e7e-be1e-70dcd5728142\" data-root-id=\"p20901\" style=\"display: contents;\"></div>\n"
      ]
     },
     "metadata": {},
     "output_type": "display_data"
    },
    {
     "data": {
      "application/javascript": [
       "(function(root) {\n",
       "  function embed_document(root) {\n",
       "  const docs_json = {\"7d7893d8-6b80-4a84-ae7e-47b614c1c67a\":{\"version\":\"3.1.0\",\"title\":\"Bokeh Application\",\"defs\":[],\"roots\":[{\"type\":\"object\",\"name\":\"Slider\",\"id\":\"p20901\",\"attributes\":{\"title\":\"$$\\\\delta \\\\text{ (damping factor, 1/s)}$$\",\"start\":0,\"end\":10,\"value\":1,\"step\":0.1}}],\"callbacks\":{\"type\":\"map\"}}};\n",
       "  const render_items = [{\"docid\":\"7d7893d8-6b80-4a84-ae7e-47b614c1c67a\",\"roots\":{\"p20901\":\"caf9586e-5bcd-4e7e-be1e-70dcd5728142\"},\"root_ids\":[\"p20901\"]}];\n",
       "  root.Bokeh.embed.embed_items_notebook(docs_json, render_items);\n",
       "  }\n",
       "  if (root.Bokeh !== undefined) {\n",
       "    embed_document(root);\n",
       "  } else {\n",
       "    let attempts = 0;\n",
       "    const timer = setInterval(function(root) {\n",
       "      if (root.Bokeh !== undefined) {\n",
       "        clearInterval(timer);\n",
       "        embed_document(root);\n",
       "      } else {\n",
       "        attempts++;\n",
       "        if (attempts > 100) {\n",
       "          clearInterval(timer);\n",
       "          console.log(\"Bokeh: ERROR: Unable to run BokehJS code because BokehJS library is missing\");\n",
       "        }\n",
       "      }\n",
       "    }, 10, root)\n",
       "  }\n",
       "})(window);"
      ],
      "application/vnd.bokehjs_exec.v0+json": ""
     },
     "metadata": {
      "application/vnd.bokehjs_exec.v0+json": {
       "id": "p20901"
      }
     },
     "output_type": "display_data"
    }
   ],
   "source": [
    "from bokeh.io import show\n",
    "from bokeh.models import Slider\n",
    "\n",
    "slider = Slider(start=0, end=10, value=1, step=.1, title=r\"$$\\delta \\text{ (damping factor, 1/s)}$$\")\n",
    "\n",
    "show(slider)"
   ]
  },
  {
   "cell_type": "markdown",
   "id": "21c91cfd",
   "metadata": {},
   "source": [
    "# Geographical data\n",
    "\n",
    "Bokeh supports creating map-based visualizations and working with geographical data.\n",
    "\n",
    "## Tile provider maps\n",
    "Bokeh is compatible with several XYZ tile services that use the Web Mercator projection. Bokeh uses the xyzservices library to take care of the tile sources and their attributions. To add these to a plot, use the method add_tile(). You can pass any name xyzservices may recognize. The retina keyword can control the resolution of tiles."
   ]
  },
  {
   "cell_type": "code",
   "execution_count": 64,
   "id": "84c48afa",
   "metadata": {},
   "outputs": [
    {
     "data": {
      "text/html": [
       "\n",
       "  <div id=\"8ad561c9-bcd3-4653-b5d5-adb94f814dae\" data-root-id=\"p44377\" style=\"display: contents;\"></div>\n"
      ]
     },
     "metadata": {},
     "output_type": "display_data"
    },
    {
     "data": {
      "application/javascript": [
       "(function(root) {\n",
       "  function embed_document(root) {\n",
       "  const docs_json = {\"c1840ec6-dab4-4557-b3a0-6a0b1c981bba\":{\"version\":\"3.1.0\",\"title\":\"Bokeh Application\",\"defs\":[],\"roots\":[{\"type\":\"object\",\"name\":\"Figure\",\"id\":\"p44377\",\"attributes\":{\"x_range\":{\"type\":\"object\",\"name\":\"Range1d\",\"id\":\"p44386\",\"attributes\":{\"start\":-2000000,\"end\":2000000}},\"y_range\":{\"type\":\"object\",\"name\":\"Range1d\",\"id\":\"p44388\",\"attributes\":{\"start\":1000000,\"end\":7000000}},\"x_scale\":{\"type\":\"object\",\"name\":\"LinearScale\",\"id\":\"p44390\"},\"y_scale\":{\"type\":\"object\",\"name\":\"LinearScale\",\"id\":\"p44392\"},\"title\":{\"type\":\"object\",\"name\":\"Title\",\"id\":\"p44384\",\"attributes\":{\"text_color\":\"#5B5B5B\",\"text_font\":\"Helvetica\",\"text_font_size\":\"1.15em\"}},\"renderers\":[{\"type\":\"object\",\"name\":\"GlyphRenderer\",\"id\":\"p44443\",\"attributes\":{\"data_source\":{\"type\":\"object\",\"name\":\"ColumnDataSource\",\"id\":\"p44434\",\"attributes\":{\"selected\":{\"type\":\"object\",\"name\":\"Selection\",\"id\":\"p44436\",\"attributes\":{\"indices\":[],\"line_indices\":[]}},\"selection_policy\":{\"type\":\"object\",\"name\":\"UnionRenderers\",\"id\":\"p44435\"},\"data\":{\"type\":\"map\",\"entries\":[[\"x\",[44527.79631730943,1113194.9079327357,222638.98158654713]],[\"y\",[6106854.834885076,4439106.787250584,4865942.279503176]]]}}},\"view\":{\"type\":\"object\",\"name\":\"CDSView\",\"id\":\"p44444\",\"attributes\":{\"filter\":{\"type\":\"object\",\"name\":\"AllIndices\",\"id\":\"p44445\"}}},\"glyph\":{\"type\":\"object\",\"name\":\"Circle\",\"id\":\"p44440\",\"attributes\":{\"x\":{\"type\":\"field\",\"field\":\"x\"},\"y\":{\"type\":\"field\",\"field\":\"y\"},\"size\":{\"type\":\"value\",\"value\":10},\"line_color\":{\"type\":\"value\",\"value\":\"purple\"},\"fill_color\":{\"type\":\"value\",\"value\":\"purple\"},\"hatch_color\":{\"type\":\"value\",\"value\":\"purple\"}}},\"nonselection_glyph\":{\"type\":\"object\",\"name\":\"Circle\",\"id\":\"p44441\",\"attributes\":{\"x\":{\"type\":\"field\",\"field\":\"x\"},\"y\":{\"type\":\"field\",\"field\":\"y\"},\"size\":{\"type\":\"value\",\"value\":10},\"line_color\":{\"type\":\"value\",\"value\":\"purple\"},\"line_alpha\":{\"type\":\"value\",\"value\":0.1},\"fill_color\":{\"type\":\"value\",\"value\":\"purple\"},\"fill_alpha\":{\"type\":\"value\",\"value\":0.1},\"hatch_color\":{\"type\":\"value\",\"value\":\"purple\"},\"hatch_alpha\":{\"type\":\"value\",\"value\":0.1}}},\"muted_glyph\":{\"type\":\"object\",\"name\":\"Circle\",\"id\":\"p44442\",\"attributes\":{\"x\":{\"type\":\"field\",\"field\":\"x\"},\"y\":{\"type\":\"field\",\"field\":\"y\"},\"size\":{\"type\":\"value\",\"value\":10},\"line_color\":{\"type\":\"value\",\"value\":\"purple\"},\"line_alpha\":{\"type\":\"value\",\"value\":0.2},\"fill_color\":{\"type\":\"value\",\"value\":\"purple\"},\"fill_alpha\":{\"type\":\"value\",\"value\":0.2},\"hatch_color\":{\"type\":\"value\",\"value\":\"purple\"},\"hatch_alpha\":{\"type\":\"value\",\"value\":0.2}}}}},{\"type\":\"object\",\"name\":\"TileRenderer\",\"id\":\"p44447\",\"attributes\":{\"tile_source\":{\"type\":\"object\",\"name\":\"WMTSTileSource\",\"id\":\"p44446\",\"attributes\":{\"url\":\"https://a.basemaps.cartocdn.com/light_all/{z}/{x}/{y}@2x.png\",\"max_zoom\":20,\"attribution\":\"&copy; <a href=\\\"https://www.openstreetmap.org/copyright\\\">OpenStreetMap</a> contributors &copy; <a href=\\\"https://carto.com/attributions\\\">CARTO</a>\"}}}}],\"toolbar\":{\"type\":\"object\",\"name\":\"Toolbar\",\"id\":\"p44381\",\"attributes\":{\"tools\":[{\"type\":\"object\",\"name\":\"PanTool\",\"id\":\"p44416\"},{\"type\":\"object\",\"name\":\"WheelZoomTool\",\"id\":\"p44417\"},{\"type\":\"object\",\"name\":\"BoxZoomTool\",\"id\":\"p44418\",\"attributes\":{\"overlay\":{\"type\":\"object\",\"name\":\"BoxAnnotation\",\"id\":\"p44419\",\"attributes\":{\"syncable\":false,\"level\":\"overlay\",\"visible\":false,\"left_units\":\"canvas\",\"right_units\":\"canvas\",\"bottom_units\":\"canvas\",\"top_units\":\"canvas\",\"line_color\":\"black\",\"line_alpha\":1.0,\"line_width\":2,\"line_dash\":[4,4],\"fill_color\":\"lightgrey\",\"fill_alpha\":0.5}}}},{\"type\":\"object\",\"name\":\"SaveTool\",\"id\":\"p44420\"},{\"type\":\"object\",\"name\":\"ResetTool\",\"id\":\"p44421\"},{\"type\":\"object\",\"name\":\"HelpTool\",\"id\":\"p44422\"}]}},\"left\":[{\"type\":\"object\",\"name\":\"MercatorAxis\",\"id\":\"p44405\",\"attributes\":{\"ticker\":{\"type\":\"object\",\"name\":\"MercatorTicker\",\"id\":\"p44406\",\"attributes\":{\"mantissas\":[1,2,5],\"dimension\":\"lat\"}},\"formatter\":{\"type\":\"object\",\"name\":\"MercatorTickFormatter\",\"id\":\"p44407\",\"attributes\":{\"dimension\":\"lat\"}},\"axis_label_standoff\":10,\"axis_label_text_color\":\"#5B5B5B\",\"axis_label_text_font\":\"Helvetica\",\"axis_label_text_font_size\":\"1.25em\",\"axis_label_text_font_style\":\"normal\",\"major_label_policy\":{\"type\":\"object\",\"name\":\"AllLabels\",\"id\":\"p44408\"},\"major_label_text_color\":\"#5B5B5B\",\"major_label_text_font\":\"Helvetica\",\"major_label_text_font_size\":\"1.025em\",\"axis_line_color\":\"#5B5B5B\",\"axis_line_alpha\":0,\"major_tick_line_color\":\"#5B5B5B\",\"major_tick_line_alpha\":0,\"minor_tick_line_color\":\"#5B5B5B\",\"minor_tick_line_alpha\":0}}],\"below\":[{\"type\":\"object\",\"name\":\"MercatorAxis\",\"id\":\"p44394\",\"attributes\":{\"ticker\":{\"type\":\"object\",\"name\":\"MercatorTicker\",\"id\":\"p44395\",\"attributes\":{\"mantissas\":[1,2,5],\"dimension\":\"lon\"}},\"formatter\":{\"type\":\"object\",\"name\":\"MercatorTickFormatter\",\"id\":\"p44396\",\"attributes\":{\"dimension\":\"lon\"}},\"axis_label_standoff\":10,\"axis_label_text_color\":\"#5B5B5B\",\"axis_label_text_font\":\"Helvetica\",\"axis_label_text_font_size\":\"1.25em\",\"axis_label_text_font_style\":\"normal\",\"major_label_policy\":{\"type\":\"object\",\"name\":\"AllLabels\",\"id\":\"p44397\"},\"major_label_text_color\":\"#5B5B5B\",\"major_label_text_font\":\"Helvetica\",\"major_label_text_font_size\":\"1.025em\",\"axis_line_color\":\"#5B5B5B\",\"axis_line_alpha\":0,\"major_tick_line_color\":\"#5B5B5B\",\"major_tick_line_alpha\":0,\"minor_tick_line_color\":\"#5B5B5B\",\"minor_tick_line_alpha\":0}}],\"center\":[{\"type\":\"object\",\"name\":\"Grid\",\"id\":\"p44404\",\"attributes\":{\"axis\":{\"id\":\"p44394\"}}},{\"type\":\"object\",\"name\":\"Grid\",\"id\":\"p44415\",\"attributes\":{\"dimension\":1,\"axis\":{\"id\":\"p44405\"}}}]}}],\"callbacks\":{\"type\":\"map\"}}};\n",
       "  const render_items = [{\"docid\":\"c1840ec6-dab4-4557-b3a0-6a0b1c981bba\",\"roots\":{\"p44377\":\"8ad561c9-bcd3-4653-b5d5-adb94f814dae\"},\"root_ids\":[\"p44377\"]}];\n",
       "  root.Bokeh.embed.embed_items_notebook(docs_json, render_items);\n",
       "  }\n",
       "  if (root.Bokeh !== undefined) {\n",
       "    embed_document(root);\n",
       "  } else {\n",
       "    let attempts = 0;\n",
       "    const timer = setInterval(function(root) {\n",
       "      if (root.Bokeh !== undefined) {\n",
       "        clearInterval(timer);\n",
       "        embed_document(root);\n",
       "      } else {\n",
       "        attempts++;\n",
       "        if (attempts > 100) {\n",
       "          clearInterval(timer);\n",
       "          console.log(\"Bokeh: ERROR: Unable to run BokehJS code because BokehJS library is missing\");\n",
       "        }\n",
       "      }\n",
       "    }, 10, root)\n",
       "  }\n",
       "})(window);"
      ],
      "application/vnd.bokehjs_exec.v0+json": ""
     },
     "metadata": {
      "application/vnd.bokehjs_exec.v0+json": {
       "id": "p44377"
      }
     },
     "output_type": "display_data"
    }
   ],
   "source": [
    "from bokeh.plotting import figure, show\n",
    "\n",
    "\n",
    "# Define function to switch from lat/long to mercator coordinates\n",
    "def x_coord(x, y):\n",
    "    \n",
    "    lat = x\n",
    "    lon = y\n",
    "    \n",
    "    r_major = 6378137.000\n",
    "    x = r_major * np.radians(lon)\n",
    "    scale = x/lon\n",
    "    y = 180.0/np.pi * np.log(np.tan(np.pi/4.0 + \n",
    "        lat * (np.pi/180.0)/2.0)) * scale\n",
    "    return (x, y)\n",
    "\n",
    "\n",
    "\n",
    "# range bounds supplied in web mercator coordinates\n",
    "p = figure(x_range=(-2000000, 2000000), y_range=(1000000, 7000000),\n",
    "           x_axis_type=\"mercator\", y_axis_type=\"mercator\")\n",
    "\n",
    "source = ColumnDataSource(\n",
    "    data=dict(lat=[20,  10,  30.29],\n",
    "              lon=[2, 0, -97.78])\n",
    ")\n",
    "\n",
    "\n",
    "# Define coord as tuple (lat,long)\n",
    "coordinates =  [[48, 0.4], [37, 10], [40, 2]]\n",
    "# Obtain list of mercator coordinates\n",
    "mercators = [x_coord(x, y) for x, y in coordinates]\n",
    "\n",
    "source = ColumnDataSource(\n",
    "    data=dict(x=[x for x, _ in mercators],\n",
    "              y=[y for _, y in mercators])\n",
    ")\n",
    "p.circle(x=\"x\", y=\"y\", size=10, color='purple', source=source)\n",
    "\n",
    "\n",
    "p.add_tile(\"CartoDB Positron\", retina=True)\n",
    "show(p)"
   ]
  },
  {
   "cell_type": "markdown",
   "id": "cbc6e7ca",
   "metadata": {},
   "source": [
    " * retina=True, Bokeh will attempt to use the tiles in the 2x higher resolution than with default settings\n",
    " * x_axis_type=\"mercator\" and y_axis_type=\"mercator\" to figure generates axes with latitude and longitude labels\n",
    " * [tile providers list](https://xyzservices.readthedocs.io/en/stable/api.html#xyzservices.TileProvider)"
   ]
  },
  {
   "cell_type": "code",
   "execution_count": 40,
   "id": "91c11dab",
   "metadata": {},
   "outputs": [
    {
     "name": "stderr",
     "output_type": "stream",
     "text": [
      "BokehDeprecationWarning: 'tile_providers module' was deprecated in Bokeh 3.0.0 and will be removed, use 'add_tile directly' instead.\n"
     ]
    },
    {
     "data": {
      "text/plain": [
       "['CARTODBPOSITRON',\n",
       " 'CARTODBPOSITRON_RETINA',\n",
       " 'STAMEN_TERRAIN',\n",
       " 'STAMEN_TERRAIN_RETINA',\n",
       " 'STAMEN_TONER',\n",
       " 'STAMEN_TONER_BACKGROUND',\n",
       " 'STAMEN_TONER_LABELS',\n",
       " 'OSM',\n",
       " 'ESRI_IMAGERY']"
      ]
     },
     "execution_count": 40,
     "metadata": {},
     "output_type": "execute_result"
    }
   ],
   "source": [
    "# import xyzservices.providers as xyz\n",
    "from bokeh.tile_providers import Vendors\n",
    "list(Vendors)"
   ]
  },
  {
   "cell_type": "markdown",
   "id": "7df64cba",
   "metadata": {},
   "source": [
    "# More on: [user guide](https://docs.bokeh.org/en/latest/docs/user_guide/interaction.html)"
   ]
  },
  {
   "cell_type": "markdown",
   "id": "1376ccb5",
   "metadata": {},
   "source": [
    "\n",
    "Interactive plots with sliders, buttons, ....\n",
    "Check [this](https://docs.bokeh.org/en/latest/docs/user_guide/interaction/widgets.html#ug-interaction-widgets) to use widgets\n",
    "\n",
    "**... with JS callbacks**"
   ]
  },
  {
   "cell_type": "code",
   "execution_count": 70,
   "id": "d36eaab4",
   "metadata": {},
   "outputs": [
    {
     "data": {
      "text/html": [
       "\n",
       "  <div id=\"a0812202-2d55-4c27-8836-68f715e4d91d\" data-root-id=\"p50745\" style=\"display: contents;\"></div>\n"
      ]
     },
     "metadata": {},
     "output_type": "display_data"
    },
    {
     "data": {
      "application/javascript": [
       "(function(root) {\n",
       "  function embed_document(root) {\n",
       "  const docs_json = {\"d2507926-2994-4f29-b612-1147b66a1e01\":{\"version\":\"3.1.0\",\"title\":\"Bokeh Application\",\"defs\":[],\"roots\":[{\"type\":\"object\",\"name\":\"Row\",\"id\":\"p50745\",\"attributes\":{\"children\":[{\"type\":\"object\",\"name\":\"Figure\",\"id\":\"p50684\",\"attributes\":{\"width\":400,\"height\":400,\"x_range\":{\"type\":\"object\",\"name\":\"DataRange1d\",\"id\":\"p50686\"},\"y_range\":{\"type\":\"object\",\"name\":\"Range1d\",\"id\":\"p50695\",\"attributes\":{\"start\":-10,\"end\":10}},\"x_scale\":{\"type\":\"object\",\"name\":\"LinearScale\",\"id\":\"p50697\"},\"y_scale\":{\"type\":\"object\",\"name\":\"LinearScale\",\"id\":\"p50699\"},\"title\":{\"type\":\"object\",\"name\":\"Title\",\"id\":\"p50691\",\"attributes\":{\"text_color\":\"#5B5B5B\",\"text_font\":\"Helvetica\",\"text_font_size\":\"1.15em\"}},\"renderers\":[{\"type\":\"object\",\"name\":\"GlyphRenderer\",\"id\":\"p50736\",\"attributes\":{\"data_source\":{\"type\":\"object\",\"name\":\"ColumnDataSource\",\"id\":\"p50681\",\"attributes\":{\"selected\":{\"type\":\"object\",\"name\":\"Selection\",\"id\":\"p50683\",\"attributes\":{\"indices\":[],\"line_indices\":[]}},\"selection_policy\":{\"type\":\"object\",\"name\":\"UnionRenderers\",\"id\":\"p50682\"},\"data\":{\"type\":\"map\",\"entries\":[[\"x\",{\"type\":\"ndarray\",\"array\":{\"type\":\"bytes\",\"data\":\"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\"},\"shape\":[500],\"dtype\":\"float64\",\"order\":\"little\"}],[\"y\",{\"type\":\"ndarray\",\"array\":{\"type\":\"bytes\",\"data\":\"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\"},\"shape\":[500],\"dtype\":\"float64\",\"order\":\"little\"}]]}}},\"view\":{\"type\":\"object\",\"name\":\"CDSView\",\"id\":\"p50737\",\"attributes\":{\"filter\":{\"type\":\"object\",\"name\":\"AllIndices\",\"id\":\"p50738\"}}},\"glyph\":{\"type\":\"object\",\"name\":\"Line\",\"id\":\"p50733\",\"attributes\":{\"x\":{\"type\":\"field\",\"field\":\"x\"},\"y\":{\"type\":\"field\",\"field\":\"y\"},\"line_color\":\"#1f77b4\",\"line_alpha\":0.6,\"line_width\":3}},\"nonselection_glyph\":{\"type\":\"object\",\"name\":\"Line\",\"id\":\"p50734\",\"attributes\":{\"x\":{\"type\":\"field\",\"field\":\"x\"},\"y\":{\"type\":\"field\",\"field\":\"y\"},\"line_color\":\"#1f77b4\",\"line_alpha\":0.1,\"line_width\":3}},\"muted_glyph\":{\"type\":\"object\",\"name\":\"Line\",\"id\":\"p50735\",\"attributes\":{\"x\":{\"type\":\"field\",\"field\":\"x\"},\"y\":{\"type\":\"field\",\"field\":\"y\"},\"line_color\":\"#1f77b4\",\"line_alpha\":0.2,\"line_width\":3}}}}],\"toolbar\":{\"type\":\"object\",\"name\":\"Toolbar\",\"id\":\"p50688\",\"attributes\":{\"tools\":[{\"type\":\"object\",\"name\":\"PanTool\",\"id\":\"p50715\"},{\"type\":\"object\",\"name\":\"WheelZoomTool\",\"id\":\"p50716\"},{\"type\":\"object\",\"name\":\"BoxZoomTool\",\"id\":\"p50717\",\"attributes\":{\"overlay\":{\"type\":\"object\",\"name\":\"BoxAnnotation\",\"id\":\"p50718\",\"attributes\":{\"syncable\":false,\"level\":\"overlay\",\"visible\":false,\"left_units\":\"canvas\",\"right_units\":\"canvas\",\"bottom_units\":\"canvas\",\"top_units\":\"canvas\",\"line_color\":\"black\",\"line_alpha\":1.0,\"line_width\":2,\"line_dash\":[4,4],\"fill_color\":\"lightgrey\",\"fill_alpha\":0.5}}}},{\"type\":\"object\",\"name\":\"SaveTool\",\"id\":\"p50719\"},{\"type\":\"object\",\"name\":\"ResetTool\",\"id\":\"p50720\"},{\"type\":\"object\",\"name\":\"HelpTool\",\"id\":\"p50721\"}]}},\"left\":[{\"type\":\"object\",\"name\":\"LinearAxis\",\"id\":\"p50708\",\"attributes\":{\"ticker\":{\"type\":\"object\",\"name\":\"BasicTicker\",\"id\":\"p50709\",\"attributes\":{\"mantissas\":[1,2,5]}},\"formatter\":{\"type\":\"object\",\"name\":\"BasicTickFormatter\",\"id\":\"p50710\"},\"axis_label_standoff\":10,\"axis_label_text_color\":\"#5B5B5B\",\"axis_label_text_font\":\"Helvetica\",\"axis_label_text_font_size\":\"1.25em\",\"axis_label_text_font_style\":\"normal\",\"major_label_policy\":{\"type\":\"object\",\"name\":\"AllLabels\",\"id\":\"p50711\"},\"major_label_text_color\":\"#5B5B5B\",\"major_label_text_font\":\"Helvetica\",\"major_label_text_font_size\":\"1.025em\",\"axis_line_color\":\"#5B5B5B\",\"axis_line_alpha\":0,\"major_tick_line_color\":\"#5B5B5B\",\"major_tick_line_alpha\":0,\"minor_tick_line_color\":\"#5B5B5B\",\"minor_tick_line_alpha\":0}}],\"below\":[{\"type\":\"object\",\"name\":\"LinearAxis\",\"id\":\"p50701\",\"attributes\":{\"ticker\":{\"type\":\"object\",\"name\":\"BasicTicker\",\"id\":\"p50702\",\"attributes\":{\"mantissas\":[1,2,5]}},\"formatter\":{\"type\":\"object\",\"name\":\"BasicTickFormatter\",\"id\":\"p50703\"},\"axis_label_standoff\":10,\"axis_label_text_color\":\"#5B5B5B\",\"axis_label_text_font\":\"Helvetica\",\"axis_label_text_font_size\":\"1.25em\",\"axis_label_text_font_style\":\"normal\",\"major_label_policy\":{\"type\":\"object\",\"name\":\"AllLabels\",\"id\":\"p50704\"},\"major_label_text_color\":\"#5B5B5B\",\"major_label_text_font\":\"Helvetica\",\"major_label_text_font_size\":\"1.025em\",\"axis_line_color\":\"#5B5B5B\",\"axis_line_alpha\":0,\"major_tick_line_color\":\"#5B5B5B\",\"major_tick_line_alpha\":0,\"minor_tick_line_color\":\"#5B5B5B\",\"minor_tick_line_alpha\":0}}],\"center\":[{\"type\":\"object\",\"name\":\"Grid\",\"id\":\"p50707\",\"attributes\":{\"axis\":{\"id\":\"p50701\"}}},{\"type\":\"object\",\"name\":\"Grid\",\"id\":\"p50714\",\"attributes\":{\"dimension\":1,\"axis\":{\"id\":\"p50708\"}}}]}},{\"type\":\"object\",\"name\":\"Column\",\"id\":\"p50744\",\"attributes\":{\"children\":[{\"type\":\"object\",\"name\":\"Slider\",\"id\":\"p50739\",\"attributes\":{\"js_property_callbacks\":{\"type\":\"map\",\"entries\":[[\"change:value\",[{\"type\":\"object\",\"name\":\"CustomJS\",\"id\":\"p50743\",\"attributes\":{\"args\":{\"type\":\"map\",\"entries\":[[\"source\",{\"id\":\"p50681\"}],[\"amp\",{\"id\":\"p50739\"}],[\"freq\",{\"type\":\"object\",\"name\":\"Slider\",\"id\":\"p50740\",\"attributes\":{\"js_property_callbacks\":{\"type\":\"map\",\"entries\":[[\"change:value\",[{\"id\":\"p50743\"}]]]},\"title\":\"Frequency\",\"start\":0.1,\"end\":10,\"value\":1,\"step\":0.1}}],[\"phase\",{\"type\":\"object\",\"name\":\"Slider\",\"id\":\"p50741\",\"attributes\":{\"js_property_callbacks\":{\"type\":\"map\",\"entries\":[[\"change:value\",[{\"id\":\"p50743\"}]]]},\"title\":\"Phase\",\"start\":-6.4,\"end\":6.4,\"value\":0,\"step\":0.1}}],[\"offset\",{\"type\":\"object\",\"name\":\"Slider\",\"id\":\"p50742\",\"attributes\":{\"js_property_callbacks\":{\"type\":\"map\",\"entries\":[[\"change:value\",[{\"id\":\"p50743\"}]]]},\"title\":\"Offset\",\"start\":-9,\"end\":9,\"value\":0,\"step\":0.1}}]]},\"code\":\"\\n    const A = amp.value\\n    const k = freq.value\\n    const phi = phase.value\\n    const B = offset.value\\n\\n    const x = source.data.x\\n    const y = Array.from(x, (x) => B + A*Math.sin(k*x+phi))\\n    source.data = { x, y }\\n\"}}]]]},\"title\":\"Amplitude\",\"start\":0.1,\"end\":10,\"value\":1,\"step\":0.1}},{\"id\":\"p50740\"},{\"id\":\"p50741\"},{\"id\":\"p50742\"}]}}]}}],\"callbacks\":{\"type\":\"map\"}}};\n",
       "  const render_items = [{\"docid\":\"d2507926-2994-4f29-b612-1147b66a1e01\",\"roots\":{\"p50745\":\"a0812202-2d55-4c27-8836-68f715e4d91d\"},\"root_ids\":[\"p50745\"]}];\n",
       "  root.Bokeh.embed.embed_items_notebook(docs_json, render_items);\n",
       "  }\n",
       "  if (root.Bokeh !== undefined) {\n",
       "    embed_document(root);\n",
       "  } else {\n",
       "    let attempts = 0;\n",
       "    const timer = setInterval(function(root) {\n",
       "      if (root.Bokeh !== undefined) {\n",
       "        clearInterval(timer);\n",
       "        embed_document(root);\n",
       "      } else {\n",
       "        attempts++;\n",
       "        if (attempts > 100) {\n",
       "          clearInterval(timer);\n",
       "          console.log(\"Bokeh: ERROR: Unable to run BokehJS code because BokehJS library is missing\");\n",
       "        }\n",
       "      }\n",
       "    }, 10, root)\n",
       "  }\n",
       "})(window);"
      ],
      "application/vnd.bokehjs_exec.v0+json": ""
     },
     "metadata": {
      "application/vnd.bokehjs_exec.v0+json": {
       "id": "p50745"
      }
     },
     "output_type": "display_data"
    }
   ],
   "source": [
    "import numpy as np\n",
    "\n",
    "from bokeh.layouts import column, row\n",
    "from bokeh.models import ColumnDataSource, CustomJS, Slider\n",
    "from bokeh.plotting import figure, show\n",
    "\n",
    "x = np.linspace(0, 10, 500)\n",
    "y = np.sin(x)\n",
    "\n",
    "source = ColumnDataSource(data=dict(x=x, y=y))\n",
    "\n",
    "plot = figure(y_range=(-10, 10), width=400, height=400)\n",
    "\n",
    "plot.line('x', 'y', source=source, line_width=3, line_alpha=0.6)\n",
    "\n",
    "amp = Slider(start=0.1, end=10, value=1, step=.1, title=\"Amplitude\")\n",
    "freq = Slider(start=0.1, end=10, value=1, step=.1, title=\"Frequency\")\n",
    "phase = Slider(start=-6.4, end=6.4, value=0, step=.1, title=\"Phase\")\n",
    "offset = Slider(start=-9, end=9, value=0, step=.1, title=\"Offset\")\n",
    "\n",
    "callback = CustomJS(args=dict(source=source, amp=amp, freq=freq, phase=phase, offset=offset),\n",
    "                    code=\"\"\"\n",
    "    const A = amp.value\n",
    "    const k = freq.value\n",
    "    const phi = phase.value\n",
    "    const B = offset.value\n",
    "\n",
    "    const x = source.data.x\n",
    "    const y = Array.from(x, (x) => B + A*Math.sin(k*x+phi))\n",
    "    source.data = { x, y }\n",
    "\"\"\")\n",
    "\n",
    "\n",
    "amp.js_on_change('value', callback)\n",
    "freq.js_on_change('value', callback)\n",
    "phase.js_on_change('value', callback)\n",
    "offset.js_on_change('value', callback)\n",
    "\n",
    "show(row(plot, column(amp, freq, phase, offset)))"
   ]
  },
  {
   "cell_type": "markdown",
   "id": "9388959f",
   "metadata": {},
   "source": [
    "### and what about  python callbacks?"
   ]
  },
  {
   "cell_type": "code",
   "execution_count": 72,
   "id": "9ecb38d3",
   "metadata": {},
   "outputs": [
    {
     "name": "stderr",
     "output_type": "stream",
     "text": [
      "WARNING:bokeh.embed.util:\n",
      "You are generating standalone HTML/JS output, but trying to use real Python\n",
      "callbacks (i.e. with on_change or on_event). This combination cannot work.\n",
      "\n",
      "Only JavaScript callbacks may be used with standalone output. For more\n",
      "information on JavaScript callbacks with Bokeh, see:\n",
      "\n",
      "    https://docs.bokeh.org/en/latest/docs/user_guide/interaction/callbacks.html\n",
      "\n",
      "Alternatively, to use real Python callbacks, a Bokeh server application may\n",
      "be used. For more information on building and running Bokeh applications, see:\n",
      "\n",
      "    https://docs.bokeh.org/en/latest/docs/user_guide/server.html\n",
      "\n"
     ]
    },
    {
     "data": {
      "text/html": [
       "\n",
       "  <div id=\"60ab7a88-c359-4e5c-ba71-a0b8ac39d1e9\" data-root-id=\"p53270\" style=\"display: contents;\"></div>\n"
      ]
     },
     "metadata": {},
     "output_type": "display_data"
    },
    {
     "data": {
      "application/javascript": [
       "(function(root) {\n",
       "  function embed_document(root) {\n",
       "  const docs_json = {\"7b2f9084-fdcb-4116-b8e9-cf27f19a2d52\":{\"version\":\"3.1.0\",\"title\":\"Bokeh Application\",\"defs\":[],\"roots\":[{\"type\":\"object\",\"name\":\"Row\",\"id\":\"p53270\",\"attributes\":{\"children\":[{\"type\":\"object\",\"name\":\"Button\",\"id\":\"p53269\",\"attributes\":{\"subscribed_events\":{\"type\":\"set\",\"entries\":[\"button_click\"]},\"label\":\"Press Me\"}},{\"type\":\"object\",\"name\":\"Figure\",\"id\":\"p53214\",\"attributes\":{\"x_range\":{\"type\":\"object\",\"name\":\"Range1d\",\"id\":\"p53223\",\"attributes\":{\"end\":100}},\"y_range\":{\"type\":\"object\",\"name\":\"Range1d\",\"id\":\"p53225\",\"attributes\":{\"end\":100}},\"x_scale\":{\"type\":\"object\",\"name\":\"LinearScale\",\"id\":\"p53227\"},\"y_scale\":{\"type\":\"object\",\"name\":\"LinearScale\",\"id\":\"p53229\"},\"title\":{\"type\":\"object\",\"name\":\"Title\",\"id\":\"p53221\",\"attributes\":{\"text_color\":\"#5B5B5B\",\"text_font\":\"Helvetica\",\"text_font_size\":\"1.15em\"}},\"outline_line_color\":null,\"renderers\":[{\"type\":\"object\",\"name\":\"GlyphRenderer\",\"id\":\"p53266\",\"attributes\":{\"data_source\":{\"type\":\"object\",\"name\":\"ColumnDataSource\",\"id\":\"p53260\",\"attributes\":{\"selected\":{\"type\":\"object\",\"name\":\"Selection\",\"id\":\"p53262\",\"attributes\":{\"indices\":[],\"line_indices\":[]}},\"selection_policy\":{\"type\":\"object\",\"name\":\"UnionRenderers\",\"id\":\"p53261\"},\"data\":{\"type\":\"map\",\"entries\":[[\"x\",[]],[\"y\",[]],[\"text\",[]],[\"text_color\",[]]]}}},\"view\":{\"type\":\"object\",\"name\":\"CDSView\",\"id\":\"p53267\",\"attributes\":{\"filter\":{\"type\":\"object\",\"name\":\"AllIndices\",\"id\":\"p53268\"}}},\"glyph\":{\"type\":\"object\",\"name\":\"Text\",\"id\":\"p53263\",\"attributes\":{\"x\":{\"type\":\"field\",\"field\":\"x\"},\"y\":{\"type\":\"field\",\"field\":\"y\"},\"text\":{\"type\":\"field\",\"field\":\"text\"},\"text_color\":{\"type\":\"field\",\"field\":\"text_color\"},\"text_font_size\":{\"type\":\"value\",\"value\":\"26px\"},\"text_align\":{\"type\":\"value\",\"value\":\"center\"},\"text_baseline\":{\"type\":\"value\",\"value\":\"middle\"}}},\"nonselection_glyph\":{\"type\":\"object\",\"name\":\"Text\",\"id\":\"p53264\",\"attributes\":{\"x\":{\"type\":\"field\",\"field\":\"x\"},\"y\":{\"type\":\"field\",\"field\":\"y\"},\"text\":{\"type\":\"field\",\"field\":\"text\"},\"text_color\":{\"type\":\"field\",\"field\":\"text_color\"},\"text_alpha\":{\"type\":\"value\",\"value\":0.1},\"text_font_size\":{\"type\":\"value\",\"value\":\"26px\"},\"text_align\":{\"type\":\"value\",\"value\":\"center\"},\"text_baseline\":{\"type\":\"value\",\"value\":\"middle\"}}},\"muted_glyph\":{\"type\":\"object\",\"name\":\"Text\",\"id\":\"p53265\",\"attributes\":{\"x\":{\"type\":\"field\",\"field\":\"x\"},\"y\":{\"type\":\"field\",\"field\":\"y\"},\"text\":{\"type\":\"field\",\"field\":\"text\"},\"text_color\":{\"type\":\"field\",\"field\":\"text_color\"},\"text_alpha\":{\"type\":\"value\",\"value\":0.2},\"text_font_size\":{\"type\":\"value\",\"value\":\"26px\"},\"text_align\":{\"type\":\"value\",\"value\":\"center\"},\"text_baseline\":{\"type\":\"value\",\"value\":\"middle\"}}}}}],\"toolbar\":{\"type\":\"object\",\"name\":\"Toolbar\",\"id\":\"p53218\",\"attributes\":{\"tools\":[{\"type\":\"object\",\"name\":\"PanTool\",\"id\":\"p53245\"},{\"type\":\"object\",\"name\":\"WheelZoomTool\",\"id\":\"p53246\"},{\"type\":\"object\",\"name\":\"BoxZoomTool\",\"id\":\"p53247\",\"attributes\":{\"overlay\":{\"type\":\"object\",\"name\":\"BoxAnnotation\",\"id\":\"p53248\",\"attributes\":{\"syncable\":false,\"level\":\"overlay\",\"visible\":false,\"left_units\":\"canvas\",\"right_units\":\"canvas\",\"bottom_units\":\"canvas\",\"top_units\":\"canvas\",\"line_color\":\"black\",\"line_alpha\":1.0,\"line_width\":2,\"line_dash\":[4,4],\"fill_color\":\"lightgrey\",\"fill_alpha\":0.5}}}},{\"type\":\"object\",\"name\":\"SaveTool\",\"id\":\"p53249\"},{\"type\":\"object\",\"name\":\"ResetTool\",\"id\":\"p53250\"},{\"type\":\"object\",\"name\":\"HelpTool\",\"id\":\"p53251\"}]}},\"toolbar_location\":null,\"left\":[{\"type\":\"object\",\"name\":\"LinearAxis\",\"id\":\"p53238\",\"attributes\":{\"ticker\":{\"type\":\"object\",\"name\":\"BasicTicker\",\"id\":\"p53239\",\"attributes\":{\"mantissas\":[1,2,5]}},\"formatter\":{\"type\":\"object\",\"name\":\"BasicTickFormatter\",\"id\":\"p53240\"},\"axis_label_standoff\":10,\"axis_label_text_color\":\"#5B5B5B\",\"axis_label_text_font\":\"Helvetica\",\"axis_label_text_font_size\":\"1.25em\",\"axis_label_text_font_style\":\"normal\",\"major_label_policy\":{\"type\":\"object\",\"name\":\"AllLabels\",\"id\":\"p53241\"},\"major_label_text_color\":\"#5B5B5B\",\"major_label_text_font\":\"Helvetica\",\"major_label_text_font_size\":\"1.025em\",\"axis_line_color\":\"#5B5B5B\",\"axis_line_alpha\":0,\"major_tick_line_color\":\"#5B5B5B\",\"major_tick_line_alpha\":0,\"minor_tick_line_color\":\"#5B5B5B\",\"minor_tick_line_alpha\":0}}],\"below\":[{\"type\":\"object\",\"name\":\"LinearAxis\",\"id\":\"p53231\",\"attributes\":{\"ticker\":{\"type\":\"object\",\"name\":\"BasicTicker\",\"id\":\"p53232\",\"attributes\":{\"mantissas\":[1,2,5]}},\"formatter\":{\"type\":\"object\",\"name\":\"BasicTickFormatter\",\"id\":\"p53233\"},\"axis_label_standoff\":10,\"axis_label_text_color\":\"#5B5B5B\",\"axis_label_text_font\":\"Helvetica\",\"axis_label_text_font_size\":\"1.25em\",\"axis_label_text_font_style\":\"normal\",\"major_label_policy\":{\"type\":\"object\",\"name\":\"AllLabels\",\"id\":\"p53234\"},\"major_label_text_color\":\"#5B5B5B\",\"major_label_text_font\":\"Helvetica\",\"major_label_text_font_size\":\"1.025em\",\"axis_line_color\":\"#5B5B5B\",\"axis_line_alpha\":0,\"major_tick_line_color\":\"#5B5B5B\",\"major_tick_line_alpha\":0,\"minor_tick_line_color\":\"#5B5B5B\",\"minor_tick_line_alpha\":0}}],\"center\":[{\"type\":\"object\",\"name\":\"Grid\",\"id\":\"p53237\",\"attributes\":{\"axis\":{\"id\":\"p53231\"},\"grid_line_color\":null}},{\"type\":\"object\",\"name\":\"Grid\",\"id\":\"p53244\",\"attributes\":{\"dimension\":1,\"axis\":{\"id\":\"p53238\"},\"grid_line_color\":null}}],\"background_fill_color\":\"black\",\"border_fill_color\":\"black\"}}]}}],\"callbacks\":{\"type\":\"map\"}}};\n",
       "  const render_items = [{\"docid\":\"7b2f9084-fdcb-4116-b8e9-cf27f19a2d52\",\"roots\":{\"p53270\":\"60ab7a88-c359-4e5c-ba71-a0b8ac39d1e9\"},\"root_ids\":[\"p53270\"]}];\n",
       "  root.Bokeh.embed.embed_items_notebook(docs_json, render_items);\n",
       "  }\n",
       "  if (root.Bokeh !== undefined) {\n",
       "    embed_document(root);\n",
       "  } else {\n",
       "    let attempts = 0;\n",
       "    const timer = setInterval(function(root) {\n",
       "      if (root.Bokeh !== undefined) {\n",
       "        clearInterval(timer);\n",
       "        embed_document(root);\n",
       "      } else {\n",
       "        attempts++;\n",
       "        if (attempts > 100) {\n",
       "          clearInterval(timer);\n",
       "          console.log(\"Bokeh: ERROR: Unable to run BokehJS code because BokehJS library is missing\");\n",
       "        }\n",
       "      }\n",
       "    }, 10, root)\n",
       "  }\n",
       "})(window);"
      ],
      "application/vnd.bokehjs_exec.v0+json": ""
     },
     "metadata": {
      "application/vnd.bokehjs_exec.v0+json": {
       "id": "p53270"
      }
     },
     "output_type": "display_data"
    }
   ],
   "source": [
    "# myapp.py\n",
    "\n",
    "from random import random\n",
    "\n",
    "from bokeh.layouts import column\n",
    "from bokeh.models import Button\n",
    "from bokeh.palettes import RdYlBu3\n",
    "from bokeh.plotting import figure, curdoc\n",
    "\n",
    "# create a plot and style its properties\n",
    "p = figure(x_range=(0, 100), y_range=(0, 100), toolbar_location=None)\n",
    "p.border_fill_color = 'black'\n",
    "p.background_fill_color = 'black'\n",
    "p.outline_line_color = None\n",
    "p.grid.grid_line_color = None\n",
    "\n",
    "# add a text renderer to the plot (no data yet)\n",
    "r = p.text(x=[], y=[], text=[], text_color=[], text_font_size=\"26px\",\n",
    "           text_baseline=\"middle\", text_align=\"center\")\n",
    "\n",
    "i = 0\n",
    "\n",
    "ds = r.data_source\n",
    "\n",
    "# create a callback that adds a number in a random location\n",
    "def callback():\n",
    "    global i\n",
    "\n",
    "    # BEST PRACTICE --- update .data in one step with a new dict\n",
    "    new_data = dict()\n",
    "    new_data['x'] = ds.data['x'] + [random()*70 + 15]\n",
    "    new_data['y'] = ds.data['y'] + [random()*70 + 15]\n",
    "    new_data['text_color'] = ds.data['text_color'] + [RdYlBu3[i%3]]\n",
    "    new_data['text'] = ds.data['text'] + [str(i)]\n",
    "    ds.data = new_data\n",
    "\n",
    "    i = i + 1\n",
    "\n",
    "# add a button widget and configure with the call back\n",
    "button = Button(label=\"Press Me\")\n",
    "button.on_event('button_click', callback)\n",
    "\n",
    "# put the button and plot in a layout and add to the document\n",
    "# curdoc().add_root(column(button, p))\n",
    "\n",
    "# put the results in a row and show\n",
    "show(row(button, p))  ## <<<<<<<<<<<<<<<<<<<<<<<<<<<<<<<<<<\n",
    "\n"
   ]
  },
  {
   "cell_type": "code",
   "execution_count": null,
   "id": "99d3e9ee",
   "metadata": {},
   "outputs": [],
   "source": []
  }
 ],
 "metadata": {
  "kernelspec": {
   "display_name": "Python 3 (ipykernel)",
   "language": "python",
   "name": "python3"
  },
  "language_info": {
   "codemirror_mode": {
    "name": "ipython",
    "version": 3
   },
   "file_extension": ".py",
   "mimetype": "text/x-python",
   "name": "python",
   "nbconvert_exporter": "python",
   "pygments_lexer": "ipython3",
   "version": "3.11.0"
  }
 },
 "nbformat": 4,
 "nbformat_minor": 5
}
