{
 "cells": [
  {
   "cell_type": "markdown",
   "id": "2a72f6b6",
   "metadata": {},
   "source": [
    "# Interesting libraries for dataviz"
   ]
  },
  {
   "cell_type": "markdown",
   "id": "8c5e869b",
   "metadata": {},
   "source": [
    "## hvPlot\n",
    "[hvPlot](https://hvplot.holoviz.org/index.html) is a concise API that lets you plot in Bokeh with the pandas .plot() function and a wide variety of data containers. This API is particularly convenient for working with data interactively and lets you quickly produce common types of plots."
   ]
  },
  {
   "cell_type": "markdown",
   "id": "8efe05d3",
   "metadata": {},
   "source": [
    ".hvplot() is a powerful and interactive Pandas-like .plot() API\n",
    "\n",
    "By replacing .plot() with .hvplot() you get an interactive figure. Try it out below!\n",
    "\n"
   ]
  },
  {
   "cell_type": "markdown",
   "id": "58880f39",
   "metadata": {},
   "source": [
    "Have a look at [hvplot info](https://hvplot.holoviz.org/index.html)\n",
    " * integrated with pandas, geopandas, networkx, ...\n",
    " * by replacing .plot() with .hvplot() you get an interactive figure.\n",
    " * .hvplot() can generate plots with Bokeh (default), Matplotlib or Plotly."
   ]
  },
  {
   "cell_type": "markdown",
   "id": "33da51da",
   "metadata": {},
   "source": [
    "## Holoviews\n",
    "\n",
    "Bokeh offers you a lot of versatility when it comes to developing complex data visualizations for the web. Even so, a higher-level API can make day-to-day visualization tasks easier and less verbose.\n",
    "\n",
    "[HoloViews](https://holoviews.org/) is a concise declarative interface that helps you build Bokeh plots."
   ]
  },
  {
   "cell_type": "markdown",
   "id": "4b107c8f",
   "metadata": {},
   "source": [
    "## Datashader\n",
    "\n",
    "By default, Bokeh copies datapoints from Python into a JavaScript process running in your browser to provide responsive, locally interactive plots. However, browsers can only handle limited amounts of data, making it infeasible to plot millions or billions of points directly in JavaScript. Moreover, typical plot-rendering techniques produce misleading plots for such large datasets, because of overplotting and related issues.\n",
    "\n",
    "[Datashader](https://github.com/holoviz/datashader) is a separate Python library that renders even the largest datasets as fixed-size raster images that faithfully represent the underlying data. Datashader gives you the tools to build interactive Bokeh plot images that **dynamically re-render** in Python when you zoom and pan. This approach lets you display interactive visualizations of **arbitrarily large datasets** in standard web browsers."
   ]
  }
 ],
 "metadata": {
  "kernelspec": {
   "display_name": "Python 3 (ipykernel)",
   "language": "python",
   "name": "python3"
  },
  "language_info": {
   "codemirror_mode": {
    "name": "ipython",
    "version": 3
   },
   "file_extension": ".py",
   "mimetype": "text/x-python",
   "name": "python",
   "nbconvert_exporter": "python",
   "pygments_lexer": "ipython3",
   "version": "3.11.0"
  }
 },
 "nbformat": 4,
 "nbformat_minor": 5
}
