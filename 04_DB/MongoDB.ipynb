{
 "cells": [
  {
   "cell_type": "code",
   "execution_count": null,
   "id": "54f2c5f9",
   "metadata": {},
   "outputs": [],
   "source": [
    "import mongo_conf as cfg\n",
    "import datetime\n",
    "import pprint"
   ]
  },
  {
   "cell_type": "code",
   "execution_count": null,
   "id": "cd77da57",
   "metadata": {
    "scrolled": true
   },
   "outputs": [],
   "source": [
    "from pymongo import MongoClient\n",
    "\n",
    "user = cfg.USER\n",
    "pwd = cfg.PASS\n",
    "host = cfg.HOST\n",
    "port = \"27017\"\n",
    "db_name = \"twitter_2020\"\n",
    "\n",
    "mongoserver_uri = f\"mongodb://{user}:{pwd}@{host}:{port}/{db_name}?authSource={db_name}\"\n",
    "\n",
    "conection = MongoClient(host=mongoserver_uri, replicaset='rs00')"
   ]
  },
  {
   "cell_type": "code",
   "execution_count": null,
   "id": "261a5639",
   "metadata": {},
   "outputs": [],
   "source": [
    "db = conection[db_name]\n",
    "colls = db.list_collection_names()\n",
    "colls"
   ]
  },
  {
   "cell_type": "code",
   "execution_count": null,
   "id": "43d392e8",
   "metadata": {},
   "outputs": [],
   "source": [
    "pprint.pprint(db[\"eastern_europe\"].find_one())"
   ]
  },
  {
   "cell_type": "code",
   "execution_count": null,
   "id": "632154ed",
   "metadata": {},
   "outputs": [],
   "source": [
    "projection = {\n",
    "    'coordinates.coordinates': 1,\n",
    "    'user.location': 1,\n",
    "    'user.followers_count':1,\n",
    "    'created_at': 1,\n",
    "    'user.id': 1,\n",
    "    '_id': 0\n",
    "}\n",
    "\n",
    "results = db[\"eastern_europe\"].find(\n",
    "    {\n",
    "        'created_at': \n",
    "        {\n",
    "            \"$gt\": datetime.datetime(2020, 1, 4, 12, 44, 1),\n",
    "            \"$lt\": datetime.datetime(2020, 1, 4, 12, 45, 1)\n",
    "        },\n",
    "        'coordinates.coordinates' : { '$exists': True }\n",
    "    },\n",
    "    projection=projection\n",
    ").limit (2)"
   ]
  },
  {
   "cell_type": "code",
   "execution_count": null,
   "id": "9c7dc774",
   "metadata": {},
   "outputs": [],
   "source": [
    "for record in results:\n",
    "    pprint.pprint(record)"
   ]
  }
 ],
 "metadata": {
  "kernelspec": {
   "display_name": "Python 3 (ipykernel)",
   "language": "python",
   "name": "python3"
  },
  "language_info": {
   "codemirror_mode": {
    "name": "ipython",
    "version": 3
   },
   "file_extension": ".py",
   "mimetype": "text/x-python",
   "name": "python",
   "nbconvert_exporter": "python",
   "pygments_lexer": "ipython3",
   "version": "3.9.10"
  }
 },
 "nbformat": 4,
 "nbformat_minor": 5
}
