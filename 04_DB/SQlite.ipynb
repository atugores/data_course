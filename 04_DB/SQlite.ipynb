{
 "cells": [
  {
   "cell_type": "code",
   "execution_count": null,
   "id": "8a641a64",
   "metadata": {},
   "outputs": [],
   "source": [
    "import sqlite3\n",
    "conn = sqlite3.connect(\"sqlite_curso.db\")\n",
    "mycursor = conn.cursor()"
   ]
  },
  {
   "cell_type": "code",
   "execution_count": null,
   "id": "75956b5e",
   "metadata": {},
   "outputs": [],
   "source": [
    "mycursor.execute(\"CREATE TABLE IF NOT EXISTS customers (name VARCHAR(255), address VARCHAR(255), age INT)\")"
   ]
  },
  {
   "cell_type": "code",
   "execution_count": null,
   "id": "432c17cf",
   "metadata": {},
   "outputs": [],
   "source": [
    "sql = \"INSERT INTO customers (name, address, age) VALUES (?, ?, ?)\"\n",
    "val = [\n",
    "  ('Peter', 'Lowstreet 4', 120),\n",
    "  ('Amy', 'Apple st 652', 200),\n",
    "  ('Hannah', 'Mountain 21', 20),\n",
    "  ('Michael', 'Valley 345', 40),\n",
    "  ('Sandy', 'Ocean blvd 2', 30),\n",
    "  ('Betty', 'Green Grass 1', 50),\n",
    "  ('Richard', 'Sky st 331', 82),\n",
    "  ('Susan', 'One way 98', 240),\n",
    "  ('Vicky', 'Yellow Garden 2', 10),\n",
    "  ('Ben', 'Park Lane 38', 18),\n",
    "  ('William', 'Central st 954', 2),\n",
    "  ('Chuck', 'Main Road 989', 15),\n",
    "  ('Viola', 'Sideway 1633', 20)\n",
    "]\n",
    "\n",
    "mycursor.executemany(sql, val)\n",
    "\n",
    "print(mycursor.rowcount, \"record(s) inserted.\")"
   ]
  },
  {
   "cell_type": "code",
   "execution_count": null,
   "id": "e19f840a",
   "metadata": {},
   "outputs": [],
   "source": [
    "mycursor.execute(\"SELECT * FROM customers WHERE address LIKE '%st%'\")\n",
    "mycursor.fetchall()"
   ]
  },
  {
   "cell_type": "code",
   "execution_count": null,
   "id": "a115e49c",
   "metadata": {},
   "outputs": [],
   "source": [
    "import pandas as pd"
   ]
  },
  {
   "cell_type": "code",
   "execution_count": null,
   "id": "c69036bc",
   "metadata": {},
   "outputs": [],
   "source": [
    "df = pd.read_sql_query (\"SELECT name, address FROM customers WHERE address LIKE '%way%'\", conn)\n",
    "print(df)"
   ]
  },
  {
   "cell_type": "code",
   "execution_count": null,
   "id": "c4ca03f8",
   "metadata": {},
   "outputs": [],
   "source": [
    "!rm sqlite_curso.db"
   ]
  },
  {
   "cell_type": "code",
   "execution_count": null,
   "id": "200c1e94",
   "metadata": {},
   "outputs": [],
   "source": []
  }
 ],
 "metadata": {
  "kernelspec": {
   "display_name": "Python 3 (ipykernel)",
   "language": "python",
   "name": "python3"
  },
  "language_info": {
   "codemirror_mode": {
    "name": "ipython",
    "version": 3
   },
   "file_extension": ".py",
   "mimetype": "text/x-python",
   "name": "python",
   "nbconvert_exporter": "python",
   "pygments_lexer": "ipython3",
   "version": "3.9.10"
  }
 },
 "nbformat": 4,
 "nbformat_minor": 5
}
