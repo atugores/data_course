{
 "cells": [
  {
   "cell_type": "markdown",
   "id": "11925e77",
   "metadata": {},
   "source": [
    "# Multi-threading and Multi-processing in Python\n",
    "\n",
    " * Process: A program that is under execution. An individual process takes its own memory space and does not share this space with other processes.\n",
    " \n",
    " * Thread: Sequence of instructions that are being executed within the context of a process.\n",
    "   - One process can spawn multiple threads but all of them will be sharing the same memory\n",
    "\n",
    "![](threads.jpg)\n",
    "\n"
   ]
  },
  {
   "cell_type": "markdown",
   "id": "204ac396",
   "metadata": {},
   "source": [
    "# Concurrency vs Parallelism \n",
    " * Concurrency: A condition that exists when at least two threads are making progress. A more generalized form of parallelism that can include time-slicing as a form of virtual parallelism.\n",
    " \n",
    "![](concurrent.png)\n",
    "\n",
    " * Parallelism: A condition that arises when at least two threads are executing simultaneously.\n",
    " \n",
    "![](parallel.png) \n",
    "\n",
    " "
   ]
  },
  {
   "cell_type": "markdown",
   "id": "b95435d6",
   "metadata": {},
   "source": [
    "# Multithreading is not parallel in python\n",
    "\n",
    "Normally, the expectation would be that the use of a multi-threaded code on a multi-core machine should take advantage of the cores available and thus increase the overall performance.\n",
    "\n",
    "But in Python the real picture is very different. A Python process cannot run threads in parallel.\n",
    "This limitation enforced by **GIL** (The Python Global Interpreter Lock) that prevents threads within the same process to be executed at the same time.\n",
    "\n",
    "GIL is necessary because Python’s interpreter is not thread-safe. At any given time, only one thread can acquire the lock for a specific object. Therefore, CPU-bound code will have no performance gain with Python multi-threading\n",
    "\n",
    "Python can only run threads **concurrently** through context switching during I/O bound operations, but **not in parallel**."
   ]
  },
  {
   "cell_type": "markdown",
   "id": "d38d49fd",
   "metadata": {},
   "source": [
    "# Multitreading for I/O bound operations\n",
    "In python we can take advantage of multiple threads if we have many I/O operations that would leave the CPU idle while waiting. \n",
    " * Reading / Writing to disk\n",
    " * Downloading / uploading files\n",
    " * Printing data to screen / log files\n",
    " \n",
    "Let's consider the following example. We want to download 5 images 5 times each and store them to disk.\n",
    " * That's a I/O bound process at it has 50 I/O operations (25 downloads + 25 save to disk) and no cpu processing at all\n",
    "![](io-seq.png)"
   ]
  },
  {
   "cell_type": "code",
   "execution_count": 17,
   "id": "28191078",
   "metadata": {},
   "outputs": [],
   "source": [
    "%%time\n",
    "import requests\n",
    "\n",
    "\n",
    "def download_img(img_url: str):\n",
    "    \"\"\"\n",
    "    Download image from img_url in curent directory\n",
    "    \"\"\"\n",
    "    res = requests.get(img_url, stream=True)\n",
    "    filename = f\"{img_url.split('/')[-1]}.jpg\"\n",
    "\n",
    "    with open(filename, 'wb') as f:\n",
    "        for block in res.iter_content(1024):\n",
    "            f.write(block)\n",
    "\n",
    "\n",
    "if __name__ == '__main__':\n",
    "    images = [\n",
    "        # Photo credits: https://unsplash.com/photos/IKUYGCFmfw4 \n",
    "        'https://images.unsplash.com/photo-1509718443690-d8e2fb3474b7',\n",
    "        # Photo credits: https://unsplash.com/photos/vpOeXr5wmR4\n",
    "        'https://images.unsplash.com/photo-1587620962725-abab7fe55159',\n",
    "        # Photo credits: https://unsplash.com/photos/iacpoKgpBAM\n",
    "        'https://images.unsplash.com/photo-1493119508027-2b584f234d6c',\n",
    "        # Photo credits: https://unsplash.com/photos/b18TRXc8UPQ\n",
    "        'https://images.unsplash.com/photo-1482062364825-616fd23b8fc1',\n",
    "        # Photo credits: https://unsplash.com/photos/XMFZqrGyV-Q\n",
    "        'https://images.unsplash.com/photo-1521185496955-15097b20c5fe',\n",
    "        # Photo credits: https://unsplash.com/photos/9SoCnyQmkzI\n",
    "        'https://images.unsplash.com/photo-1510915228340-29c85a43dcfe',\n",
    "    ]\n",
    "\n",
    "    for img in images * 5:\n",
    "        download_img(img)"
   ]
  },
  {
   "cell_type": "markdown",
   "id": "20826f1b",
   "metadata": {},
   "source": [
    "**Can we take some advantage if we use threads?**\n",
    "\n",
    "In Python, threads can be implemented with the use of threading module\n",
    "\n",
    "Our download_img function will only be lightly modified to use the global queue of the main process:"
   ]
  },
  {
   "cell_type": "code",
   "execution_count": null,
   "id": "e8ddbc75",
   "metadata": {},
   "outputs": [],
   "source": [
    "%%time\n",
    "import requests\n",
    "from queue import Queue\n",
    "from threading import Thread\n",
    "\n",
    "NUM_THREADS = 5\n",
    "q = Queue()\n",
    "\n",
    "def download_img():\n",
    "    \"\"\"\n",
    "    Download image from img_url in curent directory\n",
    "    \"\"\"\n",
    "    global q\n",
    "\n",
    "    while True:\n",
    "        img_url = q.get()\n",
    "        res = requests.get(img_url, stream=True)\n",
    "        filename = f\"{img_url.split('/')[-1]}.jpg\"\n",
    "        with open(filename, 'wb') as f:\n",
    "            for block in res.iter_content(1024):\n",
    "                f.write(block)\n",
    "        q.task_done()\n",
    "\n",
    "\n",
    "if __name__ == '__main__':\n",
    "    images = [\n",
    "        # Photo credits: https://unsplash.com/photos/IKUYGCFmfw4 \n",
    "        'https://images.unsplash.com/photo-1509718443690-d8e2fb3474b7',\n",
    "        # Photo credits: https://unsplash.com/photos/vpOeXr5wmR4\n",
    "        'https://images.unsplash.com/photo-1587620962725-abab7fe55159',\n",
    "        # Photo credits: https://unsplash.com/photos/iacpoKgpBAM\n",
    "        'https://images.unsplash.com/photo-1493119508027-2b584f234d6c',\n",
    "        # Photo credits: https://unsplash.com/photos/b18TRXc8UPQ\n",
    "        'https://images.unsplash.com/photo-1482062364825-616fd23b8fc1',\n",
    "        # Photo credits: https://unsplash.com/photos/XMFZqrGyV-Q\n",
    "        'https://images.unsplash.com/photo-1521185496955-15097b20c5fe',\n",
    "        # Photo credits: https://unsplash.com/photos/9SoCnyQmkzI\n",
    "        'https://images.unsplash.com/photo-1510915228340-29c85a43dcfe',\n",
    "    ]\n",
    "    \n",
    "    for img_url in images * 5:\n",
    "        q.put(img_url)\n",
    "\n",
    "    for t in range(NUM_THREADS):\n",
    "        worker = Thread(target=download_img)\n",
    "        worker.daemon = True\n",
    "        worker.start()\n",
    "\n",
    "    q.join()"
   ]
  },
  {
   "cell_type": "markdown",
   "id": "f7c33af9",
   "metadata": {},
   "source": [
    "Wall time has been halved, because most of the time the process is waiting for download or for disk, but only 1 core has been used all the time.\n",
    "\n",
    "![](io-threads.png)"
   ]
  },
  {
   "cell_type": "markdown",
   "id": "8f8dfe75",
   "metadata": {},
   "source": [
    "# CPU intensive operations and Multithreading\n",
    "\n",
    "But, What if our proces was more cpu intensive? \n",
    "\n",
    "Would multithreading it have any advantage?\n",
    "\n",
    "For example, let's consider the function sum_powers below. It is CPU intensive, it does never wait for I/O, and we want to run it 4 times:"
   ]
  },
  {
   "cell_type": "code",
   "execution_count": null,
   "id": "314276dd",
   "metadata": {},
   "outputs": [],
   "source": [
    "%%time\n",
    "def sum_powers(number):\n",
    "    total = 0\n",
    "    for i in range(number):\n",
    "        total = total + i**i\n",
    "\n",
    "if __name__ == \"__main__\":\n",
    "    for i in range(4):\n",
    "        sum_powers(10000)"
   ]
  },
  {
   "cell_type": "markdown",
   "id": "c189fc48",
   "metadata": {},
   "source": [
    "Let's try to multithread it...\n",
    "\n",
    "**Q:** Better or worse?"
   ]
  },
  {
   "cell_type": "code",
   "execution_count": null,
   "id": "fa2d448f",
   "metadata": {},
   "outputs": [],
   "source": [
    "%%time\n",
    "from queue import Queue\n",
    "from threading import Thread\n",
    "\n",
    "NUM_THREADS = 4\n",
    "q = Queue()\n",
    "\n",
    "def sum_powers():\n",
    "    global q\n",
    "    \n",
    "    while True:\n",
    "        number = q.get()\n",
    "        total = 0\n",
    "        for i in range(number):\n",
    "            total = total + i**i\n",
    "        q.task_done()\n",
    "\n",
    "\n",
    "if __name__ == \"__main__\":\n",
    "    for i in range(4):\n",
    "        q.put(10000)\n",
    "\n",
    "    for t in range(NUM_THREADS):\n",
    "        worker = Thread(target=sum_powers)\n",
    "        worker.daemon = True\n",
    "        worker.start()\n",
    "\n",
    "    q.join()"
   ]
  },
  {
   "cell_type": "markdown",
   "id": "b8bbbcd0",
   "metadata": {},
   "source": [
    "As python does not parallelize threads, execution of multithreaded processes is even slower than without threads.\n",
    "![](cpu-threads.png)"
   ]
  },
  {
   "cell_type": "markdown",
   "id": "53374a64",
   "metadata": {},
   "source": [
    "# Multiprocessing in Python\n",
    "\n",
    "To take full advantage of our CPU capacity and be able to truly parallelize our program execution we need to perform multi-processing instead of multi-threading.\n",
    "\n",
    "For that we will use the **multiprocessing** module that can be used to spawn multiple OS processes. Therefore, multi-processing in Python side-steps the GIL and the limitations that arise from it since every process will now have its own interpreter and thus own GIL.\n",
    "\n",
    "When we use multiprocessing we are launching several processes instead of several threads of the same process. That way each process can make use of one core.\n"
   ]
  },
  {
   "cell_type": "code",
   "execution_count": null,
   "id": "6643e3be",
   "metadata": {},
   "outputs": [],
   "source": [
    "%%time\n",
    "import multiprocessing\n",
    "\n",
    "\n",
    "NUM_PROC = 4\n",
    "\n",
    "\n",
    "def sum_powers(number):\n",
    "    total = 0\n",
    "    for i in range(number):\n",
    "        total = total + i**i    \n",
    "\n",
    "\n",
    "if __name__ == \"__main__\":\n",
    "    jobs = []\n",
    "\n",
    "    for i in range(NUM_PROC):\n",
    "        process = multiprocessing.Process(\n",
    "            target=sum_powers, \n",
    "            args=(10000,)\n",
    "        )\n",
    "        jobs.append(process)\n",
    "\n",
    "    for j in jobs:\n",
    "        j.start()\n",
    "\n",
    "    for j in jobs:\n",
    "        j.join()"
   ]
  },
  {
   "cell_type": "code",
   "execution_count": 15,
   "id": "2cc1fbe5",
   "metadata": {},
   "outputs": [],
   "source": [
    "%%time\n",
    "from multiprocessing import Pool\n",
    "\n",
    "def sum_powers(number):\n",
    "    total = 0\n",
    "    for i in range(number):\n",
    "        total = total + i**i    \n",
    "\n",
    "if __name__ == '__main__':\n",
    "    with Pool(4) as p:\n",
    "        print(p.map(sum_powers, [10000,10000,10000,10000,10000,10000,10000,10000]))"
   ]
  },
  {
   "cell_type": "markdown",
   "id": "0ffc4307",
   "metadata": {},
   "source": [
    "# Warning! Concurrency is sometimes dangerous:\n",
    "\n",
    " * There is no problem using simultaneously the same code.\n",
    "\n",
    " * There is a big problem modifying simultaneously the same data.\n",
    "\n",
    "Before implementing hard to debug parallel code... have a look at some libraries like numpy and scipy.\n",
    "\n",
    "When those libraries are installed via conda, they are compiled using MKL, Blas and so on... So they take care of parallelization for you automatically (whenever possible)"
   ]
  }
 ],
 "metadata": {
  "kernelspec": {
   "display_name": "Python 3 (ipykernel)",
   "language": "python",
   "name": "python3"
  },
  "language_info": {
   "codemirror_mode": {
    "name": "ipython",
    "version": 3
   },
   "file_extension": ".py",
   "mimetype": "text/x-python",
   "name": "python",
   "nbconvert_exporter": "python",
   "pygments_lexer": "ipython3",
   "version": "3.9.10"
  }
 },
 "nbformat": 4,
 "nbformat_minor": 5
}
